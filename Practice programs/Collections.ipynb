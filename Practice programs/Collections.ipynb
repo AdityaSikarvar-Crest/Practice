{
 "cells": [
  {
   "cell_type": "markdown",
   "id": "43956998-9e95-4c53-9bd7-6ef00e0ebdd2",
   "metadata": {},
   "source": [
    "## Write a Python program that iterates over elements as many times as its count.\n",
    "### Sample Output: ['p', 'p', 'p', 'p', 'q', 'q']"
   ]
  },
  {
   "cell_type": "code",
   "execution_count": 1,
   "id": "af49f16d-a301-4814-ad03-0c302760e899",
   "metadata": {},
   "outputs": [],
   "source": [
    "from collections import Counter \n",
    "c=Counter(p=4,q=2)"
   ]
  },
  {
   "cell_type": "code",
   "execution_count": 3,
   "id": "12544c21-4b5e-4ea2-9f8c-0bc034862066",
   "metadata": {},
   "outputs": [
    {
     "data": {
      "text/plain": [
       "['p', 'p', 'p', 'p', 'q', 'q']"
      ]
     },
     "execution_count": 3,
     "metadata": {},
     "output_type": "execute_result"
    }
   ],
   "source": [
    "list(c.elements())"
   ]
  },
  {
   "cell_type": "code",
   "execution_count": null,
   "id": "56ea3a8d-724b-4dd7-b15b-28e0f5e971e5",
   "metadata": {},
   "outputs": [],
   "source": []
  }
 ],
 "metadata": {
  "kernelspec": {
   "display_name": "Python 3 (ipykernel)",
   "language": "python",
   "name": "python3"
  },
  "language_info": {
   "codemirror_mode": {
    "name": "ipython",
    "version": 3
   },
   "file_extension": ".py",
   "mimetype": "text/x-python",
   "name": "python",
   "nbconvert_exporter": "python",
   "pygments_lexer": "ipython3",
   "version": "3.12.7"
  }
 },
 "nbformat": 4,
 "nbformat_minor": 5
}
