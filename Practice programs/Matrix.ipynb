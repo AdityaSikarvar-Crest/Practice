{
 "cells": [
  {
   "cell_type": "markdown",
   "id": "deb83d9a-235c-4325-b12c-41b985d36023",
   "metadata": {},
   "source": [
    "Given a binary matrix of dimensions M * N. One can perform the given operation in the matrix.\n",
    "\n",
    "If the value of matrix[i][j] is 0, then traverse in the same direction and check the next value.\n",
    "If the value of matrix[i][j] is 1, then update matrix[i][j] to 0 and change the current direction from up, right, down, or left to the directions right, down, left, and up respectively."
   ]
  },
  {
   "cell_type": "code",
   "execution_count": 1,
   "id": "4275dfa1-6951-43b2-a0ac-4f1a938a4ed4",
   "metadata": {},
   "outputs": [],
   "source": [
    "def endPoints(self, matrix, m, n):\n",
    "        ##code here\n",
    "        M = m\n",
    "        N = n\n",
    "        \n",
    "        di = {\"U\": [-1, 0], \"D\": [1, 0], \"R\": [0, 1], \"L\": [0, -1]}\n",
    "        dir_0 = {\"U\": \"R\", \"R\": \"D\", \"D\": \"L\", \"L\": \"U\"}\n",
    "        \n",
    "        curr_dir = \"R\"\n",
    "        i = 0\n",
    "        j = 0\n",
    "        while(i < m and j < n):\n",
    "            ti, tj = i, j\n",
    "            if(matrix[i][j] == 0):\n",
    "                i = i + di[curr_dir][0]\n",
    "                j = j + di[curr_dir][1]\n",
    "                \n",
    "            elif (matrix[i][j] == 1):\n",
    "                matrix[i][j] = 0\n",
    "                curr_dir = dir_0[curr_dir]\n",
    "                i = i + di[curr_dir][0]\n",
    "                j = j + di[curr_dir][1]\n",
    "                \n",
    "            if(i < 0 or i == m or j < 0 or j == n):\n",
    "                return (ti, tj)"
   ]
  },
  {
   "cell_type": "markdown",
   "id": "4101b9b3-cb6c-433e-884d-2034fc698ad7",
   "metadata": {},
   "source": [
    "Python – Assigning Subsequent Rows to Matrix first row elements"
   ]
  },
  {
   "cell_type": "markdown",
   "id": "4a9b1213-788b-4840-8cfc-c53bf71d068c",
   "metadata": {},
   "source": [
    "Method 1"
   ]
  },
  {
   "cell_type": "code",
   "execution_count": 2,
   "id": "72d52296-9273-4342-a143-69dc750b88dc",
   "metadata": {},
   "outputs": [
    {
     "name": "stdout",
     "output_type": "stream",
     "text": [
      "Orginal list: [[5, 8, 9], [2, 0, 9], [5, 4, 2], [2, 3, 9]]\n",
      "{5: [2, 0, 9], 8: [5, 4, 2], 9: [2, 3, 9]}\n"
     ]
    }
   ],
   "source": [
    "test_list = [[5, 8, 9], [2, 0, 9], [5, 4, 2], [2, 3, 9]]\n",
    "print(\"Orginal list: \"+str(test_list))\n",
    "res={test_list[0][i]: test_list[i+1] for i in range(3)}\n",
    "print(res)"
   ]
  },
  {
   "cell_type": "markdown",
   "id": "99c1354b-2dd6-4190-8b36-baf6a1ba38e0",
   "metadata": {},
   "source": [
    "Method 2 using zip"
   ]
  },
  {
   "cell_type": "code",
   "execution_count": 10,
   "id": "19249adb-ee0c-43bd-ba6e-1aaf861bb1f1",
   "metadata": {},
   "outputs": [
    {
     "name": "stdout",
     "output_type": "stream",
     "text": [
      "{5: [2, 0, 9], 8: [5, 4, 2], 9: [2, 3, 9]}\n"
     ]
    }
   ],
   "source": [
    "res = dict(zip(test_list[0], test_list[1:]))\n",
    "print(res)"
   ]
  },
  {
   "cell_type": "markdown",
   "id": "a19fa959-1cd8-414d-bc9b-3bc3b67a07e7",
   "metadata": {},
   "source": [
    "Adding and Subtracting Matrices in Python"
   ]
  },
  {
   "cell_type": "code",
   "execution_count": 20,
   "id": "199351fc-37fb-493d-9f46-6c10d973a823",
   "metadata": {},
   "outputs": [
    {
     "name": "stdout",
     "output_type": "stream",
     "text": [
      "Printing elements of first matrix\n",
      "1 2 \n",
      "3 4 \n",
      "Printing elements of second matrix\n",
      "4 5 \n",
      "6 7 \n",
      "Printing result\n",
      "5 7 \n",
      "9 11 \n"
     ]
    }
   ],
   "source": [
    "# Input matrices\n",
    "matrix1 = [[1, 2], [3, 4]]\n",
    "matrix2 = [[4, 5], [6, 7]]\n",
    "print(\"Printing elements of first matrix\")\n",
    "for row in matrix1:\n",
    "    for element in row:\n",
    "        print(element, end=\" \")\n",
    "    print()\n",
    "print(\"Printing elements of second matrix\")\n",
    "for row in matrix2:\n",
    "    for element in row:\n",
    "        print(element, end=\" \")\n",
    "    print()\n",
    "result=[[0,0],[0,0]]\n",
    "for row in range(len(matrix1)):\n",
    "    for col in range(len(matrix1[0])):\n",
    "        result[row][col]=matrix1[row][col]+matrix2[row][col]\n",
    "print(\"Printing result\")\n",
    "for row in result:\n",
    "    for element in row:\n",
    "        print(element,end=\" \")\n",
    "    print()\n",
    "    "
   ]
  },
  {
   "cell_type": "code",
   "execution_count": 25,
   "id": "5b02b82c-2660-4b77-be07-bbb8ffd9277e",
   "metadata": {},
   "outputs": [
    {
     "name": "stdout",
     "output_type": "stream",
     "text": [
      "[[ 5  7]\n",
      " [ 9 11]]\n"
     ]
    }
   ],
   "source": [
    "import numpy as np\n",
    "a=np.array([[1,2],[3,4]])\n",
    "b=np.array([[4,5],[6,7]])\n",
    "sum=np.add(a,b)\n",
    "print(sum)"
   ]
  },
  {
   "cell_type": "markdown",
   "id": "48607321-1688-4541-b018-225d323ba831",
   "metadata": {},
   "source": [
    "Group similar elements into Matrix"
   ]
  },
  {
   "cell_type": "code",
   "execution_count": 32,
   "id": "f4f637f0-8fe1-411d-ae91-1ba613ddaa85",
   "metadata": {},
   "outputs": [
    {
     "name": "stdout",
     "output_type": "stream",
     "text": [
      "[[1, 1], [3, 3], [5, 5], [2, 2], [4]]\n"
     ]
    }
   ],
   "source": [
    "test_list = [1, 3, 5, 1, 3, 2, 5, 4, 2]\n",
    "result=[]\n",
    "for i in test_list:\n",
    "    found=False\n",
    "    for j in range(len(result)):\n",
    "        if i in result[j]:\n",
    "            result[j].append(i)\n",
    "            found=True\n",
    "            break\n",
    "    if not found:\n",
    "        result.append([i])\n",
    "print(result)"
   ]
  },
  {
   "cell_type": "code",
   "execution_count": 42,
   "id": "6c210e9b-e2c2-4b62-b544-de5ede92507b",
   "metadata": {},
   "outputs": [
    {
     "name": "stdout",
     "output_type": "stream",
     "text": [
      "[[1, 1], [2, 2], [3, 3], [4], [5, 5]]\n"
     ]
    }
   ],
   "source": [
    "from itertools import groupby \n",
    "result=[]\n",
    "for key,value in groupby(sorted(test_list)):\n",
    "    result.append(list(value))\n",
    "print(result)"
   ]
  },
  {
   "cell_type": "code",
   "execution_count": 46,
   "id": "bcc16d6e-8755-4026-9a63-068ba0507f2c",
   "metadata": {},
   "outputs": [
    {
     "name": "stdout",
     "output_type": "stream",
     "text": [
      "[[1, 1], [3, 3], [5, 5], [2, 2], [4]]\n"
     ]
    }
   ],
   "source": [
    "from collections import Counter\n",
    "temp = Counter(test_list)\n",
    "print([[key]*val for key ,val in temp.items()])"
   ]
  },
  {
   "cell_type": "markdown",
   "id": "84f76aad-9259-419b-a94a-4ba6c14e4534",
   "metadata": {},
   "source": [
    "Row-wise element Addition in Tuple Matrix"
   ]
  },
  {
   "cell_type": "code",
   "execution_count": 61,
   "id": "36885539-ba47-4cb5-9e80-fa3eea079bfa",
   "metadata": {},
   "outputs": [
    {
     "name": "stdout",
     "output_type": "stream",
     "text": [
      "[[('Gfg', 3, 6)], [('is', 3, 6)], [('best', 1, 7)], [('for', 5, 8)], [('geeks', 1, 8)]]\n"
     ]
    }
   ],
   "source": [
    "test_list = [[('Gfg', 3), ('is', 3)], [('best', 1)], [('for', 5), ('geeks', 1)]]\n",
    "cus_eles = [6, 7, 8]\n",
    "result=[]\n",
    "for key,val in enumerate(test_list):\n",
    "    for sub in val:\n",
    "        result.append([sub+(cus_eles[key],)])\n",
    "print(result)"
   ]
  },
  {
   "cell_type": "code",
   "execution_count": 52,
   "id": "b8fd1c09-0976-4da1-b38a-05eec195bfe4",
   "metadata": {},
   "outputs": [],
   "source": [
    "res = [[sub + (cus_eles[idx], ) for sub in val] for idx, val in enumerate(test_list)]"
   ]
  },
  {
   "cell_type": "code",
   "execution_count": 62,
   "id": "7775b21e-dff7-4733-8dec-720751e38e54",
   "metadata": {},
   "outputs": [
    {
     "name": "stdout",
     "output_type": "stream",
     "text": [
      "[([('Gfg', 3), ('is', 3)], 6), ([('best', 1)], 7), ([('for', 5), ('geeks', 1)], 8)]\n"
     ]
    }
   ],
   "source": [
    "print(list(zip(test_list,cus_eles)))"
   ]
  },
  {
   "cell_type": "markdown",
   "id": "86098a7c-5820-4938-a574-10b52976316c",
   "metadata": {},
   "source": [
    "Create an n x n square matrix, where all the sub-matrix have the sum of opposite corner elements as even"
   ]
  },
  {
   "cell_type": "code",
   "execution_count": 116,
   "id": "c4f99215-557b-4322-aa60-44a7cb278f59",
   "metadata": {},
   "outputs": [
    {
     "name": "stdin",
     "output_type": "stream",
     "text": [
      "Enter n :  2\n"
     ]
    }
   ],
   "source": [
    "#Approach 1\n",
    "n=int(input(\"Enter n : \"))\n",
    "import itertools\n",
    "temp = itertools.count(1)\n",
    "result=[]\n",
    "for i in range(n):\n",
    "    row=[]\n",
    "    for j in range(n):\n",
    "        if (i+j)%2==0:\n",
    "            row.append(next(temp))\n",
    "        else:\n",
    "            row.append(next(temp) + 1)\n",
    "    result.append(row)    "
   ]
  },
  {
   "cell_type": "code",
   "execution_count": 117,
   "id": "60e1760c-c1e4-4f8a-baa7-650647810d57",
   "metadata": {},
   "outputs": [
    {
     "name": "stdin",
     "output_type": "stream",
     "text": [
      "Enter n 2\n"
     ]
    },
    {
     "data": {
      "text/plain": [
       "[[1, 2], [4, 3]]"
      ]
     },
     "execution_count": 117,
     "metadata": {},
     "output_type": "execute_result"
    }
   ],
   "source": [
    "#Approach 2\n",
    "n=int(input(\"Enter n\"))\n",
    "import itertools\n",
    "temp = itertools.count(1)\n",
    "l = [[next(temp)for i in range(n)]for i in range(n)]\n",
    "if n%2 == 0:\n",
    "        for i in range(0,len(l)):\n",
    "            if i%2 == 1:\n",
    "                l[i][:] = l[i][::-1]\n",
    "l"
   ]
  },
  {
   "cell_type": "code",
   "execution_count": null,
   "id": "605e0e5f-239e-43e4-b3b1-5bad890c695d",
   "metadata": {},
   "outputs": [],
   "source": []
  },
  {
   "cell_type": "code",
   "execution_count": null,
   "id": "f56d5d21-164b-419b-86d8-5d20f097589d",
   "metadata": {},
   "outputs": [],
   "source": []
  },
  {
   "cell_type": "code",
   "execution_count": null,
   "id": "e042991d-3a50-4492-a3d2-61800a152414",
   "metadata": {},
   "outputs": [],
   "source": []
  }
 ],
 "metadata": {
  "kernelspec": {
   "display_name": "Python 3 (ipykernel)",
   "language": "python",
   "name": "python3"
  },
  "language_info": {
   "codemirror_mode": {
    "name": "ipython",
    "version": 3
   },
   "file_extension": ".py",
   "mimetype": "text/x-python",
   "name": "python",
   "nbconvert_exporter": "python",
   "pygments_lexer": "ipython3",
   "version": "3.12.7"
  }
 },
 "nbformat": 4,
 "nbformat_minor": 5
}
