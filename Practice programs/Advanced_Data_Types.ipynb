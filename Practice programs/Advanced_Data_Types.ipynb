{
 "cells": [
  {
   "cell_type": "markdown",
   "id": "2e7f16bc-a568-40b4-9a4c-9a7267ede97c",
   "metadata": {},
   "source": [
    "# Boolean data type"
   ]
  },
  {
   "cell_type": "code",
   "execution_count": 8,
   "id": "faefb073-031b-48c4-af3a-b5717fbf5e58",
   "metadata": {},
   "outputs": [
    {
     "name": "stdout",
     "output_type": "stream",
     "text": [
      "is year leap year : False\n"
     ]
    }
   ],
   "source": [
    "import pendulum \n",
    "print(\"is year leap year :\", pendulum.date(year=2025,month=1,day=24).is_leap_year())"
   ]
  },
  {
   "cell_type": "code",
   "execution_count": 10,
   "id": "b637fe21-7787-4954-8d85-cba0a69433b8",
   "metadata": {},
   "outputs": [
    {
     "data": {
      "text/plain": [
       "False"
      ]
     },
     "execution_count": 10,
     "metadata": {},
     "output_type": "execute_result"
    }
   ],
   "source": [
    "def user_authentication(username, password):\n",
    "    # Predefined usernames and passwords\n",
    "    predefined_users = {\n",
    "        \"empdb1\": \"Jue@3$juy0\",\n",
    "        \"empdb2\": \"juRe34@$\",\n",
    "        \"admin\": \"koiUaq$&@ki\"\n",
    "    }\n",
    "    \n",
    "    if username in predefined_users and predefined_users[username] == password:\n",
    "        return True\n",
    "    else:\n",
    "        return False\n",
    "user_authentication(\"aditya@1234.com\",\"aditya\")"
   ]
  },
  {
   "cell_type": "markdown",
   "id": "04c0f8a7-6222-48fa-96cb-ac89f6bb5c08",
   "metadata": {},
   "source": [
    "# None type"
   ]
  },
  {
   "cell_type": "code",
   "execution_count": 11,
   "id": "2b93b121-cfaf-4441-a52f-90ca3862c67f",
   "metadata": {},
   "outputs": [],
   "source": [
    "def string_check():\n",
    "    str1=input(\"Enter string\")\n",
    "    if len(str1)==0:\n",
    "        return None \n",
    "    else: \n",
    "        return str1"
   ]
  },
  {
   "cell_type": "code",
   "execution_count": 14,
   "id": "7f773b5d-7886-49a8-973b-63ff0feabb81",
   "metadata": {},
   "outputs": [
    {
     "name": "stdin",
     "output_type": "stream",
     "text": [
      "Enter string \n"
     ]
    },
    {
     "name": "stdout",
     "output_type": "stream",
     "text": [
      "None\n"
     ]
    }
   ],
   "source": [
    "print(string_check())"
   ]
  },
  {
   "cell_type": "markdown",
   "id": "967a8308-7737-4721-81a9-180a0f9185e2",
   "metadata": {},
   "source": [
    "# Bytes and Byte arrays data type"
   ]
  },
  {
   "cell_type": "code",
   "execution_count": 24,
   "id": "e0f95888-955e-420e-a711-89e704e0f9e9",
   "metadata": {},
   "outputs": [
    {
     "name": "stdout",
     "output_type": "stream",
     "text": [
      "b'hello'\n",
      "b'hello'\n",
      "b'Aditya'\n"
     ]
    }
   ],
   "source": [
    "# Bytes is immutable\n",
    "# Using b'' to create a bytes object\n",
    "data = b'hello'\n",
    "print(data)  # Output: b'hello'\n",
    "\n",
    "# Using bytes() with a string\n",
    "data = bytes(\"hello\", \"utf-8\")\n",
    "print(data)  # Output: b'hello'\n",
    "\n",
    "# Using bytes() with a list of integers\n",
    "data = bytes([65, 100, 105, 116, 121,97])\n",
    "print(data)  # Output: b'Hello'"
   ]
  },
  {
   "cell_type": "code",
   "execution_count": 28,
   "id": "5df47f61-2eef-4209-99aa-49568b5e65a0",
   "metadata": {},
   "outputs": [
    {
     "name": "stdout",
     "output_type": "stream",
     "text": [
      "bytearray(b'yellow')\n"
     ]
    }
   ],
   "source": [
    "# Bytes array is mutuable \n",
    "data = bytearray(b'hello')\n",
    "data[0] = 121  # Changing the first byte\n",
    "data.append(119)\n",
    "print(data)  # Output: bytearray(b'Hello')"
   ]
  },
  {
   "cell_type": "markdown",
   "id": "ea9bc6d3-66f2-40fe-8a89-65cb09e4b1e6",
   "metadata": {},
   "source": [
    "## Python program to convert string to bytes using different Encodings"
   ]
  },
  {
   "cell_type": "code",
   "execution_count": 30,
   "id": "e34c8c96-9c63-42a0-8355-df32d521bed9",
   "metadata": {},
   "outputs": [
    {
     "name": "stdout",
     "output_type": "stream",
     "text": [
      "Encoding: UTF-8\n",
      "Original String: Python Exercises!\n",
      "Encoded Bytes: b'Python Exercises!'\n",
      "Decoded String: Python Exercises!\n",
      "========================================\n",
      "Encoding: UTF-16\n",
      "Original String: Python Exercises!\n",
      "Encoded Bytes: b'\\xff\\xfeP\\x00y\\x00t\\x00h\\x00o\\x00n\\x00 \\x00E\\x00x\\x00e\\x00r\\x00c\\x00i\\x00s\\x00e\\x00s\\x00!\\x00'\n",
      "Decoded String: Python Exercises!\n",
      "========================================\n",
      "Encoding: ASCII\n",
      "Original String: Python Exercises!\n",
      "Encoded Bytes: b'Python Exercises!'\n",
      "Decoded String: Python Exercises!\n",
      "========================================\n"
     ]
    }
   ],
   "source": [
    "def convert_to_bytes(input_string, encoding):\n",
    "    try:\n",
    "        encoded_bytes = input_string.encode(encoding)\n",
    "        return encoded_bytes\n",
    "    except Exception as e:\n",
    "        print(\"Error:\", e)\n",
    "        return None\n",
    "\n",
    "def main():\n",
    "    try:\n",
    "        input_string = \"Python Exercises!\"\n",
    "        \n",
    "        encodings = [\"utf-8\", \"utf-16\", \"ascii\"]\n",
    "        for encoding in encodings:\n",
    "            encoded_bytes = convert_to_bytes(input_string, encoding)\n",
    "            if encoded_bytes is not None:\n",
    "                print(f\"Encoding: {encoding.upper()}\")\n",
    "                print(\"Original String:\", input_string)\n",
    "                print(\"Encoded Bytes:\", encoded_bytes)\n",
    "                print(\"Decoded String:\", encoded_bytes.decode(encoding))\n",
    "                print(\"=\" * 40)\n",
    "    except Exception as e:\n",
    "        print(\"An error occurred:\", e)\n",
    "\n",
    "if __name__ == \"__main__\":\n",
    "    main()"
   ]
  },
  {
   "cell_type": "markdown",
   "id": "f59d1295-6edd-4da5-83fe-865d0fa1aa79",
   "metadata": {},
   "source": [
    "# Memory views"
   ]
  },
  {
   "cell_type": "code",
   "execution_count": 43,
   "id": "818784d3-31c5-4e44-921e-08fe456e1036",
   "metadata": {},
   "outputs": [
    {
     "name": "stdout",
     "output_type": "stream",
     "text": [
      "W\n"
     ]
    }
   ],
   "source": [
    "# Creating a memoryview from a bytearray\n",
    "data = bytearray(b'Hello, World!')\n",
    "view = memoryview(data)\n",
    "print(chr(view[7]))"
   ]
  },
  {
   "cell_type": "markdown",
   "id": "a59c86ed-6bf2-42e5-bd7d-7959908333c3",
   "metadata": {},
   "source": [
    "# Frozenset"
   ]
  },
  {
   "cell_type": "code",
   "execution_count": 56,
   "id": "ea67e14b-99e8-44f7-b543-9f4da45d3576",
   "metadata": {},
   "outputs": [],
   "source": [
    "fs=frozenset([1,2,3,4])\n",
    "fs2=fs.copy()"
   ]
  },
  {
   "cell_type": "markdown",
   "id": "dabc1020-b9cf-4481-a7ec-fa4cfd775848",
   "metadata": {},
   "source": [
    "## Frozenset of squares of odd numbers"
   ]
  },
  {
   "cell_type": "code",
   "execution_count": 57,
   "id": "38bef3f9-ac99-4952-af00-ba796781130e",
   "metadata": {},
   "outputs": [
    {
     "data": {
      "text/plain": [
       "frozenset({1, 9, 25, 49, 81, 121, 169})"
      ]
     },
     "execution_count": 57,
     "metadata": {},
     "output_type": "execute_result"
    }
   ],
   "source": [
    "odd_numbers={x**2 for x in range(15) if x%2!=0}\n",
    "fs3=frozenset(odd_numbers)\n",
    "fs3"
   ]
  },
  {
   "cell_type": "markdown",
   "id": "6ef0bda3-49ff-467e-a40d-1983f55abcff",
   "metadata": {},
   "source": [
    "# Namedtuple"
   ]
  },
  {
   "cell_type": "code",
   "execution_count": 65,
   "id": "69dbd27b-bc03-4970-84cc-a308e1f37134",
   "metadata": {},
   "outputs": [
    {
     "name": "stdout",
     "output_type": "stream",
     "text": [
      "Point(x=10, y=20)\n"
     ]
    }
   ],
   "source": [
    "from collections import namedtuple\n",
    "namedtuple('Point', ['x', 'y'])\n",
    "p = Point(10, 20)\n",
    "print(p)  "
   ]
  },
  {
   "cell_type": "code",
   "execution_count": 80,
   "id": "adc1faac-2f8a-4da7-922c-4040c92eccfd",
   "metadata": {},
   "outputs": [],
   "source": [
    "namedtuple(\"Student\", [\"name\", \"age\", \"marks\",\"result\"])\n",
    "x=Student(\"Adi\",20,100,\"Failed\")\n",
    "p=Student(\"Adi\",20,100,\"Pass\")"
   ]
  },
  {
   "cell_type": "code",
   "execution_count": 82,
   "id": "a9f2ab40-4974-4932-a799-7d200b8f89ba",
   "metadata": {},
   "outputs": [
    {
     "data": {
      "text/plain": [
       "Student(name='Adi', age=20, marks=100, result='Pass')"
      ]
     },
     "execution_count": 82,
     "metadata": {},
     "output_type": "execute_result"
    }
   ],
   "source": [
    "p"
   ]
  },
  {
   "cell_type": "code",
   "execution_count": 83,
   "id": "58592138-f794-4a57-b0c7-a78c959c5bfa",
   "metadata": {},
   "outputs": [
    {
     "data": {
      "text/plain": [
       "Student(name='Adi', age=20, marks=100, result='Failed')"
      ]
     },
     "execution_count": 83,
     "metadata": {},
     "output_type": "execute_result"
    }
   ],
   "source": [
    "x"
   ]
  },
  {
   "cell_type": "code",
   "execution_count": 86,
   "id": "09e5a8c8-6366-4074-b413-7ef6a186c2ad",
   "metadata": {},
   "outputs": [],
   "source": [
    "x=namedtuple(\"Studen\", [\"name\", \"age\", \"marks\",\"result\"])"
   ]
  },
  {
   "cell_type": "code",
   "execution_count": 88,
   "id": "e27f91dd-c7f1-4f1c-b7e1-669b6826108f",
   "metadata": {},
   "outputs": [],
   "source": [
    "a=x(\"Adi\",20,100,\"Failed\")"
   ]
  },
  {
   "cell_type": "code",
   "execution_count": 89,
   "id": "be10a37d-6147-43b9-ba8e-e6b3a3cac0b3",
   "metadata": {},
   "outputs": [
    {
     "data": {
      "text/plain": [
       "Studen(name='Adi', age=20, marks=100, result='Failed')"
      ]
     },
     "execution_count": 89,
     "metadata": {},
     "output_type": "execute_result"
    }
   ],
   "source": [
    "a"
   ]
  },
  {
   "cell_type": "markdown",
   "id": "c7d8186a-2eff-475c-ad33-ac8b1072eba6",
   "metadata": {},
   "source": [
    "## Write a Python program that defines a NamedTuple named \"Car\" with fields 'make', 'model', 'year', and 'engine' (a NamedTuple representing engine details). Create an instance of the \"Car\" NamedTuple and print its attributes."
   ]
  },
  {
   "cell_type": "code",
   "execution_count": 95,
   "id": "84accc17-dcd3-4063-856e-455bd9dc755f",
   "metadata": {},
   "outputs": [],
   "source": [
    "car=namedtuple(\"car\",[\"make\",\"model\",\"year\",\"engine\"])\n",
    "Engine = namedtuple('Engine', ['type', 'cylinders'])\n",
    "engine_instance = Engine(type='1.5L', cylinders=4)\n",
    "bmw=car(make='Honda', model='City', year=2020, engine=engine_instance)"
   ]
  },
  {
   "cell_type": "code",
   "execution_count": 98,
   "id": "fc5fbc9c-a623-4c55-b0e3-90a979d17a33",
   "metadata": {},
   "outputs": [
    {
     "data": {
      "text/plain": [
       "4"
      ]
     },
     "execution_count": 98,
     "metadata": {},
     "output_type": "execute_result"
    }
   ],
   "source": [
    "bmw.engine.cylinders"
   ]
  },
  {
   "cell_type": "markdown",
   "id": "3a0b3e08-13b4-49f6-a180-c7b9b90baeb3",
   "metadata": {},
   "source": [
    "# OrderedDict"
   ]
  },
  {
   "cell_type": "code",
   "execution_count": 101,
   "id": "a6494baf-688e-4f2c-979a-332eadb350f0",
   "metadata": {},
   "outputs": [
    {
     "data": {
      "text/plain": [
       "OrderedDict([('a', 1), ('b', 2), ('c', 3)])"
      ]
     },
     "execution_count": 101,
     "metadata": {},
     "output_type": "execute_result"
    }
   ],
   "source": [
    "from collections import OrderedDict\n",
    "\n",
    "# Creating an OrderedDict\n",
    "ordered_dict = OrderedDict()\n",
    "ordered_dict['a'] = 1\n",
    "ordered_dict['b'] = 2\n",
    "ordered_dict['c'] = 3\n",
    "ordered_dict"
   ]
  },
  {
   "cell_type": "markdown",
   "id": "db234d4c-2bb1-4710-8fd5-26f0c910ee57",
   "metadata": {},
   "source": [
    "## Python function for word lengths OrderedDict"
   ]
  },
  {
   "cell_type": "code",
   "execution_count": 109,
   "id": "2d856138-8c7c-4a1d-a61b-187f875367af",
   "metadata": {},
   "outputs": [],
   "source": [
    "def word_counter(l):\n",
    "    ord_d=OrderedDict()\n",
    "    for i in l:\n",
    "        ord_d[i]=len(i)\n",
    "    return ord_d\n",
    "l=[\"word\",\"hello\",\"nice\",\"yellow\",\"red\"]\n",
    "r=word_counter(l)\n",
    "x=word_counter(l)"
   ]
  },
  {
   "cell_type": "code",
   "execution_count": 110,
   "id": "73a542fc-47bb-490b-9124-2804b2ac8f03",
   "metadata": {},
   "outputs": [],
   "source": [
    "x.move_to_end(\"word\")"
   ]
  },
  {
   "cell_type": "code",
   "execution_count": 111,
   "id": "a8fd339b-5f76-4393-ba14-eea63e0a5a45",
   "metadata": {},
   "outputs": [
    {
     "data": {
      "text/plain": [
       "False"
      ]
     },
     "execution_count": 111,
     "metadata": {},
     "output_type": "execute_result"
    }
   ],
   "source": [
    "x==l"
   ]
  },
  {
   "cell_type": "code",
   "execution_count": 112,
   "id": "84cd3657-3fdb-4c55-81ea-d72a5558f331",
   "metadata": {},
   "outputs": [
    {
     "data": {
      "text/plain": [
       "('hello', 5)"
      ]
     },
     "execution_count": 112,
     "metadata": {},
     "output_type": "execute_result"
    }
   ],
   "source": [
    "x.popitem(last=False)"
   ]
  },
  {
   "cell_type": "markdown",
   "id": "c6918754-6a57-4e51-9ef8-8c9bfbc4c0c7",
   "metadata": {},
   "source": [
    "# Counter"
   ]
  },
  {
   "cell_type": "code",
   "execution_count": 113,
   "id": "4b971d21-bcfa-457b-8853-502137569b78",
   "metadata": {},
   "outputs": [],
   "source": [
    "from collections import Counter \n",
    "x=Counter (l)"
   ]
  },
  {
   "cell_type": "code",
   "execution_count": 119,
   "id": "eeed248a-313b-4eda-b050-cd5d87b4334e",
   "metadata": {},
   "outputs": [
    {
     "name": "stdout",
     "output_type": "stream",
     "text": [
      "word\n",
      "hello\n",
      "nice\n",
      "yellow\n",
      "red\n"
     ]
    }
   ],
   "source": [
    "for i,j in x.items():\n",
    "    if j==1:\n",
    "        print(i)"
   ]
  },
  {
   "cell_type": "markdown",
   "id": "479e5a86-12e4-4136-95af-55daa60a9137",
   "metadata": {},
   "source": [
    "# Ellipsis"
   ]
  },
  {
   "cell_type": "code",
   "execution_count": 122,
   "id": "12d62287-1b27-45a4-bea4-8f5f628fa6ba",
   "metadata": {},
   "outputs": [
    {
     "name": "stdout",
     "output_type": "stream",
     "text": [
      "Ellipsis\n"
     ]
    }
   ],
   "source": [
    "print(...)"
   ]
  },
  {
   "cell_type": "code",
   "execution_count": 123,
   "id": "3bb78d61-b77c-4b1b-9383-9ddf13403cd3",
   "metadata": {},
   "outputs": [
    {
     "name": "stdout",
     "output_type": "stream",
     "text": [
      "<class 'ellipsis'>\n"
     ]
    }
   ],
   "source": [
    "print(type(...))"
   ]
  },
  {
   "cell_type": "code",
   "execution_count": 124,
   "id": "890d1890-d827-45b0-8685-36418159ebd4",
   "metadata": {},
   "outputs": [
    {
     "name": "stdout",
     "output_type": "stream",
     "text": [
      "Attribute 1: Red\n",
      "Attribute 2: Green\n",
      "Attribute 3: White\n",
      "Attribute 4: Ellipsis\n",
      "Modified Attribute 4: Orange\n"
     ]
    }
   ],
   "source": [
    "class MyClass:\n",
    "    def __init__(self, attribute1, attribute2, attribute3, attribute4=...):\n",
    "        self.attribute1 = attribute1\n",
    "        self.attribute2 = attribute2\n",
    "        self.attribute3 = attribute3\n",
    "        self.attribute4 = attribute4\n",
    "\n",
    "    def set_attribute4(self, value):\n",
    "        self.attribute4 = value\n",
    "\n",
    "# Create an instance of the MyClass\n",
    "obj = MyClass(\"Red\", \"Green\", \"White\")\n",
    "\n",
    "# Access and print the attributes\n",
    "print(\"Attribute 1:\", obj.attribute1)\n",
    "print(\"Attribute 2:\", obj.attribute2)\n",
    "print(\"Attribute 3:\", obj.attribute3)\n",
    "print(\"Attribute 4:\", obj.attribute4)  # Attribute 4 is represented by '...'\n",
    "\n",
    "# Dynamically add a value to attribute3\n",
    "obj.set_attribute4(\"Orange\")\n",
    "\n",
    "# Access and print the modified attribute3\n",
    "print(\"Modified Attribute 4:\", obj.attribute4)"
   ]
  },
  {
   "cell_type": "code",
   "execution_count": null,
   "id": "1ae0a12c-870b-4a60-8966-fde376ff9d57",
   "metadata": {},
   "outputs": [],
   "source": []
  }
 ],
 "metadata": {
  "kernelspec": {
   "display_name": "Python 3 (ipykernel)",
   "language": "python",
   "name": "python3"
  },
  "language_info": {
   "codemirror_mode": {
    "name": "ipython",
    "version": 3
   },
   "file_extension": ".py",
   "mimetype": "text/x-python",
   "name": "python",
   "nbconvert_exporter": "python",
   "pygments_lexer": "ipython3",
   "version": "3.12.7"
  }
 },
 "nbformat": 4,
 "nbformat_minor": 5
}
