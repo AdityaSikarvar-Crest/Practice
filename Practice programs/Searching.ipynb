{
 "cells": [
  {
   "cell_type": "markdown",
   "id": "26bd16e6-2e3b-4e24-8c0c-5328b8406e8c",
   "metadata": {},
   "source": [
    "Last Match"
   ]
  },
  {
   "cell_type": "code",
   "execution_count": 6,
   "id": "06446db0-f0cf-4fdf-85c7-7fe6f15000c4",
   "metadata": {},
   "outputs": [
    {
     "name": "stdout",
     "output_type": "stream",
     "text": [
      "35\n"
     ]
    }
   ],
   "source": [
    "A = \"qwertyuiopqwertyuiopqwertyuiopqwertyuiop\"\n",
    "B = \"yuiqwer\"\n",
    "reverse_a=A[::-1]\n",
    "reverse_b=B[::-1]\n",
    "p=reverse_a.find(reverse_b)\n",
    "len_a=len(A)\n",
    "len_b=len(B)\n",
    "x=len_a-len_b-p\n",
    "print(x+1)"
   ]
  },
  {
   "cell_type": "code",
   "execution_count": 7,
   "id": "49385b13-ea64-4f7b-9dc9-35642e591a2c",
   "metadata": {},
   "outputs": [],
   "source": [
    "def findLastOccurence(self, A, B):\n",
    "        # code here \n",
    "        p=A.rfind(B)\n",
    "        if p!=-1:\n",
    "            return p+1\n",
    "        else:\n",
    "            return -1"
   ]
  },
  {
   "cell_type": "code",
   "execution_count": 8,
   "id": "fd295bc3-1f62-4e8a-997f-8a670405a1b2",
   "metadata": {},
   "outputs": [],
   "source": [
    "class Solution:\n",
    "    def binarysearch(self, arr, k):\n",
    "        start, end = 0, len(arr) - 1\n",
    "        while start <= end:\n",
    "            mid = start + (end - start) // 2\n",
    "            if arr[mid] < k:\n",
    "                start = mid + 1\n",
    "            elif arr[mid] == k:\n",
    "                if mid == 0 or arr[mid - 1] != k:\n",
    "                    return mid\n",
    "                end = mid - 1\n",
    "            else:\n",
    "                end = mid - 1\n",
    "        return -1"
   ]
  },
  {
   "cell_type": "markdown",
   "id": "704416c4-bbe7-48a9-acb4-f6e4c83cde25",
   "metadata": {},
   "source": [
    "Linear search"
   ]
  },
  {
   "cell_type": "code",
   "execution_count": 12,
   "id": "d443d0a7-a3f9-49e3-b275-1db0c404da62",
   "metadata": {},
   "outputs": [
    {
     "name": "stdout",
     "output_type": "stream",
     "text": [
      "Element found at :3\n"
     ]
    }
   ],
   "source": [
    "arr=[1,2,3]\n",
    "target=3\n",
    "for index in range(len(arr)):\n",
    "    if arr[index]==target:\n",
    "        print(\"Element found at :\"+str(index+1))"
   ]
  },
  {
   "cell_type": "code",
   "execution_count": 14,
   "id": "b5c9fafe-f0eb-492b-9c7a-d3dc92e86dff",
   "metadata": {},
   "outputs": [],
   "source": [
    "# Recursive Apporoach\n",
    "def linear_search_recursive(arr, target, index=0):\n",
    "    # Base case: If index reaches the end of the list\n",
    "    if index == len(arr):\n",
    "        return -1  # Target not found  \n",
    "    # If the target is found at the current index\n",
    "    if arr[index] == target:\n",
    "        return index  # Return the index of the target\n",
    "    \n",
    "    # Recursive call to check the next element\n",
    "    return linear_search_recursive(arr, target, index + 1)"
   ]
  },
  {
   "cell_type": "markdown",
   "id": "a2346565-6ba0-4ceb-b96f-0dd54240de91",
   "metadata": {},
   "source": [
    "Python Program for Anagram Substring Search"
   ]
  },
  {
   "cell_type": "code",
   "execution_count": 22,
   "id": "111fcac0-8a95-47e5-80c5-2d0b1f138a00",
   "metadata": {},
   "outputs": [],
   "source": [
    "def search(pat, txt):\n",
    "    txt = \"forxxorfxdofr\"\n",
    "    pat = \"for\"\n",
    "    n=len(txt)\n",
    "    m=len(pat)\n",
    "    from collections import Counter \n",
    "    pat_dict=Counter(pat)\n",
    "    counter=0\n",
    "    for i in range(n-m+1):\n",
    "        test_dict=Counter(txt[i:i+m])\n",
    "        if pat_dict == test_dict:\n",
    "            counter+=1\n",
    "        return counter"
   ]
  },
  {
   "cell_type": "code",
   "execution_count": 23,
   "id": "1a48a166-b37e-4adb-bc07-5a1344cd1dcb",
   "metadata": {},
   "outputs": [
    {
     "data": {
      "text/plain": [
       "1"
      ]
     },
     "execution_count": 23,
     "metadata": {},
     "output_type": "execute_result"
    }
   ],
   "source": [
    "search(\"for\",\"forxxorfxdofr\")"
   ]
  },
  {
   "cell_type": "code",
   "execution_count": null,
   "id": "81de9cb9-b087-4520-98e2-676b8b244c5d",
   "metadata": {},
   "outputs": [],
   "source": []
  }
 ],
 "metadata": {
  "kernelspec": {
   "display_name": "Python 3 (ipykernel)",
   "language": "python",
   "name": "python3"
  },
  "language_info": {
   "codemirror_mode": {
    "name": "ipython",
    "version": 3
   },
   "file_extension": ".py",
   "mimetype": "text/x-python",
   "name": "python",
   "nbconvert_exporter": "python",
   "pygments_lexer": "ipython3",
   "version": "3.12.7"
  }
 },
 "nbformat": 4,
 "nbformat_minor": 5
}
