{
 "cells": [
  {
   "cell_type": "markdown",
   "id": "7d55d778-7400-4c08-9eed-f3af8cc7aaac",
   "metadata": {},
   "source": [
    "## Python Data Structures and Algorithms - Recursion: Fibonacci sequence"
   ]
  },
  {
   "cell_type": "code",
   "execution_count": 5,
   "id": "a5cdec74-141e-4a42-ba3a-1925761703a4",
   "metadata": {},
   "outputs": [],
   "source": [
    "# Normal function \n",
    "def fib(n):\n",
    "    if n==1 or n==2:\n",
    "        return 1\n",
    "    else:\n",
    "        return (fib(n-1)+fib(n-2))"
   ]
  },
  {
   "cell_type": "code",
   "execution_count": 6,
   "id": "01181a2c-8dcc-4a95-b19e-9b794aa889f6",
   "metadata": {},
   "outputs": [
    {
     "data": {
      "text/plain": [
       "3"
      ]
     },
     "execution_count": 6,
     "metadata": {},
     "output_type": "execute_result"
    }
   ],
   "source": [
    "fib(4)"
   ]
  },
  {
   "cell_type": "code",
   "execution_count": 18,
   "id": "c7d048f3-0850-4f42-9481-44e7695f2a9f",
   "metadata": {},
   "outputs": [],
   "source": [
    "# Printing the series \n",
    "def fib(n,a=0,b=1):\n",
    "    if n==0:\n",
    "        return\n",
    "    print(b,end=\" \")\n",
    "    fib(n-1,b,a+b)"
   ]
  },
  {
   "cell_type": "code",
   "execution_count": 12,
   "id": "55d12684-a999-4857-bac3-8b699b6e734d",
   "metadata": {},
   "outputs": [
    {
     "name": "stdout",
     "output_type": "stream",
     "text": [
      "1 1 2 3 5 8 13 21 34 55 "
     ]
    }
   ],
   "source": [
    "fib(10)"
   ]
  },
  {
   "cell_type": "code",
   "execution_count": 17,
   "id": "d50b219d-72ef-4b47-9a47-9929da32dc4d",
   "metadata": {},
   "outputs": [
    {
     "name": "stdout",
     "output_type": "stream",
     "text": [
      "1\n",
      "1\n",
      "2\n",
      "3\n",
      "5\n",
      "8\n",
      "13\n",
      "21\n",
      "34\n",
      "55\n",
      "89\n"
     ]
    }
   ],
   "source": [
    "# Without recursion approach \n",
    "n=10\n",
    "a=0\n",
    "b=1\n",
    "for i in range(n):\n",
    "    a,b=b,a+b\n",
    "    print(a)"
   ]
  },
  {
   "cell_type": "markdown",
   "id": "638608ec-730f-4f90-b243-ec36fc0bcc69",
   "metadata": {},
   "source": [
    "## Python program to sum recursion lists using recursion.\n",
    "### Test Data: [1, 2, [3,4], [5,6]]\n",
    "### Expected Result: 21"
   ]
  },
  {
   "cell_type": "code",
   "execution_count": 22,
   "id": "beef920a-705a-4a2a-8b43-5dd39956b957",
   "metadata": {},
   "outputs": [],
   "source": [
    "def sum_lists(list1):\n",
    "    sum1=0\n",
    "    for item in list1:\n",
    "        if isinstance(item,list):\n",
    "            sum1+=sum_lists(item)\n",
    "        else:\n",
    "            sum1+=item\n",
    "    return sum1"
   ]
  },
  {
   "cell_type": "code",
   "execution_count": 23,
   "id": "bf8db99d-630b-4b8d-abe3-7e6dd8b25511",
   "metadata": {},
   "outputs": [
    {
     "data": {
      "text/plain": [
       "21"
      ]
     },
     "execution_count": 23,
     "metadata": {},
     "output_type": "execute_result"
    }
   ],
   "source": [
    "list1=[1, 2, [3,4], [5,6]]\n",
    "sum_lists(list1)"
   ]
  },
  {
   "cell_type": "code",
   "execution_count": 24,
   "id": "b2252810-de8f-45ed-ac80-e598e677a0b2",
   "metadata": {},
   "outputs": [],
   "source": [
    "def flatten(list1):\n",
    "    final=[]\n",
    "    for item in list1:\n",
    "        if isinstance(item,list):\n",
    "            final.extend(item)\n",
    "        else:\n",
    "            final.append(item)"
   ]
  },
  {
   "cell_type": "code",
   "execution_count": null,
   "id": "1339bac1-fa1a-46f0-bdc7-8fce48dfe245",
   "metadata": {},
   "outputs": [],
   "source": []
  }
 ],
 "metadata": {
  "kernelspec": {
   "display_name": "Python 3 (ipykernel)",
   "language": "python",
   "name": "python3"
  },
  "language_info": {
   "codemirror_mode": {
    "name": "ipython",
    "version": 3
   },
   "file_extension": ".py",
   "mimetype": "text/x-python",
   "name": "python",
   "nbconvert_exporter": "python",
   "pygments_lexer": "ipython3",
   "version": "3.12.7"
  }
 },
 "nbformat": 4,
 "nbformat_minor": 5
}
