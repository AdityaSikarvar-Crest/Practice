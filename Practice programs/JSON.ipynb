{
 "cells": [
  {
   "cell_type": "code",
   "execution_count": 2,
   "id": "e10debd7-b59d-42d5-9c3a-3f3b52c9a873",
   "metadata": {},
   "outputs": [
    {
     "name": "stdout",
     "output_type": "stream",
     "text": [
      "This is JSON <class 'str'>\n",
      "\n",
      "Now convert from JSON to Python\n",
      "Converted to Python <class 'dict'>\n"
     ]
    }
   ],
   "source": [
    "import json \n",
    "\n",
    "# JSON string \n",
    "employee = '{\"id\":\"09\", \"name\": \"Nitin\", \"department\":\"Finance\"}'\n",
    "print(\"This is JSON\", type(employee)) \n",
    "\n",
    "print(\"\\nNow convert from JSON to Python\") \n",
    "\n",
    "# Convert string to Python dict \n",
    "employee_dict = json.loads(employee) \n",
    "print(\"Converted to Python\", type(employee_dict)) "
   ]
  },
  {
   "cell_type": "code",
   "execution_count": 7,
   "id": "aeb8891c-6199-4153-b246-7c5848bd6103",
   "metadata": {},
   "outputs": [
    {
     "name": "stdout",
     "output_type": "stream",
     "text": [
      "This is Python <class 'dict'>\n",
      "\n",
      "Now Convert from Python to JSON\n",
      "\n",
      "Converted to JSON <class 'str'>\n",
      "{\n",
      "    \"id\": \"09\",\n",
      "    \"name\": \"Nitin\",\n",
      "    \"department\": \"Finance\"\n",
      "}\n"
     ]
    }
   ],
   "source": [
    "import json \n",
    "\n",
    "# JSON string \n",
    "employee_dict = {'id': '09', 'name': 'Nitin', 'department': 'Finance'} \n",
    "print(\"This is Python\", type(employee_dict)) \n",
    "\n",
    "print(\"\\nNow Convert from Python to JSON\\n\") \n",
    "\n",
    "# Convert Python dict to JSON \n",
    "json_object = json.dumps(employee_dict,indent=4) \n",
    "print(\"Converted to JSON\", type(json_object)) \n",
    "print(json_object) "
   ]
  },
  {
   "cell_type": "markdown",
   "id": "46cbe696-bf66-4f35-832a-6064036f295b",
   "metadata": {},
   "source": [
    "## Convert class object to JSON in Python"
   ]
  },
  {
   "cell_type": "code",
   "execution_count": 8,
   "id": "a79a7626-caf4-4748-ad1f-00cab904e56c",
   "metadata": {},
   "outputs": [],
   "source": [
    "class student:\n",
    "    def __init__(self,name,roll):\n",
    "        self.name=name\n",
    "        self.roll=roll\n",
    "    "
   ]
  },
  {
   "cell_type": "code",
   "execution_count": 14,
   "id": "17fbec7a-9657-41b6-9b15-757a4b222cc6",
   "metadata": {},
   "outputs": [],
   "source": [
    "s1=student(\"aditya\",1)\n",
    "s2=student(\"pratik\",2)"
   ]
  },
  {
   "cell_type": "code",
   "execution_count": 21,
   "id": "f419c640-325e-46c3-a538-80faeda278f1",
   "metadata": {},
   "outputs": [],
   "source": [
    "import json\n",
    "s1_json=json.dumps(s1.__dict__,indent=2)\n",
    "s2_json=json.dumps(s2.__dict__,indent=2)"
   ]
  },
  {
   "cell_type": "code",
   "execution_count": 22,
   "id": "a8eaa696-cbfd-46f2-9b91-65e8443dc3a3",
   "metadata": {},
   "outputs": [
    {
     "name": "stdout",
     "output_type": "stream",
     "text": [
      "{\n",
      "  \"name\": \"aditya\",\n",
      "  \"roll\": 1\n",
      "}\n",
      "{\n",
      "  \"name\": \"pratik\",\n",
      "  \"roll\": 2\n",
      "}\n"
     ]
    }
   ],
   "source": [
    "print(s1_json)\n",
    "print(s2_json)"
   ]
  },
  {
   "cell_type": "markdown",
   "id": "0d849bdf-0904-4f63-9c56-c0f5bb585869",
   "metadata": {},
   "source": [
    "## Convert JSON data Into a Custom Python Object"
   ]
  },
  {
   "cell_type": "code",
   "execution_count": 41,
   "id": "79cae517-f5a4-4ed2-8756-c3ade872866f",
   "metadata": {},
   "outputs": [],
   "source": [
    "import json\n",
    "from collections import namedtuple\n",
    "data = '{\"name\" : \"Geek\", \"id\" : 1, \"location\" : \"Mumbai\"}'\n",
    "x = json.loads(data, object_hook = lambda d : namedtuple('X', d.keys())(*d.values()))\n"
   ]
  },
  {
   "cell_type": "code",
   "execution_count": 42,
   "id": "ce2a789b-ca58-4798-a1a9-16c005e752d6",
   "metadata": {},
   "outputs": [
    {
     "name": "stdout",
     "output_type": "stream",
     "text": [
      "Mumbai\n"
     ]
    }
   ],
   "source": [
    "print(x.location)"
   ]
  },
  {
   "cell_type": "code",
   "execution_count": 43,
   "id": "fe0817de-ee70-483f-bbe3-bc78a899f9d0",
   "metadata": {},
   "outputs": [],
   "source": [
    "B={\"name\":\"aditya\",\"place\":\"surat\"}\n",
    "d=namedtuple(\"Z\",B.keys())(*B.values())"
   ]
  },
  {
   "cell_type": "code",
   "execution_count": 44,
   "id": "56a1e180-2017-4127-a5fc-c33eec2b3dc0",
   "metadata": {},
   "outputs": [
    {
     "data": {
      "text/plain": [
       "'aditya'"
      ]
     },
     "execution_count": 44,
     "metadata": {},
     "output_type": "execute_result"
    }
   ],
   "source": [
    "d.name"
   ]
  },
  {
   "cell_type": "markdown",
   "id": "b1ac8299-fb91-4381-bc1e-0ca09813e25e",
   "metadata": {},
   "source": [
    "## Flattening JSON objects in Python"
   ]
  },
  {
   "cell_type": "code",
   "execution_count": 45,
   "id": "62a81726-f858-4690-8051-c0f227ca1e09",
   "metadata": {},
   "outputs": [
    {
     "name": "stdout",
     "output_type": "stream",
     "text": [
      "{'user_Rachel_UserID': 1717171717, 'user_Rachel_Email': 'rachel1999@gmail.com', 'user_Rachel_friends_0': 'John', 'user_Rachel_friends_1': 'Jeremy', 'user_Rachel_friends_2': 'Emily'}\n"
     ]
    }
   ],
   "source": [
    "# for a array value of a key\n",
    "unflat_json = {'user':\n",
    "               {'Rachel':\n",
    "                {'UserID': 1717171717,\n",
    "                 'Email': 'rachel1999@gmail.com',\n",
    "                 'friends': ['John', 'Jeremy', 'Emily']\n",
    "                 }\n",
    "                }\n",
    "               }\n",
    " \n",
    "# Function for flattening\n",
    "# json\n",
    " \n",
    " \n",
    "def flatten_json(y):\n",
    "    out = {}\n",
    " \n",
    "    def flatten(x, name=''):\n",
    " \n",
    "        # If the Nested key-value\n",
    "        # pair is of dict type\n",
    "        if type(x) is dict:\n",
    " \n",
    "            for a in x:\n",
    "                flatten(x[a], name + a + '_')\n",
    " \n",
    "        # If the Nested key-value\n",
    "        # pair is of list type\n",
    "        elif type(x) is list:\n",
    " \n",
    "            i = 0\n",
    " \n",
    "            for a in x:\n",
    "                flatten(a, name + str(i) + '_')\n",
    "                i += 1\n",
    "        else:\n",
    "            out[name[:-1]] = x\n",
    " \n",
    "    flatten(y)\n",
    "    return out\n",
    " \n",
    " \n",
    "# Driver code\n",
    "print(flatten_json(unflat_json))"
   ]
  },
  {
   "cell_type": "markdown",
   "id": "351b6b41-05ef-44d5-9664-810b2dcafb18",
   "metadata": {},
   "source": [
    "## Convert CSV to JSON using Python"
   ]
  },
  {
   "cell_type": "code",
   "execution_count": 47,
   "id": "fb0791d3-948d-4778-8d7f-10c13fd10f29",
   "metadata": {},
   "outputs": [],
   "source": [
    "import csv\n",
    "import json\n",
    "\n",
    "def make_json(csvFilePath, jsonFilePath):\n",
    "    \n",
    "    # create a dictionary\n",
    "    data = {}\n",
    "    \n",
    "    # Open a csv reader called DictReader\n",
    "    with open(csvFilePath, encoding='utf-8') as csvf:\n",
    "        csvReader = csv.DictReader(csvf)\n",
    "        \n",
    "        # Convert each row into a dictionary \n",
    "        # and add it to data\n",
    "        for rows in csvReader:\n",
    "            \n",
    "            # Assuming a column named 'No' to\n",
    "            # be the primary key\n",
    "            key = rows['No']\n",
    "            data[key] = rows\n",
    "\n",
    "    # Open a json writer, and use the json.dumps() \n",
    "    # function to dump data\n",
    "    with open(jsonFilePath, 'w', encoding='utf-8') as jsonf:\n",
    "        jsonf.write(json.dumps(data, indent=4))\n",
    "        \n",
    "# Driver Code\n",
    "\n",
    "# Decide the two file paths according to your \n",
    "# computer system\n",
    "csvFilePath = r'News.csv'\n",
    "jsonFilePath = r'News.json'\n",
    "\n",
    "# Call the make_json function\n",
    "make_json(csvFilePath, jsonFilePath)\n"
   ]
  },
  {
   "cell_type": "code",
   "execution_count": null,
   "id": "d285f3f1-befe-484e-9a42-0f6541155564",
   "metadata": {},
   "outputs": [],
   "source": []
  }
 ],
 "metadata": {
  "kernelspec": {
   "display_name": "Python 3 (ipykernel)",
   "language": "python",
   "name": "python3"
  },
  "language_info": {
   "codemirror_mode": {
    "name": "ipython",
    "version": 3
   },
   "file_extension": ".py",
   "mimetype": "text/x-python",
   "name": "python",
   "nbconvert_exporter": "python",
   "pygments_lexer": "ipython3",
   "version": "3.12.7"
  }
 },
 "nbformat": 4,
 "nbformat_minor": 5
}
