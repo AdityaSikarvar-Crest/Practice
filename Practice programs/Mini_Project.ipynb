{
 "cells": [
  {
   "cell_type": "code",
   "execution_count": 1,
   "id": "1c594acb-6513-469f-a164-65a9213a37d0",
   "metadata": {},
   "outputs": [],
   "source": [
    "import random\n",
    "def num_gen():\n",
    "    \n",
    "    number=random.randint(1,10)\n",
    "    return number\n",
    "def guess(number):\n",
    "    choice=input(\"Lets Play random number guesser press y/n if you are ready:\")\n",
    "    while choice.lower()==\"y\":\n",
    "        \n",
    "        gus=int(input(\"Your guess :\"))\n",
    "        if gus==number:\n",
    "            print(\"You have won !\")\n",
    "            choice = input(\"Want to play again? y/n: \")\n",
    "            if choice.lower() == \"y\":\n",
    "                number = num_gen()  \n",
    "        else:\n",
    "            print(\"Wrong number! Guess again\")"
   ]
  },
  {
   "cell_type": "code",
   "execution_count": 2,
   "id": "1ec69952-b554-45a5-9cb9-abc95ba076ff",
   "metadata": {},
   "outputs": [
    {
     "name": "stdin",
     "output_type": "stream",
     "text": [
      "Lets Play random number guesser press y/n if you are ready: y\n",
      "Your guess : 5\n"
     ]
    },
    {
     "name": "stdout",
     "output_type": "stream",
     "text": [
      "Wrong number! Guess again\n"
     ]
    },
    {
     "name": "stdin",
     "output_type": "stream",
     "text": [
      "Your guess : 1\n"
     ]
    },
    {
     "name": "stdout",
     "output_type": "stream",
     "text": [
      "Wrong number! Guess again\n"
     ]
    },
    {
     "name": "stdin",
     "output_type": "stream",
     "text": [
      "Your guess : 2\n"
     ]
    },
    {
     "name": "stdout",
     "output_type": "stream",
     "text": [
      "Wrong number! Guess again\n"
     ]
    },
    {
     "name": "stdin",
     "output_type": "stream",
     "text": [
      "Your guess : 3\n"
     ]
    },
    {
     "name": "stdout",
     "output_type": "stream",
     "text": [
      "Wrong number! Guess again\n"
     ]
    },
    {
     "name": "stdin",
     "output_type": "stream",
     "text": [
      "Your guess : 4\n"
     ]
    },
    {
     "name": "stdout",
     "output_type": "stream",
     "text": [
      "Wrong number! Guess again\n"
     ]
    },
    {
     "name": "stdin",
     "output_type": "stream",
     "text": [
      "Your guess : 6\n"
     ]
    },
    {
     "name": "stdout",
     "output_type": "stream",
     "text": [
      "Wrong number! Guess again\n"
     ]
    },
    {
     "name": "stdin",
     "output_type": "stream",
     "text": [
      "Your guess : 7\n"
     ]
    },
    {
     "name": "stdout",
     "output_type": "stream",
     "text": [
      "Wrong number! Guess again\n"
     ]
    },
    {
     "name": "stdin",
     "output_type": "stream",
     "text": [
      "Your guess : 9\n"
     ]
    },
    {
     "name": "stdout",
     "output_type": "stream",
     "text": [
      "Wrong number! Guess again\n"
     ]
    },
    {
     "name": "stdin",
     "output_type": "stream",
     "text": [
      "Your guess : 8\n"
     ]
    },
    {
     "name": "stdout",
     "output_type": "stream",
     "text": [
      "Wrong number! Guess again\n"
     ]
    },
    {
     "name": "stdin",
     "output_type": "stream",
     "text": [
      "Your guess : 10\n"
     ]
    },
    {
     "name": "stdout",
     "output_type": "stream",
     "text": [
      "You have won !\n"
     ]
    },
    {
     "name": "stdin",
     "output_type": "stream",
     "text": [
      "Want to play again y/n : n\n"
     ]
    }
   ],
   "source": [
    "number=num_gen()\n",
    "guess(number)"
   ]
  },
  {
   "cell_type": "code",
   "execution_count": null,
   "id": "27e0736f-a00e-463c-9ef1-9db2f267ee98",
   "metadata": {},
   "outputs": [],
   "source": [
    "\n",
    "import random\n",
    "answers = ['It is certain', 'It is decidedly so', 'Without a doubt', 'Yes – definitely', 'You may rely on it', 'As I see it, yes', 'Most likely', 'Outlook good', 'Yes Signs point to yes', 'Reply hazy', 'try again', 'Ask again later', 'Better not tell you now', 'Cannot predict now', 'Concentrate and ask again', 'Dont count on it', 'My reply is no', 'My sources say no', 'Outlook not so good', 'Very doubtful']\n",
    "print('Hello World, I am the Magic 8 Ball, What is your name?')\n",
    "name = input()\n",
    "print('hello ' + name)\n",
    "\n",
    "\n",
    "def Magic8Ball():\n",
    "    print('Ask me a question.')\n",
    "    input()\n",
    "    print (answers[random.randint(0, len(answers)-1)] )\n",
    "    print('I hope that helped!')\n",
    "    Replay()\n",
    "    \n",
    "\n",
    "def Replay():\n",
    "    print ('Do you have another question? [Y/N] ')\n",
    "    reply = input()\n",
    "    if reply == 'Y':\n",
    "        Magic8Ball()\n",
    "    elif reply == 'N':\n",
    "        exit()\n",
    "    else:\n",
    "        print('I apologies, I did not catch that. Please repeat.')\n",
    "        Replay()\n",
    "\n",
    "\t\t\n",
    "Magic8Ball()\n"
   ]
  },
  {
   "cell_type": "code",
   "execution_count": 2,
   "id": "3cc0210f-99f7-47a1-b14c-52baecdb1895",
   "metadata": {},
   "outputs": [
    {
     "name": "stdout",
     "output_type": "stream",
     "text": [
      "[[200, 1230], [15, 2200], [5550]]\n"
     ]
    }
   ],
   "source": [
    "class Slicer(object):\n",
    "    @staticmethod\n",
    "    def cut(list_data, amount):\n",
    "        slices_list, temp_slices = [], []\n",
    "        for x in range(1, len(list_data)+1):\n",
    "            temp_slices.append(list_data[x-1])\n",
    "            if x % amount == 0 or x == len(list_data):\n",
    "                slices_list.append(temp_slices)\n",
    "                temp_slices = []\n",
    "        return slices_list\n",
    "#My list data\n",
    "data = [\n",
    "    200, 1230, 15, 2200, 5550\n",
    "]\n",
    "#2 is amount to split\n",
    "data_slice = Slicer.cut(data, 2)\n",
    "print(data_slice)"
   ]
  },
  {
   "cell_type": "code",
   "execution_count": null,
   "id": "9171bd40-4f8f-4653-994e-77ca14c1cb71",
   "metadata": {},
   "outputs": [],
   "source": []
  },
  {
   "cell_type": "code",
   "execution_count": null,
   "id": "684940fc-fb76-4324-8473-67b8d6c87cc3",
   "metadata": {},
   "outputs": [],
   "source": []
  }
 ],
 "metadata": {
  "kernelspec": {
   "display_name": "Python 3 (ipykernel)",
   "language": "python",
   "name": "python3"
  },
  "language_info": {
   "codemirror_mode": {
    "name": "ipython",
    "version": 3
   },
   "file_extension": ".py",
   "mimetype": "text/x-python",
   "name": "python",
   "nbconvert_exporter": "python",
   "pygments_lexer": "ipython3",
   "version": "3.12.7"
  }
 },
 "nbformat": 4,
 "nbformat_minor": 5
}
