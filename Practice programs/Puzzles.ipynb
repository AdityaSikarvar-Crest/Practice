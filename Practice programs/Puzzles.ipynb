{
 "cells": [
  {
   "cell_type": "markdown",
   "id": "8344f719-2dbb-44ed-be3c-c118e48f7017",
   "metadata": {},
   "source": [
    "## Python Programming Puzzles"
   ]
  },
  {
   "cell_type": "code",
   "execution_count": 1,
   "id": "1b32ae62-1d18-49a7-b3fd-3986a57b82d8",
   "metadata": {},
   "outputs": [],
   "source": [
    "# Check Nineteen and Five Occurrences\n",
    "# Write a Python program to find a list of integers with exactly two occurrences of nineteen and at least three occurrences of five.\n",
    "# Return True otherwise False.\n",
    "# Input:\n",
    "# [19, 19, 15, 5, 3, 5, 5, 2]"
   ]
  },
  {
   "cell_type": "code",
   "execution_count": 5,
   "id": "0446b08c-e94b-43d7-b12d-01814487a1dd",
   "metadata": {},
   "outputs": [],
   "source": [
    "from collections import Counter \n",
    "def checkoccr(list1):\n",
    "\n",
    "    cnt=Counter(list1)\n",
    "    if cnt[19]==2 and cnt[5]>=3:\n",
    "        return True\n",
    "    else:\n",
    "        return False\n"
   ]
  },
  {
   "cell_type": "code",
   "execution_count": 11,
   "id": "98194524-646d-4914-828d-2d4f05f5ff71",
   "metadata": {},
   "outputs": [
    {
     "data": {
      "text/plain": [
       "True"
      ]
     },
     "execution_count": 11,
     "metadata": {},
     "output_type": "execute_result"
    }
   ],
   "source": [
    "list1=[19, 19, 15, 5, 3, 5, 5, 2]\n",
    "checkoccr(list1)"
   ]
  },
  {
   "cell_type": "code",
   "execution_count": 12,
   "id": "dff9dcbc-e918-45aa-9f84-d78fdf2a7a50",
   "metadata": {},
   "outputs": [],
   "source": [
    "# 38. Sort by Digit Sum\n",
    "# Write a Python program to sort the numbers in a given list by the sum of their digits.\n",
    "# Input: [10, 11, 12, 13, 14, 15, 16, 17, 18, 19, 20]"
   ]
  },
  {
   "cell_type": "code",
   "execution_count": 64,
   "id": "7ecd98e6-cbb2-440e-91fc-60d5f268c2ca",
   "metadata": {},
   "outputs": [
    {
     "name": "stdout",
     "output_type": "stream",
     "text": [
      "list is : [ 10 , 11 , 20 , 12 , 13 , 14 , 15 , 16 , 17 , 18 , 19 , ]\n"
     ]
    }
   ],
   "source": [
    "def sortbysum(list1):\n",
    "    dict1={x:((x//10)%10 + x%10) for x in list1}\n",
    "    l=(sorted(dict1.items(), key=lambda item: item[1]))\n",
    "    print(\"list is : [\",end=\" \")\n",
    "    for i in l:\n",
    "        print( i[0],end=\" , \")\n",
    "    print(\"]\")\n",
    "\n",
    "list1=[10, 11, 12, 13, 14, 15, 16, 17, 18, 19, 20]\n",
    "sortbysum(list1)"
   ]
  },
  {
   "cell_type": "code",
   "execution_count": null,
   "id": "2026b604-60bf-4a57-8ec1-77cb8466a084",
   "metadata": {},
   "outputs": [],
   "source": []
  }
 ],
 "metadata": {
  "kernelspec": {
   "display_name": "Python 3 (ipykernel)",
   "language": "python",
   "name": "python3"
  },
  "language_info": {
   "codemirror_mode": {
    "name": "ipython",
    "version": 3
   },
   "file_extension": ".py",
   "mimetype": "text/x-python",
   "name": "python",
   "nbconvert_exporter": "python",
   "pygments_lexer": "ipython3",
   "version": "3.12.7"
  }
 },
 "nbformat": 4,
 "nbformat_minor": 5
}
