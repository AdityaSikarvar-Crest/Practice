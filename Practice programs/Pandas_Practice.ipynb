{
 "cells": [
  {
   "cell_type": "code",
   "execution_count": 1,
   "id": "8ed70c9d-d35d-4524-8c15-e2d723183e7f",
   "metadata": {},
   "outputs": [],
   "source": [
    "import pandas as pd "
   ]
  },
  {
   "cell_type": "markdown",
   "id": "8357181f-7041-443a-895b-b9be52317fc7",
   "metadata": {},
   "source": [
    "### Creating data frames"
   ]
  },
  {
   "cell_type": "code",
   "execution_count": 12,
   "id": "8bbe67a6-4e98-4b1e-9c26-9e9cfb2f342e",
   "metadata": {},
   "outputs": [
    {
     "name": "stdout",
     "output_type": "stream",
     "text": [
      "  First Second\n",
      "1     a      b\n",
      "2     c      d\n"
     ]
    }
   ],
   "source": [
    "df=pd.DataFrame({\"First\":[\"a\",\"c\"],\"Second\":[\"b\",\"d\"]})\n",
    "df.index=[\"1\",\"2\"]\n",
    "print(df)"
   ]
  },
  {
   "cell_type": "markdown",
   "id": "cb80db7a-9ded-4844-ae83-27dd98f6df45",
   "metadata": {},
   "source": [
    "### Creating series "
   ]
  },
  {
   "cell_type": "code",
   "execution_count": 26,
   "id": "6bfa1ec8-5de0-4ac4-a73b-491a6ee09813",
   "metadata": {},
   "outputs": [
    {
     "name": "stdout",
     "output_type": "stream",
     "text": [
      "1\n",
      "a    1\n",
      "b    2\n",
      "c    3\n",
      "dtype: int64\n"
     ]
    },
    {
     "data": {
      "text/plain": [
       "(3,)"
      ]
     },
     "execution_count": 26,
     "metadata": {},
     "output_type": "execute_result"
    }
   ],
   "source": [
    "s=pd.Series([1,2,3])\n",
    "s.index=[\"a\",\"b\",\"c\"]\n",
    "print(s[\"a\"])\n",
    "print(s)"
   ]
  },
  {
   "cell_type": "code",
   "execution_count": 28,
   "id": "1578fdfb-4e13-4208-a5d4-9ed08f4d1555",
   "metadata": {},
   "outputs": [
    {
     "name": "stdout",
     "output_type": "stream",
     "text": [
      "           First Second\n",
      "2025-01-30     a      b\n",
      "2025-01-31     c      d\n",
      "Number of rows in df is : 2\n"
     ]
    }
   ],
   "source": [
    "df.index=pd.date_range(\"2025-01-30\",periods=2)\n",
    "print(df)\n",
    "print(\"Number of rows in df is :\",df.shape[0])"
   ]
  },
  {
   "cell_type": "markdown",
   "id": "0d24f4a0-3498-4086-8b5b-4103d89cc460",
   "metadata": {},
   "source": [
    "### Viewing/Inspecting Data"
   ]
  },
  {
   "cell_type": "code",
   "execution_count": 33,
   "id": "b7afe081-f4dc-4c9b-afb9-65d5b809c698",
   "metadata": {},
   "outputs": [
    {
     "name": "stdout",
     "output_type": "stream",
     "text": [
      "           First Second\n",
      "2025-01-30     a      b\n",
      "2025-01-31     c      d\n",
      "\n",
      "            First Second\n",
      "2025-01-30     a      b\n",
      "2025-01-31     c      d\n",
      "\n",
      " (2, 2)\n",
      "<class 'pandas.core.frame.DataFrame'>\n",
      "DatetimeIndex: 2 entries, 2025-01-30 to 2025-01-31\n",
      "Freq: D\n",
      "Data columns (total 2 columns):\n",
      " #   Column  Non-Null Count  Dtype \n",
      "---  ------  --------------  ----- \n",
      " 0   First   2 non-null      object\n",
      " 1   Second  2 non-null      object\n",
      "dtypes: object(2)\n",
      "memory usage: 48.0+ bytes\n",
      "\n",
      " None\n",
      "\n",
      " <bound method IndexOpsMixin.value_counts of a    1\n",
      "b    2\n",
      "c    3\n",
      "dtype: int64>\n"
     ]
    }
   ],
   "source": [
    "print(df.head()) # Reads first 5 lines of data frame\n",
    "print(\"\\n\",df.tail()) # Reads last 5 lines of data drame\n",
    "print(\"\\n\",df.shape) # Gives the shape of the database \n",
    "print(\"\\n\",df.info()) # Provides info about the data frame\n",
    "print(\"\\n\",s.value_counts) # Provides unique value counts "
   ]
  },
  {
   "cell_type": "markdown",
   "id": "f6356fdb-d977-444a-b6df-bbd1b6ebe2fe",
   "metadata": {},
   "source": [
    "### Selection"
   ]
  },
  {
   "cell_type": "code",
   "execution_count": 67,
   "id": "f7c60c5c-46b0-4846-8f19-b51a732ac5d9",
   "metadata": {},
   "outputs": [
    {
     "name": "stdout",
     "output_type": "stream",
     "text": [
      "    X   Y   Z\n",
      "0  78  84  86\n",
      "1  85  94  97\n",
      "2  96  89  96\n",
      "3  80  83  72\n",
      "4  86  86  83\n",
      "Getting element column wise :\n",
      " 0    78\n",
      "1    85\n",
      "2    96\n",
      "3    80\n",
      "4    86\n",
      "Name: X, dtype: int64\n",
      "Getting element row wise :\n",
      " X    85\n",
      "Y    94\n",
      "Z    97\n",
      "Name: 1, dtype: int64\n",
      "Get elements rowsie with named index :\n",
      " X    85\n",
      "Y    94\n",
      "Z    97\n",
      "Name: 1, dtype: int64\n",
      "Get specific element row wise :\n",
      " 85\n"
     ]
    }
   ],
   "source": [
    "df = pd.DataFrame({'X':[78,85,96,80,86], 'Y':[84,94,89,83,86],'Z':[86,97,96,72,83]});\n",
    "print(df)\n",
    "print(\"Getting element column wise :\\n\",df[\"X\"]) # Returns special column values \n",
    "print (\"Getting element row wise :\\n\",df.iloc[1]) # To get a specific row out of dataframe\n",
    "print(\"Get elements rowsie with named index :\\n\",df.loc[1]) # Gets the specific row only but now by the name of index thus name of index can be any data type\n",
    "print(\"Get specific element row wise :\\n\",df.iloc[1,0])"
   ]
  },
  {
   "cell_type": "markdown",
   "id": "be203608-c48e-4169-a80c-b92ea80cc10e",
   "metadata": {},
   "source": [
    "### Data Cleaning"
   ]
  },
  {
   "cell_type": "code",
   "execution_count": 61,
   "id": "5d6739e6-0382-4de7-9467-4a6fe1bc241b",
   "metadata": {},
   "outputs": [
    {
     "name": "stdout",
     "output_type": "stream",
     "text": [
      "    A   B   C\n",
      "0  78  84  86\n",
      "1  85  94  97\n",
      "2  96  89  96\n",
      "3  80  83  72\n",
      "4  86  86  83\n"
     ]
    }
   ],
   "source": [
    "df.columns=[\"A\",\"B\",\"C\"]\n",
    "print(df)"
   ]
  },
  {
   "cell_type": "code",
   "execution_count": 48,
   "id": "a2257770-60b2-4a03-a364-0eb603477a62",
   "metadata": {},
   "outputs": [
    {
     "name": "stdout",
     "output_type": "stream",
     "text": [
      "       A      B      C\n",
      "0  False  False  False\n",
      "1  False  False  False\n",
      "2  False  False  False\n",
      "3  False  False  False\n",
      "4  False  False  False\n",
      "       A      B      C\n",
      "0  False  False  False\n",
      "1  False  False  False\n",
      "2  False  False  False\n",
      "3  False  False  False\n",
      "4  False  False  False\n"
     ]
    }
   ],
   "source": [
    "print(pd.isnull(df))\n",
    "print(pd.isna(df))"
   ]
  },
  {
   "cell_type": "code",
   "execution_count": 68,
   "id": "5f5708bd-b630-47ce-a1e5-21c94fff8e7a",
   "metadata": {},
   "outputs": [
    {
     "name": "stdout",
     "output_type": "stream",
     "text": [
      "    X   Y   Z\n",
      "0  78  84  86\n",
      "1  85  94  97\n",
      "2  96  89  96\n",
      "3  80  83  72\n",
      "4  86  86  83\n",
      "    X   Y   Z\n",
      "0  78  84  86\n",
      "1  85  94  97\n",
      "2  96  89  96\n",
      "3  80  83  72\n",
      "4  86  86  83\n"
     ]
    }
   ],
   "source": [
    "df.dropna() # Drop all rows that contain null values\n",
    "# df.drop_duplicates() # Drop all rows that contain duplicate values\n",
    "print(df)\n",
    "x=df.drop_duplicates() # Drop all rows that contain duplicate values and if you specify the column checks that column only for duplicates\n",
    "print(x)"
   ]
  },
  {
   "cell_type": "code",
   "execution_count": 70,
   "id": "da870924-e94b-4081-a034-b7a008340ed7",
   "metadata": {},
   "outputs": [
    {
     "name": "stdout",
     "output_type": "stream",
     "text": [
      "      Name  Age\n",
      "0    Alice   25\n",
      "1      Bob   30\n",
      "3  Charlie   35\n",
      "      Name  Age\n",
      "2    Alice   25\n",
      "3  Charlie   35\n",
      "4      Bob   30\n"
     ]
    }
   ],
   "source": [
    "import pandas as pd\n",
    "data = {'Name': ['Alice', 'Bob', 'Alice', 'Charlie', 'Bob'],\n",
    "        'Age': [25, 30, 25, 35, 30]}\n",
    "df = pd.DataFrame(data)\n",
    "# Removing duplicates (keeps first occurrence)\n",
    "df_unique = df.drop_duplicates()\n",
    "df_unique2 = df.drop_duplicates(keep=\"last\")\n",
    "print(df_unique)\n",
    "print(df_unique2)"
   ]
  },
  {
   "cell_type": "markdown",
   "id": "ac98a8ea-ee3f-4b7e-9ecf-197cacb52ad3",
   "metadata": {},
   "source": [
    "### Read and Write Data"
   ]
  },
  {
   "cell_type": "code",
   "execution_count": 116,
   "id": "162d284e-3cbe-4b9a-b09a-e40ae87adb9d",
   "metadata": {},
   "outputs": [],
   "source": [
    "df = pd.read_csv(\"test.csv\")  # Read CSV file\n",
    "df.index=[\"A\",\"B\"]\n",
    "df.columns=[\"first\",\"second\",\"third\",\"fourth\"]\n",
    "df.to_csv(\"test.csv\",index=False)"
   ]
  },
  {
   "cell_type": "code",
   "execution_count": 117,
   "id": "7c47cbca-9886-4f67-810b-824a0e5aa934",
   "metadata": {},
   "outputs": [
    {
     "data": {
      "text/plain": [
       "first     A\n",
       "second    d\n",
       "third     e\n",
       "fourth    f\n",
       "Name: A, dtype: object"
      ]
     },
     "execution_count": 117,
     "metadata": {},
     "output_type": "execute_result"
    }
   ],
   "source": [
    "df.loc[\"A\"]\n",
    "# Ignore warning"
   ]
  },
  {
   "cell_type": "code",
   "execution_count": 118,
   "id": "a2574100-ea07-41cd-8f74-98d1e8ca721d",
   "metadata": {},
   "outputs": [
    {
     "data": {
      "text/html": [
       "<div>\n",
       "<style scoped>\n",
       "    .dataframe tbody tr th:only-of-type {\n",
       "        vertical-align: middle;\n",
       "    }\n",
       "\n",
       "    .dataframe tbody tr th {\n",
       "        vertical-align: top;\n",
       "    }\n",
       "\n",
       "    .dataframe thead th {\n",
       "        text-align: right;\n",
       "    }\n",
       "</style>\n",
       "<table border=\"1\" class=\"dataframe\">\n",
       "  <thead>\n",
       "    <tr style=\"text-align: right;\">\n",
       "      <th></th>\n",
       "      <th>first</th>\n",
       "      <th>second</th>\n",
       "      <th>third</th>\n",
       "      <th>fourth</th>\n",
       "    </tr>\n",
       "  </thead>\n",
       "  <tbody>\n",
       "    <tr>\n",
       "      <th>A</th>\n",
       "      <td>A</td>\n",
       "      <td>d</td>\n",
       "      <td>e</td>\n",
       "      <td>f</td>\n",
       "    </tr>\n",
       "    <tr>\n",
       "      <th>B</th>\n",
       "      <td>B</td>\n",
       "      <td>g</td>\n",
       "      <td>h</td>\n",
       "      <td>i</td>\n",
       "    </tr>\n",
       "  </tbody>\n",
       "</table>\n",
       "</div>"
      ],
      "text/plain": [
       "  first second third fourth\n",
       "A     A      d     e      f\n",
       "B     B      g     h      i"
      ]
     },
     "execution_count": 118,
     "metadata": {},
     "output_type": "execute_result"
    }
   ],
   "source": [
    "df"
   ]
  },
  {
   "cell_type": "code",
   "execution_count": 143,
   "id": "9ec2be5e-65ab-4f3f-a0b7-dbb09d6bdeb6",
   "metadata": {},
   "outputs": [
    {
     "name": "stdout",
     "output_type": "stream",
     "text": [
      "      Name  Age\n",
      "0    Alice   25\n",
      "2    Alice   25\n",
      "1      Bob   30\n",
      "4      Bob   30\n",
      "3  Charlie   35\n",
      "      Name  Age\n",
      "0    Alice   25\n",
      "2    Alice   25\n",
      "1      Bob   30\n",
      "4      Bob   30\n",
      "3  Charlie   35\n"
     ]
    }
   ],
   "source": [
    "data = {'Name': ['Alice', 'Bob', 'Alice', 'Charlie', 'Bob'],\n",
    "        'Age': [25, 30, 25, 35, 30]}\n",
    "df = pd.DataFrame(data)\n",
    "df.loc[df['Name'] == 'Bob', 'Age'][1]= 35 \n",
    "print(df.sort_values(by=\"Age\"))\n",
    "print(df.sort_values(by=\"Name\"))"
   ]
  },
  {
   "cell_type": "code",
   "execution_count": 158,
   "id": "c9195ddc-c3f3-49cf-8bb3-2bea980219f3",
   "metadata": {},
   "outputs": [
    {
     "name": "stdout",
     "output_type": "stream",
     "text": [
      "      Name  Age\n",
      "0    Alice   25\n",
      "1      Bob   35\n",
      "2    Alice   25\n",
      "3  Charlie   35\n",
      "4      Bob   30\n"
     ]
    }
   ],
   "source": [
    "import pandas as pd\n",
    "\n",
    "data = {'Name': ['Alice', 'Bob', 'Alice', 'Charlie', 'Bob'],\n",
    "        'Age': [25, 30, 25, 35, 30]}\n",
    "\n",
    "df = pd.DataFrame(data)\n",
    "\n",
    "# Find the index of the first occurrence of 'Bob'\n",
    "first_bob_index = df[df['Name'] == 'Bob'].index[0]\n",
    "\n",
    "# Update the 'Age' for the first \"Bob\"\n",
    "df.loc[first_bob_index, 'Age'] = 35\n",
    "\n",
    "print(df)\n"
   ]
  },
  {
   "cell_type": "code",
   "execution_count": 141,
   "id": "a35d9a42-a342-48e2-9fb8-6e07a8daf7a2",
   "metadata": {},
   "outputs": [
    {
     "data": {
      "text/plain": [
       "Name    Bob\n",
       "Age      30\n",
       "Name: 1, dtype: object"
      ]
     },
     "execution_count": 141,
     "metadata": {},
     "output_type": "execute_result"
    }
   ],
   "source": [
    "first_bob_index = df[df['Name'] == 'Bob']\n",
    "first_bob_index.iloc[0]"
   ]
  },
  {
   "cell_type": "code",
   "execution_count": 157,
   "id": "4f25d99b-3959-46d1-af97-7968f878df64",
   "metadata": {},
   "outputs": [
    {
     "name": "stdout",
     "output_type": "stream",
     "text": [
      "   First  Second\n",
      "0      1       4\n",
      "1      2       5\n",
      "2      3       6\n",
      "Indexing answer :  2\n"
     ]
    }
   ],
   "source": [
    "df=pd.DataFrame({\"First\":[1,2,3],\"Second\":[4,5,6]})\n",
    "print(df)\n",
    "print(\"Indexing answer : \",df.loc[1,\"First\"])"
   ]
  },
  {
   "cell_type": "code",
   "execution_count": 168,
   "id": "d242e6c8-ab3b-42d1-9ea3-2d2411d6e70f",
   "metadata": {},
   "outputs": [
    {
     "name": "stdout",
     "output_type": "stream",
     "text": [
      "      Name  Age\n",
      "0    Alice   25\n",
      "1      Bob   35\n",
      "2    Alice   25\n",
      "3  Charlie   35\n",
      "4      Bob   30\n",
      "Bob\n",
      "Charlie\n"
     ]
    }
   ],
   "source": [
    "print(df)\n",
    "print(df.at[1,\"Name\"]) # Accessing single element and first is index and then is column name  \n",
    "print(df.iat[3,0]) # Accessing single element and both position is index "
   ]
  },
  {
   "cell_type": "markdown",
   "id": "7e4d9709-25e2-425b-a290-693febfa8fba",
   "metadata": {},
   "source": [
    "# Series "
   ]
  },
  {
   "cell_type": "code",
   "execution_count": 170,
   "id": "f69f44c1-0780-4252-953b-ca6b30c3c0e0",
   "metadata": {},
   "outputs": [
    {
     "name": "stdout",
     "output_type": "stream",
     "text": [
      "a    1\n",
      "b    2\n",
      "c    3\n",
      "d    4\n",
      "dtype: int64\n"
     ]
    }
   ],
   "source": [
    "# Creating a simple series \n",
    "import pandas as pd \n",
    "s=pd.Series([1,2,3,4],index=[\"a\",\"b\",\"c\",\"d\"])\n",
    "print(s)"
   ]
  },
  {
   "cell_type": "code",
   "execution_count": 174,
   "id": "67b6bfea-890c-4fed-ac05-185c310d7118",
   "metadata": {},
   "outputs": [
    {
     "name": "stdout",
     "output_type": "stream",
     "text": [
      "[1, 2, 3, 4]\n"
     ]
    }
   ],
   "source": [
    "print(s.tolist())"
   ]
  },
  {
   "cell_type": "code",
   "execution_count": 183,
   "id": "8e898eba-67b2-4120-acb1-e8ea39b7a863",
   "metadata": {},
   "outputs": [
    {
     "name": "stdout",
     "output_type": "stream",
     "text": [
      "Divide Series1 by Series2:\n",
      "0     4\n",
      "1     7\n",
      "2    11\n",
      "3    15\n",
      "4    20\n",
      "dtype: int64\n",
      "0    False\n",
      "1     True\n",
      "2     True\n",
      "3     True\n",
      "4    False\n",
      "dtype: bool\n"
     ]
    }
   ],
   "source": [
    "ds1 = pd.Series([2, 4, 6, 8, 10])\n",
    "ds2 = pd.Series([2, 3, 5, 7, 10])\n",
    "print(\"Divide Series1 by Series2:\")\n",
    "ds = ds1+ds2\n",
    "print(ds)\n",
    "print(ds1>ds2)"
   ]
  },
  {
   "cell_type": "code",
   "execution_count": 191,
   "id": "ee373216-fd81-4283-bd6b-9482fe8987db",
   "metadata": {},
   "outputs": [
    {
     "name": "stdout",
     "output_type": "stream",
     "text": [
      "0    100.00\n",
      "1    200.00\n",
      "2       NaN\n",
      "3    300.12\n",
      "4    400.00\n",
      "dtype: float64\n"
     ]
    }
   ],
   "source": [
    "s1 = pd.Series(['100', '200', 'python', '300.12', '400'])\n",
    "s2 = pd.to_numeric(s1,errors=\"coerce\")\n",
    "print(s2)"
   ]
  },
  {
   "cell_type": "code",
   "execution_count": 192,
   "id": "006063a0-db05-4104-97aa-369613052c1d",
   "metadata": {},
   "outputs": [
    {
     "name": "stdout",
     "output_type": "stream",
     "text": [
      "0      Alice\n",
      "1        Bob\n",
      "2      Alice\n",
      "3    Charlie\n",
      "4        Bob\n",
      "Name: Name, dtype: object\n"
     ]
    }
   ],
   "source": [
    "# Creating a series from a data frame \n",
    "s1=df.iloc[:,0]\n",
    "print(s1)"
   ]
  },
  {
   "cell_type": "code",
   "execution_count": 204,
   "id": "5457c884-b355-443f-9b2a-daac05c03352",
   "metadata": {},
   "outputs": [
    {
     "name": "stdout",
     "output_type": "stream",
     "text": [
      "Original Data Series:\n",
      "0       100\n",
      "1       200\n",
      "2    python\n",
      "3    300.12\n",
      "4       400\n",
      "dtype: object\n",
      "\n",
      "Data Series after adding some data:\n",
      "0       100\n",
      "1       200\n",
      "2    python\n",
      "3    300.12\n",
      "4       400\n",
      "5       500\n",
      "6       php\n",
      "dtype: object\n"
     ]
    }
   ],
   "source": [
    "import pandas as pd\n",
    "s = pd.Series([100, '200', 'python', '300.12', '400'])\n",
    "print(\"Original Data Series:\")\n",
    "print(s)\n",
    "print(\"\\nData Series after adding some data:\")\n",
    "new_s = pd.concat([s, pd.Series([500, \"php\"])], ignore_index=True)\n",
    "print(new_s)"
   ]
  },
  {
   "cell_type": "code",
   "execution_count": 197,
   "id": "7a952cc4-82c0-465e-8815-0bbf1254ebf2",
   "metadata": {},
   "outputs": [
    {
     "name": "stdout",
     "output_type": "stream",
     "text": [
      "Original Series:\n",
      "0    0\n",
      "1    1\n",
      "2    2\n",
      "3    3\n",
      "4    4\n",
      "5    5\n",
      "6    6\n",
      "7    7\n",
      "8    8\n",
      "9    9\n",
      "dtype: int64\n",
      "0    p\n",
      "1    q\n",
      "2    r\n",
      "3    s\n",
      "4    t\n",
      "5    u\n",
      "6    v\n",
      "7    w\n",
      "8    x\n",
      "9    y\n",
      "dtype: object\n",
      "\n",
      "Stack two given series vertically \n",
      "0    0\n",
      "1    1\n",
      "2    2\n",
      "3    3\n",
      "4    4\n",
      "5    5\n",
      "6    6\n",
      "7    7\n",
      "8    8\n",
      "9    9\n",
      "0    p\n",
      "1    q\n",
      "2    r\n",
      "3    s\n",
      "4    t\n",
      "5    u\n",
      "6    v\n",
      "7    w\n",
      "8    x\n",
      "9    y\n",
      "dtype: object\n",
      "\n",
      "Stack two given series horizontally:\n",
      "   0  1\n",
      "0  0  p\n",
      "1  1  q\n",
      "2  2  r\n",
      "3  3  s\n",
      "4  4  t\n",
      "5  5  u\n",
      "6  6  v\n",
      "7  7  w\n",
      "8  8  x\n",
      "9  9  y\n"
     ]
    }
   ],
   "source": [
    "import pandas as pd\n",
    "series1 = pd.Series(range(10))\n",
    "series2 = pd.Series(list('pqrstuvwxy'))\n",
    "print(\"Original Series:\")\n",
    "print(series1)\n",
    "print(series2)\n",
    "df = pd.concat([series1, series2], axis=0)\n",
    "print(\"\\nStack two given series vertically \")\n",
    "print(df)\n",
    "df = pd.concat([series1, series2], axis=1)\n",
    "print(\"\\nStack two given series horizontally:\")\n",
    "print(df)"
   ]
  },
  {
   "cell_type": "code",
   "execution_count": 209,
   "id": "307652a0-784d-4755-8fc0-945bf5aeffbd",
   "metadata": {},
   "outputs": [
    {
     "name": "stdout",
     "output_type": "stream",
     "text": [
      "<class 'int'>\n"
     ]
    }
   ],
   "source": [
    "s.str.contains('python')\n",
    "s.str.upper()\n",
    "print(type(s[0]))"
   ]
  },
  {
   "cell_type": "code",
   "execution_count": 215,
   "id": "d1e6a428-6c60-436b-9114-81aef55483f0",
   "metadata": {},
   "outputs": [
    {
     "data": {
      "text/plain": [
       "2"
      ]
     },
     "execution_count": 215,
     "metadata": {},
     "output_type": "execute_result"
    }
   ],
   "source": [
    "s=pd.Series([1,2,[3,4]])\n",
    "y=s.explode()\n",
    "y[1]"
   ]
  },
  {
   "cell_type": "markdown",
   "id": "7f65a649-54b7-4891-9b7c-ead50cbc08d5",
   "metadata": {},
   "source": [
    "# Data Frame "
   ]
  },
  {
   "cell_type": "markdown",
   "id": "3754a114-bf7a-4900-b144-14213d6dc149",
   "metadata": {},
   "source": [
    "### Convert the datatype of a given column(floats to ints)"
   ]
  },
  {
   "cell_type": "code",
   "execution_count": 15,
   "id": "d53a6893-b450-48d6-8d3c-359bc5cea3cc",
   "metadata": {},
   "outputs": [
    {
     "name": "stdout",
     "output_type": "stream",
     "text": [
      "        name  score  attempts qualify\n",
      "0  Anastasia  12.50         1     yes\n",
      "1       Dima   9.10         3      no\n",
      "2  Katherine  16.50         2     yes\n",
      "3      James  12.77         3      no\n",
      "4      Emily   9.21         2      no\n",
      "5    Michael  20.22         3     yes\n",
      "6    Matthew  14.50         1     yes\n",
      "7      Laura  11.34         1      no\n",
      "8      Kevin   8.80         2      no\n",
      "9      Jonas  19.13         1     yes\n",
      "        name  score  attempts qualify\n",
      "0  Anastasia     12         1     yes\n",
      "1       Dima      9         3      no\n",
      "2  Katherine     16         2     yes\n",
      "3      James     12         3      no\n",
      "4      Emily      9         2      no\n",
      "5    Michael     20         3     yes\n",
      "6    Matthew     14         1     yes\n",
      "7      Laura     11         1      no\n",
      "8      Kevin      8         2      no\n",
      "9      Jonas     19         1     yes\n"
     ]
    }
   ],
   "source": [
    "exam_data = {'name': ['Anastasia', 'Dima', 'Katherine', 'James', 'Emily', 'Michael', 'Matthew', 'Laura', 'Kevin', 'Jonas'],\n",
    "        'score': [12.5, 9.1, 16.5, 12.77, 9.21, 20.22, 14.5, 11.34, 8.8, 19.13],\n",
    "        'attempts': [1, 3, 2, 3, 2, 3, 1, 1, 2, 1],\n",
    "        'qualify': ['yes', 'no', 'yes', 'no', 'no', 'yes', 'yes', 'no', 'no', 'yes']}\n",
    "df = pd.DataFrame(exam_data)\n",
    "print(df)\n",
    "df[\"score\"]=df[\"score\"].astype(int)\n",
    "print(df)"
   ]
  },
  {
   "cell_type": "markdown",
   "id": "cd98a2fc-7f7f-420e-95e3-4de2f937faad",
   "metadata": {},
   "source": [
    " ### Write a Pandas program to select columns by data type of a given DataFrame."
   ]
  },
  {
   "cell_type": "code",
   "execution_count": 17,
   "id": "eeeb8b00-65a3-43e3-916d-596388da531d",
   "metadata": {},
   "outputs": [
    {
     "name": "stdout",
     "output_type": "stream",
     "text": [
      "        name\n",
      "0  Anastasia\n",
      "1       Dima\n",
      "2  Katherine\n",
      "3      James\n",
      "4      Emily\n",
      "5    Michael\n",
      "6    Matthew\n",
      "7      Laura\n",
      "8      Kevin\n",
      "9      Jonas\n"
     ]
    }
   ],
   "source": [
    "print(df.select_dtypes(include=\"object\"))\n",
    "df[\"qualify\"]=df[\"qualify\"].replace({\"yes\":True,\"no\":False}).astype(bool)"
   ]
  },
  {
   "cell_type": "code",
   "execution_count": 263,
   "id": "a2317eba-1e84-4449-a6be-db38a6ed9ab4",
   "metadata": {},
   "outputs": [
    {
     "name": "stdout",
     "output_type": "stream",
     "text": [
      "           score  attempts qualify\n",
      "name                              \n",
      "Anastasia     12         1     yes\n",
      "Dima           9         3      no\n",
      "Katherine     16         2     yes\n",
      "James         12         3      no\n",
      "Emily          9         2      no\n",
      "Michael       20         3     yes\n",
      "Matthew       14         1     yes\n",
      "Laura         11         1      no\n",
      "Kevin          8         2      no\n",
      "Jonas         19         1     yes\n"
     ]
    },
    {
     "data": {
      "text/plain": [
       "Index(['Katherine', 'Michael', 'Jonas'], dtype='object', name='name')"
      ]
     },
     "execution_count": 263,
     "metadata": {},
     "output_type": "execute_result"
    }
   ],
   "source": [
    "x=df.set_index(\"name\")\n",
    "print(x)\n",
    "# x.loc[x[\"score\"]>9,\"name\"]\n",
    "x.loc[x[\"score\"] > 14].index\n"
   ]
  },
  {
   "cell_type": "code",
   "execution_count": 240,
   "id": "a218fa84-574d-49ad-945c-5c74f037584f",
   "metadata": {},
   "outputs": [
    {
     "data": {
      "text/plain": [
       "{'name': ['Anastasia',\n",
       "  'Dima',\n",
       "  'Katherine',\n",
       "  'James',\n",
       "  'Emily',\n",
       "  'Michael',\n",
       "  'Matthew',\n",
       "  'Laura',\n",
       "  'Kevin',\n",
       "  'Jonas'],\n",
       " 'score': [12, 9, 16, 12, 9, 20, 14, 11, 8, 19],\n",
       " 'attempts': [1, 3, 2, 3, 2, 3, 1, 1, 2, 1],\n",
       " 'qualify': ['yes', 'no', 'yes', 'no', 'no', 'yes', 'yes', 'no', 'no', 'yes']}"
      ]
     },
     "execution_count": 240,
     "metadata": {},
     "output_type": "execute_result"
    }
   ],
   "source": [
    "x.reset_index().to_dict(\"list\")"
   ]
  },
  {
   "cell_type": "code",
   "execution_count": 264,
   "id": "f92db72a-46fa-4dc7-896c-e55d0dbf0405",
   "metadata": {},
   "outputs": [
    {
     "data": {
      "text/html": [
       "<div>\n",
       "<style scoped>\n",
       "    .dataframe tbody tr th:only-of-type {\n",
       "        vertical-align: middle;\n",
       "    }\n",
       "\n",
       "    .dataframe tbody tr th {\n",
       "        vertical-align: top;\n",
       "    }\n",
       "\n",
       "    .dataframe thead th {\n",
       "        text-align: right;\n",
       "    }\n",
       "</style>\n",
       "<table border=\"1\" class=\"dataframe\">\n",
       "  <thead>\n",
       "    <tr style=\"text-align: right;\">\n",
       "      <th></th>\n",
       "      <th></th>\n",
       "      <th>attempts</th>\n",
       "      <th>qualify</th>\n",
       "    </tr>\n",
       "    <tr>\n",
       "      <th>name</th>\n",
       "      <th>score</th>\n",
       "      <th></th>\n",
       "      <th></th>\n",
       "    </tr>\n",
       "  </thead>\n",
       "  <tbody>\n",
       "    <tr>\n",
       "      <th>Anastasia</th>\n",
       "      <th>12</th>\n",
       "      <td>1</td>\n",
       "      <td>yes</td>\n",
       "    </tr>\n",
       "    <tr>\n",
       "      <th>Dima</th>\n",
       "      <th>9</th>\n",
       "      <td>3</td>\n",
       "      <td>no</td>\n",
       "    </tr>\n",
       "    <tr>\n",
       "      <th>Katherine</th>\n",
       "      <th>16</th>\n",
       "      <td>2</td>\n",
       "      <td>yes</td>\n",
       "    </tr>\n",
       "    <tr>\n",
       "      <th>James</th>\n",
       "      <th>12</th>\n",
       "      <td>3</td>\n",
       "      <td>no</td>\n",
       "    </tr>\n",
       "    <tr>\n",
       "      <th>Emily</th>\n",
       "      <th>9</th>\n",
       "      <td>2</td>\n",
       "      <td>no</td>\n",
       "    </tr>\n",
       "    <tr>\n",
       "      <th>Michael</th>\n",
       "      <th>20</th>\n",
       "      <td>3</td>\n",
       "      <td>yes</td>\n",
       "    </tr>\n",
       "    <tr>\n",
       "      <th>Matthew</th>\n",
       "      <th>14</th>\n",
       "      <td>1</td>\n",
       "      <td>yes</td>\n",
       "    </tr>\n",
       "    <tr>\n",
       "      <th>Laura</th>\n",
       "      <th>11</th>\n",
       "      <td>1</td>\n",
       "      <td>no</td>\n",
       "    </tr>\n",
       "    <tr>\n",
       "      <th>Kevin</th>\n",
       "      <th>8</th>\n",
       "      <td>2</td>\n",
       "      <td>no</td>\n",
       "    </tr>\n",
       "    <tr>\n",
       "      <th>Jonas</th>\n",
       "      <th>19</th>\n",
       "      <td>1</td>\n",
       "      <td>yes</td>\n",
       "    </tr>\n",
       "  </tbody>\n",
       "</table>\n",
       "</div>"
      ],
      "text/plain": [
       "                 attempts qualify\n",
       "name      score                  \n",
       "Anastasia 12            1     yes\n",
       "Dima      9             3      no\n",
       "Katherine 16            2     yes\n",
       "James     12            3      no\n",
       "Emily     9             2      no\n",
       "Michael   20            3     yes\n",
       "Matthew   14            1     yes\n",
       "Laura     11            1      no\n",
       "Kevin     8             2      no\n",
       "Jonas     19            1     yes"
      ]
     },
     "execution_count": 264,
     "metadata": {},
     "output_type": "execute_result"
    }
   ],
   "source": [
    "x=df.set_index([\"name\",\"score\"])\n",
    "x"
   ]
  },
  {
   "cell_type": "code",
   "execution_count": 272,
   "id": "2d8ea99b-bd6c-4fc5-bd11-a9e3bb4ac7c8",
   "metadata": {},
   "outputs": [
    {
     "name": "stdout",
     "output_type": "stream",
     "text": [
      "      Sales\n",
      "Year       \n",
      "2020    200\n",
      "2021    220\n",
      "Sales    220\n",
      "Name: (USA, 2021), dtype: int64\n"
     ]
    }
   ],
   "source": [
    "# Multi indexing \n",
    "import pandas as pd\n",
    "arrays = [['USA', 'USA', 'Canada', 'Canada'],['2020', '2021', '2020', '2021']]\n",
    "index = pd.MultiIndex.from_arrays(arrays, names=('Country', 'Year'))\n",
    "data = {'Sales': [200, 220, 150, 180]}\n",
    "df = pd.DataFrame(data, index=index)\n",
    "print(df.loc['USA'])  # All rows for 'USA'\n",
    "print(df.loc[('USA', '2021')])  # Specific row for USA in 2020"
   ]
  },
  {
   "cell_type": "markdown",
   "id": "4c195cca-e115-4cb9-8d6d-61c300943809",
   "metadata": {},
   "source": [
    "# Pandas String"
   ]
  },
  {
   "cell_type": "code",
   "execution_count": 278,
   "id": "fb7e9b8e-3343-436c-965d-c5c47cbf359b",
   "metadata": {},
   "outputs": [
    {
     "name": "stdout",
     "output_type": "stream",
     "text": [
      "     text txt_uppr\n",
      "0   hello    HELLO\n",
      "1   world    WORLD\n",
      "2  pandas   PANDAS\n",
      "3  python   PYTHON\n"
     ]
    }
   ],
   "source": [
    "# String operation\n",
    "data = {'text': ['hello', 'world', 'pandas', 'python']}\n",
    "df = pd.DataFrame(data)\n",
    "df[\"txt_uppr\"]=df[\"text\"].str.upper()\n",
    "print(df)"
   ]
  },
  {
   "cell_type": "code",
   "execution_count": 282,
   "id": "241c83d0-57d3-4205-8a12-be9d2976e033",
   "metadata": {},
   "outputs": [
    {
     "data": {
      "text/html": [
       "<div>\n",
       "<style scoped>\n",
       "    .dataframe tbody tr th:only-of-type {\n",
       "        vertical-align: middle;\n",
       "    }\n",
       "\n",
       "    .dataframe tbody tr th {\n",
       "        vertical-align: top;\n",
       "    }\n",
       "\n",
       "    .dataframe thead th {\n",
       "        text-align: right;\n",
       "    }\n",
       "</style>\n",
       "<table border=\"1\" class=\"dataframe\">\n",
       "  <thead>\n",
       "    <tr style=\"text-align: right;\">\n",
       "      <th></th>\n",
       "      <th>text</th>\n",
       "      <th>txt_uppr</th>\n",
       "      <th>text_lenght</th>\n",
       "      <th>A_POS</th>\n",
       "    </tr>\n",
       "  </thead>\n",
       "  <tbody>\n",
       "    <tr>\n",
       "      <th>0</th>\n",
       "      <td>hello</td>\n",
       "      <td>HELLO</td>\n",
       "      <td>5</td>\n",
       "      <td>-1</td>\n",
       "    </tr>\n",
       "    <tr>\n",
       "      <th>1</th>\n",
       "      <td>world</td>\n",
       "      <td>WORLD</td>\n",
       "      <td>5</td>\n",
       "      <td>-1</td>\n",
       "    </tr>\n",
       "    <tr>\n",
       "      <th>2</th>\n",
       "      <td>pandas</td>\n",
       "      <td>PANDAS</td>\n",
       "      <td>6</td>\n",
       "      <td>1</td>\n",
       "    </tr>\n",
       "    <tr>\n",
       "      <th>3</th>\n",
       "      <td>python</td>\n",
       "      <td>PYTHON</td>\n",
       "      <td>6</td>\n",
       "      <td>-1</td>\n",
       "    </tr>\n",
       "  </tbody>\n",
       "</table>\n",
       "</div>"
      ],
      "text/plain": [
       "     text txt_uppr  text_lenght  A_POS\n",
       "0   hello    HELLO            5     -1\n",
       "1   world    WORLD            5     -1\n",
       "2  pandas   PANDAS            6      1\n",
       "3  python   PYTHON            6     -1"
      ]
     },
     "execution_count": 282,
     "metadata": {},
     "output_type": "execute_result"
    }
   ],
   "source": [
    "df[\"text_lenght\"]=df[\"text\"].str.len()\n",
    "df[\"A_POS\"]=df[\"text\"].str.find(\"a\")\n"
   ]
  },
  {
   "cell_type": "code",
   "execution_count": 286,
   "id": "ee02d65d-9893-4ece-9aac-010e8390fa44",
   "metadata": {},
   "outputs": [],
   "source": [
    "df = pd.DataFrame({'company_code': ['c0001','c0002','c0003', 'c0003', 'c0004'],\n",
    "                   'address': ['7277 Surrey Ave.','920 N. Bishop Ave.','9910 Golden Star St.', '25 Dunbar St.', '17 West Livingston Court']\n",
    "    })"
   ]
  },
  {
   "cell_type": "code",
   "execution_count": 288,
   "id": "7b29af7f-cf10-4e93-a6fc-42634691e4bf",
   "metadata": {},
   "outputs": [
    {
     "data": {
      "text/html": [
       "<div>\n",
       "<style scoped>\n",
       "    .dataframe tbody tr th:only-of-type {\n",
       "        vertical-align: middle;\n",
       "    }\n",
       "\n",
       "    .dataframe tbody tr th {\n",
       "        vertical-align: top;\n",
       "    }\n",
       "\n",
       "    .dataframe thead th {\n",
       "        text-align: right;\n",
       "    }\n",
       "</style>\n",
       "<table border=\"1\" class=\"dataframe\">\n",
       "  <thead>\n",
       "    <tr style=\"text-align: right;\">\n",
       "      <th></th>\n",
       "      <th>company_code</th>\n",
       "      <th>address</th>\n",
       "      <th>address_numbers</th>\n",
       "    </tr>\n",
       "  </thead>\n",
       "  <tbody>\n",
       "    <tr>\n",
       "      <th>0</th>\n",
       "      <td>c0001</td>\n",
       "      <td>7277 Surrey Ave.</td>\n",
       "      <td>7277</td>\n",
       "    </tr>\n",
       "    <tr>\n",
       "      <th>1</th>\n",
       "      <td>c0002</td>\n",
       "      <td>920 N. Bishop Ave.</td>\n",
       "      <td>920</td>\n",
       "    </tr>\n",
       "    <tr>\n",
       "      <th>2</th>\n",
       "      <td>c0003</td>\n",
       "      <td>9910 Golden Star St.</td>\n",
       "      <td>9910</td>\n",
       "    </tr>\n",
       "    <tr>\n",
       "      <th>3</th>\n",
       "      <td>c0003</td>\n",
       "      <td>25 Dunbar St.</td>\n",
       "      <td>25</td>\n",
       "    </tr>\n",
       "    <tr>\n",
       "      <th>4</th>\n",
       "      <td>c0004</td>\n",
       "      <td>17 West Livingston Court</td>\n",
       "      <td>17</td>\n",
       "    </tr>\n",
       "  </tbody>\n",
       "</table>\n",
       "</div>"
      ],
      "text/plain": [
       "  company_code                   address address_numbers\n",
       "0        c0001          7277 Surrey Ave.            7277\n",
       "1        c0002        920 N. Bishop Ave.             920\n",
       "2        c0003      9910 Golden Star St.            9910\n",
       "3        c0003             25 Dunbar St.              25\n",
       "4        c0004  17 West Livingston Court              17"
      ]
     },
     "execution_count": 288,
     "metadata": {},
     "output_type": "execute_result"
    }
   ],
   "source": [
    "df['address_numbers'] = df['address'].str.extract(r\"(\\d+)\")\n",
    "df"
   ]
  },
  {
   "cell_type": "code",
   "execution_count": 12,
   "id": "e91e4886-4178-4c36-b895-6a80424d5af9",
   "metadata": {},
   "outputs": [
    {
     "name": "stdout",
     "output_type": "stream",
     "text": [
      "  key1 key2   P   Q\n",
      "0   K0   K0  P0  Q0\n",
      "1   K0   K1  P1  Q1\n",
      "2   K1   K0  P2  Q2\n",
      "3   K2   K1  P3  Q3\n",
      "  key1 key2   R   S\n",
      "0   K0   K0  R0  S0\n",
      "1   K1   K0  R1  S1\n",
      "2   K1   K0  R2  S2\n",
      "3   K2   K0  R3  S3\n"
     ]
    }
   ],
   "source": [
    "import pandas as pd\n",
    "data1 = pd.DataFrame({'key1': ['K0', 'K0', 'K1', 'K2'],\n",
    "                     'key2': ['K0', 'K1', 'K0', 'K1'],\n",
    "                     'P': ['P0', 'P1', 'P2', 'P3'],\n",
    "                     'Q': ['Q0', 'Q1', 'Q2', 'Q3']}) \n",
    "print(data1)\n",
    "data2 = pd.DataFrame({'key1': ['K0', 'K1', 'K1', 'K2'],\n",
    "                      'key2': ['K0', 'K0', 'K0', 'K0'],\n",
    "                      'R': ['R0', 'R1', 'R2', 'R3'],\n",
    "                      'S': ['S0', 'S1', 'S2', 'S3']})\n",
    "print(data2)\n",
    "result=pd.concat([data1,data2])"
   ]
  },
  {
   "cell_type": "code",
   "execution_count": 25,
   "id": "2a69206e-3918-448a-97a6-f0d57bbede7d",
   "metadata": {},
   "outputs": [
    {
     "name": "stdout",
     "output_type": "stream",
     "text": [
      "        name  score  attempts  qualify\n",
      "0  Anastasia     12         1     True\n",
      "1       Dima      9         3    False\n",
      "2  Katherine     16         2     True\n",
      "3      James     12         3    False\n",
      "4      Emily      9         2    False\n",
      "5    Michael     20         3     True\n",
      "6    Matthew     14         1     True\n",
      "7      Laura     11         1    False\n",
      "8      Kevin      8         2    False\n",
      "9      Jonas     19         1     True\n"
     ]
    }
   ],
   "source": [
    "# print(result)\n",
    "print(df)"
   ]
  },
  {
   "cell_type": "code",
   "execution_count": 24,
   "id": "46e6a7b9-a7ce-41fb-9e75-c8a371f62cfd",
   "metadata": {},
   "outputs": [
    {
     "name": "stdout",
     "output_type": "stream",
     "text": [
      "name\n",
      "Anastasia    12.0\n",
      "Dima          9.0\n",
      "Emily         9.0\n",
      "James        12.0\n",
      "Jonas        19.0\n",
      "Katherine    16.0\n",
      "Kevin         8.0\n",
      "Laura        11.0\n",
      "Matthew      14.0\n",
      "Michael      20.0\n",
      "Name: score, dtype: float64\n"
     ]
    }
   ],
   "source": [
    "x=df.groupby(\"name\")[\"score\"].mean()\n",
    "print(x)"
   ]
  },
  {
   "cell_type": "code",
   "execution_count": 50,
   "id": "9a9a57d6-d593-4752-9e13-02253b9be2e6",
   "metadata": {},
   "outputs": [],
   "source": [
    "data = {\n",
    "    'Department': ['HR', 'IT', 'HR', 'Finance', 'IT', 'Finance', 'IT'],\n",
    "    'Employee': ['Alice', 'Bob', 'Charlie', 'David', 'Eve', 'Frank', 'Grace'],\n",
    "    'Salary': [50000, 70000, 55000, 60000, 72000, 58000, 75000]\n",
    "}\n",
    "\n",
    "df = pd.DataFrame(data)\n",
    "grouped = df.groupby(\"Department\")[\"Salary\"].max()"
   ]
  },
  {
   "cell_type": "code",
   "execution_count": 51,
   "id": "d6befa52-f8a2-4b37-aa76-ec587c7d10ec",
   "metadata": {},
   "outputs": [
    {
     "data": {
      "text/plain": [
       "Department\n",
       "Finance    2000\n",
       "HR         5000\n",
       "IT         5000\n",
       "Name: Salary, dtype: int64"
      ]
     },
     "execution_count": 51,
     "metadata": {},
     "output_type": "execute_result"
    }
   ],
   "source": [
    "difference = df.groupby(\"Department\")[\"Salary\"].apply(lambda x: x.max() - x.min())\n",
    "difference"
   ]
  },
  {
   "cell_type": "code",
   "execution_count": 63,
   "id": "1a784d0d-0b8b-4793-b4f0-34c1f503c666",
   "metadata": {},
   "outputs": [],
   "source": [
    "df[\"Avg_Salary\"]=df.groupby(\"Department\")[\"Salary\"].transform(\"mean\") # Keeps Original DataFrame Shape"
   ]
  },
  {
   "cell_type": "code",
   "execution_count": 66,
   "id": "b608fdb3-11f0-4364-b7db-4f3425fac83a",
   "metadata": {},
   "outputs": [
    {
     "data": {
      "text/plain": [
       "Department\n",
       "Finance    59000.000000\n",
       "HR         52500.000000\n",
       "IT         72333.333333\n",
       "Name: Salary, dtype: float64"
      ]
     },
     "execution_count": 66,
     "metadata": {},
     "output_type": "execute_result"
    }
   ],
   "source": [
    "df.groupby(\"Department\")[\"Salary\"].apply(\"mean\") # Flexible and changes the shape "
   ]
  },
  {
   "cell_type": "code",
   "execution_count": 68,
   "id": "5398550b-ab66-4f34-beed-1b3b921ad55d",
   "metadata": {},
   "outputs": [
    {
     "name": "stdout",
     "output_type": "stream",
     "text": [
      "  Department Employee  Salary    Avg_Salary\n",
      "0         HR    Alice   50000  52500.000000\n",
      "1         IT      Bob   70000  72333.333333\n",
      "2         HR  Charlie   55000  52500.000000\n",
      "3    Finance    David   60000  59000.000000\n",
      "4         IT      Eve   72000  72333.333333\n",
      "5    Finance    Frank   58000  59000.000000\n",
      "6         IT    Grace   75000  72333.333333\n"
     ]
    }
   ],
   "source": [
    "print(df)"
   ]
  },
  {
   "cell_type": "code",
   "execution_count": 73,
   "id": "dcdc38b8-778f-4d70-b9e2-0aec2ec2e195",
   "metadata": {},
   "outputs": [
    {
     "data": {
      "text/plain": [
       "50000"
      ]
     },
     "execution_count": 73,
     "metadata": {},
     "output_type": "execute_result"
    }
   ],
   "source": [
    "df[\"Salary\"].min()"
   ]
  },
  {
   "cell_type": "markdown",
   "id": "279a8c0f-1d32-4e47-a7c6-f0662f2501ea",
   "metadata": {},
   "source": [
    "# Grouping and Aggregating"
   ]
  },
  {
   "cell_type": "code",
   "execution_count": 74,
   "id": "02d46e6f-c56d-43f0-bd3c-5754bd2c9990",
   "metadata": {},
   "outputs": [],
   "source": [
    "df = pd.DataFrame({\n",
    "    'school_code': ['s001','s002','s003','s001','s002','s004'],\n",
    "    'class': ['V', 'V', 'VI', 'VI', 'V', 'VI'],\n",
    "    'name': ['Alberto Franco','Gino Mcneill','Ryan Parkes', 'Eesha Hinton', 'Gino Mcneill', 'David Parkes'],\n",
    "    'date_Of_Birth ': ['15/05/2002','17/05/2002','16/02/1999','25/09/1998','11/05/2002','15/09/1997'],\n",
    "    'age': [12, 12, 13, 13, 14, 12],\n",
    "    'height': [173, 192, 186, 167, 151, 159],\n",
    "    'weight': [35, 32, 33, 30, 31, 32],\n",
    "    'address': ['street1', 'street2', 'street3', 'street1', 'street2', 'street4']},\n",
    "    index=['S1', 'S2', 'S3', 'S4', 'S5', 'S6'])"
   ]
  },
  {
   "cell_type": "code",
   "execution_count": 75,
   "id": "b3f2a721-47ac-4111-9db5-6444cd24f8f9",
   "metadata": {},
   "outputs": [
    {
     "data": {
      "text/html": [
       "<div>\n",
       "<style scoped>\n",
       "    .dataframe tbody tr th:only-of-type {\n",
       "        vertical-align: middle;\n",
       "    }\n",
       "\n",
       "    .dataframe tbody tr th {\n",
       "        vertical-align: top;\n",
       "    }\n",
       "\n",
       "    .dataframe thead th {\n",
       "        text-align: right;\n",
       "    }\n",
       "</style>\n",
       "<table border=\"1\" class=\"dataframe\">\n",
       "  <thead>\n",
       "    <tr style=\"text-align: right;\">\n",
       "      <th></th>\n",
       "      <th>school_code</th>\n",
       "      <th>class</th>\n",
       "      <th>name</th>\n",
       "      <th>date_Of_Birth</th>\n",
       "      <th>age</th>\n",
       "      <th>height</th>\n",
       "      <th>weight</th>\n",
       "      <th>address</th>\n",
       "    </tr>\n",
       "  </thead>\n",
       "  <tbody>\n",
       "    <tr>\n",
       "      <th>S1</th>\n",
       "      <td>s001</td>\n",
       "      <td>V</td>\n",
       "      <td>Alberto Franco</td>\n",
       "      <td>15/05/2002</td>\n",
       "      <td>12</td>\n",
       "      <td>173</td>\n",
       "      <td>35</td>\n",
       "      <td>street1</td>\n",
       "    </tr>\n",
       "    <tr>\n",
       "      <th>S2</th>\n",
       "      <td>s002</td>\n",
       "      <td>V</td>\n",
       "      <td>Gino Mcneill</td>\n",
       "      <td>17/05/2002</td>\n",
       "      <td>12</td>\n",
       "      <td>192</td>\n",
       "      <td>32</td>\n",
       "      <td>street2</td>\n",
       "    </tr>\n",
       "    <tr>\n",
       "      <th>S3</th>\n",
       "      <td>s003</td>\n",
       "      <td>VI</td>\n",
       "      <td>Ryan Parkes</td>\n",
       "      <td>16/02/1999</td>\n",
       "      <td>13</td>\n",
       "      <td>186</td>\n",
       "      <td>33</td>\n",
       "      <td>street3</td>\n",
       "    </tr>\n",
       "    <tr>\n",
       "      <th>S4</th>\n",
       "      <td>s001</td>\n",
       "      <td>VI</td>\n",
       "      <td>Eesha Hinton</td>\n",
       "      <td>25/09/1998</td>\n",
       "      <td>13</td>\n",
       "      <td>167</td>\n",
       "      <td>30</td>\n",
       "      <td>street1</td>\n",
       "    </tr>\n",
       "    <tr>\n",
       "      <th>S5</th>\n",
       "      <td>s002</td>\n",
       "      <td>V</td>\n",
       "      <td>Gino Mcneill</td>\n",
       "      <td>11/05/2002</td>\n",
       "      <td>14</td>\n",
       "      <td>151</td>\n",
       "      <td>31</td>\n",
       "      <td>street2</td>\n",
       "    </tr>\n",
       "    <tr>\n",
       "      <th>S6</th>\n",
       "      <td>s004</td>\n",
       "      <td>VI</td>\n",
       "      <td>David Parkes</td>\n",
       "      <td>15/09/1997</td>\n",
       "      <td>12</td>\n",
       "      <td>159</td>\n",
       "      <td>32</td>\n",
       "      <td>street4</td>\n",
       "    </tr>\n",
       "  </tbody>\n",
       "</table>\n",
       "</div>"
      ],
      "text/plain": [
       "   school_code class            name date_Of_Birth   age  height  weight  \\\n",
       "S1        s001     V  Alberto Franco     15/05/2002   12     173      35   \n",
       "S2        s002     V    Gino Mcneill     17/05/2002   12     192      32   \n",
       "S3        s003    VI     Ryan Parkes     16/02/1999   13     186      33   \n",
       "S4        s001    VI    Eesha Hinton     25/09/1998   13     167      30   \n",
       "S5        s002     V    Gino Mcneill     11/05/2002   14     151      31   \n",
       "S6        s004    VI    David Parkes     15/09/1997   12     159      32   \n",
       "\n",
       "    address  \n",
       "S1  street1  \n",
       "S2  street2  \n",
       "S3  street3  \n",
       "S4  street1  \n",
       "S5  street2  \n",
       "S6  street4  "
      ]
     },
     "execution_count": 75,
     "metadata": {},
     "output_type": "execute_result"
    }
   ],
   "source": [
    "df"
   ]
  },
  {
   "cell_type": "code",
   "execution_count": 77,
   "id": "8fc363f1-819f-4db2-b671-5f4cbd78c968",
   "metadata": {},
   "outputs": [
    {
     "name": "stdout",
     "output_type": "stream",
     "text": [
      "              height                \n",
      "            mean_age min_age max_age\n",
      "school_code                         \n",
      "s001           170.0     167     173\n",
      "s002           171.5     151     192\n",
      "s003           186.0     186     186\n",
      "s004           159.0     159     159\n"
     ]
    }
   ],
   "source": [
    "grouped_single = df.groupby('school_code').agg({'height': [(\"mean_age\",\"mean\"), (\"min_age\", \"min\"), (\"max_age\",\"max\")]})\n",
    "print(grouped_single)"
   ]
  },
  {
   "cell_type": "markdown",
   "id": "3803e7f2-10ac-4e57-bc57-ff9ed0463b18",
   "metadata": {},
   "source": [
    "# Time Series"
   ]
  },
  {
   "cell_type": "code",
   "execution_count": 84,
   "id": "3fe52da0-c287-4afe-97ec-a2bfcbd63916",
   "metadata": {},
   "outputs": [
    {
     "name": "stdout",
     "output_type": "stream",
     "text": [
      "2012-01-15 21:20:00\n",
      "2012-01-15\n",
      "16:07:33.385067\n",
      "2025-02-05 16:07:33.385067\n"
     ]
    }
   ],
   "source": [
    "datetime_obj = pd.Timestamp(\"2012-01-15 21:20\")\n",
    "datetime=pd.Timestamp.now()\n",
    "five_days=pd.Timestamp.now()+pd.Timedelta(days=5)\n",
    "print(datetime_obj)  \n",
    "date_only = datetime_obj.date()\n",
    "print(date_only)\n",
    "print(datetime.time())\n",
    "print(five_days)"
   ]
  },
  {
   "cell_type": "code",
   "execution_count": 85,
   "id": "5e20629f-bbf3-47d6-aff2-28a2f4bd870e",
   "metadata": {},
   "outputs": [
    {
     "name": "stdout",
     "output_type": "stream",
     "text": [
      "DatetimeIndex(['2024-01-01', '2024-01-02', '2024-01-03', '2024-01-04',\n",
      "               '2024-01-05'],\n",
      "              dtype='datetime64[ns]', freq='D')\n"
     ]
    }
   ],
   "source": [
    "date_range = pd.date_range(start=\"2024-01-01\", periods=5, freq=\"D\")\n",
    "print(date_range)"
   ]
  },
  {
   "cell_type": "code",
   "execution_count": 86,
   "id": "7d587076-4892-4b20-80f6-b7ef2b62cc17",
   "metadata": {},
   "outputs": [],
   "source": [
    "df=pd.DataFrame({\"values\":[1,2,3,4,5]},index=date_range)"
   ]
  },
  {
   "cell_type": "code",
   "execution_count": 87,
   "id": "47ff093d-0389-4614-b9ad-ddacc3be2655",
   "metadata": {},
   "outputs": [
    {
     "data": {
      "text/html": [
       "<div>\n",
       "<style scoped>\n",
       "    .dataframe tbody tr th:only-of-type {\n",
       "        vertical-align: middle;\n",
       "    }\n",
       "\n",
       "    .dataframe tbody tr th {\n",
       "        vertical-align: top;\n",
       "    }\n",
       "\n",
       "    .dataframe thead th {\n",
       "        text-align: right;\n",
       "    }\n",
       "</style>\n",
       "<table border=\"1\" class=\"dataframe\">\n",
       "  <thead>\n",
       "    <tr style=\"text-align: right;\">\n",
       "      <th></th>\n",
       "      <th>values</th>\n",
       "    </tr>\n",
       "  </thead>\n",
       "  <tbody>\n",
       "    <tr>\n",
       "      <th>2024-01-01</th>\n",
       "      <td>1</td>\n",
       "    </tr>\n",
       "    <tr>\n",
       "      <th>2024-01-02</th>\n",
       "      <td>2</td>\n",
       "    </tr>\n",
       "    <tr>\n",
       "      <th>2024-01-03</th>\n",
       "      <td>3</td>\n",
       "    </tr>\n",
       "    <tr>\n",
       "      <th>2024-01-04</th>\n",
       "      <td>4</td>\n",
       "    </tr>\n",
       "    <tr>\n",
       "      <th>2024-01-05</th>\n",
       "      <td>5</td>\n",
       "    </tr>\n",
       "  </tbody>\n",
       "</table>\n",
       "</div>"
      ],
      "text/plain": [
       "            values\n",
       "2024-01-01       1\n",
       "2024-01-02       2\n",
       "2024-01-03       3\n",
       "2024-01-04       4\n",
       "2024-01-05       5"
      ]
     },
     "execution_count": 87,
     "metadata": {},
     "output_type": "execute_result"
    }
   ],
   "source": [
    "df"
   ]
  },
  {
   "cell_type": "markdown",
   "id": "b0fb5221-209c-409b-ab10-1c9cf6ac9175",
   "metadata": {},
   "source": [
    "# Filter"
   ]
  },
  {
   "cell_type": "markdown",
   "id": "b32ad69f-f110-445d-abc6-4d504a37aa93",
   "metadata": {},
   "source": [
    "### Filter all records starting from the 2nd row, access every 5th row from a given dataframe"
   ]
  },
  {
   "cell_type": "code",
   "execution_count": 113,
   "id": "53c0d7de-4b79-42e5-9347-b453fbe3706d",
   "metadata": {},
   "outputs": [
    {
     "name": "stdout",
     "output_type": "stream",
     "text": [
      "World alcohol consumption sample data:\n",
      "   Year       WHO region                Country Beverage Types  Display Value\n",
      "0  1986  Western Pacific               Viet Nam           Wine           0.00\n",
      "1  1986         Americas                Uruguay          Other           0.50\n",
      "2  1985           Africa           Cte d'Ivoire           Wine           1.62\n",
      "3  1986         Americas               Colombia           Beer           4.27\n",
      "4  1987         Americas  Saint Kitts and Nevis           Beer           1.98\n",
      "Index(['Year', 'WHO region', 'Country', 'Beverage Types', 'Display Value'], dtype='object')\n"
     ]
    }
   ],
   "source": [
    "import pandas as pd\n",
    "# World alcohol consumption data\n",
    "w_a_con = pd.read_csv('world_alcohol.csv')\n",
    "print(\"World alcohol consumption sample data:\")\n",
    "print(w_a_con.head())\n",
    "print(w_a_con.columns)\n",
    "# print(w_a_con.iloc[1::5].head(10))\n",
    "# df1=df[df[\"Year\"]==1986]"
   ]
  },
  {
   "cell_type": "code",
   "execution_count": 114,
   "id": "83a26704-c6c6-4681-be1c-aeadbf212019",
   "metadata": {},
   "outputs": [
    {
     "name": "stdout",
     "output_type": "stream",
     "text": [
      "   school_code class            name date_Of_Birth   age  height  weight  \\\n",
      "S1        s001     V  Alberto Franco     15/05/2002   12     173      35   \n",
      "S2        s002     V    Gino Mcneill     17/05/2002   12     192      32   \n",
      "S5        s002     V    Gino Mcneill     11/05/2002   14     151      31   \n",
      "\n",
      "    address  \n",
      "S1  street1  \n",
      "S2  street2  \n",
      "S5  street2  \n"
     ]
    }
   ],
   "source": [
    "df = pd.DataFrame({\n",
    "    'school_code': ['s001','s002','s003','s001','s002','s004'],\n",
    "    'class': ['V', 'V', 'VI', 'VI', 'V', 'VI'],\n",
    "    'name': ['Alberto Franco','Gino Mcneill','Ryan Parkes', 'Eesha Hinton', 'Gino Mcneill', 'David Parkes'],\n",
    "    'date_Of_Birth ': ['15/05/2002','17/05/2002','16/02/1999','25/09/1998','11/05/2002','15/09/1997'],\n",
    "    'age': [12, 12, 13, 13, 14, 12],\n",
    "    'height': [173, 192, 186, 167, 151, 159],\n",
    "    'weight': [35, 32, 33, 30, 31, 32],\n",
    "    'address': ['street1', 'street2', 'street3', 'street1', 'street2', 'street4']},\n",
    "    index=['S1', 'S2', 'S3', 'S4', 'S5', 'S6'])\n",
    "df1=df[df[\"class\"]==\"V\"]\n",
    "print(df1)"
   ]
  },
  {
   "cell_type": "code",
   "execution_count": 115,
   "id": "76dfb0a2-8684-45d9-98d6-727f4a2c38bc",
   "metadata": {},
   "outputs": [
    {
     "data": {
      "text/html": [
       "<div>\n",
       "<style scoped>\n",
       "    .dataframe tbody tr th:only-of-type {\n",
       "        vertical-align: middle;\n",
       "    }\n",
       "\n",
       "    .dataframe tbody tr th {\n",
       "        vertical-align: top;\n",
       "    }\n",
       "\n",
       "    .dataframe thead th {\n",
       "        text-align: right;\n",
       "    }\n",
       "</style>\n",
       "<table border=\"1\" class=\"dataframe\">\n",
       "  <thead>\n",
       "    <tr style=\"text-align: right;\">\n",
       "      <th></th>\n",
       "      <th>school_code</th>\n",
       "      <th>class</th>\n",
       "      <th>name</th>\n",
       "      <th>date_Of_Birth</th>\n",
       "      <th>age</th>\n",
       "      <th>height</th>\n",
       "      <th>weight</th>\n",
       "      <th>address</th>\n",
       "    </tr>\n",
       "  </thead>\n",
       "  <tbody>\n",
       "    <tr>\n",
       "      <th>S1</th>\n",
       "      <td>s001</td>\n",
       "      <td>V</td>\n",
       "      <td>Alberto Franco</td>\n",
       "      <td>15/05/2002</td>\n",
       "      <td>12</td>\n",
       "      <td>173</td>\n",
       "      <td>35</td>\n",
       "      <td>street1</td>\n",
       "    </tr>\n",
       "    <tr>\n",
       "      <th>S4</th>\n",
       "      <td>s001</td>\n",
       "      <td>VI</td>\n",
       "      <td>Eesha Hinton</td>\n",
       "      <td>25/09/1998</td>\n",
       "      <td>13</td>\n",
       "      <td>167</td>\n",
       "      <td>30</td>\n",
       "      <td>street1</td>\n",
       "    </tr>\n",
       "  </tbody>\n",
       "</table>\n",
       "</div>"
      ],
      "text/plain": [
       "   school_code class            name date_Of_Birth   age  height  weight  \\\n",
       "S1        s001     V  Alberto Franco     15/05/2002   12     173      35   \n",
       "S4        s001    VI    Eesha Hinton     25/09/1998   13     167      30   \n",
       "\n",
       "    address  \n",
       "S1  street1  \n",
       "S4  street1  "
      ]
     },
     "execution_count": 115,
     "metadata": {},
     "output_type": "execute_result"
    }
   ],
   "source": [
    "df1=df.query(\"school_code == 's001'\")\n",
    "df1"
   ]
  },
  {
   "cell_type": "code",
   "execution_count": 121,
   "id": "a8145112-fcde-439b-9f94-ddb08effcaff",
   "metadata": {
    "scrolled": true
   },
   "outputs": [
    {
     "data": {
      "text/html": [
       "<div>\n",
       "<style scoped>\n",
       "    .dataframe tbody tr th:only-of-type {\n",
       "        vertical-align: middle;\n",
       "    }\n",
       "\n",
       "    .dataframe tbody tr th {\n",
       "        vertical-align: top;\n",
       "    }\n",
       "\n",
       "    .dataframe thead th {\n",
       "        text-align: right;\n",
       "    }\n",
       "</style>\n",
       "<table border=\"1\" class=\"dataframe\">\n",
       "  <thead>\n",
       "    <tr style=\"text-align: right;\">\n",
       "      <th></th>\n",
       "      <th>book</th>\n",
       "      <th>English</th>\n",
       "      <th>Math</th>\n",
       "      <th>Physics</th>\n",
       "    </tr>\n",
       "    <tr>\n",
       "      <th>id</th>\n",
       "      <th>type</th>\n",
       "      <th></th>\n",
       "      <th></th>\n",
       "      <th></th>\n",
       "    </tr>\n",
       "  </thead>\n",
       "  <tbody>\n",
       "    <tr>\n",
       "      <th rowspan=\"4\" valign=\"top\">1</th>\n",
       "      <th>10</th>\n",
       "      <td>0</td>\n",
       "      <td>1</td>\n",
       "      <td>0</td>\n",
       "    </tr>\n",
       "    <tr>\n",
       "      <th>11</th>\n",
       "      <td>0</td>\n",
       "      <td>0</td>\n",
       "      <td>1</td>\n",
       "    </tr>\n",
       "    <tr>\n",
       "      <th>12</th>\n",
       "      <td>0</td>\n",
       "      <td>0</td>\n",
       "      <td>1</td>\n",
       "    </tr>\n",
       "    <tr>\n",
       "      <th>20</th>\n",
       "      <td>0</td>\n",
       "      <td>1</td>\n",
       "      <td>0</td>\n",
       "    </tr>\n",
       "    <tr>\n",
       "      <th rowspan=\"3\" valign=\"top\">2</th>\n",
       "      <th>14</th>\n",
       "      <td>1</td>\n",
       "      <td>0</td>\n",
       "      <td>0</td>\n",
       "    </tr>\n",
       "    <tr>\n",
       "      <th>15</th>\n",
       "      <td>1</td>\n",
       "      <td>0</td>\n",
       "      <td>0</td>\n",
       "    </tr>\n",
       "    <tr>\n",
       "      <th>21</th>\n",
       "      <td>1</td>\n",
       "      <td>0</td>\n",
       "      <td>0</td>\n",
       "    </tr>\n",
       "  </tbody>\n",
       "</table>\n",
       "</div>"
      ],
      "text/plain": [
       "book     English  Math  Physics\n",
       "id type                        \n",
       "1  10          0     1        0\n",
       "   11          0     0        1\n",
       "   12          0     0        1\n",
       "   20          0     1        0\n",
       "2  14          1     0        0\n",
       "   15          1     0        0\n",
       "   21          1     0        0"
      ]
     },
     "execution_count": 121,
     "metadata": {},
     "output_type": "execute_result"
    }
   ],
   "source": [
    "df = pd.DataFrame( {'id' : [1, 2, 1, 1, 2, 1, 2], \n",
    "                    'type' : [10, 15, 11, 20, 21, 12, 14], \n",
    "                    'book' : ['Math','English','Physics','Math','English','Physics','English']})\n",
    "df.groupby(['id', 'type', 'book']).size().unstack(fill_value=0)"
   ]
  },
  {
   "cell_type": "markdown",
   "id": "4802fca9-a0a5-48c4-aa76-c034789615bb",
   "metadata": {},
   "source": [
    "# Grouping and Aggregating"
   ]
  },
  {
   "cell_type": "markdown",
   "id": "989614d2-f95c-4e5f-86ba-c3d97dee07cd",
   "metadata": {},
   "source": [
    "### Split the specified dataframe into groups based on all columns and calculate Groupby value counts on the dataframe"
   ]
  },
  {
   "cell_type": "code",
   "execution_count": 1,
   "id": "63c09851-d7d0-4056-a458-cec2c58375ee",
   "metadata": {},
   "outputs": [
    {
     "name": "stdout",
     "output_type": "stream",
     "text": [
      "Original DataFrame:\n",
      "   id  type     book\n",
      "0   1    10     Math\n",
      "1   2    15  English\n",
      "2   1    11  Physics\n",
      "3   1    20     Math\n",
      "4   2    21  English\n",
      "5   1    12  Physics\n",
      "6   2    14  English\n",
      "\n",
      "Result:\n",
      "book     English  Math  Physics\n",
      "id type                        \n",
      "1  10          0     1        0\n",
      "   11          0     0        1\n",
      "   12          0     0        1\n",
      "   20          0     1        0\n",
      "2  14          1     0        0\n",
      "   15          1     0        0\n",
      "   21          1     0        0\n"
     ]
    }
   ],
   "source": [
    "import pandas as pd\n",
    "df = pd.DataFrame( {'id' : [1, 2, 1, 1, 2, 1, 2], \n",
    "                    'type' : [10, 15, 11, 20, 21, 12, 14], \n",
    "                    'book' : ['Math','English','Physics','Math','English','Physics','English']})\n",
    "\n",
    "print(\"Original DataFrame:\")\n",
    "print(df)\n",
    "result = df.groupby(['id', 'type', 'book']).size().unstack(fill_value=0)\n",
    "print(\"\\nResult:\")\n",
    "print(result)\n",
    "# Transform adds a new column to the orginal data frame"
   ]
  },
  {
   "cell_type": "markdown",
   "id": "3dea93a4-cec7-4d31-ac72-d135dca5ac83",
   "metadata": {},
   "source": [
    "# Handling Missing Values"
   ]
  },
  {
   "cell_type": "markdown",
   "id": "4a84cd8d-e43c-477f-aa4a-46afe48f33ac",
   "metadata": {},
   "source": [
    "### Drop the columns where at least one element is missing"
   ]
  },
  {
   "cell_type": "code",
   "execution_count": 2,
   "id": "81493f1f-1da9-45ee-ac71-d36cfb1fd2cb",
   "metadata": {},
   "outputs": [
    {
     "name": "stdout",
     "output_type": "stream",
     "text": [
      "Original Orders DataFrame:\n",
      "     ord_no  purch_amt    ord_date  customer_id  salesman_id\n",
      "0   70001.0     150.50  2012-10-05         3002       5002.0\n",
      "1       NaN     270.65  2012-09-10         3001       5003.0\n",
      "2   70002.0      65.26         NaN         3001       5001.0\n",
      "3   70004.0     110.50  2012-08-17         3003          NaN\n",
      "4       NaN     948.50  2012-09-10         3002       5002.0\n",
      "5   70005.0    2400.60  2012-07-27         3001       5001.0\n",
      "6       NaN    5760.00  2012-09-10         3001       5001.0\n",
      "7   70010.0    1983.43  2012-10-10         3004          NaN\n",
      "8   70003.0    2480.40  2012-10-10         3003       5003.0\n",
      "9   70012.0     250.45  2012-06-27         3002       5002.0\n",
      "10      NaN      75.29  2012-08-17         3001       5003.0\n",
      "11  70013.0    3045.60  2012-04-25         3001          NaN\n",
      "\n",
      "Drop the columns where at least one element is missing:\n",
      "    purch_amt  customer_id\n",
      "0      150.50         3002\n",
      "1      270.65         3001\n",
      "2       65.26         3001\n",
      "3      110.50         3003\n",
      "4      948.50         3002\n",
      "5     2400.60         3001\n",
      "6     5760.00         3001\n",
      "7     1983.43         3004\n",
      "8     2480.40         3003\n",
      "9      250.45         3002\n",
      "10      75.29         3001\n",
      "11    3045.60         3001\n"
     ]
    }
   ],
   "source": [
    "import pandas as pd\n",
    "import numpy as np\n",
    "pd.set_option('display.max_rows', None)\n",
    "#pd.set_option('display.max_columns', None)\n",
    "df = pd.DataFrame({\n",
    "'ord_no':[70001,np.nan,70002,70004,np.nan,70005,np.nan,70010,70003,70012,np.nan,70013],\n",
    "'purch_amt':[150.5,270.65,65.26,110.5,948.5,2400.6,5760,1983.43,2480.4,250.45, 75.29,3045.6],\n",
    "'ord_date': ['2012-10-05','2012-09-10',np.nan,'2012-08-17','2012-09-10','2012-07-27','2012-09-10','2012-10-10','2012-10-10','2012-06-27','2012-08-17','2012-04-25'],\n",
    "'customer_id':[3002,3001,3001,3003,3002,3001,3001,3004,3003,3002,3001,3001],\n",
    "'salesman_id':[5002,5003,5001,np.nan,5002,5001,5001,np.nan,5003,5002,5003,np.nan]})\n",
    "\n",
    "print(\"Original Orders DataFrame:\")\n",
    "print(df)\n",
    "print(\"\\nDrop the columns where at least one element is missing:\")\n",
    "result = df.dropna(axis='columns')\n",
    "print(result)"
   ]
  },
  {
   "cell_type": "markdown",
   "id": "fc9b27a6-8d0b-4096-9e8d-db6454431073",
   "metadata": {},
   "source": [
    "# Pandas Styling"
   ]
  },
  {
   "cell_type": "code",
   "execution_count": null,
   "id": "f32acbfb-14c2-4ce3-93f7-a65a949503c7",
   "metadata": {},
   "outputs": [],
   "source": [
    "Write a Pandas program to highlight the negative numbers red and positive numbers black"
   ]
  },
  {
   "cell_type": "code",
   "execution_count": 6,
   "id": "1b2c3584-be31-4304-bc9d-3408643f2598",
   "metadata": {},
   "outputs": [
    {
     "name": "stdout",
     "output_type": "stream",
     "text": [
      "Original array:\n",
      "      A         B         C         D         E\n",
      "0   1.0  1.329212 -0.770033 -0.316280 -0.990810\n",
      "1   2.0 -1.070816 -1.438713  0.564417  0.295722\n",
      "2   3.0 -1.626404  0.219565  0.678805  1.889273\n",
      "3   4.0  0.961538  0.104011 -0.481165  0.850229\n",
      "4   5.0  1.453425  1.057737  0.165562  0.515018\n",
      "5   6.0 -1.336936  0.562861  1.392855 -0.063328\n",
      "6   7.0  0.121668  1.207603 -0.002040  1.627796\n",
      "7   8.0  0.354493  1.037528 -0.385684  0.519818\n",
      "8   9.0  1.686583 -1.325963  1.428984 -2.089354\n",
      "9  10.0 -0.129820  0.631523 -0.586538  0.290720\n",
      "\n",
      "Negative numbers red and positive numbers black:\n"
     ]
    },
    {
     "name": "stderr",
     "output_type": "stream",
     "text": [
      "C:\\Users\\AdityaSikarvar\\AppData\\Local\\Temp\\ipykernel_9760\\705546247.py:13: FutureWarning: Styler.applymap has been deprecated. Use Styler.map instead.\n",
      "  df.style.applymap(color_negative_red)\n"
     ]
    },
    {
     "data": {
      "text/html": [
       "<style type=\"text/css\">\n",
       "#T_af60b_row0_col0, #T_af60b_row0_col1, #T_af60b_row1_col0, #T_af60b_row1_col3, #T_af60b_row1_col4, #T_af60b_row2_col0, #T_af60b_row2_col2, #T_af60b_row2_col3, #T_af60b_row2_col4, #T_af60b_row3_col0, #T_af60b_row3_col1, #T_af60b_row3_col2, #T_af60b_row3_col4, #T_af60b_row4_col0, #T_af60b_row4_col1, #T_af60b_row4_col2, #T_af60b_row4_col3, #T_af60b_row4_col4, #T_af60b_row5_col0, #T_af60b_row5_col2, #T_af60b_row5_col3, #T_af60b_row6_col0, #T_af60b_row6_col1, #T_af60b_row6_col2, #T_af60b_row6_col4, #T_af60b_row7_col0, #T_af60b_row7_col1, #T_af60b_row7_col2, #T_af60b_row7_col4, #T_af60b_row8_col0, #T_af60b_row8_col1, #T_af60b_row8_col3, #T_af60b_row9_col0, #T_af60b_row9_col2, #T_af60b_row9_col4 {\n",
       "  color: black;\n",
       "}\n",
       "#T_af60b_row0_col2, #T_af60b_row0_col3, #T_af60b_row0_col4, #T_af60b_row1_col1, #T_af60b_row1_col2, #T_af60b_row2_col1, #T_af60b_row3_col3, #T_af60b_row5_col1, #T_af60b_row5_col4, #T_af60b_row6_col3, #T_af60b_row7_col3, #T_af60b_row8_col2, #T_af60b_row8_col4, #T_af60b_row9_col1, #T_af60b_row9_col3 {\n",
       "  color: red;\n",
       "}\n",
       "</style>\n",
       "<table id=\"T_af60b\">\n",
       "  <thead>\n",
       "    <tr>\n",
       "      <th class=\"blank level0\" >&nbsp;</th>\n",
       "      <th id=\"T_af60b_level0_col0\" class=\"col_heading level0 col0\" >A</th>\n",
       "      <th id=\"T_af60b_level0_col1\" class=\"col_heading level0 col1\" >B</th>\n",
       "      <th id=\"T_af60b_level0_col2\" class=\"col_heading level0 col2\" >C</th>\n",
       "      <th id=\"T_af60b_level0_col3\" class=\"col_heading level0 col3\" >D</th>\n",
       "      <th id=\"T_af60b_level0_col4\" class=\"col_heading level0 col4\" >E</th>\n",
       "    </tr>\n",
       "  </thead>\n",
       "  <tbody>\n",
       "    <tr>\n",
       "      <th id=\"T_af60b_level0_row0\" class=\"row_heading level0 row0\" >0</th>\n",
       "      <td id=\"T_af60b_row0_col0\" class=\"data row0 col0\" >1.000000</td>\n",
       "      <td id=\"T_af60b_row0_col1\" class=\"data row0 col1\" >1.329212</td>\n",
       "      <td id=\"T_af60b_row0_col2\" class=\"data row0 col2\" >-0.770033</td>\n",
       "      <td id=\"T_af60b_row0_col3\" class=\"data row0 col3\" >-0.316280</td>\n",
       "      <td id=\"T_af60b_row0_col4\" class=\"data row0 col4\" >-0.990810</td>\n",
       "    </tr>\n",
       "    <tr>\n",
       "      <th id=\"T_af60b_level0_row1\" class=\"row_heading level0 row1\" >1</th>\n",
       "      <td id=\"T_af60b_row1_col0\" class=\"data row1 col0\" >2.000000</td>\n",
       "      <td id=\"T_af60b_row1_col1\" class=\"data row1 col1\" >-1.070816</td>\n",
       "      <td id=\"T_af60b_row1_col2\" class=\"data row1 col2\" >-1.438713</td>\n",
       "      <td id=\"T_af60b_row1_col3\" class=\"data row1 col3\" >0.564417</td>\n",
       "      <td id=\"T_af60b_row1_col4\" class=\"data row1 col4\" >0.295722</td>\n",
       "    </tr>\n",
       "    <tr>\n",
       "      <th id=\"T_af60b_level0_row2\" class=\"row_heading level0 row2\" >2</th>\n",
       "      <td id=\"T_af60b_row2_col0\" class=\"data row2 col0\" >3.000000</td>\n",
       "      <td id=\"T_af60b_row2_col1\" class=\"data row2 col1\" >-1.626404</td>\n",
       "      <td id=\"T_af60b_row2_col2\" class=\"data row2 col2\" >0.219565</td>\n",
       "      <td id=\"T_af60b_row2_col3\" class=\"data row2 col3\" >0.678805</td>\n",
       "      <td id=\"T_af60b_row2_col4\" class=\"data row2 col4\" >1.889273</td>\n",
       "    </tr>\n",
       "    <tr>\n",
       "      <th id=\"T_af60b_level0_row3\" class=\"row_heading level0 row3\" >3</th>\n",
       "      <td id=\"T_af60b_row3_col0\" class=\"data row3 col0\" >4.000000</td>\n",
       "      <td id=\"T_af60b_row3_col1\" class=\"data row3 col1\" >0.961538</td>\n",
       "      <td id=\"T_af60b_row3_col2\" class=\"data row3 col2\" >0.104011</td>\n",
       "      <td id=\"T_af60b_row3_col3\" class=\"data row3 col3\" >-0.481165</td>\n",
       "      <td id=\"T_af60b_row3_col4\" class=\"data row3 col4\" >0.850229</td>\n",
       "    </tr>\n",
       "    <tr>\n",
       "      <th id=\"T_af60b_level0_row4\" class=\"row_heading level0 row4\" >4</th>\n",
       "      <td id=\"T_af60b_row4_col0\" class=\"data row4 col0\" >5.000000</td>\n",
       "      <td id=\"T_af60b_row4_col1\" class=\"data row4 col1\" >1.453425</td>\n",
       "      <td id=\"T_af60b_row4_col2\" class=\"data row4 col2\" >1.057737</td>\n",
       "      <td id=\"T_af60b_row4_col3\" class=\"data row4 col3\" >0.165562</td>\n",
       "      <td id=\"T_af60b_row4_col4\" class=\"data row4 col4\" >0.515018</td>\n",
       "    </tr>\n",
       "    <tr>\n",
       "      <th id=\"T_af60b_level0_row5\" class=\"row_heading level0 row5\" >5</th>\n",
       "      <td id=\"T_af60b_row5_col0\" class=\"data row5 col0\" >6.000000</td>\n",
       "      <td id=\"T_af60b_row5_col1\" class=\"data row5 col1\" >-1.336936</td>\n",
       "      <td id=\"T_af60b_row5_col2\" class=\"data row5 col2\" >0.562861</td>\n",
       "      <td id=\"T_af60b_row5_col3\" class=\"data row5 col3\" >1.392855</td>\n",
       "      <td id=\"T_af60b_row5_col4\" class=\"data row5 col4\" >-0.063328</td>\n",
       "    </tr>\n",
       "    <tr>\n",
       "      <th id=\"T_af60b_level0_row6\" class=\"row_heading level0 row6\" >6</th>\n",
       "      <td id=\"T_af60b_row6_col0\" class=\"data row6 col0\" >7.000000</td>\n",
       "      <td id=\"T_af60b_row6_col1\" class=\"data row6 col1\" >0.121668</td>\n",
       "      <td id=\"T_af60b_row6_col2\" class=\"data row6 col2\" >1.207603</td>\n",
       "      <td id=\"T_af60b_row6_col3\" class=\"data row6 col3\" >-0.002040</td>\n",
       "      <td id=\"T_af60b_row6_col4\" class=\"data row6 col4\" >1.627796</td>\n",
       "    </tr>\n",
       "    <tr>\n",
       "      <th id=\"T_af60b_level0_row7\" class=\"row_heading level0 row7\" >7</th>\n",
       "      <td id=\"T_af60b_row7_col0\" class=\"data row7 col0\" >8.000000</td>\n",
       "      <td id=\"T_af60b_row7_col1\" class=\"data row7 col1\" >0.354493</td>\n",
       "      <td id=\"T_af60b_row7_col2\" class=\"data row7 col2\" >1.037528</td>\n",
       "      <td id=\"T_af60b_row7_col3\" class=\"data row7 col3\" >-0.385684</td>\n",
       "      <td id=\"T_af60b_row7_col4\" class=\"data row7 col4\" >0.519818</td>\n",
       "    </tr>\n",
       "    <tr>\n",
       "      <th id=\"T_af60b_level0_row8\" class=\"row_heading level0 row8\" >8</th>\n",
       "      <td id=\"T_af60b_row8_col0\" class=\"data row8 col0\" >9.000000</td>\n",
       "      <td id=\"T_af60b_row8_col1\" class=\"data row8 col1\" >1.686583</td>\n",
       "      <td id=\"T_af60b_row8_col2\" class=\"data row8 col2\" >-1.325963</td>\n",
       "      <td id=\"T_af60b_row8_col3\" class=\"data row8 col3\" >1.428984</td>\n",
       "      <td id=\"T_af60b_row8_col4\" class=\"data row8 col4\" >-2.089354</td>\n",
       "    </tr>\n",
       "    <tr>\n",
       "      <th id=\"T_af60b_level0_row9\" class=\"row_heading level0 row9\" >9</th>\n",
       "      <td id=\"T_af60b_row9_col0\" class=\"data row9 col0\" >10.000000</td>\n",
       "      <td id=\"T_af60b_row9_col1\" class=\"data row9 col1\" >-0.129820</td>\n",
       "      <td id=\"T_af60b_row9_col2\" class=\"data row9 col2\" >0.631523</td>\n",
       "      <td id=\"T_af60b_row9_col3\" class=\"data row9 col3\" >-0.586538</td>\n",
       "      <td id=\"T_af60b_row9_col4\" class=\"data row9 col4\" >0.290720</td>\n",
       "    </tr>\n",
       "  </tbody>\n",
       "</table>\n"
      ],
      "text/plain": [
       "<pandas.io.formats.style.Styler at 0x1fbf38944d0>"
      ]
     },
     "execution_count": 6,
     "metadata": {},
     "output_type": "execute_result"
    }
   ],
   "source": [
    "import pandas as pd\n",
    "import numpy as np\n",
    "np.random.seed(24)\n",
    "df = pd.DataFrame({'A': np.linspace(1, 10, 10)})\n",
    "df = pd.concat([df, pd.DataFrame(np.random.randn(10, 4), columns=list('BCDE'))],\n",
    "               axis=1)\n",
    "print(\"Original array:\")\n",
    "print(df)\n",
    "def color_negative_red(val):\n",
    "    color = 'red' if val < 0 else 'black'\n",
    "    return 'color: %s' % color\n",
    "print(\"\\nNegative numbers red and positive numbers black:\")\n",
    "df.style.applymap(color_negative_red)\n"
   ]
  },
  {
   "cell_type": "markdown",
   "id": "80e7d6cf-8d5c-4e30-8d80-891f03cce9ea",
   "metadata": {},
   "source": [
    "# Excel "
   ]
  },
  {
   "cell_type": "markdown",
   "id": "7dff91ac-51bd-4286-b55e-762a84517106",
   "metadata": {},
   "source": [
    "### Write a Pandas program to import excel data (coalpublic2013.xlsx ) into a Pandas dataframe"
   ]
  },
  {
   "cell_type": "code",
   "execution_count": 6,
   "id": "17a714f1-d8a5-4e2a-b5da-9fcb7f76f7f7",
   "metadata": {},
   "outputs": [
    {
     "name": "stdout",
     "output_type": "stream",
     "text": [
      "<bound method NDFrame.head of     OrderDate   Region  Manager   SalesMan          Item   Units  Unit_price  \\\n",
      "0  2018-01-06     East   Martha  Alexander    Television   95.00    1198.000   \n",
      "1  2018-01-23  Central  Hermann     Shelli  Home Theater   50.00     500.000   \n",
      "2  2018-02-09  Central  Hermann       Luis    Television   36.00    1198.000   \n",
      "3  2018-02-26  Central  Timothy      David    Cell Phone   27.00     225.000   \n",
      "4  2018-03-15     West  Timothy    Stephen    Television   56.00    1198.000   \n",
      "5  2018-04-01     East   Martha  Alexander  Home Theater   60.00     500.000   \n",
      "6  2018-04-18  Central   Martha     Steven    Television   75.00    1198.000   \n",
      "7  2018-05-05  Central  Hermann       Luis    Television   90.00    1198.000   \n",
      "8  2018-05-22     West  Douglas    Michael    Television   32.00    1198.000   \n",
      "9  2018-06-08     East   Martha  Alexander  Home Theater   60.00     500.000   \n",
      "10 2018-06-25  Central  Hermann      Sigal    Television   90.00    1198.000   \n",
      "11 2018-07-12     East   Martha      Diana  Home Theater   29.00     500.000   \n",
      "12 2018-07-29     East  Douglas      Karen  Home Theater   81.00     500.000   \n",
      "13 2018-08-15     East   Martha  Alexander    Television   35.00    1198.000   \n",
      "14 2018-09-01  Central  Douglas       John          Desk    2.00     125.000   \n",
      "15 2018-09-18     East   Martha  Alexander   Video Games   16.00      58.500   \n",
      "16 2018-10-05  Central  Hermann      Sigal  Home Theater   28.00     500.000   \n",
      "17 2018-10-22     East   Martha  Alexander    Cell Phone   64.00     225.000   \n",
      "18 2018-11-08     East  Douglas      Karen    Cell Phone   15.00     225.000   \n",
      "19 2018-11-25  Central  Hermann     Shelli   Video Games   96.00      58.500   \n",
      "20 2018-12-12  Central  Douglas       John    Television   67.00    1198.000   \n",
      "21 2018-12-29     East  Douglas      Karen   Video Games   74.00      58.500   \n",
      "22 2019-01-15  Central  Timothy      David  Home Theater   46.00     500.000   \n",
      "23 2019-02-01  Central  Douglas       John  Home Theater   87.00     500.000   \n",
      "24 2019-02-18     East   Martha  Alexander  Home Theater    4.00     500.000   \n",
      "25 2019-03-07     West  Timothy    Stephen  Home Theater    7.00     500.000   \n",
      "26 2019-03-24  Central  Hermann       Luis   Video Games   50.00      58.500   \n",
      "27 2019-04-10  Central   Martha     Steven    Television   66.00    1198.000   \n",
      "28 2019-04-27     East   Martha      Diana    Cell Phone   96.00     225.000   \n",
      "29 2019-05-14  Central  Timothy      David    Television   53.00    1198.000   \n",
      "30 2019-05-31  Central  Timothy      David  Home Theater   80.00     500.000   \n",
      "31 2019-06-17  Central  Hermann     Shelli          Desk    5.00     125.000   \n",
      "32 2019-07-04     East   Martha  Alexander   Video Games   62.00      58.500   \n",
      "33 2019-07-21  Central  Hermann      Sigal   Video Games   55.00      58.500   \n",
      "34 2019-08-07  Central  Hermann     Shelli   Video Games   42.00      58.500   \n",
      "35 2019-08-24     West  Timothy    Stephen          Desk    3.00     125.000   \n",
      "36 2019-09-10  Central  Timothy      David    Television    7.00    1198.000   \n",
      "37 2019-09-27     West  Timothy    Stephen    Cell Phone   76.00     225.000   \n",
      "38 2019-10-14     West  Douglas    Michael  Home Theater   57.00     500.000   \n",
      "39 2019-10-31  Central   Martha     Steven    Television   14.00    1198.000   \n",
      "40 2019-11-17  Central  Hermann       Luis  Home Theater   11.00     500.000   \n",
      "41 2019-12-04  Central  Hermann       Luis  Home Theater   94.00     500.000   \n",
      "42 2019-12-21  Central   Martha     Steven  Home Theater   28.00     500.000   \n",
      "43        NaT      NaN      NaN        NaN           NaN  278.00    1125.000   \n",
      "44        NaT      NaN      NaN        NaN           NaN   34.75     140.625   \n",
      "\n",
      "     Sale_amt  \n",
      "0   113810.00  \n",
      "1    25000.00  \n",
      "2    43128.00  \n",
      "3     6075.00  \n",
      "4    67088.00  \n",
      "5    30000.00  \n",
      "6    89850.00  \n",
      "7   107820.00  \n",
      "8    38336.00  \n",
      "9    30000.00  \n",
      "10  107820.00  \n",
      "11   14500.00  \n",
      "12   40500.00  \n",
      "13   41930.00  \n",
      "14     250.00  \n",
      "15     936.00  \n",
      "16   14000.00  \n",
      "17   14400.00  \n",
      "18    3375.00  \n",
      "19    5616.00  \n",
      "20   80266.00  \n",
      "21    4329.00  \n",
      "22   23000.00  \n",
      "23   43500.00  \n",
      "24    2000.00  \n",
      "25    3500.00  \n",
      "26    2925.00  \n",
      "27   79068.00  \n",
      "28   21600.00  \n",
      "29   63494.00  \n",
      "30   40000.00  \n",
      "31     625.00  \n",
      "32    3627.00  \n",
      "33    3217.50  \n",
      "34    2457.00  \n",
      "35     375.00  \n",
      "36    8386.00  \n",
      "37   17100.00  \n",
      "38   28500.00  \n",
      "39   16772.00  \n",
      "40    5500.00  \n",
      "41   47000.00  \n",
      "42   14000.00  \n",
      "43   62550.00  \n",
      "44    7818.75  >\n"
     ]
    }
   ],
   "source": [
    "import pandas as pd\n",
    "import numpy as np\n",
    "df = pd.read_excel('SaleData.xlsx')\n",
    "print(df.head)"
   ]
  },
  {
   "cell_type": "markdown",
   "id": "33211213-20df-43ef-995d-434bde29409b",
   "metadata": {},
   "source": [
    "### Create a Pivot table with multiple indexes from a given excel sheet"
   ]
  },
  {
   "cell_type": "code",
   "execution_count": 5,
   "id": "b45cd380-0d88-4734-92ba-65155dfcc239",
   "metadata": {},
   "outputs": [
    {
     "name": "stdout",
     "output_type": "stream",
     "text": [
      "    OrderDate   Region  Manager   SalesMan          Item   Units  Unit_price  \\\n",
      "0  2018-01-06     East   Martha  Alexander    Television   95.00    1198.000   \n",
      "1  2018-01-23  Central  Hermann     Shelli  Home Theater   50.00     500.000   \n",
      "2  2018-02-09  Central  Hermann       Luis    Television   36.00    1198.000   \n",
      "3  2018-02-26  Central  Timothy      David    Cell Phone   27.00     225.000   \n",
      "4  2018-03-15     West  Timothy    Stephen    Television   56.00    1198.000   \n",
      "5  2018-04-01     East   Martha  Alexander  Home Theater   60.00     500.000   \n",
      "6  2018-04-18  Central   Martha     Steven    Television   75.00    1198.000   \n",
      "7  2018-05-05  Central  Hermann       Luis    Television   90.00    1198.000   \n",
      "8  2018-05-22     West  Douglas    Michael    Television   32.00    1198.000   \n",
      "9  2018-06-08     East   Martha  Alexander  Home Theater   60.00     500.000   \n",
      "10 2018-06-25  Central  Hermann      Sigal    Television   90.00    1198.000   \n",
      "11 2018-07-12     East   Martha      Diana  Home Theater   29.00     500.000   \n",
      "12 2018-07-29     East  Douglas      Karen  Home Theater   81.00     500.000   \n",
      "13 2018-08-15     East   Martha  Alexander    Television   35.00    1198.000   \n",
      "14 2018-09-01  Central  Douglas       John          Desk    2.00     125.000   \n",
      "15 2018-09-18     East   Martha  Alexander   Video Games   16.00      58.500   \n",
      "16 2018-10-05  Central  Hermann      Sigal  Home Theater   28.00     500.000   \n",
      "17 2018-10-22     East   Martha  Alexander    Cell Phone   64.00     225.000   \n",
      "18 2018-11-08     East  Douglas      Karen    Cell Phone   15.00     225.000   \n",
      "19 2018-11-25  Central  Hermann     Shelli   Video Games   96.00      58.500   \n",
      "20 2018-12-12  Central  Douglas       John    Television   67.00    1198.000   \n",
      "21 2018-12-29     East  Douglas      Karen   Video Games   74.00      58.500   \n",
      "22 2019-01-15  Central  Timothy      David  Home Theater   46.00     500.000   \n",
      "23 2019-02-01  Central  Douglas       John  Home Theater   87.00     500.000   \n",
      "24 2019-02-18     East   Martha  Alexander  Home Theater    4.00     500.000   \n",
      "25 2019-03-07     West  Timothy    Stephen  Home Theater    7.00     500.000   \n",
      "26 2019-03-24  Central  Hermann       Luis   Video Games   50.00      58.500   \n",
      "27 2019-04-10  Central   Martha     Steven    Television   66.00    1198.000   \n",
      "28 2019-04-27     East   Martha      Diana    Cell Phone   96.00     225.000   \n",
      "29 2019-05-14  Central  Timothy      David    Television   53.00    1198.000   \n",
      "30 2019-05-31  Central  Timothy      David  Home Theater   80.00     500.000   \n",
      "31 2019-06-17  Central  Hermann     Shelli          Desk    5.00     125.000   \n",
      "32 2019-07-04     East   Martha  Alexander   Video Games   62.00      58.500   \n",
      "33 2019-07-21  Central  Hermann      Sigal   Video Games   55.00      58.500   \n",
      "34 2019-08-07  Central  Hermann     Shelli   Video Games   42.00      58.500   \n",
      "35 2019-08-24     West  Timothy    Stephen          Desk    3.00     125.000   \n",
      "36 2019-09-10  Central  Timothy      David    Television    7.00    1198.000   \n",
      "37 2019-09-27     West  Timothy    Stephen    Cell Phone   76.00     225.000   \n",
      "38 2019-10-14     West  Douglas    Michael  Home Theater   57.00     500.000   \n",
      "39 2019-10-31  Central   Martha     Steven    Television   14.00    1198.000   \n",
      "40 2019-11-17  Central  Hermann       Luis  Home Theater   11.00     500.000   \n",
      "41 2019-12-04  Central  Hermann       Luis  Home Theater   94.00     500.000   \n",
      "42 2019-12-21  Central   Martha     Steven  Home Theater   28.00     500.000   \n",
      "43        NaT      NaN      NaN        NaN           NaN  278.00    1125.000   \n",
      "44        NaT      NaN      NaN        NaN           NaN   34.75     140.625   \n",
      "\n",
      "     Sale_amt  \n",
      "0   113810.00  \n",
      "1    25000.00  \n",
      "2    43128.00  \n",
      "3     6075.00  \n",
      "4    67088.00  \n",
      "5    30000.00  \n",
      "6    89850.00  \n",
      "7   107820.00  \n",
      "8    38336.00  \n",
      "9    30000.00  \n",
      "10  107820.00  \n",
      "11   14500.00  \n",
      "12   40500.00  \n",
      "13   41930.00  \n",
      "14     250.00  \n",
      "15     936.00  \n",
      "16   14000.00  \n",
      "17   14400.00  \n",
      "18    3375.00  \n",
      "19    5616.00  \n",
      "20   80266.00  \n",
      "21    4329.00  \n",
      "22   23000.00  \n",
      "23   43500.00  \n",
      "24    2000.00  \n",
      "25    3500.00  \n",
      "26    2925.00  \n",
      "27   79068.00  \n",
      "28   21600.00  \n",
      "29   63494.00  \n",
      "30   40000.00  \n",
      "31     625.00  \n",
      "32    3627.00  \n",
      "33    3217.50  \n",
      "34    2457.00  \n",
      "35     375.00  \n",
      "36    8386.00  \n",
      "37   17100.00  \n",
      "38   28500.00  \n",
      "39   16772.00  \n",
      "40    5500.00  \n",
      "41   47000.00  \n",
      "42   14000.00  \n",
      "43   62550.00  \n",
      "44    7818.75  \n"
     ]
    },
    {
     "ename": "TypeError",
     "evalue": "agg function failed [how->mean,dtype->object]",
     "output_type": "error",
     "traceback": [
      "\u001b[1;31m---------------------------------------------------------------------------\u001b[0m",
      "\u001b[1;31mTypeError\u001b[0m                                 Traceback (most recent call last)",
      "File \u001b[1;32m~\\anaconda3\\Lib\\site-packages\\pandas\\core\\groupby\\groupby.py:1942\u001b[0m, in \u001b[0;36mGroupBy._agg_py_fallback\u001b[1;34m(self, how, values, ndim, alt)\u001b[0m\n\u001b[0;32m   1941\u001b[0m \u001b[38;5;28;01mtry\u001b[39;00m:\n\u001b[1;32m-> 1942\u001b[0m     res_values \u001b[38;5;241m=\u001b[39m \u001b[38;5;28mself\u001b[39m\u001b[38;5;241m.\u001b[39m_grouper\u001b[38;5;241m.\u001b[39magg_series(ser, alt, preserve_dtype\u001b[38;5;241m=\u001b[39m\u001b[38;5;28;01mTrue\u001b[39;00m)\n\u001b[0;32m   1943\u001b[0m \u001b[38;5;28;01mexcept\u001b[39;00m \u001b[38;5;167;01mException\u001b[39;00m \u001b[38;5;28;01mas\u001b[39;00m err:\n",
      "File \u001b[1;32m~\\anaconda3\\Lib\\site-packages\\pandas\\core\\groupby\\ops.py:864\u001b[0m, in \u001b[0;36mBaseGrouper.agg_series\u001b[1;34m(self, obj, func, preserve_dtype)\u001b[0m\n\u001b[0;32m    862\u001b[0m     preserve_dtype \u001b[38;5;241m=\u001b[39m \u001b[38;5;28;01mTrue\u001b[39;00m\n\u001b[1;32m--> 864\u001b[0m result \u001b[38;5;241m=\u001b[39m \u001b[38;5;28mself\u001b[39m\u001b[38;5;241m.\u001b[39m_aggregate_series_pure_python(obj, func)\n\u001b[0;32m    866\u001b[0m npvalues \u001b[38;5;241m=\u001b[39m lib\u001b[38;5;241m.\u001b[39mmaybe_convert_objects(result, try_float\u001b[38;5;241m=\u001b[39m\u001b[38;5;28;01mFalse\u001b[39;00m)\n",
      "File \u001b[1;32m~\\anaconda3\\Lib\\site-packages\\pandas\\core\\groupby\\ops.py:885\u001b[0m, in \u001b[0;36mBaseGrouper._aggregate_series_pure_python\u001b[1;34m(self, obj, func)\u001b[0m\n\u001b[0;32m    884\u001b[0m \u001b[38;5;28;01mfor\u001b[39;00m i, group \u001b[38;5;129;01min\u001b[39;00m \u001b[38;5;28menumerate\u001b[39m(splitter):\n\u001b[1;32m--> 885\u001b[0m     res \u001b[38;5;241m=\u001b[39m func(group)\n\u001b[0;32m    886\u001b[0m     res \u001b[38;5;241m=\u001b[39m extract_result(res)\n",
      "File \u001b[1;32m~\\anaconda3\\Lib\\site-packages\\pandas\\core\\groupby\\groupby.py:2454\u001b[0m, in \u001b[0;36mGroupBy.mean.<locals>.<lambda>\u001b[1;34m(x)\u001b[0m\n\u001b[0;32m   2451\u001b[0m \u001b[38;5;28;01melse\u001b[39;00m:\n\u001b[0;32m   2452\u001b[0m     result \u001b[38;5;241m=\u001b[39m \u001b[38;5;28mself\u001b[39m\u001b[38;5;241m.\u001b[39m_cython_agg_general(\n\u001b[0;32m   2453\u001b[0m         \u001b[38;5;124m\"\u001b[39m\u001b[38;5;124mmean\u001b[39m\u001b[38;5;124m\"\u001b[39m,\n\u001b[1;32m-> 2454\u001b[0m         alt\u001b[38;5;241m=\u001b[39m\u001b[38;5;28;01mlambda\u001b[39;00m x: Series(x, copy\u001b[38;5;241m=\u001b[39m\u001b[38;5;28;01mFalse\u001b[39;00m)\u001b[38;5;241m.\u001b[39mmean(numeric_only\u001b[38;5;241m=\u001b[39mnumeric_only),\n\u001b[0;32m   2455\u001b[0m         numeric_only\u001b[38;5;241m=\u001b[39mnumeric_only,\n\u001b[0;32m   2456\u001b[0m     )\n\u001b[0;32m   2457\u001b[0m     \u001b[38;5;28;01mreturn\u001b[39;00m result\u001b[38;5;241m.\u001b[39m__finalize__(\u001b[38;5;28mself\u001b[39m\u001b[38;5;241m.\u001b[39mobj, method\u001b[38;5;241m=\u001b[39m\u001b[38;5;124m\"\u001b[39m\u001b[38;5;124mgroupby\u001b[39m\u001b[38;5;124m\"\u001b[39m)\n",
      "File \u001b[1;32m~\\anaconda3\\Lib\\site-packages\\pandas\\core\\series.py:6549\u001b[0m, in \u001b[0;36mSeries.mean\u001b[1;34m(self, axis, skipna, numeric_only, **kwargs)\u001b[0m\n\u001b[0;32m   6541\u001b[0m \u001b[38;5;129m@doc\u001b[39m(make_doc(\u001b[38;5;124m\"\u001b[39m\u001b[38;5;124mmean\u001b[39m\u001b[38;5;124m\"\u001b[39m, ndim\u001b[38;5;241m=\u001b[39m\u001b[38;5;241m1\u001b[39m))\n\u001b[0;32m   6542\u001b[0m \u001b[38;5;28;01mdef\u001b[39;00m \u001b[38;5;21mmean\u001b[39m(\n\u001b[0;32m   6543\u001b[0m     \u001b[38;5;28mself\u001b[39m,\n\u001b[1;32m   (...)\u001b[0m\n\u001b[0;32m   6547\u001b[0m     \u001b[38;5;241m*\u001b[39m\u001b[38;5;241m*\u001b[39mkwargs,\n\u001b[0;32m   6548\u001b[0m ):\n\u001b[1;32m-> 6549\u001b[0m     \u001b[38;5;28;01mreturn\u001b[39;00m NDFrame\u001b[38;5;241m.\u001b[39mmean(\u001b[38;5;28mself\u001b[39m, axis, skipna, numeric_only, \u001b[38;5;241m*\u001b[39m\u001b[38;5;241m*\u001b[39mkwargs)\n",
      "File \u001b[1;32m~\\anaconda3\\Lib\\site-packages\\pandas\\core\\generic.py:12420\u001b[0m, in \u001b[0;36mNDFrame.mean\u001b[1;34m(self, axis, skipna, numeric_only, **kwargs)\u001b[0m\n\u001b[0;32m  12413\u001b[0m \u001b[38;5;28;01mdef\u001b[39;00m \u001b[38;5;21mmean\u001b[39m(\n\u001b[0;32m  12414\u001b[0m     \u001b[38;5;28mself\u001b[39m,\n\u001b[0;32m  12415\u001b[0m     axis: Axis \u001b[38;5;241m|\u001b[39m \u001b[38;5;28;01mNone\u001b[39;00m \u001b[38;5;241m=\u001b[39m \u001b[38;5;241m0\u001b[39m,\n\u001b[1;32m   (...)\u001b[0m\n\u001b[0;32m  12418\u001b[0m     \u001b[38;5;241m*\u001b[39m\u001b[38;5;241m*\u001b[39mkwargs,\n\u001b[0;32m  12419\u001b[0m ) \u001b[38;5;241m-\u001b[39m\u001b[38;5;241m>\u001b[39m Series \u001b[38;5;241m|\u001b[39m \u001b[38;5;28mfloat\u001b[39m:\n\u001b[1;32m> 12420\u001b[0m     \u001b[38;5;28;01mreturn\u001b[39;00m \u001b[38;5;28mself\u001b[39m\u001b[38;5;241m.\u001b[39m_stat_function(\n\u001b[0;32m  12421\u001b[0m         \u001b[38;5;124m\"\u001b[39m\u001b[38;5;124mmean\u001b[39m\u001b[38;5;124m\"\u001b[39m, nanops\u001b[38;5;241m.\u001b[39mnanmean, axis, skipna, numeric_only, \u001b[38;5;241m*\u001b[39m\u001b[38;5;241m*\u001b[39mkwargs\n\u001b[0;32m  12422\u001b[0m     )\n",
      "File \u001b[1;32m~\\anaconda3\\Lib\\site-packages\\pandas\\core\\generic.py:12377\u001b[0m, in \u001b[0;36mNDFrame._stat_function\u001b[1;34m(self, name, func, axis, skipna, numeric_only, **kwargs)\u001b[0m\n\u001b[0;32m  12375\u001b[0m validate_bool_kwarg(skipna, \u001b[38;5;124m\"\u001b[39m\u001b[38;5;124mskipna\u001b[39m\u001b[38;5;124m\"\u001b[39m, none_allowed\u001b[38;5;241m=\u001b[39m\u001b[38;5;28;01mFalse\u001b[39;00m)\n\u001b[1;32m> 12377\u001b[0m \u001b[38;5;28;01mreturn\u001b[39;00m \u001b[38;5;28mself\u001b[39m\u001b[38;5;241m.\u001b[39m_reduce(\n\u001b[0;32m  12378\u001b[0m     func, name\u001b[38;5;241m=\u001b[39mname, axis\u001b[38;5;241m=\u001b[39maxis, skipna\u001b[38;5;241m=\u001b[39mskipna, numeric_only\u001b[38;5;241m=\u001b[39mnumeric_only\n\u001b[0;32m  12379\u001b[0m )\n",
      "File \u001b[1;32m~\\anaconda3\\Lib\\site-packages\\pandas\\core\\series.py:6457\u001b[0m, in \u001b[0;36mSeries._reduce\u001b[1;34m(self, op, name, axis, skipna, numeric_only, filter_type, **kwds)\u001b[0m\n\u001b[0;32m   6453\u001b[0m     \u001b[38;5;28;01mraise\u001b[39;00m \u001b[38;5;167;01mTypeError\u001b[39;00m(\n\u001b[0;32m   6454\u001b[0m         \u001b[38;5;124mf\u001b[39m\u001b[38;5;124m\"\u001b[39m\u001b[38;5;124mSeries.\u001b[39m\u001b[38;5;132;01m{\u001b[39;00mname\u001b[38;5;132;01m}\u001b[39;00m\u001b[38;5;124m does not allow \u001b[39m\u001b[38;5;132;01m{\u001b[39;00mkwd_name\u001b[38;5;132;01m}\u001b[39;00m\u001b[38;5;124m=\u001b[39m\u001b[38;5;132;01m{\u001b[39;00mnumeric_only\u001b[38;5;132;01m}\u001b[39;00m\u001b[38;5;124m \u001b[39m\u001b[38;5;124m\"\u001b[39m\n\u001b[0;32m   6455\u001b[0m         \u001b[38;5;124m\"\u001b[39m\u001b[38;5;124mwith non-numeric dtypes.\u001b[39m\u001b[38;5;124m\"\u001b[39m\n\u001b[0;32m   6456\u001b[0m     )\n\u001b[1;32m-> 6457\u001b[0m \u001b[38;5;28;01mreturn\u001b[39;00m op(delegate, skipna\u001b[38;5;241m=\u001b[39mskipna, \u001b[38;5;241m*\u001b[39m\u001b[38;5;241m*\u001b[39mkwds)\n",
      "File \u001b[1;32m~\\anaconda3\\Lib\\site-packages\\pandas\\core\\nanops.py:147\u001b[0m, in \u001b[0;36mbottleneck_switch.__call__.<locals>.f\u001b[1;34m(values, axis, skipna, **kwds)\u001b[0m\n\u001b[0;32m    146\u001b[0m \u001b[38;5;28;01melse\u001b[39;00m:\n\u001b[1;32m--> 147\u001b[0m     result \u001b[38;5;241m=\u001b[39m alt(values, axis\u001b[38;5;241m=\u001b[39maxis, skipna\u001b[38;5;241m=\u001b[39mskipna, \u001b[38;5;241m*\u001b[39m\u001b[38;5;241m*\u001b[39mkwds)\n\u001b[0;32m    149\u001b[0m \u001b[38;5;28;01mreturn\u001b[39;00m result\n",
      "File \u001b[1;32m~\\anaconda3\\Lib\\site-packages\\pandas\\core\\nanops.py:404\u001b[0m, in \u001b[0;36m_datetimelike_compat.<locals>.new_func\u001b[1;34m(values, axis, skipna, mask, **kwargs)\u001b[0m\n\u001b[0;32m    402\u001b[0m     mask \u001b[38;5;241m=\u001b[39m isna(values)\n\u001b[1;32m--> 404\u001b[0m result \u001b[38;5;241m=\u001b[39m func(values, axis\u001b[38;5;241m=\u001b[39maxis, skipna\u001b[38;5;241m=\u001b[39mskipna, mask\u001b[38;5;241m=\u001b[39mmask, \u001b[38;5;241m*\u001b[39m\u001b[38;5;241m*\u001b[39mkwargs)\n\u001b[0;32m    406\u001b[0m \u001b[38;5;28;01mif\u001b[39;00m datetimelike:\n",
      "File \u001b[1;32m~\\anaconda3\\Lib\\site-packages\\pandas\\core\\nanops.py:720\u001b[0m, in \u001b[0;36mnanmean\u001b[1;34m(values, axis, skipna, mask)\u001b[0m\n\u001b[0;32m    719\u001b[0m the_sum \u001b[38;5;241m=\u001b[39m values\u001b[38;5;241m.\u001b[39msum(axis, dtype\u001b[38;5;241m=\u001b[39mdtype_sum)\n\u001b[1;32m--> 720\u001b[0m the_sum \u001b[38;5;241m=\u001b[39m _ensure_numeric(the_sum)\n\u001b[0;32m    722\u001b[0m \u001b[38;5;28;01mif\u001b[39;00m axis \u001b[38;5;129;01mis\u001b[39;00m \u001b[38;5;129;01mnot\u001b[39;00m \u001b[38;5;28;01mNone\u001b[39;00m \u001b[38;5;129;01mand\u001b[39;00m \u001b[38;5;28mgetattr\u001b[39m(the_sum, \u001b[38;5;124m\"\u001b[39m\u001b[38;5;124mndim\u001b[39m\u001b[38;5;124m\"\u001b[39m, \u001b[38;5;28;01mFalse\u001b[39;00m):\n",
      "File \u001b[1;32m~\\anaconda3\\Lib\\site-packages\\pandas\\core\\nanops.py:1701\u001b[0m, in \u001b[0;36m_ensure_numeric\u001b[1;34m(x)\u001b[0m\n\u001b[0;32m   1699\u001b[0m \u001b[38;5;28;01mif\u001b[39;00m \u001b[38;5;28misinstance\u001b[39m(x, \u001b[38;5;28mstr\u001b[39m):\n\u001b[0;32m   1700\u001b[0m     \u001b[38;5;66;03m# GH#44008, GH#36703 avoid casting e.g. strings to numeric\u001b[39;00m\n\u001b[1;32m-> 1701\u001b[0m     \u001b[38;5;28;01mraise\u001b[39;00m \u001b[38;5;167;01mTypeError\u001b[39;00m(\u001b[38;5;124mf\u001b[39m\u001b[38;5;124m\"\u001b[39m\u001b[38;5;124mCould not convert string \u001b[39m\u001b[38;5;124m'\u001b[39m\u001b[38;5;132;01m{\u001b[39;00mx\u001b[38;5;132;01m}\u001b[39;00m\u001b[38;5;124m'\u001b[39m\u001b[38;5;124m to numeric\u001b[39m\u001b[38;5;124m\"\u001b[39m)\n\u001b[0;32m   1702\u001b[0m \u001b[38;5;28;01mtry\u001b[39;00m:\n",
      "\u001b[1;31mTypeError\u001b[0m: Could not convert string 'TimothyTimothyTimothyTimothyTimothy' to numeric",
      "\nThe above exception was the direct cause of the following exception:\n",
      "\u001b[1;31mTypeError\u001b[0m                                 Traceback (most recent call last)",
      "Cell \u001b[1;32mIn[5], line 4\u001b[0m\n\u001b[0;32m      2\u001b[0m df \u001b[38;5;241m=\u001b[39m pd\u001b[38;5;241m.\u001b[39mread_excel(\u001b[38;5;124m'\u001b[39m\u001b[38;5;124mSaleData.xlsx\u001b[39m\u001b[38;5;124m'\u001b[39m)\n\u001b[0;32m      3\u001b[0m \u001b[38;5;28mprint\u001b[39m(df)\n\u001b[1;32m----> 4\u001b[0m pd\u001b[38;5;241m.\u001b[39mpivot_table(df,index\u001b[38;5;241m=\u001b[39m[\u001b[38;5;124m\"\u001b[39m\u001b[38;5;124mRegion\u001b[39m\u001b[38;5;124m\"\u001b[39m,\u001b[38;5;124m\"\u001b[39m\u001b[38;5;124mSalesMan\u001b[39m\u001b[38;5;124m\"\u001b[39m])\n",
      "File \u001b[1;32m~\\anaconda3\\Lib\\site-packages\\pandas\\core\\reshape\\pivot.py:102\u001b[0m, in \u001b[0;36mpivot_table\u001b[1;34m(data, values, index, columns, aggfunc, fill_value, margins, dropna, margins_name, observed, sort)\u001b[0m\n\u001b[0;32m     99\u001b[0m     table \u001b[38;5;241m=\u001b[39m concat(pieces, keys\u001b[38;5;241m=\u001b[39mkeys, axis\u001b[38;5;241m=\u001b[39m\u001b[38;5;241m1\u001b[39m)\n\u001b[0;32m    100\u001b[0m     \u001b[38;5;28;01mreturn\u001b[39;00m table\u001b[38;5;241m.\u001b[39m__finalize__(data, method\u001b[38;5;241m=\u001b[39m\u001b[38;5;124m\"\u001b[39m\u001b[38;5;124mpivot_table\u001b[39m\u001b[38;5;124m\"\u001b[39m)\n\u001b[1;32m--> 102\u001b[0m table \u001b[38;5;241m=\u001b[39m __internal_pivot_table(\n\u001b[0;32m    103\u001b[0m     data,\n\u001b[0;32m    104\u001b[0m     values,\n\u001b[0;32m    105\u001b[0m     index,\n\u001b[0;32m    106\u001b[0m     columns,\n\u001b[0;32m    107\u001b[0m     aggfunc,\n\u001b[0;32m    108\u001b[0m     fill_value,\n\u001b[0;32m    109\u001b[0m     margins,\n\u001b[0;32m    110\u001b[0m     dropna,\n\u001b[0;32m    111\u001b[0m     margins_name,\n\u001b[0;32m    112\u001b[0m     observed,\n\u001b[0;32m    113\u001b[0m     sort,\n\u001b[0;32m    114\u001b[0m )\n\u001b[0;32m    115\u001b[0m \u001b[38;5;28;01mreturn\u001b[39;00m table\u001b[38;5;241m.\u001b[39m__finalize__(data, method\u001b[38;5;241m=\u001b[39m\u001b[38;5;124m\"\u001b[39m\u001b[38;5;124mpivot_table\u001b[39m\u001b[38;5;124m\"\u001b[39m)\n",
      "File \u001b[1;32m~\\anaconda3\\Lib\\site-packages\\pandas\\core\\reshape\\pivot.py:183\u001b[0m, in \u001b[0;36m__internal_pivot_table\u001b[1;34m(data, values, index, columns, aggfunc, fill_value, margins, dropna, margins_name, observed, sort)\u001b[0m\n\u001b[0;32m    173\u001b[0m \u001b[38;5;28;01mif\u001b[39;00m observed \u001b[38;5;129;01mis\u001b[39;00m lib\u001b[38;5;241m.\u001b[39mno_default \u001b[38;5;129;01mand\u001b[39;00m \u001b[38;5;28many\u001b[39m(\n\u001b[0;32m    174\u001b[0m     ping\u001b[38;5;241m.\u001b[39m_passed_categorical \u001b[38;5;28;01mfor\u001b[39;00m ping \u001b[38;5;129;01min\u001b[39;00m grouped\u001b[38;5;241m.\u001b[39m_grouper\u001b[38;5;241m.\u001b[39mgroupings\n\u001b[0;32m    175\u001b[0m ):\n\u001b[0;32m    176\u001b[0m     warnings\u001b[38;5;241m.\u001b[39mwarn(\n\u001b[0;32m    177\u001b[0m         \u001b[38;5;124m\"\u001b[39m\u001b[38;5;124mThe default value of observed=False is deprecated and will change \u001b[39m\u001b[38;5;124m\"\u001b[39m\n\u001b[0;32m    178\u001b[0m         \u001b[38;5;124m\"\u001b[39m\u001b[38;5;124mto observed=True in a future version of pandas. Specify \u001b[39m\u001b[38;5;124m\"\u001b[39m\n\u001b[1;32m   (...)\u001b[0m\n\u001b[0;32m    181\u001b[0m         stacklevel\u001b[38;5;241m=\u001b[39mfind_stack_level(),\n\u001b[0;32m    182\u001b[0m     )\n\u001b[1;32m--> 183\u001b[0m agged \u001b[38;5;241m=\u001b[39m grouped\u001b[38;5;241m.\u001b[39magg(aggfunc)\n\u001b[0;32m    185\u001b[0m \u001b[38;5;28;01mif\u001b[39;00m dropna \u001b[38;5;129;01mand\u001b[39;00m \u001b[38;5;28misinstance\u001b[39m(agged, ABCDataFrame) \u001b[38;5;129;01mand\u001b[39;00m \u001b[38;5;28mlen\u001b[39m(agged\u001b[38;5;241m.\u001b[39mcolumns):\n\u001b[0;32m    186\u001b[0m     agged \u001b[38;5;241m=\u001b[39m agged\u001b[38;5;241m.\u001b[39mdropna(how\u001b[38;5;241m=\u001b[39m\u001b[38;5;124m\"\u001b[39m\u001b[38;5;124mall\u001b[39m\u001b[38;5;124m\"\u001b[39m)\n",
      "File \u001b[1;32m~\\anaconda3\\Lib\\site-packages\\pandas\\core\\groupby\\generic.py:1432\u001b[0m, in \u001b[0;36mDataFrameGroupBy.aggregate\u001b[1;34m(self, func, engine, engine_kwargs, *args, **kwargs)\u001b[0m\n\u001b[0;32m   1429\u001b[0m     kwargs[\u001b[38;5;124m\"\u001b[39m\u001b[38;5;124mengine_kwargs\u001b[39m\u001b[38;5;124m\"\u001b[39m] \u001b[38;5;241m=\u001b[39m engine_kwargs\n\u001b[0;32m   1431\u001b[0m op \u001b[38;5;241m=\u001b[39m GroupByApply(\u001b[38;5;28mself\u001b[39m, func, args\u001b[38;5;241m=\u001b[39margs, kwargs\u001b[38;5;241m=\u001b[39mkwargs)\n\u001b[1;32m-> 1432\u001b[0m result \u001b[38;5;241m=\u001b[39m op\u001b[38;5;241m.\u001b[39magg()\n\u001b[0;32m   1433\u001b[0m \u001b[38;5;28;01mif\u001b[39;00m \u001b[38;5;129;01mnot\u001b[39;00m is_dict_like(func) \u001b[38;5;129;01mand\u001b[39;00m result \u001b[38;5;129;01mis\u001b[39;00m \u001b[38;5;129;01mnot\u001b[39;00m \u001b[38;5;28;01mNone\u001b[39;00m:\n\u001b[0;32m   1434\u001b[0m     \u001b[38;5;66;03m# GH #52849\u001b[39;00m\n\u001b[0;32m   1435\u001b[0m     \u001b[38;5;28;01mif\u001b[39;00m \u001b[38;5;129;01mnot\u001b[39;00m \u001b[38;5;28mself\u001b[39m\u001b[38;5;241m.\u001b[39mas_index \u001b[38;5;129;01mand\u001b[39;00m is_list_like(func):\n",
      "File \u001b[1;32m~\\anaconda3\\Lib\\site-packages\\pandas\\core\\apply.py:187\u001b[0m, in \u001b[0;36mApply.agg\u001b[1;34m(self)\u001b[0m\n\u001b[0;32m    184\u001b[0m kwargs \u001b[38;5;241m=\u001b[39m \u001b[38;5;28mself\u001b[39m\u001b[38;5;241m.\u001b[39mkwargs\n\u001b[0;32m    186\u001b[0m \u001b[38;5;28;01mif\u001b[39;00m \u001b[38;5;28misinstance\u001b[39m(func, \u001b[38;5;28mstr\u001b[39m):\n\u001b[1;32m--> 187\u001b[0m     \u001b[38;5;28;01mreturn\u001b[39;00m \u001b[38;5;28mself\u001b[39m\u001b[38;5;241m.\u001b[39mapply_str()\n\u001b[0;32m    189\u001b[0m \u001b[38;5;28;01mif\u001b[39;00m is_dict_like(func):\n\u001b[0;32m    190\u001b[0m     \u001b[38;5;28;01mreturn\u001b[39;00m \u001b[38;5;28mself\u001b[39m\u001b[38;5;241m.\u001b[39magg_dict_like()\n",
      "File \u001b[1;32m~\\anaconda3\\Lib\\site-packages\\pandas\\core\\apply.py:603\u001b[0m, in \u001b[0;36mApply.apply_str\u001b[1;34m(self)\u001b[0m\n\u001b[0;32m    601\u001b[0m         \u001b[38;5;28;01melse\u001b[39;00m:\n\u001b[0;32m    602\u001b[0m             \u001b[38;5;28mself\u001b[39m\u001b[38;5;241m.\u001b[39mkwargs[\u001b[38;5;124m\"\u001b[39m\u001b[38;5;124maxis\u001b[39m\u001b[38;5;124m\"\u001b[39m] \u001b[38;5;241m=\u001b[39m \u001b[38;5;28mself\u001b[39m\u001b[38;5;241m.\u001b[39maxis\n\u001b[1;32m--> 603\u001b[0m \u001b[38;5;28;01mreturn\u001b[39;00m \u001b[38;5;28mself\u001b[39m\u001b[38;5;241m.\u001b[39m_apply_str(obj, func, \u001b[38;5;241m*\u001b[39m\u001b[38;5;28mself\u001b[39m\u001b[38;5;241m.\u001b[39margs, \u001b[38;5;241m*\u001b[39m\u001b[38;5;241m*\u001b[39m\u001b[38;5;28mself\u001b[39m\u001b[38;5;241m.\u001b[39mkwargs)\n",
      "File \u001b[1;32m~\\anaconda3\\Lib\\site-packages\\pandas\\core\\apply.py:693\u001b[0m, in \u001b[0;36mApply._apply_str\u001b[1;34m(self, obj, func, *args, **kwargs)\u001b[0m\n\u001b[0;32m    691\u001b[0m f \u001b[38;5;241m=\u001b[39m \u001b[38;5;28mgetattr\u001b[39m(obj, func)\n\u001b[0;32m    692\u001b[0m \u001b[38;5;28;01mif\u001b[39;00m \u001b[38;5;28mcallable\u001b[39m(f):\n\u001b[1;32m--> 693\u001b[0m     \u001b[38;5;28;01mreturn\u001b[39;00m f(\u001b[38;5;241m*\u001b[39margs, \u001b[38;5;241m*\u001b[39m\u001b[38;5;241m*\u001b[39mkwargs)\n\u001b[0;32m    695\u001b[0m \u001b[38;5;66;03m# people may aggregate on a non-callable attribute\u001b[39;00m\n\u001b[0;32m    696\u001b[0m \u001b[38;5;66;03m# but don't let them think they can pass args to it\u001b[39;00m\n\u001b[0;32m    697\u001b[0m \u001b[38;5;28;01massert\u001b[39;00m \u001b[38;5;28mlen\u001b[39m(args) \u001b[38;5;241m==\u001b[39m \u001b[38;5;241m0\u001b[39m\n",
      "File \u001b[1;32m~\\anaconda3\\Lib\\site-packages\\pandas\\core\\groupby\\groupby.py:2452\u001b[0m, in \u001b[0;36mGroupBy.mean\u001b[1;34m(self, numeric_only, engine, engine_kwargs)\u001b[0m\n\u001b[0;32m   2445\u001b[0m     \u001b[38;5;28;01mreturn\u001b[39;00m \u001b[38;5;28mself\u001b[39m\u001b[38;5;241m.\u001b[39m_numba_agg_general(\n\u001b[0;32m   2446\u001b[0m         grouped_mean,\n\u001b[0;32m   2447\u001b[0m         executor\u001b[38;5;241m.\u001b[39mfloat_dtype_mapping,\n\u001b[0;32m   2448\u001b[0m         engine_kwargs,\n\u001b[0;32m   2449\u001b[0m         min_periods\u001b[38;5;241m=\u001b[39m\u001b[38;5;241m0\u001b[39m,\n\u001b[0;32m   2450\u001b[0m     )\n\u001b[0;32m   2451\u001b[0m \u001b[38;5;28;01melse\u001b[39;00m:\n\u001b[1;32m-> 2452\u001b[0m     result \u001b[38;5;241m=\u001b[39m \u001b[38;5;28mself\u001b[39m\u001b[38;5;241m.\u001b[39m_cython_agg_general(\n\u001b[0;32m   2453\u001b[0m         \u001b[38;5;124m\"\u001b[39m\u001b[38;5;124mmean\u001b[39m\u001b[38;5;124m\"\u001b[39m,\n\u001b[0;32m   2454\u001b[0m         alt\u001b[38;5;241m=\u001b[39m\u001b[38;5;28;01mlambda\u001b[39;00m x: Series(x, copy\u001b[38;5;241m=\u001b[39m\u001b[38;5;28;01mFalse\u001b[39;00m)\u001b[38;5;241m.\u001b[39mmean(numeric_only\u001b[38;5;241m=\u001b[39mnumeric_only),\n\u001b[0;32m   2455\u001b[0m         numeric_only\u001b[38;5;241m=\u001b[39mnumeric_only,\n\u001b[0;32m   2456\u001b[0m     )\n\u001b[0;32m   2457\u001b[0m     \u001b[38;5;28;01mreturn\u001b[39;00m result\u001b[38;5;241m.\u001b[39m__finalize__(\u001b[38;5;28mself\u001b[39m\u001b[38;5;241m.\u001b[39mobj, method\u001b[38;5;241m=\u001b[39m\u001b[38;5;124m\"\u001b[39m\u001b[38;5;124mgroupby\u001b[39m\u001b[38;5;124m\"\u001b[39m)\n",
      "File \u001b[1;32m~\\anaconda3\\Lib\\site-packages\\pandas\\core\\groupby\\groupby.py:1998\u001b[0m, in \u001b[0;36mGroupBy._cython_agg_general\u001b[1;34m(self, how, alt, numeric_only, min_count, **kwargs)\u001b[0m\n\u001b[0;32m   1995\u001b[0m     result \u001b[38;5;241m=\u001b[39m \u001b[38;5;28mself\u001b[39m\u001b[38;5;241m.\u001b[39m_agg_py_fallback(how, values, ndim\u001b[38;5;241m=\u001b[39mdata\u001b[38;5;241m.\u001b[39mndim, alt\u001b[38;5;241m=\u001b[39malt)\n\u001b[0;32m   1996\u001b[0m     \u001b[38;5;28;01mreturn\u001b[39;00m result\n\u001b[1;32m-> 1998\u001b[0m new_mgr \u001b[38;5;241m=\u001b[39m data\u001b[38;5;241m.\u001b[39mgrouped_reduce(array_func)\n\u001b[0;32m   1999\u001b[0m res \u001b[38;5;241m=\u001b[39m \u001b[38;5;28mself\u001b[39m\u001b[38;5;241m.\u001b[39m_wrap_agged_manager(new_mgr)\n\u001b[0;32m   2000\u001b[0m \u001b[38;5;28;01mif\u001b[39;00m how \u001b[38;5;129;01min\u001b[39;00m [\u001b[38;5;124m\"\u001b[39m\u001b[38;5;124midxmin\u001b[39m\u001b[38;5;124m\"\u001b[39m, \u001b[38;5;124m\"\u001b[39m\u001b[38;5;124midxmax\u001b[39m\u001b[38;5;124m\"\u001b[39m]:\n",
      "File \u001b[1;32m~\\anaconda3\\Lib\\site-packages\\pandas\\core\\internals\\managers.py:1469\u001b[0m, in \u001b[0;36mBlockManager.grouped_reduce\u001b[1;34m(self, func)\u001b[0m\n\u001b[0;32m   1465\u001b[0m \u001b[38;5;28;01mif\u001b[39;00m blk\u001b[38;5;241m.\u001b[39mis_object:\n\u001b[0;32m   1466\u001b[0m     \u001b[38;5;66;03m# split on object-dtype blocks bc some columns may raise\u001b[39;00m\n\u001b[0;32m   1467\u001b[0m     \u001b[38;5;66;03m#  while others do not.\u001b[39;00m\n\u001b[0;32m   1468\u001b[0m     \u001b[38;5;28;01mfor\u001b[39;00m sb \u001b[38;5;129;01min\u001b[39;00m blk\u001b[38;5;241m.\u001b[39m_split():\n\u001b[1;32m-> 1469\u001b[0m         applied \u001b[38;5;241m=\u001b[39m sb\u001b[38;5;241m.\u001b[39mapply(func)\n\u001b[0;32m   1470\u001b[0m         result_blocks \u001b[38;5;241m=\u001b[39m extend_blocks(applied, result_blocks)\n\u001b[0;32m   1471\u001b[0m \u001b[38;5;28;01melse\u001b[39;00m:\n",
      "File \u001b[1;32m~\\anaconda3\\Lib\\site-packages\\pandas\\core\\internals\\blocks.py:393\u001b[0m, in \u001b[0;36mBlock.apply\u001b[1;34m(self, func, **kwargs)\u001b[0m\n\u001b[0;32m    387\u001b[0m \u001b[38;5;129m@final\u001b[39m\n\u001b[0;32m    388\u001b[0m \u001b[38;5;28;01mdef\u001b[39;00m \u001b[38;5;21mapply\u001b[39m(\u001b[38;5;28mself\u001b[39m, func, \u001b[38;5;241m*\u001b[39m\u001b[38;5;241m*\u001b[39mkwargs) \u001b[38;5;241m-\u001b[39m\u001b[38;5;241m>\u001b[39m \u001b[38;5;28mlist\u001b[39m[Block]:\n\u001b[0;32m    389\u001b[0m \u001b[38;5;250m    \u001b[39m\u001b[38;5;124;03m\"\"\"\u001b[39;00m\n\u001b[0;32m    390\u001b[0m \u001b[38;5;124;03m    apply the function to my values; return a block if we are not\u001b[39;00m\n\u001b[0;32m    391\u001b[0m \u001b[38;5;124;03m    one\u001b[39;00m\n\u001b[0;32m    392\u001b[0m \u001b[38;5;124;03m    \"\"\"\u001b[39;00m\n\u001b[1;32m--> 393\u001b[0m     result \u001b[38;5;241m=\u001b[39m func(\u001b[38;5;28mself\u001b[39m\u001b[38;5;241m.\u001b[39mvalues, \u001b[38;5;241m*\u001b[39m\u001b[38;5;241m*\u001b[39mkwargs)\n\u001b[0;32m    395\u001b[0m     result \u001b[38;5;241m=\u001b[39m maybe_coerce_values(result)\n\u001b[0;32m    396\u001b[0m     \u001b[38;5;28;01mreturn\u001b[39;00m \u001b[38;5;28mself\u001b[39m\u001b[38;5;241m.\u001b[39m_split_op_result(result)\n",
      "File \u001b[1;32m~\\anaconda3\\Lib\\site-packages\\pandas\\core\\groupby\\groupby.py:1995\u001b[0m, in \u001b[0;36mGroupBy._cython_agg_general.<locals>.array_func\u001b[1;34m(values)\u001b[0m\n\u001b[0;32m   1992\u001b[0m     \u001b[38;5;28;01mreturn\u001b[39;00m result\n\u001b[0;32m   1994\u001b[0m \u001b[38;5;28;01massert\u001b[39;00m alt \u001b[38;5;129;01mis\u001b[39;00m \u001b[38;5;129;01mnot\u001b[39;00m \u001b[38;5;28;01mNone\u001b[39;00m\n\u001b[1;32m-> 1995\u001b[0m result \u001b[38;5;241m=\u001b[39m \u001b[38;5;28mself\u001b[39m\u001b[38;5;241m.\u001b[39m_agg_py_fallback(how, values, ndim\u001b[38;5;241m=\u001b[39mdata\u001b[38;5;241m.\u001b[39mndim, alt\u001b[38;5;241m=\u001b[39malt)\n\u001b[0;32m   1996\u001b[0m \u001b[38;5;28;01mreturn\u001b[39;00m result\n",
      "File \u001b[1;32m~\\anaconda3\\Lib\\site-packages\\pandas\\core\\groupby\\groupby.py:1946\u001b[0m, in \u001b[0;36mGroupBy._agg_py_fallback\u001b[1;34m(self, how, values, ndim, alt)\u001b[0m\n\u001b[0;32m   1944\u001b[0m     msg \u001b[38;5;241m=\u001b[39m \u001b[38;5;124mf\u001b[39m\u001b[38;5;124m\"\u001b[39m\u001b[38;5;124magg function failed [how->\u001b[39m\u001b[38;5;132;01m{\u001b[39;00mhow\u001b[38;5;132;01m}\u001b[39;00m\u001b[38;5;124m,dtype->\u001b[39m\u001b[38;5;132;01m{\u001b[39;00mser\u001b[38;5;241m.\u001b[39mdtype\u001b[38;5;132;01m}\u001b[39;00m\u001b[38;5;124m]\u001b[39m\u001b[38;5;124m\"\u001b[39m\n\u001b[0;32m   1945\u001b[0m     \u001b[38;5;66;03m# preserve the kind of exception that raised\u001b[39;00m\n\u001b[1;32m-> 1946\u001b[0m     \u001b[38;5;28;01mraise\u001b[39;00m \u001b[38;5;28mtype\u001b[39m(err)(msg) \u001b[38;5;28;01mfrom\u001b[39;00m \u001b[38;5;21;01merr\u001b[39;00m\n\u001b[0;32m   1948\u001b[0m \u001b[38;5;28;01mif\u001b[39;00m ser\u001b[38;5;241m.\u001b[39mdtype \u001b[38;5;241m==\u001b[39m \u001b[38;5;28mobject\u001b[39m:\n\u001b[0;32m   1949\u001b[0m     res_values \u001b[38;5;241m=\u001b[39m res_values\u001b[38;5;241m.\u001b[39mastype(\u001b[38;5;28mobject\u001b[39m, copy\u001b[38;5;241m=\u001b[39m\u001b[38;5;28;01mFalse\u001b[39;00m)\n",
      "\u001b[1;31mTypeError\u001b[0m: agg function failed [how->mean,dtype->object]"
     ]
    }
   ],
   "source": [
    "import pandas as pd\n",
    "df = pd.read_excel('SaleData.xlsx')\n",
    "print(df)\n",
    "pd.pivot_table(df,index=[\"Region\",\"SalesMan\"])"
   ]
  },
  {
   "cell_type": "markdown",
   "id": "fb6803ab-a9ca-41d9-be35-2db2985e8868",
   "metadata": {},
   "source": [
    "# Pandas Datetime"
   ]
  },
  {
   "cell_type": "markdown",
   "id": "c7ff5ae8-d5de-4d22-8ee6-280650368947",
   "metadata": {},
   "source": [
    "### Create the todays date"
   ]
  },
  {
   "cell_type": "code",
   "execution_count": 7,
   "id": "4608bb7e-8992-40c9-9904-41be4637b356",
   "metadata": {},
   "outputs": [
    {
     "name": "stdout",
     "output_type": "stream",
     "text": [
      "Today's date:\n",
      "2025-02-03 00:00:00\n"
     ]
    }
   ],
   "source": [
    "import pandas as pd\n",
    "from datetime import date\n",
    "now = pd.to_datetime(str(date.today()), format='%Y-%m-%d')\n",
    "print(\"Today's date:\")\n",
    "print(now)"
   ]
  },
  {
   "cell_type": "markdown",
   "id": "77e0d29c-d9ee-4ac1-9f45-4d855582fba7",
   "metadata": {},
   "source": [
    "# Pandas Plotting"
   ]
  },
  {
   "cell_type": "code",
   "execution_count": 8,
   "id": "0da71e2d-10c9-4d76-bac6-9c4c03e83ae7",
   "metadata": {},
   "outputs": [
    {
     "data": {
      "image/png": "[encoded data removed]",
      "text/plain": [
       "<Figure size 500x500 with 1 Axes>"
      ]
     },
     "metadata": {},
     "output_type": "display_data"
    }
   ],
   "source": [
    "import pandas as pd\n",
    "import matplotlib.pyplot as plt\n",
    "df = pd.read_csv(\"alphabet_stock_data.csv\")\n",
    "start_date = pd.to_datetime('2020-4-1')\n",
    "end_date = pd.to_datetime('2020-09-30')                         \n",
    "df['Date'] = pd.to_datetime(df['Date']) \n",
    "new_df = (df['Date']>= start_date) & (df['Date']<= end_date)\n",
    "df1 = df.loc[new_df]\n",
    "df2 = df1.set_index('Date')\n",
    "plt.figure(figsize=(5,5))\n",
    "plt.suptitle('Stock prices of Alphabet Inc.,\\n01-04-2020 to 30-09-2020', \\\n",
    "                 fontsize=18, color='black')\n",
    "plt.xlabel(\"Date\",fontsize=16, color='black')\n",
    "plt.ylabel(\"$ price\", fontsize=16, color='black')\n",
    " \n",
    "df2['Close'].plot(color='green');\n",
    "plt.show()\n"
   ]
  },
  {
   "cell_type": "markdown",
   "id": "d4d53798-5fd3-4956-a8de-361a54755466",
   "metadata": {},
   "source": [
    "# Performance Optimization "
   ]
  },
  {
   "cell_type": "markdown",
   "id": "479c1917-6203-4534-98a4-92ca434cea9f",
   "metadata": {},
   "source": [
    "### Compare column summation using for loop vs. sum method in Pandas"
   ]
  },
  {
   "cell_type": "code",
   "execution_count": 10,
   "id": "bd65aaf4-c735-418f-9d79-736c86233254",
   "metadata": {},
   "outputs": [
    {
     "name": "stdout",
     "output_type": "stream",
     "text": [
      "Sum using for loop: 49988718\n",
      "Time taken using for loop: 0.4059145450592041 seconds\n",
      "Sum using sum method: 49988718\n",
      "Time taken using sum method: 0.001995563507080078 seconds\n"
     ]
    }
   ],
   "source": [
    "import pandas as pd  # Import the Pandas library\n",
    "import numpy as np  # Import the NumPy library\n",
    "import time  # Import the time module to measure execution time\n",
    "\n",
    "# Create a large DataFrame with random integers\n",
    "np.random.seed(0)  # Set seed for reproducibility\n",
    "data = np.random.randint(1, 100, size=(1000000, 1))  # Generate random data\n",
    "df = pd.DataFrame(data, columns=['Values'])  # Create a DataFrame\n",
    "\n",
    "# Measure the time taken to sum the column using a for loop\n",
    "start_time = time.time()  # Record the start time\n",
    "sum_for_loop = 0  # Initialize the sum variable\n",
    "for value in df['Values']:  # Iterate through each value in the column\n",
    "    sum_for_loop += value  # Add the value to the sum variable\n",
    "time_for_loop = time.time() - start_time  # Calculate the time taken\n",
    "\n",
    "# Measure the time taken to sum the column using the sum method\n",
    "start_time = time.time()  # Record the start time\n",
    "sum_method = df['Values'].sum()  # Use the sum method to calculate the sum\n",
    "time_sum_method = time.time() - start_time  # Calculate the time taken\n",
    "\n",
    "# Print the results\n",
    "print(\"Sum using for loop:\", sum_for_loop)\n",
    "print(\"Time taken using for loop:\", time_for_loop, \"seconds\")\n",
    "print(\"Sum using sum method:\", sum_method)\n",
    "print(\"Time taken using sum method:\", time_sum_method, \"seconds\")"
   ]
  },
  {
   "cell_type": "markdown",
   "id": "d11fdc07-5a90-474c-8612-e3c02aefa7e0",
   "metadata": {},
   "source": [
    "# Mastering advanced indexing and slicing"
   ]
  },
  {
   "cell_type": "markdown",
   "id": "f3b4991c-3399-4b4e-93fe-bafcc49de103",
   "metadata": {},
   "source": [
    "### Select rows with specific condition in Pandas DataFrame"
   ]
  },
  {
   "cell_type": "code",
   "execution_count": 11,
   "id": "cbe82862-5839-4e27-b747-2fa8adfb05d0",
   "metadata": {},
   "outputs": [
    {
     "name": "stdout",
     "output_type": "stream",
     "text": [
      "   A  B\n",
      "1  6  2\n",
      "2  8  9\n",
      "4  7  1\n"
     ]
    }
   ],
   "source": [
    "import pandas as pd\n",
    "\n",
    "# Create a DataFrame\n",
    "df = pd.DataFrame({\n",
    "    'A': [1, 6, 8, 3, 7],\n",
    "    'B': [5, 2, 9, 4, 1]\n",
    "})\n",
    "\n",
    "# Select rows where 'A' is greater than 4\n",
    "result = df[df['A'] > 4]\n",
    "print(result)"
   ]
  },
  {
   "cell_type": "markdown",
   "id": "6dd25c5a-3c5b-4f8c-9f07-3734b6d1732f",
   "metadata": {},
   "source": [
    "# Pandas SQL"
   ]
  },
  {
   "cell_type": "markdown",
   "id": "f29f7258-83f7-4203-8b66-d4f98926becb",
   "metadata": {},
   "source": [
    "### Display all the location id from locations file"
   ]
  },
  {
   "cell_type": "code",
   "execution_count": 12,
   "id": "5af22947-e1db-4b7a-a039-c3a3f27754ef",
   "metadata": {},
   "outputs": [
    {
     "name": "stdout",
     "output_type": "stream",
     "text": [
      "All the locations id from locations file:\n",
      "    location_id\n",
      "0          1000\n",
      "1          1100\n",
      "2          1200\n",
      "3          1300\n",
      "4          1400\n",
      "5          1500\n",
      "6          1600\n",
      "7          1700\n",
      "8          1800\n",
      "9          1900\n",
      "10         2000\n",
      "11         2100\n",
      "12         2200\n",
      "13         2300\n",
      "14         2400\n",
      "15         2500\n",
      "16         2600\n",
      "17         2700\n",
      "18         2800\n",
      "19         2900\n",
      "20         3000\n",
      "21         3100\n",
      "22         3200\n"
     ]
    }
   ],
   "source": [
    "import pandas as pd\n",
    "employees = pd.read_csv(r\"EMPLOYEES.csv\")\n",
    "departments = pd.read_csv(r\"DEPARTMENTS.csv\")\n",
    "job_history = pd.read_csv(r\"JOB_HISTORY.csv\")\n",
    "jobs = pd.read_csv(r\"JOBS.csv\")\n",
    "countries = pd.read_csv(r\"COUNTRIES.csv\")\n",
    "regions = pd.read_csv(r\"REGIONS.csv\")\n",
    "locations = pd.read_csv(r\"LOCATIONS.csv\")\n",
    "result = locations[['location_id']]\n",
    "print(\"All the locations id from locations file:\")\n",
    "print(result)\n"
   ]
  },
  {
   "cell_type": "markdown",
   "id": "df2e7bd2-9eb3-4173-a17d-e3aa4cc0a6bf",
   "metadata": {},
   "source": [
    "# Pandas Resampling and Frequency Conversion"
   ]
  },
  {
   "cell_type": "markdown",
   "id": "a00e9b02-f78b-4a34-a717-32ab30f1187d",
   "metadata": {},
   "source": [
    "### Resampling Time Series data to daily Frequency"
   ]
  },
  {
   "cell_type": "code",
   "execution_count": 15,
   "id": "680bf969-0de6-42dc-a482-bc5de6be1fec",
   "metadata": {},
   "outputs": [
    {
     "name": "stdout",
     "output_type": "stream",
     "text": [
      "2023-01-01    0.073164\n",
      "2023-01-02    0.081448\n",
      "2023-01-03   -0.153949\n",
      "2023-01-04    0.375947\n",
      "2023-01-05    1.192347\n",
      "Freq: D, dtype: float64\n"
     ]
    }
   ],
   "source": [
    "# Import necessary libraries\n",
    "import pandas as pd\n",
    "import numpy as np\n",
    "\n",
    "# Create a time series data with hourly frequency\n",
    "date_rng = pd.date_range(start='2023-01-01', end='2023-01-05', freq='h')\n",
    "ts = pd.Series(np.random.randn(len(date_rng)), index=date_rng)\n",
    "\n",
    "# Resample the time series to daily frequency\n",
    "ts_daily = ts.resample('D').mean()\n",
    "\n",
    "# Display the resampled time series\n",
    "print(ts_daily)"
   ]
  },
  {
   "cell_type": "markdown",
   "id": "7910a5b0-fb95-437c-b2a8-a959acf9332c",
   "metadata": {},
   "source": [
    "# Pandas Advanced Grouping and Aggregation"
   ]
  },
  {
   "cell_type": "markdown",
   "id": "16f96739-8844-4266-becf-a653b86aae76",
   "metadata": {},
   "source": [
    "### Group by Multiple columns in Pandas"
   ]
  },
  {
   "cell_type": "code",
   "execution_count": 16,
   "id": "0ea68dd2-12e8-47a2-ac2a-dbcbd8c1337e",
   "metadata": {},
   "outputs": [
    {
     "name": "stdout",
     "output_type": "stream",
     "text": [
      "Sample DataFrame:\n",
      "  Category Type  Value\n",
      "0        A    X      1\n",
      "1        A    Y      2\n",
      "2        B    X      3\n",
      "3        B    Y      4\n",
      "4        C    X      5\n",
      "5        C    Y      6\n",
      "\n",
      "Group by 'Category' and 'Type':\n",
      "               Value\n",
      "Category Type       \n",
      "A        X         1\n",
      "         Y         2\n",
      "B        X         3\n",
      "         Y         4\n",
      "C        X         5\n",
      "         Y         6\n"
     ]
    }
   ],
   "source": [
    "import pandas as pd\n",
    "# Sample DataFrame\n",
    "data = {'Category': ['A', 'A', 'B', 'B', 'C', 'C'],\n",
    "        'Type': ['X', 'Y', 'X', 'Y', 'X', 'Y'],\n",
    "        'Value': [1, 2, 3, 4, 5, 6]}\n",
    "\n",
    "df = pd.DataFrame(data)\n",
    "print(\"Sample DataFrame:\")\n",
    "print(df)\n",
    "# Group by 'Category' and 'Type'\n",
    "print(\"\\nGroup by 'Category' and 'Type':\")\n",
    "grouped = df.groupby(['Category', 'Type']).sum()\n",
    "print(grouped)"
   ]
  },
  {
   "cell_type": "markdown",
   "id": "4359cb74-1c47-401d-af25-61cd715455f2",
   "metadata": {},
   "source": [
    "# Python Pandas IMDb Movies"
   ]
  },
  {
   "cell_type": "markdown",
   "id": "a023e868-df8f-4044-a19c-852119b2d48f",
   "metadata": {},
   "source": [
    "### Get the columns of the DataFrame"
   ]
  },
  {
   "cell_type": "code",
   "execution_count": 20,
   "id": "dd66c687-a4d2-4494-8b15-480c1e8410c1",
   "metadata": {},
   "outputs": [
    {
     "name": "stdout",
     "output_type": "stream",
     "text": [
      "Columns of the DataFrame:\n",
      "Index(['adult', 'belongs_to_collection', 'budget', 'genres', 'homepage', 'id',\n",
      "       'imdb_id', 'original_language', 'original_title', 'overview',\n",
      "       'popularity', 'poster_path', 'production_companies',\n",
      "       'production_countries', 'release_date', 'revenue', 'runtime',\n",
      "       'spoken_languages', 'status', 'tagline', 'title', 'video',\n",
      "       'vote_average', 'vote_count'],\n",
      "      dtype='object')\n"
     ]
    }
   ],
   "source": [
    "import pandas as pd\n",
    "import numpy as np\n",
    "df = pd.read_csv('movies_metadata.csv',encoding=\"ISO-8859-1\",on_bad_lines=\"skip\")\n",
    "print(\"Columns of the DataFrame:\")\n",
    "print(df.columns)"
   ]
  },
  {
   "cell_type": "markdown",
   "id": "80e36820-6408-47dd-b154-98be44d807f0",
   "metadata": {},
   "source": [
    "# Mastering Pandas"
   ]
  },
  {
   "cell_type": "markdown",
   "id": "523e6fd2-42e9-48ec-9090-190765487330",
   "metadata": {},
   "source": [
    "# Create a DataFrame from a dictionary of lists."
   ]
  },
  {
   "cell_type": "code",
   "execution_count": 21,
   "id": "74662fa2-82eb-4012-8b50-2651caeaa3f7",
   "metadata": {},
   "outputs": [
    {
     "name": "stdout",
     "output_type": "stream",
     "text": [
      "   X  Y\n",
      "0  1  5\n",
      "1  2  6\n",
      "2  3  7\n",
      "3  4  8\n"
     ]
    }
   ],
   "source": [
    "import pandas as pd\n",
    "data = {'X': [1, 2, 3, 4], 'Y': [5, 6, 7, 8]}\n",
    "df = pd.DataFrame(data)\n",
    "print(df)"
   ]
  },
  {
   "cell_type": "markdown",
   "id": "978339a4-80be-4b7b-87aa-8131c52896f5",
   "metadata": {},
   "source": [
    "# Pandas Practice Set-1"
   ]
  },
  {
   "cell_type": "code",
   "execution_count": 22,
   "id": "19714cb1-0d49-4ad8-b084-383a4bafe54b",
   "metadata": {},
   "outputs": [
    {
     "name": "stdout",
     "output_type": "stream",
     "text": [
      "First 5 rows:\n",
      "   carat      cut color clarity  depth  table  price     x     y     z\n",
      "0   0.23    Ideal     E     SI2   61.5   55.0    326  3.95  3.98  2.43\n",
      "1   0.21  Premium     E     SI1   59.8   61.0    326  3.89  3.84  2.31\n",
      "2   0.23     Good     E     VS1   56.9   65.0    327  4.05  4.07  2.31\n",
      "3   0.29  Premium     I     VS2   62.4   58.0    334  4.20  4.23  2.63\n",
      "4   0.31     Good     J     SI2   63.3   58.0    335  4.34  4.35  2.75\n"
     ]
    }
   ],
   "source": [
    "import pandas as pd\n",
    "pd.set_option('display.max_rows', 50)\n",
    "pd.set_option('display.max_columns', 50)\n",
    "diamonds = pd.read_csv('https://raw.githubusercontent.com/mwaskom/seaborn-data/master/diamonds.csv')\n",
    "print(\"First 5 rows:\")\n",
    "print(diamonds.head())"
   ]
  },
  {
   "cell_type": "markdown",
   "id": "f114642f-ee9a-432b-9149-3191c851da34",
   "metadata": {},
   "source": [
    "# Pandas and NumPy Exercises"
   ]
  },
  {
   "cell_type": "markdown",
   "id": "4c12932e-510d-406f-8af3-837a43f8f99f",
   "metadata": {},
   "source": [
    "### Generating a Pandas DataFrame from a NumPy array with custom column names in Python"
   ]
  },
  {
   "cell_type": "code",
   "execution_count": 23,
   "id": "513304a5-79ee-4510-8eee-7632f2986377",
   "metadata": {},
   "outputs": [
    {
     "name": "stdout",
     "output_type": "stream",
     "text": [
      "   Column1  Column2  Column3\n",
      "0        1        2        3\n",
      "1        4        5        6\n",
      "2        7        8        9\n"
     ]
    }
   ],
   "source": [
    "import pandas as pd\n",
    "import numpy as np\n",
    "\n",
    "# Create a NumPy array\n",
    "numpy_array = np.array([[1, 2, 3], [4, 5, 6], [7, 8, 9]])\n",
    "\n",
    "# Define custom column names\n",
    "column_names = ['Column1', 'Column2', 'Column3']\n",
    "\n",
    "# Create a DataFrame with custom column names\n",
    "df = pd.DataFrame(data=numpy_array, columns=column_names)\n",
    "\n",
    "# Display the DataFrame\n",
    "print(df)"
   ]
  },
  {
   "cell_type": "markdown",
   "id": "91c8b625-af5d-45ab-96d4-09da699a23ec",
   "metadata": {},
   "source": [
    "# Python: Machine learning"
   ]
  },
  {
   "cell_type": "markdown",
   "id": "2f4d2fca-a150-4353-a47a-be8c6677c331",
   "metadata": {},
   "source": [
    "### Print the shape of the data, type of the data and first 3 rows"
   ]
  },
  {
   "cell_type": "code",
   "execution_count": 26,
   "id": "5ad1f821-8de7-464b-8a6c-38ab19bc156e",
   "metadata": {},
   "outputs": [],
   "source": [
    "import seaborn as sns \n",
    "import pandas as pd\n",
    "iris=sns.load_dataset(\"iris\")\n",
    "df= pd.DataFrame(iris)"
   ]
  },
  {
   "cell_type": "code",
   "execution_count": 28,
   "id": "00a1104f-0c47-4277-8396-2b6626d4533f",
   "metadata": {},
   "outputs": [
    {
     "name": "stdout",
     "output_type": "stream",
     "text": [
      "<bound method DataFrame.info of      sepal_length  sepal_width  petal_length  petal_width    species\n",
      "0             5.1          3.5           1.4          0.2     setosa\n",
      "1             4.9          3.0           1.4          0.2     setosa\n",
      "2             4.7          3.2           1.3          0.2     setosa\n",
      "3             4.6          3.1           1.5          0.2     setosa\n",
      "4             5.0          3.6           1.4          0.2     setosa\n",
      "..            ...          ...           ...          ...        ...\n",
      "145           6.7          3.0           5.2          2.3  virginica\n",
      "146           6.3          2.5           5.0          1.9  virginica\n",
      "147           6.5          3.0           5.2          2.0  virginica\n",
      "148           6.2          3.4           5.4          2.3  virginica\n",
      "149           5.9          3.0           5.1          1.8  virginica\n",
      "\n",
      "[150 rows x 5 columns]>\n"
     ]
    }
   ],
   "source": [
    "print(df.info)"
   ]
  },
  {
   "cell_type": "code",
   "execution_count": 31,
   "id": "f08ec0c4-f770-40be-a8f2-b4cdc6c0df85",
   "metadata": {},
   "outputs": [
    {
     "data": {
      "image/png": "[encoded data removed]",
      "text/plain": [
       "<Figure size 1200x1200 with 4 Axes>"
      ]
     },
     "metadata": {},
     "output_type": "display_data"
    }
   ],
   "source": [
    "import matplotlib.pyplot as plt\n",
    "# Drop id column\n",
    "new_data = df\n",
    "new_data.hist(edgecolor='black', linewidth=1.2)\n",
    "fig=plt.gcf()\n",
    "fig.set_size_inches(12,12)\n",
    "plt.show()"
   ]
  },
  {
   "cell_type": "code",
   "execution_count": null,
   "id": "ab2826ce-cf4a-4cfa-960e-bb118c184ce0",
   "metadata": {},
   "outputs": [],
   "source": []
  }
 ],
 "metadata": {
  "kernelspec": {
   "display_name": "Python 3 (ipykernel)",
   "language": "python",
   "name": "python3"
  },
  "language_info": {
   "codemirror_mode": {
    "name": "ipython",
    "version": 3
   },
   "file_extension": ".py",
   "mimetype": "text/x-python",
   "name": "python",
   "nbconvert_exporter": "python",
   "pygments_lexer": "ipython3",
   "version": "3.12.7"
  }
 },
 "nbformat": 4,
 "nbformat_minor": 5
}
