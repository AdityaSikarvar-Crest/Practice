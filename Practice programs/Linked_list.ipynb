{
 "cells": [
  {
   "cell_type": "code",
   "execution_count": 20,
   "id": "500ebb6d-b4a6-44cc-8409-fcf931f39ed6",
   "metadata": {},
   "outputs": [],
   "source": [
    "class Node:\n",
    "    def __init__(self,data):\n",
    "        self.data=data\n",
    "        self.next= None\n",
    "    def __str__(self):\n",
    "        return \"Node data is : \"+str(self.data)\n",
    "head=Node(1)\n",
    "head.next=Node(2)"
   ]
  },
  {
   "cell_type": "code",
   "execution_count": 22,
   "id": "f5e75e4a-2138-4e50-bd48-b879a49b49b1",
   "metadata": {},
   "outputs": [
    {
     "name": "stdout",
     "output_type": "stream",
     "text": [
      "Node data is : 2\n"
     ]
    }
   ],
   "source": [
    "print(head.next)"
   ]
  },
  {
   "cell_type": "code",
   "execution_count": 23,
   "id": "e6a3b060-17e2-4707-84f8-a329d87fe292",
   "metadata": {},
   "outputs": [],
   "source": [
    "def removeLoop(self, head):\n",
    "        # code here\n",
    "        temp_head = head\n",
    "        prev = head\n",
    "        while temp_head.next:\n",
    "            if temp_head.next.data == \"\":\n",
    "                prev.next = None\n",
    "                break\n",
    "            temp_head.data = \"\"\n",
    "            prev = prev.next\n",
    "            temp_head = temp_head.next"
   ]
  },
  {
   "cell_type": "code",
   "execution_count": 24,
   "id": "ea33b5c0-58bd-4289-98d9-ccf06d27a36e",
   "metadata": {},
   "outputs": [],
   "source": [
    "def removeLoop(self, head, pos):\n",
    "        if not head or not head.next:\n",
    "            return\n",
    "\n",
    "        slow = head\n",
    "        fast = head\n",
    "\n",
    "        # Detect if there is a loop using Floyd's cycle detection (Tortoise and Hare)\n",
    "        while fast and fast.next:\n",
    "            slow = slow.next\n",
    "            fast = fast.next.next\n",
    "\n",
    "            if slow == fast:\n",
    "                break\n",
    "        else:\n",
    "            return  # No loop detected\n",
    "\n",
    "        # Move slow to the head and keep fast where it is\n",
    "        slow = head\n",
    "        while slow != fast:\n",
    "            slow = slow.next\n",
    "            fast = fast.next\n",
    "\n",
    "        # Now slow and fast are at the start of the loop\n",
    "        # Find the node just before the start of the loop\n",
    "        while fast.next != slow:\n",
    "            fast = fast.next\n",
    "\n",
    "        # Remove the loop by setting the next of the last node in the loop to None\n",
    "        fast.next = None"
   ]
  },
  {
   "cell_type": "markdown",
   "id": "a724dd1b-e0cb-4d28-a9f2-e3ec2ede462b",
   "metadata": {},
   "source": [
    "Python program to Search an Element in a Circular Linked List"
   ]
  },
  {
   "cell_type": "code",
   "execution_count": 1,
   "id": "24c36473-95bc-4d51-b910-b73d4a2ddba5",
   "metadata": {},
   "outputs": [],
   "source": [
    "class Node:  \n",
    "    def __init__(self,data):     \n",
    "        self.data = data; \n",
    "        self.next = None; \n",
    "          \n",
    "class CircularLinkedList: \n",
    "      \n",
    "    # Declaring Circular Linked List \n",
    "    def __init__(self):     \n",
    "        self.head = Node(None);     \n",
    "        self.tail = Node(None);     \n",
    "        self.head.next = self.tail;     \n",
    "        self.tail.next = self.head;  \n",
    "    def add(self,data):\n",
    "        new_node=Node(data)\n",
    "        #For no elements in linked list\n",
    "        if self.head.data == None:\n",
    "            self.head=new_node\n",
    "            self.tail=new_node\n",
    "            new_node.next=self.head\n",
    "        else:\n",
    "            self.tail.next=new_node\n",
    "            self.tail=new_node\n",
    "            self.tail.next=self.head\n",
    "    def find(self,element):\n",
    "        f=0\n",
    "        current=self.head\n",
    "        if self.head == None:\n",
    "            return (\"Empty list\")\n",
    "        else:\n",
    "            while(True):\n",
    "                if current.data == element:\n",
    "                    f=f+1\n",
    "                current=current.next\n",
    "                if current==self.head:\n",
    "                    break\n",
    "            if(f>0):\n",
    "                print(\"element is present\")\n",
    "            else:\n",
    "                print(\"element is not present\")"
   ]
  },
  {
   "cell_type": "code",
   "execution_count": 4,
   "id": "b371e75d-a991-4141-8f1f-103209b7dad9",
   "metadata": {},
   "outputs": [
    {
     "name": "stdout",
     "output_type": "stream",
     "text": [
      "element is present\n",
      "element is present\n"
     ]
    }
   ],
   "source": [
    "circularLinkedList = CircularLinkedList(); \n",
    "      \n",
    "    #Adding nodes to the list     \n",
    "circularLinkedList.add(1); \n",
    "circularLinkedList.add(2); \n",
    "circularLinkedList.add(3); \n",
    "circularLinkedList.add(4); \n",
    "circularLinkedList.add(5); \n",
    "circularLinkedList.add(7); \n",
    "      \n",
    "    # Searching for node 2 in the list     \n",
    "circularLinkedList.find(2); \n",
    "      \n",
    "    #Searching for node in the list     \n",
    "circularLinkedList.find(7);"
   ]
  },
  {
   "cell_type": "markdown",
   "id": "e3d4bb47-2d64-46d8-bb06-94b6087f9699",
   "metadata": {},
   "source": [
    "Pretty print Linked List in Python"
   ]
  },
  {
   "cell_type": "code",
   "execution_count": null,
   "id": "4e8b1e16-4fe9-4a98-bf7c-73434004b297",
   "metadata": {},
   "outputs": [],
   "source": [
    "\n",
    "\n",
    "\n",
    "class Node:\n",
    "    def __init__(self, val=None):\n",
    "        self.val = val\n",
    "        self.next = None\n",
    " \n",
    " \n",
    "class LinkedList:\n",
    "    def __init__(self, head=None):\n",
    "        self.head = head\n",
    " \n",
    "    def __str__(self):\n",
    "       \n",
    "        # defining a blank res variable\n",
    "        res = \"\"\n",
    "         \n",
    "        # initializing ptr to head\n",
    "        ptr = self.head\n",
    "         \n",
    "       # traversing and adding it to res\n",
    "        while ptr:\n",
    "            res += str(ptr.val) + \", \"\n",
    "            ptr = ptr.next\n",
    " \n",
    "       # removing trailing commas\n",
    "        res = res.strip(\", \")\n",
    "         \n",
    "        # chen checking if \n",
    "        # anything is present in res or not\n",
    "        if len(res):\n",
    "            return \"[\" + res + \"]\"\n",
    "        else:\n",
    "            return \"[]\""
   ]
  }
 ],
 "metadata": {
  "kernelspec": {
   "display_name": "Python 3 (ipykernel)",
   "language": "python",
   "name": "python3"
  },
  "language_info": {
   "codemirror_mode": {
    "name": "ipython",
    "version": 3
   },
   "file_extension": ".py",
   "mimetype": "text/x-python",
   "name": "python",
   "nbconvert_exporter": "python",
   "pygments_lexer": "ipython3",
   "version": "3.12.7"
  }
 },
 "nbformat": 4,
 "nbformat_minor": 5
}
