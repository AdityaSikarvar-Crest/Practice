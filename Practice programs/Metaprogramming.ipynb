{
 "cells": [
  {
   "cell_type": "markdown",
   "id": "d1e73554-b58d-43d0-816f-8be6a637d7cc",
   "metadata": {},
   "source": [
    "## Using metaclasses"
   ]
  },
  {
   "cell_type": "markdown",
   "id": "5e2c911e-dc4d-473d-9b08-dcc28270cb0a",
   "metadata": {},
   "source": [
    "### Validate Attributes as Integers"
   ]
  },
  {
   "cell_type": "code",
   "execution_count": 4,
   "id": "93922f60-183e-4f45-b2ea-80bd2fba0daf",
   "metadata": {},
   "outputs": [],
   "source": [
    "# Define a metaclass that ensures all attributes are integers\n",
    "class ValidateAttrMeta(type):\n",
    "    # Override the __new__ method of the metaclass\n",
    "    def __new__(cls, name, bases, dct):\n",
    "        # Iterate over all attributes of the class\n",
    "        for key, value in dct.items():\n",
    "            # Check if the attribute is not a special method and is not an integer\n",
    "            if not key.startswith('__') and not isinstance(value, int):\n",
    "                # Raise a TypeError if the attribute is not an integer\n",
    "                raise TypeError(f\"Attribute {key} is not an integer\")\n",
    "        # Create the new class with validated attributes\n",
    "        return super().__new__(cls, name, bases, dct)\n",
    "\n",
    "# Create a class using the metaclass\n",
    "class MyIntClass(metaclass=ValidateAttrMeta):\n",
    "    # Define an integer attribute\n",
    "    foo = 100\n",
    "    # Define another integer attribute\n",
    "    bazz = 200\n",
    "\n",
    "## def __new__ se kuch hota hai"
   ]
  },
  {
   "cell_type": "markdown",
   "id": "a6c60f03-1f6a-4091-b6a3-df89039d32bb",
   "metadata": {},
   "source": [
    "## Dynamic Class Creation"
   ]
  },
  {
   "cell_type": "markdown",
   "id": "4ebca281-22ca-40b4-85ba-9ed0f9841160",
   "metadata": {},
   "source": [
    "### Write a Python function “create_class” that takes a class name and a dictionary of attributes and methods, and returns a dynamically created class with those attributes and methods."
   ]
  },
  {
   "cell_type": "code",
   "execution_count": 5,
   "id": "d20b52de-9a43-47f0-99d2-f7964ece4435",
   "metadata": {},
   "outputs": [
    {
     "name": "stdout",
     "output_type": "stream",
     "text": [
      "Hello, Sonia Toutatis!\n",
      "25\n"
     ]
    }
   ],
   "source": [
    "# Function to create a class dynamically with specified attributes and methods\n",
    "def create_class(name, attrs):\n",
    "    # Use the type function to create a new class with the given name, inheriting from object, and using the specified attributes and methods\n",
    "    return type(name, (object,), attrs)\n",
    "\n",
    "# Define attributes and methods for the dynamic class\n",
    "attrs = {\n",
    "    # Add a method 'greet' that returns a greeting string\n",
    "    'greet': lambda self: \"Hello, Sonia Toutatis!\",\n",
    "    # Add an attribute 'age' with value 25\n",
    "    'age': 25\n",
    "}\n",
    "\n",
    "# Create a class dynamically using the defined attributes and methods\n",
    "MyDynamicClass = create_class('MyDynamicClass', attrs)\n",
    "\n",
    "# Test the dynamic class\n",
    "# Create an instance of the dynamically created class\n",
    "instance = MyDynamicClass()\n",
    "# Call the 'greet' method of the instance\n",
    "print(instance.greet())  # Output: \"Hello, Sonia Toutatis!\"\n",
    "# Access the 'age' attribute of the instance\n",
    "print(instance.age)  # Output: 25 \n"
   ]
  },
  {
   "cell_type": "markdown",
   "id": "afefd9e2-312b-427a-9d95-2adbd1f4e097",
   "metadata": {},
   "source": [
    "## Code generation "
   ]
  },
  {
   "cell_type": "markdown",
   "id": "ac48ae9e-fe8b-46b3-99af-cf66d7b30e6a",
   "metadata": {},
   "source": [
    "### Write a Python function \"generate_code\" that takes a template string with placeholders and a dictionary of values, and returns the generated code with placeholders replaced by corresponding values."
   ]
  },
  {
   "cell_type": "code",
   "execution_count": 8,
   "id": "70135836-c9c5-4d98-8454-5b34e16d7f5d",
   "metadata": {},
   "outputs": [
    {
     "name": "stdout",
     "output_type": "stream",
     "text": [
      "Diocles\n",
      "25\n"
     ]
    }
   ],
   "source": [
    "# Function to generate code from a template and values\n",
    "def generate_code(template, values):\n",
    "    # Format the template with the provided values\n",
    "    return template.format(**values)\n",
    "\n",
    "# Define a template for a class\n",
    "template = \"\"\"\n",
    "class {class_name}:\n",
    "    def __init__(self, {args}):\n",
    "        {init_body}\n",
    "\"\"\"\n",
    "\n",
    "# Define values to replace placeholders in the template\n",
    "values = {\n",
    "    'class_name': 'Person',  # Class name\n",
    "    'args': 'name, age',     # Constructor arguments\n",
    "    'init_body': 'self.name = name\\n        self.age = age'  # Initialization body\n",
    "}\n",
    "\n",
    "# Generate the code by formatting the template with the values\n",
    "generated_code = generate_code(template, values)\n",
    "\n",
    "# Print the generated code (commented out to avoid execution in this example)\n",
    "# print(generated_code)\n",
    "\n",
    "# Execute the generated code to define the class\n",
    "exec(generated_code)\n",
    "\n",
    "# Test the dynamically generated class\n",
    "person = Person('Diocles', 25)  # Create an instance of the generated class\n",
    "print(person.name)  # Output: 'Diocles'  # Access the name attribute\n",
    "print(person.age)   # Output: 25        # Access the age attribute"
   ]
  },
  {
   "cell_type": "code",
   "execution_count": null,
   "id": "02fbb484-40a8-4fdd-9893-349456d20c7c",
   "metadata": {},
   "outputs": [],
   "source": []
  },
  {
   "cell_type": "code",
   "execution_count": null,
   "id": "5423f13f-f886-4393-b327-c4ce3aa0d772",
   "metadata": {},
   "outputs": [],
   "source": []
  }
 ],
 "metadata": {
  "kernelspec": {
   "display_name": "Python 3 (ipykernel)",
   "language": "python",
   "name": "python3"
  },
  "language_info": {
   "codemirror_mode": {
    "name": "ipython",
    "version": 3
   },
   "file_extension": ".py",
   "mimetype": "text/x-python",
   "name": "python",
   "nbconvert_exporter": "python",
   "pygments_lexer": "ipython3",
   "version": "3.12.7"
  }
 },
 "nbformat": 4,
 "nbformat_minor": 5
}
