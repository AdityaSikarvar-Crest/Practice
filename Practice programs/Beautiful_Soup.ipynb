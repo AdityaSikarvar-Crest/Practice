{
 "cells": [
  {
   "cell_type": "code",
   "execution_count": 28,
   "id": "b6a33b4d-0524-4191-96c1-05db1c664693",
   "metadata": {},
   "outputs": [],
   "source": [
    "from bs4 import BeautifulSoup\n",
    "import requests"
   ]
  },
  {
   "cell_type": "markdown",
   "id": "54204754-d529-4969-9cdd-4961c7f78f7e",
   "metadata": {},
   "source": [
    "### Write a Python program to find the title tags from a given html document."
   ]
  },
  {
   "cell_type": "code",
   "execution_count": 48,
   "id": "51f3ec8c-1ab0-46af-a6e7-7f5df932b609",
   "metadata": {},
   "outputs": [
    {
     "name": "stdout",
     "output_type": "stream",
     "text": [
      "Connected\n"
     ]
    }
   ],
   "source": [
    "url=\"https://www.iana.org/help/example-domains\"\n",
    "response=requests.get(url)\n",
    "if response.status_code== 200 :\n",
    "    soup=BeautifulSoup(response.text,\"lxml\")\n",
    "    print(\"Connected\")"
   ]
  },
  {
   "cell_type": "code",
   "execution_count": 39,
   "id": "d8c932bf-a468-4a2d-97f9-bad3beb57f84",
   "metadata": {},
   "outputs": [
    {
     "data": {
      "text/plain": [
       "'Example Domain'"
      ]
     },
     "execution_count": 39,
     "metadata": {},
     "output_type": "execute_result"
    }
   ],
   "source": [
    "soup.find(\"title\").text.strip()"
   ]
  },
  {
   "cell_type": "markdown",
   "id": "6101cb67-3385-4de2-8e36-7ff24c0ed5e4",
   "metadata": {},
   "source": [
    "### Write a Python program to extract the text in the first paragraph tag of a given html document."
   ]
  },
  {
   "cell_type": "code",
   "execution_count": 45,
   "id": "908cf39e-1ed4-4e2d-90f5-31f7b2f9316e",
   "metadata": {},
   "outputs": [
    {
     "name": "stdout",
     "output_type": "stream",
     "text": [
      "This domain is for use in illustrative examples in documents. You may use this\n",
      "    domain in literature without prior coordination or asking for permission.\n"
     ]
    }
   ],
   "source": [
    "print(soup.find_all(\"p\")[0].text.strip())"
   ]
  },
  {
   "cell_type": "code",
   "execution_count": 54,
   "id": "0139fd91-2f4a-42d4-ad5d-a88ea5255f01",
   "metadata": {},
   "outputs": [],
   "source": [
    "tag=soup.new_tag(\"i\")\n",
    "tag.string=\"Aditya\"\n",
    "soup.h1.string.insert_before(tag)"
   ]
  },
  {
   "cell_type": "code",
   "execution_count": 56,
   "id": "167e987a-a17b-429f-bfa3-365997506f9f",
   "metadata": {},
   "outputs": [
    {
     "name": "stdout",
     "output_type": "stream",
     "text": [
      "Last revised 2017-05-13.\n"
     ]
    }
   ],
   "source": [
    "print(soup.select(\".last-updated\")[0].text.strip())"
   ]
  },
  {
   "cell_type": "code",
   "execution_count": 66,
   "id": "c38e48f7-e6fb-4cf0-a40e-535e8687e565",
   "metadata": {},
   "outputs": [
    {
     "name": "stdout",
     "output_type": "stream",
     "text": [
      "The IANA functions coordinate the Internet’s globally unique identifiers, and\n",
      "                are provided by Public Technical Identifiers, an affiliate of\n",
      "                ICANN.\n"
     ]
    }
   ],
   "source": [
    "print(soup.select(\"#custodian\")[0].text.strip())"
   ]
  },
  {
   "cell_type": "code",
   "execution_count": null,
   "id": "38de6fcc-b68d-4a8a-9003-1085a53998a0",
   "metadata": {},
   "outputs": [],
   "source": []
  }
 ],
 "metadata": {
  "kernelspec": {
   "display_name": "Python 3 (ipykernel)",
   "language": "python",
   "name": "python3"
  },
  "language_info": {
   "codemirror_mode": {
    "name": "ipython",
    "version": 3
   },
   "file_extension": ".py",
   "mimetype": "text/x-python",
   "name": "python",
   "nbconvert_exporter": "python",
   "pygments_lexer": "ipython3",
   "version": "3.12.7"
  }
 },
 "nbformat": 4,
 "nbformat_minor": 5
}
