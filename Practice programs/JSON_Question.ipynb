{
 "cells": [
  {
   "cell_type": "code",
   "execution_count": 6,
   "id": "8739c8b5-26b5-4024-8bdc-8eaf981cce99",
   "metadata": {},
   "outputs": [
    {
     "name": "stdout",
     "output_type": "stream",
     "text": [
      "<class 'str'>\n",
      "<class 'dict'>\n",
      "{\n",
      "    \"Name\": \"David\",\n",
      "    \"Class\": \"I\",\n",
      "    \"Age\": 6\n",
      "}\n"
     ]
    }
   ],
   "source": [
    "import json\n",
    "json_obj =  '{ \"Name\":\"David\", \"Class\":\"I\", \"Age\":6 }'\n",
    "print(type(json_obj))\n",
    "ob=json.loads(json_obj)\n",
    "print(type(ob))\n",
    "ob2=json.dumps(ob,indent=4)\n",
    "print(ob2)"
   ]
  },
  {
   "cell_type": "code",
   "execution_count": 7,
   "id": "90bea7cf-893f-4aaf-ab38-f3982c7bfad0",
   "metadata": {},
   "outputs": [
    {
     "name": "stdout",
     "output_type": "stream",
     "text": [
      "Original Python object:\n",
      "{\"a\":  1, \"a\":  2, \"a\":  3, \"a\": 4, \"b\": 1, \"b\": 2}\n",
      "\n",
      "Unique Key in a JSON object:\n",
      "{'a': 4, 'b': 2}\n"
     ]
    }
   ],
   "source": [
    "import json\n",
    "python_obj = '{\"a\":  1, \"a\":  2, \"a\":  3, \"a\": 4, \"b\": 1, \"b\": 2}'\n",
    "print(\"Original Python object:\")\n",
    "print(python_obj)\n",
    "json_obj = json.loads(python_obj)\n",
    "print(\"\\nUnique Key in a JSON object:\")\n",
    "print(json_obj) "
   ]
  },
  {
   "cell_type": "code",
   "execution_count": null,
   "id": "119921f7-9cf5-4dc9-a1bc-a9a5bc391e07",
   "metadata": {},
   "outputs": [],
   "source": []
  }
 ],
 "metadata": {
  "kernelspec": {
   "display_name": "Python 3 (ipykernel)",
   "language": "python",
   "name": "python3"
  },
  "language_info": {
   "codemirror_mode": {
    "name": "ipython",
    "version": 3
   },
   "file_extension": ".py",
   "mimetype": "text/x-python",
   "name": "python",
   "nbconvert_exporter": "python",
   "pygments_lexer": "ipython3",
   "version": "3.12.7"
  }
 },
 "nbformat": 4,
 "nbformat_minor": 5
}
