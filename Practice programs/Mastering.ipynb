{
 "cells": [
  {
   "cell_type": "markdown",
   "id": "eb179b5a-f179-425f-8038-233c03befc56",
   "metadata": {},
   "source": [
    "## Mastering Python"
   ]
  },
  {
   "cell_type": "code",
   "execution_count": 1,
   "id": "ebb1f917-77f8-4c65-bb9b-5ff1d277789f",
   "metadata": {},
   "outputs": [],
   "source": [
    "# Exercise 12:\n",
    "# Create a 3x3 identity matrix as a list of lists."
   ]
  },
  {
   "cell_type": "code",
   "execution_count": 2,
   "id": "50fe97f8-0d04-4468-9b89-fdc8ebd43646",
   "metadata": {},
   "outputs": [
    {
     "name": "stdout",
     "output_type": "stream",
     "text": [
      "[[1. 0. 0.]\n",
      " [0. 1. 0.]\n",
      " [0. 0. 1.]]\n"
     ]
    }
   ],
   "source": [
    "import numpy as np \n",
    "x=np.eye(3)\n",
    "print(x)"
   ]
  },
  {
   "cell_type": "code",
   "execution_count": 3,
   "id": "658dfc02-9258-4447-99f0-e19d024e69d5",
   "metadata": {},
   "outputs": [],
   "source": [
    "x=[[1 if i==j else 0 for j in range(3)] for i in range(3) ]"
   ]
  },
  {
   "cell_type": "code",
   "execution_count": 10,
   "id": "577f7599-ca8d-4a13-b3df-4f1297c8e385",
   "metadata": {},
   "outputs": [
    {
     "name": "stdout",
     "output_type": "stream",
     "text": [
      "[1, 0, 0]\n",
      "[0, 1, 0]\n",
      "[0, 0, 1]\n"
     ]
    }
   ],
   "source": [
    "print(x[0])\n",
    "print(x[1])\n",
    "print(x[2])"
   ]
  },
  {
   "cell_type": "code",
   "execution_count": 11,
   "id": "b3c0b77b-b097-493a-9fc3-25071690ff2f",
   "metadata": {},
   "outputs": [],
   "source": [
    "# Exercise 44:\n",
    "# Create a list and set the values between the 25th and 75th percentile to 0."
   ]
  },
  {
   "cell_type": "code",
   "execution_count": 19,
   "id": "fa610af2-709d-421d-bcc5-3feedb67a9e1",
   "metadata": {},
   "outputs": [
    {
     "name": "stdout",
     "output_type": "stream",
     "text": [
      "20\n",
      "[10, 0, 0, 0, 50]\n"
     ]
    }
   ],
   "source": [
    "lst = [10, 20, 30, 40, 50]\n",
    "percentile_25th = sorted(lst)[int(len(lst) * 0.25)]\n",
    "print(percentile_25th)\n",
    "percentile_75th = sorted(lst)[int(len(lst) * 0.75)]\n",
    "lst = [0 if percentile_25th <= x <= percentile_75th else x for x in lst]\n",
    "print(lst)"
   ]
  },
  {
   "cell_type": "code",
   "execution_count": null,
   "id": "347f2a3c-d0b1-4edf-b3b6-43b248d2fbf9",
   "metadata": {},
   "outputs": [],
   "source": []
  }
 ],
 "metadata": {
  "kernelspec": {
   "display_name": "Python 3 (ipykernel)",
   "language": "python",
   "name": "python3"
  },
  "language_info": {
   "codemirror_mode": {
    "name": "ipython",
    "version": 3
   },
   "file_extension": ".py",
   "mimetype": "text/x-python",
   "name": "python",
   "nbconvert_exporter": "python",
   "pygments_lexer": "ipython3",
   "version": "3.12.7"
  }
 },
 "nbformat": 4,
 "nbformat_minor": 5
}
