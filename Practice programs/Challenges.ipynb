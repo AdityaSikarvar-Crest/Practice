{
 "cells": [
  {
   "cell_type": "markdown",
   "id": "39798382-4f6e-41af-a562-c08e44963d7e",
   "metadata": {},
   "source": [
    "### Push all zeros to the end of a list"
   ]
  },
  {
   "cell_type": "code",
   "execution_count": 14,
   "id": "54babb92-6d0b-4a25-95c0-f92add3f9d2e",
   "metadata": {},
   "outputs": [
    {
     "data": {
      "text/plain": [
       "[9, 5, 10, 9, 0, 0, 0]"
      ]
     },
     "execution_count": 14,
     "metadata": {},
     "output_type": "execute_result"
    }
   ],
   "source": [
    "import random \n",
    "a=[random.randint(0,10) for _ in range(5)]\n",
    "a.append(0)\n",
    "a.append(0)\n",
    "random.shuffle(a)\n",
    "def push_zero(a):\n",
    "    q=[0 for i in range(a.count(0)) ]\n",
    "    p=[i for i in a if i!=0]\n",
    "    p.extend(q)\n",
    "    return p\n",
    "push_zero(a)"
   ]
  },
  {
   "cell_type": "markdown",
   "id": "35e57084-3c00-4f2c-9949-58ce87b0619a",
   "metadata": {},
   "source": [
    " ### Encode a string amount into integer"
   ]
  },
  {
   "cell_type": "code",
   "execution_count": 23,
   "id": "9c899005-12be-4478-adb0-5a7478c16e75",
   "metadata": {},
   "outputs": [
    {
     "name": "stdout",
     "output_type": "stream",
     "text": [
      "3A3B2C\n",
      "1P1H1P\n",
      "3A3B2C\n"
     ]
    }
   ],
   "source": [
    "def encode_string(str1):\n",
    "    encoded = \"\"\n",
    "    ctr = 1\n",
    "    last_char = str1[0]\n",
    "\n",
    "    for i in range(1, len(str1)):\n",
    "\n",
    "        if last_char == str1[i]:\n",
    "            ctr += 1\n",
    "         \n",
    "        else:\n",
    "            encoded += str(ctr) + last_char\n",
    "            ctr = 0\n",
    "            last_char = str1[i]\n",
    "            ctr += 1\n",
    "    encoded += str(ctr) + last_char\n",
    "    return encoded\n",
    "print(encode_string(\"AAABBBCC\")) \n",
    "print(encode_string(\"PHP\"))  \n",
    "print(encode_string(\"AAABBBCC\"))"
   ]
  },
  {
   "cell_type": "code",
   "execution_count": 33,
   "id": "76b946ac-a9bd-4c90-a863-b781e9e60812",
   "metadata": {},
   "outputs": [
    {
     "name": "stdout",
     "output_type": "stream",
     "text": [
      "669171001\n"
     ]
    }
   ],
   "source": [
    "current=1\n",
    "sum1=1\n",
    "for j in range(2,1002,2):\n",
    "    for l in range(4):\n",
    "        current=current+j\n",
    "        sum1=sum1+current\n",
    "print(sum1)"
   ]
  },
  {
   "cell_type": "code",
   "execution_count": null,
   "id": "ebe9cc08-f491-4997-aab3-cb844cc1cde7",
   "metadata": {},
   "outputs": [],
   "source": [
    "\n"
   ]
  },
  {
   "cell_type": "code",
   "execution_count": null,
   "id": "259cdb8f-722a-49cf-a2e7-23a15288fcad",
   "metadata": {},
   "outputs": [],
   "source": []
  }
 ],
 "metadata": {
  "kernelspec": {
   "display_name": "Python 3 (ipykernel)",
   "language": "python",
   "name": "python3"
  },
  "language_info": {
   "codemirror_mode": {
    "name": "ipython",
    "version": 3
   },
   "file_extension": ".py",
   "mimetype": "text/x-python",
   "name": "python",
   "nbconvert_exporter": "python",
   "pygments_lexer": "ipython3",
   "version": "3.12.7"
  }
 },
 "nbformat": 4,
 "nbformat_minor": 5
}
