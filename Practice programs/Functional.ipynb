{
 "cells": [
  {
   "cell_type": "markdown",
   "id": "a2787b28-bb1b-45a0-94a4-9b0a287e2898",
   "metadata": {},
   "source": [
    "# Functions"
   ]
  },
  {
   "cell_type": "markdown",
   "id": "c6baafb0-9321-4e9a-a4fa-1e3fe27a6120",
   "metadata": {},
   "source": [
    "## Write a Python function that takes a list and returns a new list with distinct elements from the first list."
   ]
  },
  {
   "cell_type": "code",
   "execution_count": 2,
   "id": "89fccdf7-b134-44b9-a354-e01fd7f8516d",
   "metadata": {},
   "outputs": [],
   "source": [
    "def uniq(list1):\n",
    "    x=[]\n",
    "    for i in list1:\n",
    "        if i not in x:\n",
    "            x.append(i)\n",
    "    return x"
   ]
  },
  {
   "cell_type": "code",
   "execution_count": 6,
   "id": "6641a443-a08f-4af5-b252-32d3c54b2b69",
   "metadata": {},
   "outputs": [
    {
     "data": {
      "text/plain": [
       "[1, 2, 3, 4, 5]"
      ]
     },
     "execution_count": 6,
     "metadata": {},
     "output_type": "execute_result"
    }
   ],
   "source": [
    "list1=[1,1,2,3,4,2,3,4,2,3,4,5,5]\n",
    "uniq(list1)"
   ]
  },
  {
   "cell_type": "markdown",
   "id": "ef87f7fe-487e-40ad-b4f4-270f42cda7e3",
   "metadata": {},
   "source": [
    "## Python Exercise: Print out the first n rows of Pascal's triangle"
   ]
  },
  {
   "cell_type": "code",
   "execution_count": 7,
   "id": "ae6b1c95-6b1e-4aa0-8ca0-a02ee43ebc23",
   "metadata": {},
   "outputs": [
    {
     "name": "stdout",
     "output_type": "stream",
     "text": [
      "[1]\n",
      "[1, 1]\n",
      "[1, 2, 1]\n",
      "[1, 3, 3, 1]\n",
      "[1, 4, 6, 4, 1]\n",
      "[1, 5, 10, 10, 5, 1]\n"
     ]
    },
    {
     "data": {
      "text/plain": [
       "True"
      ]
     },
     "execution_count": 7,
     "metadata": {},
     "output_type": "execute_result"
    }
   ],
   "source": [
    "def pascal_triangle(n):\n",
    "    trow = [1]\n",
    "    y = [0]\n",
    "    for x in range(n):\n",
    "        print(trow)\n",
    "        trow = [l + r for l, r in zip(trow + y, y + trow)]\n",
    "    return n >= 1\n",
    "pascal_triangle(6)"
   ]
  },
  {
   "cell_type": "code",
   "execution_count": 14,
   "id": "24a470db-7ccd-4dba-872b-fa2d6e3a2dcb",
   "metadata": {},
   "outputs": [
    {
     "data": {
      "text/plain": [
       "(1, 0, 0, 1)"
      ]
     },
     "execution_count": 14,
     "metadata": {},
     "output_type": "execute_result"
    }
   ],
   "source": [
    "l ,r =(zip([1,0],[0,1]))\n",
    "l+r"
   ]
  },
  {
   "cell_type": "markdown",
   "id": "7c041b28-7f5e-4bae-9bef-76e760c35ef4",
   "metadata": {},
   "source": [
    "# Lambda"
   ]
  },
  {
   "cell_type": "code",
   "execution_count": 20,
   "id": "bb02e6fa-20bb-4516-8db3-df2c2382f0a6",
   "metadata": {},
   "outputs": [
    {
     "data": {
      "text/plain": [
       "[(1, 'apple'), (3, 'kiwi'), (2, 'zelon')]"
      ]
     },
     "execution_count": 20,
     "metadata": {},
     "output_type": "execute_result"
    }
   ],
   "source": [
    "dict1={1:\"apple\",2:\"zelon\",3:\"kiwi\"}\n",
    "sorted(dict1.items(),key=lambda x : x[1])"
   ]
  },
  {
   "cell_type": "markdown",
   "id": "14297934-ed06-4ee4-ac7e-d8cd1fc1e5ce",
   "metadata": {},
   "source": [
    "# Finding pallindrome from a list "
   ]
  },
  {
   "cell_type": "code",
   "execution_count": 22,
   "id": "117c50f5-c8ef-46c8-8057-d338855c0121",
   "metadata": {},
   "outputs": [
    {
     "name": "stdout",
     "output_type": "stream",
     "text": [
      "Orginal list of strings:\n",
      "['php', 'w3r', 'Python', 'abcd', 'Java', 'aaa']\n",
      "\n",
      "List of palindromes:\n",
      "['php', 'aaa']\n"
     ]
    }
   ],
   "source": [
    "texts = [\"php\", \"w3r\", \"Python\", \"abcd\", \"Java\", \"aaa\"]\n",
    "print(\"Orginal list of strings:\")\n",
    "print(texts)  \n",
    "result = list(filter(lambda x: (x == \"\".join(reversed(x))), texts))\n",
    "print(\"\\nList of palindromes:\")\n",
    "print(result) "
   ]
  },
  {
   "cell_type": "markdown",
   "id": "8590fd25-3a38-4170-bcd8-2171fdc5fa1d",
   "metadata": {},
   "source": [
    "# Map"
   ]
  },
  {
   "cell_type": "code",
   "execution_count": 31,
   "id": "24623702-c5d8-46cf-9d98-a200d67765fc",
   "metadata": {},
   "outputs": [],
   "source": [
    "texts.sort(key= str.lower)"
   ]
  },
  {
   "cell_type": "code",
   "execution_count": 32,
   "id": "93fe041f-ccad-456b-8334-005a73b9eb58",
   "metadata": {},
   "outputs": [
    {
     "data": {
      "text/plain": [
       "['aaa', 'abcd', 'Java', 'php', 'Python', 'w3r']"
      ]
     },
     "execution_count": 32,
     "metadata": {},
     "output_type": "execute_result"
    }
   ],
   "source": [
    "texts"
   ]
  },
  {
   "cell_type": "markdown",
   "id": "22525238-7a5e-43fd-8aa4-f65dbcb141f2",
   "metadata": {},
   "source": [
    "## Python: Listify the list of given strings individually using map function"
   ]
  },
  {
   "cell_type": "code",
   "execution_count": 51,
   "id": "77956894-1d53-4bbe-8d7d-ed658ee07661",
   "metadata": {},
   "outputs": [
    {
     "name": "stdout",
     "output_type": "stream",
     "text": [
      "[['R', 'e', 'd'], ['B', 'l', 'u', 'e'], ['B', 'l', 'a', 'c', 'k'], ['W', 'h', 'i', 't', 'e'], ['P', 'i', 'n', 'k']]\n"
     ]
    }
   ],
   "source": [
    "color = ['Red', 'Blue', 'Black', 'White', 'Pink']\n",
    "color=list((map(list, color)))\n",
    "print(color)"
   ]
  },
  {
   "cell_type": "code",
   "execution_count": 53,
   "id": "4e8e7061-1cb2-468f-b599-79b93f0b82d6",
   "metadata": {},
   "outputs": [
    {
     "data": {
      "text/plain": [
       "['red pink', 'white black', 'orange green']"
      ]
     },
     "execution_count": 53,
     "metadata": {},
     "output_type": "execute_result"
    }
   ],
   "source": [
    "colors = [('red', 'pink'), ('white', 'black'), ('orange', 'green')]\n",
    "list(map(\" \".join,colors))"
   ]
  },
  {
   "cell_type": "markdown",
   "id": "9ba9d838-e495-42d2-b2d3-85f5f474ced8",
   "metadata": {},
   "source": [
    "# Itertools"
   ]
  },
  {
   "cell_type": "markdown",
   "id": "64260796-2271-4269-b39f-25b112b1ff41",
   "metadata": {},
   "source": [
    "## Create an iterator from several iterators"
   ]
  },
  {
   "cell_type": "code",
   "execution_count": 71,
   "id": "e0389c9e-7e96-43a5-8d3f-114f80dea28e",
   "metadata": {},
   "outputs": [
    {
     "name": "stdout",
     "output_type": "stream",
     "text": [
      "Type of the new iterator:\n",
      "<class 'itertools.chain'>\n",
      "Elements of the new iterator:\n",
      "1 2 3 a b c d 4 5 6 7 8 9 "
     ]
    }
   ],
   "source": [
    "from itertools import chain\n",
    "def chain_func(l1,l2,l3):\n",
    "    return chain(l1,l2,l3)    \n",
    "result = chain_func([1,2,3], ['a','b','c','d'], [4,5,6,7,8,9])\n",
    "print(\"Type of the new iterator:\")\n",
    "print(type(result))\n",
    "print(\"Elements of the new iterator:\")\n",
    "for i in result:\n",
    "    print(\", \".join(str(i)),end=\" \")"
   ]
  },
  {
   "cell_type": "code",
   "execution_count": 67,
   "id": "9f9908f1-4854-4b8b-babf-f8c131517f00",
   "metadata": {},
   "outputs": [
    {
     "name": "stdout",
     "output_type": "stream",
     "text": [
      "\n"
     ]
    }
   ],
   "source": [
    "print(\", \".join(str(i) for i in result))"
   ]
  },
  {
   "cell_type": "code",
   "execution_count": 2,
   "id": "676d92ff-94a5-44e3-b210-388f6efeaad3",
   "metadata": {},
   "outputs": [
    {
     "name": "stdout",
     "output_type": "stream",
     "text": [
      "1\n",
      "2\n",
      "3\n",
      "4\n",
      "1\n",
      "2\n",
      "3\n",
      "4\n"
     ]
    }
   ],
   "source": [
    "import itertools as it\n",
    "res=it.cycle([1,2,3,4])\n",
    "for i in range(8):\n",
    "    print(next(res))"
   ]
  },
  {
   "cell_type": "markdown",
   "id": "7eb3a982-35b5-4d26-b616-6ccd885c6d7c",
   "metadata": {},
   "source": [
    "## Find the years where 25th of December be a Sunday between 2000 and 2150"
   ]
  },
  {
   "cell_type": "code",
   "execution_count": 3,
   "id": "d7f62384-b99a-4b55-ae13-1bdf01fab2c0",
   "metadata": {},
   "outputs": [],
   "source": [
    "from datetime import date\n",
    "from itertools import islice"
   ]
  },
  {
   "cell_type": "code",
   "execution_count": 4,
   "id": "900868bf-7438-437d-8379-448318dcf244",
   "metadata": {},
   "outputs": [
    {
     "name": "stdout",
     "output_type": "stream",
     "text": [
      "Years between 2000 and 2150 with 25 December on a Sunday:\n",
      "\n",
      "(Total 2)\n",
      "\n",
      "1 -> 2033\n",
      "2 -> 2039\n"
     ]
    }
   ],
   "source": [
    "# xmasIsSunday :: Int -> Bool\n",
    "def xmasIsSunday(y):\n",
    "    '''True if Dec 25 in the given year is a Sunday.'''\n",
    "    return 6 == date(y, 12, 25).weekday()\n",
    " \n",
    " \n",
    "# main :: IO ()\n",
    "def main():\n",
    "    '''Years between 2000 and 2150 with 25 December on a Sunday'''\n",
    " \n",
    "    xs = list(filter(\n",
    "        xmasIsSunday,\n",
    "        enumFromTo(2025)(2040)\n",
    "    ))\n",
    "    total = len(xs)\n",
    "    print(\n",
    "        fTable(main.__doc__ + ':\\n\\n' + '(Total ' + str(total) + ')\\n')(\n",
    "            lambda i: str(1 + i)\n",
    "        )(str)(index(xs))(\n",
    "            enumFromTo(0)(total - 1)\n",
    "        )\n",
    "    )\n",
    " \n",
    " \n",
    "# GENERIC -------------------------------------------------\n",
    " \n",
    "# enumFromTo :: (Int, Int) -> [Int]\n",
    "def enumFromTo(m):\n",
    "    '''Integer enumeration from m to n.'''\n",
    "    return lambda n: list(range(m, 1 + n))\n",
    " \n",
    " \n",
    "# index (!!) :: [a] -> Int -> a\n",
    "def index(xs):\n",
    "    '''Item at given (zero-based) index.'''\n",
    "    return lambda n: None if 0 > n else (\n",
    "        xs[n] if (\n",
    "            hasattr(xs, \"__getitem__\")\n",
    "        ) else next(islice(xs, n, None))\n",
    "    )\n",
    " \n",
    " \n",
    "# unlines :: [String] -> String\n",
    "def unlines(xs):\n",
    "    '''A single string formed by the intercalation\n",
    "       of a list of strings with the newline character.\n",
    "    '''\n",
    "    return '\\n'.join(xs)\n",
    " \n",
    " \n",
    "#  FORMATTING ---------------------------------------------\n",
    "# fTable :: String -> (a -> String) ->\n",
    "#                     (b -> String) -> (a -> b) -> [a] -> String\n",
    "def fTable(s):\n",
    "    '''Heading -> x display function -> fx display function ->\n",
    "                     f -> xs -> tabular string.\n",
    "    '''\n",
    "    def go(xShow, fxShow, f, xs):\n",
    "        ys = [xShow(x) for x in xs]\n",
    "        w = max(map(len, ys))\n",
    "        return s + '\\n' + '\\n'.join(map(\n",
    "            lambda x, y: y.rjust(w, ' ') + ' -> ' + fxShow(f(x)),\n",
    "            xs, ys\n",
    "        ))\n",
    "    return lambda xShow: lambda fxShow: lambda f: lambda xs: go(\n",
    "        xShow, fxShow, f, xs\n",
    "    ) \n",
    " \n",
    "# MAIN --\n",
    "if __name__ == '__main__':\n",
    "    main()"
   ]
  },
  {
   "cell_type": "markdown",
   "id": "85244b42-d137-4040-8d20-a2ca9edf8aa9",
   "metadata": {},
   "source": [
    "## Filter "
   ]
  },
  {
   "cell_type": "markdown",
   "id": "f02deaf2-b87e-4d62-aa91-b20dcaac70b5",
   "metadata": {},
   "source": [
    "### Python program to filter cities by population"
   ]
  },
  {
   "cell_type": "code",
   "execution_count": 5,
   "id": "ecb3fc6b-b8d2-46a0-b590-10a7e60c24d4",
   "metadata": {},
   "outputs": [],
   "source": [
    "cities = [\n",
    "    (\"New York\", 8500000),\n",
    "    (\"Los Angeles\", 4000000),\n",
    "    (\"Chicago\", 2700000),\n",
    "    (\"Houston\", 2300000),\n",
    "    (\"Phoenix\", 1600000),\n",
    "    (\"Philadelphia\", 1500000),\n",
    "    (\"San Antonio\", 1500000),\n",
    "]"
   ]
  },
  {
   "cell_type": "code",
   "execution_count": 8,
   "id": "0d43db9b-f280-41ae-9d42-e7aae402285a",
   "metadata": {},
   "outputs": [],
   "source": [
    "def pop_fil(cities,limit):\n",
    "    return list(filter(lambda cities : cities[1]>=limit ,cities))"
   ]
  },
  {
   "cell_type": "code",
   "execution_count": 9,
   "id": "355e15e7-385f-44a9-bcf3-da23eb5bc8c3",
   "metadata": {},
   "outputs": [
    {
     "data": {
      "text/plain": [
       "[('New York', 8500000),\n",
       " ('Los Angeles', 4000000),\n",
       " ('Chicago', 2700000),\n",
       " ('Houston', 2300000)]"
      ]
     },
     "execution_count": 9,
     "metadata": {},
     "output_type": "execute_result"
    }
   ],
   "source": [
    "pop_fil(cities,2000000)"
   ]
  },
  {
   "cell_type": "code",
   "execution_count": null,
   "id": "6c527cf9-a4e8-456f-bf5a-b35e781a845e",
   "metadata": {},
   "outputs": [],
   "source": []
  }
 ],
 "metadata": {
  "kernelspec": {
   "display_name": "Python 3 (ipykernel)",
   "language": "python",
   "name": "python3"
  },
  "language_info": {
   "codemirror_mode": {
    "name": "ipython",
    "version": 3
   },
   "file_extension": ".py",
   "mimetype": "text/x-python",
   "name": "python",
   "nbconvert_exporter": "python",
   "pygments_lexer": "ipython3",
   "version": "3.12.7"
  }
 },
 "nbformat": 4,
 "nbformat_minor": 5
}
