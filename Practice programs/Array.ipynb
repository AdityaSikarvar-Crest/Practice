{
 "cells": [
  {
   "cell_type": "markdown",
   "id": "d145bb59-aea6-4577-ab52-45f238f74703",
   "metadata": {},
   "source": [
    "## Write a Python program to remove the first occurrence of a specified element from an array."
   ]
  },
  {
   "cell_type": "code",
   "execution_count": 3,
   "id": "819d2390-9184-4ffe-9622-225e1d401f84",
   "metadata": {},
   "outputs": [],
   "source": [
    "arr=[1,2,3,4,1,2,3]\n",
    "def remove_occ(i,arr):\n",
    "    for j in range(len(arr)):\n",
    "        if arr[j] == i:\n",
    "            arr.pop(j)\n",
    "            break\n",
    "    return arr"
   ]
  },
  {
   "cell_type": "code",
   "execution_count": 4,
   "id": "0e93894c-2c1f-48f8-be40-5a9aa6698d0a",
   "metadata": {},
   "outputs": [
    {
     "data": {
      "text/plain": [
       "[2, 3, 4, 1, 2, 3]"
      ]
     },
     "execution_count": 4,
     "metadata": {},
     "output_type": "execute_result"
    }
   ],
   "source": [
    "remove_occ(1,arr)"
   ]
  },
  {
   "cell_type": "code",
   "execution_count": 8,
   "id": "bdb2750a-9906-4e1a-89c7-472705043af5",
   "metadata": {},
   "outputs": [
    {
     "data": {
      "text/plain": [
       "[1, 2, 3, 4]"
      ]
     },
     "execution_count": 8,
     "metadata": {},
     "output_type": "execute_result"
    }
   ],
   "source": [
    "list(sorted(set(arr)))"
   ]
  },
  {
   "cell_type": "code",
   "execution_count": null,
   "id": "6d127604-e4f3-4432-b50e-05e31f14ec80",
   "metadata": {},
   "outputs": [],
   "source": []
  }
 ],
 "metadata": {
  "kernelspec": {
   "display_name": "Python 3 (ipykernel)",
   "language": "python",
   "name": "python3"
  },
  "language_info": {
   "codemirror_mode": {
    "name": "ipython",
    "version": 3
   },
   "file_extension": ".py",
   "mimetype": "text/x-python",
   "name": "python",
   "nbconvert_exporter": "python",
   "pygments_lexer": "ipython3",
   "version": "3.12.7"
  }
 },
 "nbformat": 4,
 "nbformat_minor": 5
}
