{
 "cells": [
  {
   "cell_type": "code",
   "execution_count": 10,
   "id": "8a496278-e7f9-4212-90dc-86cb75fffb97",
   "metadata": {},
   "outputs": [
    {
     "name": "stdout",
     "output_type": "stream",
     "text": [
      "The version of sqlite3 is : 3.45.3\n",
      "(1, 'Alice', 25)\n",
      "(2, 'Bob', 30)\n",
      "(3, 'Alice', 25)\n",
      "(4, 'Bob', 30)\n",
      "(5, 'Alice', 25)\n",
      "(6, 'Bob', 30)\n",
      "(7, 'Alice', 25)\n",
      "(8, 'Bob', 30)\n"
     ]
    }
   ],
   "source": [
    "import sqlite3\n",
    "\n",
    "# Step 1: Connect to a database (or create it)\n",
    "connection = sqlite3.connect(\"example.db\")\n",
    "\n",
    "# Step 2: Create a cursor object\n",
    "cursor = connection.cursor()\n",
    "\n",
    "# Step 3: Create a table\n",
    "cursor.execute(\"\"\"\n",
    "CREATE TABLE IF NOT EXISTS users (\n",
    "    id INTEGER PRIMARY KEY AUTOINCREMENT,\n",
    "    name TEXT,\n",
    "    age INTEGER\n",
    ")\n",
    "\"\"\")\n",
    "\n",
    "# Step 4: Insert data into the table\n",
    "# cursor.execute(\"INSERT INTO users (name, age) VALUES (?, ?)\", (\"Alice\", 25))\n",
    "# cursor.execute(\"INSERT INTO users (name, age) VALUES (?, ?)\", (\"Bob\", 30))\n",
    "\n",
    "# Step 5: Commit the changes\n",
    "connection.commit()\n",
    "sqlite_select_Query = \"select sqlite_version();\"\n",
    "cursor.execute(sqlite_select_Query)\n",
    "rec=cursor.fetchall()\n",
    "print(\"The version of sqlite3 is :\",rec[0][0])\n",
    "# Step 6: Retrieve and display data\n",
    "cursor.execute(\"SELECT * FROM users\")\n",
    "for row in cursor.fetchall():\n",
    "    print(row)\n",
    "\n",
    "# Step 7: Close the connection\n",
    "connection.close()"
   ]
  },
  {
   "cell_type": "markdown",
   "id": "c42929e9-2c6d-4632-8798-965be7748001",
   "metadata": {},
   "source": [
    "### Update all the values of a specific column of a given SQLite table"
   ]
  },
  {
   "cell_type": "code",
   "execution_count": 11,
   "id": "2229e97a-75d2-45ff-9709-fe7cd3b99ea5",
   "metadata": {},
   "outputs": [
    {
     "name": "stdout",
     "output_type": "stream",
     "text": [
      "Agent details:\n",
      "(5001, 'James Hoog', 'New York', 0.15)\n",
      "(5002, 'Nail Knite', 'Paris', 0.25)\n",
      "(5003, 'Pit Alex', 'London', 0.15)\n",
      "(5004, 'Mc Lyon', 'Paris', 0.35)\n",
      "(5005, 'Paul Adam', 'Rome', 0.45)\n",
      "\n",
      "Update all commision to .55:\n",
      "Record Updated successfully \n",
      "\n",
      "After updating Agent details:\n",
      "(5001, 'James Hoog', 'New York', 0.55)\n",
      "(5002, 'Nail Knite', 'Paris', 0.55)\n",
      "(5003, 'Pit Alex', 'London', 0.55)\n",
      "(5004, 'Mc Lyon', 'Paris', 0.55)\n",
      "(5005, 'Paul Adam', 'Rome', 0.55)\n",
      "\n",
      "The SQLite connection is closed.\n"
     ]
    }
   ],
   "source": [
    "import sqlite3 \n",
    "from sqlite3 import Error \n",
    "def sql_connection():\n",
    "    try:\n",
    "      conn = sqlite3.connect('mydatabase.db')\n",
    "      return conn\n",
    "    except Error:\n",
    "      print(Error) \n",
    "def sql_table(conn):\n",
    "    cursorObj = conn.cursor()\n",
    "# Create the table\n",
    "    cursorObj.execute(\"CREATE TABLE salesman(salesman_id n(5), name char(30), city char(35), commission decimal(7,2));\")\n",
    "# Insert records\n",
    "    cursorObj.executescript(\"\"\"\n",
    "    INSERT INTO salesman VALUES(5001,'James Hoog', 'New York', 0.15);\n",
    "    INSERT INTO salesman VALUES(5002,'Nail Knite', 'Paris', 0.25);\n",
    "    INSERT INTO salesman VALUES(5003,'Pit Alex', 'London', 0.15);\n",
    "    INSERT INTO salesman VALUES(5004,'Mc Lyon', 'Paris', 0.35);\n",
    "    INSERT INTO salesman VALUES(5005,'Paul Adam', 'Rome', 0.45);\n",
    "    \"\"\")    \n",
    "    cursorObj.execute(\"SELECT * FROM salesman\")\n",
    "    rows = cursorObj.fetchall()\n",
    "    print(\"Agent details:\")\n",
    "    for row in rows:\n",
    "        print(row)\n",
    "    print(\"\\nUpdate all commision to .55:\")\n",
    "    sql_update_query = \"\"\"Update salesman set commission = .55\"\"\"\n",
    "    cursorObj.execute(sql_update_query)\n",
    "    conn.commit()\n",
    "    print(\"Record Updated successfully \")    \n",
    "    cursorObj.execute(\"SELECT * FROM salesman\")\n",
    "    rows = cursorObj.fetchall()\n",
    "    print(\"\\nAfter updating Agent details:\")\n",
    "    for row in rows:\n",
    "        print(row)\n",
    "sqllite_conn = sql_connection()\n",
    "sql_table(sqllite_conn)\n",
    "if (sqllite_conn):\n",
    "  sqllite_conn.close()\n",
    "  print(\"\\nThe SQLite connection is closed.\")\n"
   ]
  },
  {
   "cell_type": "code",
   "execution_count": null,
   "id": "17d1edbc-7d60-4191-8761-7cc9d60e502e",
   "metadata": {},
   "outputs": [],
   "source": []
  }
 ],
 "metadata": {
  "kernelspec": {
   "display_name": "Python 3 (ipykernel)",
   "language": "python",
   "name": "python3"
  },
  "language_info": {
   "codemirror_mode": {
    "name": "ipython",
    "version": 3
   },
   "file_extension": ".py",
   "mimetype": "text/x-python",
   "name": "python",
   "nbconvert_exporter": "python",
   "pygments_lexer": "ipython3",
   "version": "3.12.7"
  }
 },
 "nbformat": 4,
 "nbformat_minor": 5
}
