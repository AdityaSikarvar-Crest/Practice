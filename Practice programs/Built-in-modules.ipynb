{
 "cells": [
  {
   "cell_type": "markdown",
   "id": "7e1ef184-d24b-4ab2-af33-0858278430e6",
   "metadata": {
    "jp-MarkdownHeadingCollapsed": true
   },
   "source": [
    "## Module - random"
   ]
  },
  {
   "cell_type": "markdown",
   "id": "ac35a4e5-5afd-4643-8198-474d0d081de8",
   "metadata": {},
   "source": [
    "### Create a list of random integers and select multiple items from the said list"
   ]
  },
  {
   "cell_type": "code",
   "execution_count": 31,
   "id": "7dfcb265-3bc2-4e85-a833-85196792cfe5",
   "metadata": {},
   "outputs": [
    {
     "name": "stdout",
     "output_type": "stream",
     "text": [
      "[45, 33, 5, 38]\n"
     ]
    }
   ],
   "source": [
    "import random \n",
    "nums=random.sample(range(0,100),10)\n",
    "print(random.sample(nums,4))"
   ]
  },
  {
   "cell_type": "markdown",
   "id": "371380f0-7c88-4dab-9f8d-01afa51cf2f4",
   "metadata": {},
   "source": [
    "### Set a random seed and get a random number between 0 and 1"
   ]
  },
  {
   "cell_type": "code",
   "execution_count": 34,
   "id": "3bb89471-0cc0-48de-b2f6-a2f13aa31f6f",
   "metadata": {},
   "outputs": [
    {
     "name": "stdout",
     "output_type": "stream",
     "text": [
      "0.13436424411240122\n",
      "0.13436424411240122\n"
     ]
    }
   ],
   "source": [
    "random.seed(1)\n",
    "new=random.random()\n",
    "print(new)\n",
    "random.seed(1)\n",
    "new=random.random()\n",
    "print(new)"
   ]
  },
  {
   "cell_type": "markdown",
   "id": "ddea7d94-9055-4eb1-9e29-2c95a2fbf22a",
   "metadata": {
    "jp-MarkdownHeadingCollapsed": true
   },
   "source": [
    "## Module - types"
   ]
  },
  {
   "cell_type": "markdown",
   "id": "18abfba4-a110-451b-8cc9-138fa3dfab03",
   "metadata": {},
   "source": [
    "### Python program to check if a given value is a method of a user-defined class"
   ]
  },
  {
   "cell_type": "code",
   "execution_count": 37,
   "id": "b58bc1d1-c28c-43cc-84b8-05fcc1943152",
   "metadata": {},
   "outputs": [
    {
     "name": "stdout",
     "output_type": "stream",
     "text": [
      "True\n",
      "True\n",
      "False\n",
      "False\n",
      "False\n"
     ]
    }
   ],
   "source": [
    "import types\n",
    "class C:\n",
    "    def x():\n",
    "        return 1\n",
    "    def y():\n",
    "        return 1            \n",
    "def b():\n",
    "    return 1\n",
    "print(isinstance(C().x, types.MethodType))\n",
    "print(isinstance(C().y, types.MethodType))\n",
    "print(isinstance(b, types.MethodType))\n",
    "print(isinstance(max, types.MethodType))\n",
    "print(isinstance(abs, types.MethodType))"
   ]
  },
  {
   "cell_type": "markdown",
   "id": "37616996-8a05-4c01-ab66-3d6d4c77ccdc",
   "metadata": {},
   "source": [
    "### Check if a given value is compiled code, module"
   ]
  },
  {
   "cell_type": "code",
   "execution_count": 38,
   "id": "346edde7-c64c-46ab-9e09-a4ceb97eee7b",
   "metadata": {},
   "outputs": [
    {
     "name": "stdout",
     "output_type": "stream",
     "text": [
      "Check if a given value is compiled code:\n",
      "True\n",
      "False\n",
      "\n",
      "Check if a given value is a module:\n",
      "True\n"
     ]
    }
   ],
   "source": [
    "import types\n",
    "print(\"Check if a given value is compiled code:\")\n",
    "code = compile(\"print('Hello')\", \"sample\", \"exec\")\n",
    "print(isinstance(code, types.CodeType))\n",
    "print(isinstance(\"print(abs(-111))\", types.CodeType))\n",
    "print(\"\\nCheck if a given value is a module:\")\n",
    "print(isinstance(types, types.ModuleType))"
   ]
  },
  {
   "cell_type": "markdown",
   "id": "3e0d4c41-9094-487e-8dd9-b2c405f5d42c",
   "metadata": {
    "jp-MarkdownHeadingCollapsed": true
   },
   "source": [
    "## Module - decimal"
   ]
  },
  {
   "cell_type": "markdown",
   "id": "04252242-3f09-4072-9b55-32c82175f059",
   "metadata": {},
   "source": [
    "### Construct a Decimal from a float and a Decimal from a string"
   ]
  },
  {
   "cell_type": "code",
   "execution_count": 44,
   "id": "f91602b0-16b2-48d9-a5be-292aaf325313",
   "metadata": {},
   "outputs": [
    {
     "name": "stdout",
     "output_type": "stream",
     "text": [
      "Construct a Decimal from a float:\n",
      "3.14158999999999988261834005243144929409027099609375\n",
      "DecimalTuple(sign=0, digits=(3, 1, 4, 1, 5, 8, 9, 9, 9, 9, 9, 9, 9, 9, 9, 9, 8, 8, 2, 6, 1, 8, 3, 4, 0, 0, 5, 2, 4, 3, 1, 4, 4, 9, 2, 9, 4, 0, 9, 0, 2, 7, 0, 9, 9, 6, 0, 9, 3, 7, 5), exponent=-50)\n",
      "\n",
      "Construct a Decimal from a string:\n",
      "123.25\n",
      "DecimalTuple(sign=0, digits=(1, 2, 3, 2, 5), exponent=-2)\n"
     ]
    }
   ],
   "source": [
    "import decimal\n",
    "print(\"Construct a Decimal from a float:\")\n",
    "pi_val = decimal.Decimal(3.14159)\n",
    "print(pi_val)\n",
    "print(pi_val.as_tuple())\n",
    "print(\"\\nConstruct a Decimal from a string:\")\n",
    "num_str = decimal.Decimal(\"123.25\")\n",
    "print(num_str)\n",
    "print(num_str.as_tuple())\n"
   ]
  },
  {
   "cell_type": "markdown",
   "id": "edbc3ea1-1b51-4b60-a717-c96a1fb68cb9",
   "metadata": {},
   "source": [
    "### Configure the rounding to round to the floor, ceiling"
   ]
  },
  {
   "cell_type": "code",
   "execution_count": 46,
   "id": "f74692e2-7b83-4a2d-a433-a9d4ef49293c",
   "metadata": {},
   "outputs": [
    {
     "name": "stdout",
     "output_type": "stream",
     "text": [
      "Configure the rounding to round to the floor:\n",
      "3.333\n",
      "\n",
      "Configure the rounding to round to the ceiling:\n",
      "3.334\n"
     ]
    }
   ],
   "source": [
    "import decimal\n",
    "print(\"Configure the rounding to round to the floor:\")\n",
    "decimal.getcontext().prec = 4\n",
    "decimal.getcontext().rounding = decimal.ROUND_FLOOR\n",
    "print(decimal.Decimal(20) / decimal.Decimal(6))\n",
    "print(\"\\nConfigure the rounding to round to the ceiling:\")\n",
    "decimal.getcontext().prec = 4\n",
    "decimal.getcontext().rounding = decimal.ROUND_CEILING\n",
    "print(decimal.Decimal(20) / decimal.Decimal(6))\n"
   ]
  },
  {
   "cell_type": "code",
   "execution_count": 48,
   "id": "2d18209c-a267-473e-8940-e24fcd8847f4",
   "metadata": {},
   "outputs": [],
   "source": [
    "decimal.getcontext().rounding=decimal.ROUND_UP"
   ]
  },
  {
   "cell_type": "markdown",
   "id": "79b59ffb-47ef-4c68-97e9-5ef5f3b2786d",
   "metadata": {
    "jp-MarkdownHeadingCollapsed": true
   },
   "source": [
    "## Module - copy"
   ]
  },
  {
   "cell_type": "code",
   "execution_count": 49,
   "id": "9d2e1f7d-bdd5-4c94-b6a0-b146fa8ed417",
   "metadata": {},
   "outputs": [],
   "source": [
    "# Shallow copy means change in one change in all \n",
    "# Deep copy means change in one doesnt mean change in all "
   ]
  },
  {
   "cell_type": "markdown",
   "id": "7d68dfa7-f098-4803-a3fb-cc2d748cb8fe",
   "metadata": {},
   "source": [
    "### Create a shallow copy of a given list"
   ]
  },
  {
   "cell_type": "code",
   "execution_count": 56,
   "id": "9c95a774-44da-427a-a885-006c435923d1",
   "metadata": {},
   "outputs": [
    {
     "name": "stdout",
     "output_type": "stream",
     "text": [
      "Orignal list :  [1, [2, 3, 4]]\n",
      "Copied list :  [1, [2, 3, 4]]\n",
      "Change in orignal :  [1, [2, 3, 5]]\n",
      "Also affects copied list :  [1, [2, 3, 5]]\n"
     ]
    }
   ],
   "source": [
    "import copy\n",
    "nums_x = [1, [2, 3, 4]]\n",
    "nums_y=copy.copy(nums_x)\n",
    "print(\"Orignal list : \", nums_x)\n",
    "print(\"Copied list : \",nums_y)\n",
    "nums_x[1][2]=5\n",
    "print(\"Change in orignal : \",nums_x)\n",
    "print(\"Also affects copied list : \",nums_y)"
   ]
  },
  {
   "cell_type": "markdown",
   "id": "5d88d4ca-3349-483d-becd-43492081aded",
   "metadata": {},
   "source": [
    "### Create a deep copy of a given list"
   ]
  },
  {
   "cell_type": "code",
   "execution_count": 57,
   "id": "f6de2279-b610-433e-81c0-da384b85476b",
   "metadata": {},
   "outputs": [
    {
     "name": "stdout",
     "output_type": "stream",
     "text": [
      "Orignal list :  [1, [2, 3, 4]]\n",
      "Deep copied list :  [1, [2, 3, 4]]\n",
      "Change in orginal :  [1, [2, 3, 5]]\n",
      "Doesnt change deep copy :  [1, [2, 3, 4]]\n"
     ]
    }
   ],
   "source": [
    "import copy\n",
    "nums_x = [1, [2, 3, 4]]\n",
    "nums_y=copy.deepcopy(nums_x)\n",
    "print(\"Orignal list : \",nums_x)\n",
    "print(\"Deep copied list : \",nums_y)\n",
    "nums_x[1][2]=5\n",
    "print(\"Change in orginal : \",nums_x)\n",
    "print(\"Doesnt change deep copy : \",nums_y)"
   ]
  },
  {
   "cell_type": "markdown",
   "id": "9b171fc6-7931-4d80-9b00-33305d57c9c1",
   "metadata": {},
   "source": [
    "## Module - csv"
   ]
  },
  {
   "cell_type": "markdown",
   "id": "0fd4b8c5-d469-4432-a561-7516c523f6ee",
   "metadata": {},
   "source": [
    "### Read and display the content of a given CSV file"
   ]
  },
  {
   "cell_type": "code",
   "execution_count": 81,
   "id": "538d1b8d-e6f2-4d1e-bd85-0186a5e7c4f7",
   "metadata": {},
   "outputs": [
    {
     "name": "stdout",
     "output_type": "stream",
     "text": [
      "14\n",
      "['id', 'Column1', 'Column2', 'Column3', 'Column4', 'Column5']\n",
      "[]\n",
      "[\"['1', '2', '3']\", '[33, 25, 56]', '[35, 30, 30]', '[21, 40, 55]', '[71, 25, 55]', '[10, 10, 40]']\n",
      "[]\n",
      "[\"['1', '2', '3']\", '[33, 25, 56]', '[35, 30, 30]', '[21, 40, 55]', '[71, 25, 55]', '[10, 10, 40]']\n",
      "[]\n",
      "[\"['1', '2', '3']\", '[33, 25, 56]', '[35, 30, 30]', '[21, 40, 55]', '[71, 25, 55]', '[10, 10, 40]']\n",
      "[]\n",
      "[\"['1', '2', '3']\", '[33, 25, 56]', '[35, 30, 30]', '[21, 40, 55]', '[71, 25, 55]', '[10, 10, 40]']\n",
      "[]\n",
      "[\"['1', '2', '3']\", '[33, 25, 56]', '[35, 30, 30]', '[21, 40, 55]', '[71, 25, 55]', '[10, 10, 40]']\n",
      "[]\n",
      "[\"['1', '2', '3']\", '[33, 25, 56]', '[35, 30, 30]', '[21, 40, 55]', '[71, 25, 55]', '[10, 10, 40]']\n",
      "[]\n"
     ]
    }
   ],
   "source": [
    "import csv\n",
    "x=open(\"temp.csv\")\n",
    "r=csv.reader(x)\n",
    "print(len(list(r)))\n",
    "x.seek(0)\n",
    "r=csv.reader(x)\n",
    "for i in r:\n",
    "    print(i)"
   ]
  },
  {
   "cell_type": "code",
   "execution_count": 86,
   "id": "742875aa-4daa-4695-ab42-2bd5d78a7d45",
   "metadata": {},
   "outputs": [
    {
     "name": "stdout",
     "output_type": "stream",
     "text": [
      "['id', 'Column1', 'Column2', 'Column3', 'Column4', 'Column5']\n",
      "[]\n",
      "[\"['1', '2', '3']\", '[33, 25, 56]', '[35, 30, 30]', '[21, 40, 55]', '[71, 25, 55]', '[10, 10, 40]']\n"
     ]
    }
   ],
   "source": [
    "import csv\n",
    "f = open(\"temp.csv\", newline='')\n",
    "csv_reader = csv.reader(f)\n",
    "print(next(csv_reader))\n",
    "print(next(csv_reader))\n",
    "print(next(csv_reader))"
   ]
  },
  {
   "cell_type": "markdown",
   "id": "ed766008-6bd5-45ad-a480-873bc6ff5052",
   "metadata": {},
   "source": [
    "### Write (without writing separate lines between rows) and read a CSV file with specified delimiter"
   ]
  },
  {
   "cell_type": "code",
   "execution_count": 87,
   "id": "6a36577b-457f-44aa-9db8-2c10538d303d",
   "metadata": {},
   "outputs": [
    {
     "name": "stdout",
     "output_type": "stream",
     "text": [
      "['a', 'b', 'c']\n",
      "['d', 'e', 'f']\n",
      "['g', 'h', 'i']\n"
     ]
    }
   ],
   "source": [
    "import csv     \n",
    "fw = open(\"test.csv\", \"w\", newline='')\n",
    "writer = csv.writer(fw, delimiter = \",\")\n",
    "writer.writerow([\"a\",\"b\",\"c\"])\n",
    "writer.writerow([\"d\",\"e\",\"f\"])\n",
    "writer.writerow([\"g\",\"h\",\"i\"])\n",
    "fw.close()\n",
    " \n",
    "fr = open(\"test.csv\", \"r\")\n",
    "csv = csv.reader(fr, delimiter = \",\")\n",
    "for row in csv:\n",
    "  print(row) \n",
    "fr.close()"
   ]
  },
  {
   "cell_type": "code",
   "execution_count": null,
   "id": "8501f41c-c17c-4c82-8f21-2f9a4d857a80",
   "metadata": {},
   "outputs": [],
   "source": []
  },
  {
   "cell_type": "code",
   "execution_count": null,
   "id": "6064b61d-0046-4aba-a9dd-36446a6fd190",
   "metadata": {},
   "outputs": [],
   "source": []
  }
 ],
 "metadata": {
  "kernelspec": {
   "display_name": "Python 3 (ipykernel)",
   "language": "python",
   "name": "python3"
  },
  "language_info": {
   "codemirror_mode": {
    "name": "ipython",
    "version": 3
   },
   "file_extension": ".py",
   "mimetype": "text/x-python",
   "name": "python",
   "nbconvert_exporter": "python",
   "pygments_lexer": "ipython3",
   "version": "3.12.7"
  }
 },
 "nbformat": 4,
 "nbformat_minor": 5
}
