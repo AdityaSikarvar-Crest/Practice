{
 "cells": [
  {
   "cell_type": "code",
   "execution_count": 10,
   "id": "247dfb49-e5ac-413f-a04c-9f3c8830c1ee",
   "metadata": {},
   "outputs": [
    {
     "name": "stdin",
     "output_type": "stream",
     "text": [
      "Enter number s\n"
     ]
    },
    {
     "name": "stdout",
     "output_type": "stream",
     "text": [
      "Error : could not convert string to float: 's'\n"
     ]
    }
   ],
   "source": [
    "try:\n",
    "    i=float(input(\"Enter number\"))\n",
    "    print(i)\n",
    "except Exception as e:\n",
    "    print(\"Error :\" ,e)"
   ]
  },
  {
   "cell_type": "code",
   "execution_count": 12,
   "id": "eeaebc71-f9ba-4975-8cfd-60d801a1828c",
   "metadata": {},
   "outputs": [
    {
     "name": "stdout",
     "output_type": "stream",
     "text": [
      "125\n"
     ]
    },
    {
     "ename": "ValueError",
     "evalue": "Invalid arguments passed to the function",
     "output_type": "error",
     "traceback": [
      "\u001b[1;31m---------------------------------------------------------------------------\u001b[0m",
      "\u001b[1;31mValueError\u001b[0m                                Traceback (most recent call last)",
      "Cell \u001b[1;32mIn[12], line 16\u001b[0m\n\u001b[0;32m     13\u001b[0m     \u001b[38;5;28;01mreturn\u001b[39;00m x \u001b[38;5;241m*\u001b[39m\u001b[38;5;241m*\u001b[39m \u001b[38;5;241m3\u001b[39m\n\u001b[0;32m     15\u001b[0m \u001b[38;5;28mprint\u001b[39m(calculate_cube(\u001b[38;5;241m5\u001b[39m)) \n\u001b[1;32m---> 16\u001b[0m \u001b[38;5;28mprint\u001b[39m(calculate_cube(\u001b[38;5;241m-\u001b[39m\u001b[38;5;241m2\u001b[39m))\n",
      "Cell \u001b[1;32mIn[12], line 7\u001b[0m, in \u001b[0;36mvalidate_arguments.<locals>.decorator.<locals>.wrapper\u001b[1;34m(*args, **kwargs)\u001b[0m\n\u001b[0;32m      5\u001b[0m     \u001b[38;5;28;01mreturn\u001b[39;00m func(\u001b[38;5;241m*\u001b[39margs, \u001b[38;5;241m*\u001b[39m\u001b[38;5;241m*\u001b[39mkwargs)\n\u001b[0;32m      6\u001b[0m \u001b[38;5;28;01melse\u001b[39;00m:\n\u001b[1;32m----> 7\u001b[0m     \u001b[38;5;28;01mraise\u001b[39;00m \u001b[38;5;167;01mValueError\u001b[39;00m(\u001b[38;5;124m\"\u001b[39m\u001b[38;5;124mInvalid arguments passed to the function\u001b[39m\u001b[38;5;124m\"\u001b[39m)\n",
      "\u001b[1;31mValueError\u001b[0m: Invalid arguments passed to the function"
     ]
    }
   ],
   "source": [
    "def validate_arguments(condition):\n",
    "    def decorator(func):\n",
    "        def wrapper(*args, **kwargs):\n",
    "            if condition(*args, **kwargs):\n",
    "                return func(*args, **kwargs)\n",
    "            else:\n",
    "                raise ValueError(\"Invalid arguments passed to the function\")\n",
    "        return wrapper\n",
    "    return decorator\n",
    "\n",
    "@validate_arguments(lambda x: x > 0)\n",
    "def calculate_cube(x):\n",
    "    return x ** 3\n",
    "print(calculate_cube(5)) \n",
    "print(calculate_cube(-2))"
   ]
  },
  {
   "cell_type": "code",
   "execution_count": null,
   "id": "66bbbf9f-6194-4ae7-8d3c-9ad9150d222b",
   "metadata": {},
   "outputs": [],
   "source": []
  }
 ],
 "metadata": {
  "kernelspec": {
   "display_name": "Python 3 (ipykernel)",
   "language": "python",
   "name": "python3"
  },
  "language_info": {
   "codemirror_mode": {
    "name": "ipython",
    "version": 3
   },
   "file_extension": ".py",
   "mimetype": "text/x-python",
   "name": "python",
   "nbconvert_exporter": "python",
   "pygments_lexer": "ipython3",
   "version": "3.12.7"
  }
 },
 "nbformat": 4,
 "nbformat_minor": 5
}
