{
 "cells": [
  {
   "cell_type": "markdown",
   "id": "59960d78-d966-4bc6-bd17-dd67e460578b",
   "metadata": {},
   "source": [
    "## Getting current time and date "
   ]
  },
  {
   "cell_type": "code",
   "execution_count": 7,
   "id": "752ec757-4eb4-4443-8645-2d4f9b6d66a6",
   "metadata": {},
   "outputs": [
    {
     "name": "stdout",
     "output_type": "stream",
     "text": [
      "Current Date and Time: 2025-01-24 12:10:48.231599\n",
      "Current Date: 2025-01-24\n",
      "Current Time: 2025-01-24 12:10:48.231599\n"
     ]
    }
   ],
   "source": [
    "import datetime\n",
    "\n",
    "# Get the current date and time\n",
    "now = datetime.datetime.now()\n",
    "print(\"Current Date and Time:\", now)\n",
    "\n",
    "# Get the current date\n",
    "today = datetime.date.today()\n",
    "print(\"Current Date:\", today)\n",
    "\n",
    "# Get the current time\n",
    "current_time = datetime.datetime.now().now()\n",
    "print(\"Current Time:\", current_time)\n"
   ]
  },
  {
   "cell_type": "code",
   "execution_count": 13,
   "id": "211bbcf4-900c-4578-93ba-3337f3ea2837",
   "metadata": {},
   "outputs": [],
   "source": [
    "diff=datetime.datetime.now()-datetime.datetime(2024,1,24)"
   ]
  },
  {
   "cell_type": "markdown",
   "id": "13ec90c2-d01e-4b23-9808-bc95645b064b",
   "metadata": {},
   "source": [
    "## Leap year"
   ]
  },
  {
   "cell_type": "code",
   "execution_count": 27,
   "id": "4a73ba50-6537-49e0-8d38-9445cee3ca06",
   "metadata": {},
   "outputs": [
    {
     "name": "stdout",
     "output_type": "stream",
     "text": [
      "False\n",
      "True\n"
     ]
    }
   ],
   "source": [
    "def leap_year(y):\n",
    "    if y % 400 == 0:\n",
    "        return True\n",
    "    if y % 100 == 0:\n",
    "        return False\n",
    "    if y % 4 == 0:\n",
    "        return True\n",
    "    else:\n",
    "        return False\n",
    "print(leap_year(1900))\n",
    "print(leap_year(2080))"
   ]
  },
  {
   "cell_type": "markdown",
   "id": "45f7106d-c920-498c-9597-9ee7187f1c4a",
   "metadata": {},
   "source": [
    "## Get the date of the last Tuesday"
   ]
  },
  {
   "cell_type": "code",
   "execution_count": 48,
   "id": "d137a209-03d8-4b7e-9720-5f2b8fbff3f7",
   "metadata": {},
   "outputs": [
    {
     "name": "stdout",
     "output_type": "stream",
     "text": [
      "2025-01-21\n"
     ]
    }
   ],
   "source": [
    "from datetime import timedelta\n",
    "dates=datetime.date.today()\n",
    "offset=(dates.weekday()-1)%7\n",
    "last_tues=dates-timedelta(days=offset)\n",
    "print(last_tues)"
   ]
  },
  {
   "cell_type": "markdown",
   "id": "4ce34818-623c-4a51-aef1-c92712edcf98",
   "metadata": {},
   "source": [
    "# Pendulum"
   ]
  },
  {
   "cell_type": "code",
   "execution_count": 49,
   "id": "7dc9ff8c-0118-4422-b825-24475b14d457",
   "metadata": {},
   "outputs": [
    {
     "name": "stdout",
     "output_type": "stream",
     "text": [
      "Collecting pendulumNote: you may need to restart the kernel to use updated packages.\n",
      "\n",
      "  Downloading pendulum-3.0.0-cp312-none-win_amd64.whl.metadata (7.0 kB)\n",
      "Requirement already satisfied: python-dateutil>=2.6 in c:\\users\\adityasikarvar\\anaconda3\\lib\\site-packages (from pendulum) (2.9.0.post0)\n",
      "Requirement already satisfied: tzdata>=2020.1 in c:\\users\\adityasikarvar\\anaconda3\\lib\\site-packages (from pendulum) (2023.3)\n",
      "Collecting time-machine>=2.6.0 (from pendulum)\n",
      "  Downloading time_machine-2.16.0-cp312-cp312-win_amd64.whl.metadata (21 kB)\n",
      "Requirement already satisfied: six>=1.5 in c:\\users\\adityasikarvar\\anaconda3\\lib\\site-packages (from python-dateutil>=2.6->pendulum) (1.16.0)\n",
      "Downloading pendulum-3.0.0-cp312-none-win_amd64.whl (293 kB)\n",
      "Downloading time_machine-2.16.0-cp312-cp312-win_amd64.whl (19 kB)\n",
      "Installing collected packages: time-machine, pendulum\n",
      "Successfully installed pendulum-3.0.0 time-machine-2.16.0\n"
     ]
    }
   ],
   "source": [
    "pip install pendulum"
   ]
  },
  {
   "cell_type": "code",
   "execution_count": 7,
   "id": "7f9d87a0-6046-4914-b236-685324880068",
   "metadata": {},
   "outputs": [
    {
     "name": "stdout",
     "output_type": "stream",
     "text": [
      "2025-01-24 12:57:59.892872+05:30\n",
      "2025-01-25 13:57:59.892872+05:30\n"
     ]
    }
   ],
   "source": [
    "import pendulum \n",
    "current=pendulum.now()\n",
    "print(current)\n",
    "tom=current.add(days=1,hours=1)\n",
    "print(tom)"
   ]
  },
  {
   "cell_type": "code",
   "execution_count": 18,
   "id": "817f0cf7-3f6b-42f3-9617-a169b62d8157",
   "metadata": {},
   "outputs": [],
   "source": [
    "format1=current.format('DD-MM-YYYY HH:mm')"
   ]
  },
  {
   "cell_type": "code",
   "execution_count": 19,
   "id": "0966d9bd-a060-47e1-9e8d-bf9759f8bcc6",
   "metadata": {},
   "outputs": [
    {
     "data": {
      "text/plain": [
       "'24-01-2025 12:57'"
      ]
     },
     "execution_count": 19,
     "metadata": {},
     "output_type": "execute_result"
    }
   ],
   "source": [
    "format1"
   ]
  },
  {
   "cell_type": "code",
   "execution_count": null,
   "id": "8e3d0cc2-766f-4c70-b80c-4a56b18d0c5f",
   "metadata": {},
   "outputs": [],
   "source": []
  }
 ],
 "metadata": {
  "kernelspec": {
   "display_name": "Python 3 (ipykernel)",
   "language": "python",
   "name": "python3"
  },
  "language_info": {
   "codemirror_mode": {
    "name": "ipython",
    "version": 3
   },
   "file_extension": ".py",
   "mimetype": "text/x-python",
   "name": "python",
   "nbconvert_exporter": "python",
   "pygments_lexer": "ipython3",
   "version": "3.12.7"
  }
 },
 "nbformat": 4,
 "nbformat_minor": 5
}
