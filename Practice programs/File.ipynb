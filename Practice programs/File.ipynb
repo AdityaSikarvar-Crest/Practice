{
 "cells": [
  {
   "cell_type": "markdown",
   "id": "0f04b9c0-c863-4d9e-b34a-b583efd1e336",
   "metadata": {},
   "source": [
    "## Read content from one file and write it into another file"
   ]
  },
  {
   "cell_type": "code",
   "execution_count": 3,
   "id": "e12fc3fc-f153-43f1-94c9-90859debda81",
   "metadata": {},
   "outputs": [],
   "source": [
    "# Approach 1\n",
    "with open(\"text.txt\",\"r+\") as file:\n",
    "    with open(\"output.txt\",\"w\") as output:\n",
    "        for line in file:\n",
    "            output.write(line)\n"
   ]
  },
  {
   "cell_type": "code",
   "execution_count": 4,
   "id": "4635f5f9-92f6-43ef-9823-143cb5337976",
   "metadata": {},
   "outputs": [],
   "source": [
    "#Approach 2\n",
    "with open(\"text.txt\",\"r+\") as file:\n",
    "    with open(\"output.txt\",\"w\") as output:\n",
    "        output.write(file.read())"
   ]
  },
  {
   "cell_type": "markdown",
   "id": "b06ba7ab-44f8-40b7-b1bc-7871b93d6e2e",
   "metadata": {},
   "source": [
    "## Write a dictionary to a file in Python"
   ]
  },
  {
   "cell_type": "code",
   "execution_count": 5,
   "id": "c601d9c4-5b8c-4230-a436-139bb663ef6b",
   "metadata": {},
   "outputs": [],
   "source": [
    "\n",
    "import json \n",
    "  \n",
    "details = {'Name': \"Bob\", \n",
    "          'Age' :28} \n",
    "  \n",
    "with open('convert.txt', 'w') as convert_file: \n",
    "     convert_file.write(json.dumps(details))"
   ]
  },
  {
   "cell_type": "code",
   "execution_count": 15,
   "id": "edde96fb-c6a3-4042-8269-9781ed1e640c",
   "metadata": {},
   "outputs": [
    {
     "name": "stdout",
     "output_type": "stream",
     "text": [
      "30\n"
     ]
    },
    {
     "data": {
      "text/plain": [
       "30"
      ]
     },
     "execution_count": 15,
     "metadata": {},
     "output_type": "execute_result"
    }
   ],
   "source": [
    "import os\n",
    "from pathlib import Path\n",
    "sz = Path('text.txt').stat().st_size  \n",
    "print(sz)\n",
    "sz=os.path.getsize('text.txt')\n",
    "sz"
   ]
  },
  {
   "cell_type": "markdown",
   "id": "72a27a62-9a11-408e-849d-849a0cdd3002",
   "metadata": {},
   "source": [
    "## Frequent word count"
   ]
  },
  {
   "cell_type": "code",
   "execution_count": 16,
   "id": "8bb6504f-08b5-4bb9-90a3-d68dc656ba8d",
   "metadata": {
    "scrolled": true
   },
   "outputs": [
    {
     "name": "stdout",
     "output_type": "stream",
     "text": [
      "Most repeated word: hello\n",
      "Frequency: 1\n"
     ]
    }
   ],
   "source": [
    "file = open(\"text.txt\",\"r\")\n",
    "frequent_word = \"\"\n",
    "frequency = 0 \n",
    "words = []\n",
    " \n",
    "# Traversing file line by line \n",
    "for line in file:\n",
    "     \n",
    "    # splits each line into\n",
    "    # words and removing spaces \n",
    "    # and punctuations from the input\n",
    "    line_word = line.lower().replace(',','').replace('.','').split(\" \");  \n",
    "     \n",
    "    # Adding them to list words\n",
    "    for w in line_word:  \n",
    "        words.append(w);  \n",
    "         \n",
    "# Finding the max occurred word\n",
    "for i in range(0, len(words)):  \n",
    "     \n",
    "    # Declaring count\n",
    "    count = 1;  \n",
    "     \n",
    "    # Count each word in the file  \n",
    "    for j in range(i+1, len(words)):  \n",
    "        if(words[i] == words[j]):  \n",
    "            count = count + 1;  \n",
    " \n",
    "    # If the count value is more\n",
    "    # than highest frequency then\n",
    "    if(count > frequency):  \n",
    "        frequency = count;  \n",
    "        frequent_word = words[i];  \n",
    " \n",
    "print(\"Most repeated word: \" + frequent_word)\n",
    "print(\"Frequency: \" + str(frequency))\n",
    "file.close()"
   ]
  },
  {
   "cell_type": "markdown",
   "id": "60f5fc7e-05ff-4808-926e-4e44d90d048e",
   "metadata": {},
   "source": [
    "## To read specific lines "
   ]
  },
  {
   "cell_type": "code",
   "execution_count": 19,
   "id": "b0ce78d9-97c4-4462-bbff-967f07446289",
   "metadata": {},
   "outputs": [
    {
     "name": "stdout",
     "output_type": "stream",
     "text": [
      "is aditya\n"
     ]
    }
   ],
   "source": [
    "file=open(\"text.txt\")\n",
    "content=file.readlines()\n",
    "print(content[1])"
   ]
  },
  {
   "cell_type": "markdown",
   "id": "5589bfd8-22a0-42f9-a8e6-1d73f8d72f6f",
   "metadata": {},
   "source": [
    "# File Questions w3"
   ]
  },
  {
   "cell_type": "markdown",
   "id": "9b86c9e8-b7f8-4c61-9abb-467b4b8e7ab0",
   "metadata": {},
   "source": [
    "### Read last n lines of a file"
   ]
  },
  {
   "cell_type": "code",
   "execution_count": 9,
   "id": "8ba617e5-5836-4129-b509-6fbdc60c216a",
   "metadata": {},
   "outputs": [
    {
     "name": "stdout",
     "output_type": "stream",
     "text": [
      "is aditya\n"
     ]
    }
   ],
   "source": [
    "import os\n",
    "fname=\"text.txt\"\n",
    "lines=1\n",
    "bufsize=8192\n",
    "fsize=os.stat(fname).st_size\n",
    "iter=0\n",
    "with open(fname,\"r\") as f:\n",
    "        if bufsize > fsize:\n",
    "            bufsize = fsize-1\n",
    "            data = []\n",
    "            while True:\n",
    "                iter +=1\n",
    "                f.seek(fsize-bufsize*iter)\n",
    "                data.extend(f.readlines())\n",
    "                if len(data) >= lines or f.tell() == 0:\n",
    "                    print(''.join(data[-lines:]))\n",
    "                    break"
   ]
  },
  {
   "cell_type": "code",
   "execution_count": 13,
   "id": "60eaa7e5-ff96-4f87-862f-fc208b43f94c",
   "metadata": {},
   "outputs": [
    {
     "data": {
      "text/plain": [
       "'Hello world my name \\n'"
      ]
     },
     "execution_count": 13,
     "metadata": {},
     "output_type": "execute_result"
    }
   ],
   "source": [
    "file=open(fname,\"r\")\n",
    "file.readlines()[0]"
   ]
  },
  {
   "cell_type": "code",
   "execution_count": 20,
   "id": "af0c01c2-3664-431c-aece-c95e1a207a0a",
   "metadata": {
    "scrolled": true
   },
   "outputs": [
    {
     "name": "stdout",
     "output_type": "stream",
     "text": [
      "Hello world my name \n",
      "{\"Name\": \"Bob\", \"Age\": 28}\n"
     ]
    }
   ],
   "source": [
    "with open('text.txt') as fh1, open('convert.txt') as fh2:\n",
    "    for line1, line2 in zip(fh1, fh2):\n",
    "        # line1 from abc.txt, line2 from test.txtg\n",
    "        print(line1+line2)"
   ]
  },
  {
   "cell_type": "markdown",
   "id": "d09b3817-da10-4223-919e-976d171ef508",
   "metadata": {},
   "source": [
    "# CSV Question"
   ]
  },
  {
   "cell_type": "code",
   "execution_count": 27,
   "id": "d7178057-e3cc-493d-a67f-552b5b583f78",
   "metadata": {},
   "outputs": [
    {
     "name": "stdout",
     "output_type": "stream",
     "text": [
      "CSV file as a dictionary:\n",
      "\n",
      "{'id': \"['1', '2', '3']\", 'Column1': '[33, 25, 56]', 'Column2': '[35, 30, 30]', 'Column3': '[21, 40, 55]', 'Column4': '[71, 25, 55]', 'Column5': '[10, 10, 40]'} \n",
      "{'id': \"['1', '2', '3']\", 'Column1': '[33, 25, 56]', 'Column2': '[35, 30, 30]', 'Column3': '[21, 40, 55]', 'Column4': '[71, 25, 55]', 'Column5': '[10, 10, 40]'} \n",
      "{'id': \"['1', '2', '3']\", 'Column1': '[33, 25, 56]', 'Column2': '[35, 30, 30]', 'Column3': '[21, 40, 55]', 'Column4': '[71, 25, 55]', 'Column5': '[10, 10, 40]'} \n",
      "{'id': \"['1', '2', '3']\", 'Column1': '[33, 25, 56]', 'Column2': '[35, 30, 30]', 'Column3': '[21, 40, 55]', 'Column4': '[71, 25, 55]', 'Column5': '[10, 10, 40]'} \n",
      "{'id': \"['1', '2', '3']\", 'Column1': '[33, 25, 56]', 'Column2': '[35, 30, 30]', 'Column3': '[21, 40, 55]', 'Column4': '[71, 25, 55]', 'Column5': '[10, 10, 40]'} \n",
      "{'id': \"['1', '2', '3']\", 'Column1': '[33, 25, 56]', 'Column2': '[35, 30, 30]', 'Column3': '[21, 40, 55]', 'Column4': '[71, 25, 55]', 'Column5': '[10, 10, 40]'} \n"
     ]
    }
   ],
   "source": [
    "import csv\n",
    "csv_columns = ['id','Column1', 'Column2', 'Column3', 'Column4', 'Column5']\n",
    "dict_data = {'id':['1', '2', '3'],\n",
    "    'Column1':[33, 25, 56],\n",
    "    'Column2':[35, 30, 30],\n",
    "    'Column3':[21, 40, 55],\n",
    "    'Column4':[71, 25, 55],\n",
    "    'Column5':[10, 10, 40], }\n",
    "csv_file = \"temp.csv\"\n",
    "try:\n",
    "   with open(csv_file, 'w') as csvfile:\n",
    "       writer = csv.DictWriter(csvfile, fieldnames=csv_columns)\n",
    "       writer.writeheader()\n",
    "       for data in dict_data:\n",
    "           writer.writerow(dict_data)\n",
    "except IOError:\n",
    "   print(\"I/O error\")\n",
    "data = csv.DictReader(open(csv_file))\n",
    "print(\"CSV file as a dictionary:\\n\")\n",
    "for row in data:\n",
    "   print(row,end=\" \\n\")"
   ]
  },
  {
   "cell_type": "markdown",
   "id": "435829b1-f5e3-4e26-b454-670665b01130",
   "metadata": {},
   "source": [
    "# Read specific columns of a given CSV file and print the content of the columns"
   ]
  },
  {
   "cell_type": "code",
   "execution_count": 29,
   "id": "9df5ee6a-839f-46b6-a6fb-fe8d032b80f7",
   "metadata": {},
   "outputs": [
    {
     "name": "stdout",
     "output_type": "stream",
     "text": [
      "['1', '2', '3']\n",
      "['1', '2', '3']\n",
      "['1', '2', '3']\n",
      "['1', '2', '3']\n",
      "['1', '2', '3']\n",
      "['1', '2', '3']\n"
     ]
    }
   ],
   "source": [
    "import csv\n",
    "with open(\"temp.csv\",\"r\") as f:\n",
    "    csv_reader=csv.DictReader(f)\n",
    "    for data in csv_reader:\n",
    "        print(data[\"id\"])"
   ]
  },
  {
   "cell_type": "code",
   "execution_count": null,
   "id": "44dc110b-ed9a-454a-8ecf-f62ddee9e853",
   "metadata": {},
   "outputs": [],
   "source": []
  }
 ],
 "metadata": {
  "kernelspec": {
   "display_name": "Python 3 (ipykernel)",
   "language": "python",
   "name": "python3"
  },
  "language_info": {
   "codemirror_mode": {
    "name": "ipython",
    "version": 3
   },
   "file_extension": ".py",
   "mimetype": "text/x-python",
   "name": "python",
   "nbconvert_exporter": "python",
   "pygments_lexer": "ipython3",
   "version": "3.12.7"
  }
 },
 "nbformat": 4,
 "nbformat_minor": 5
}
