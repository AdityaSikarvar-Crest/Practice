{
 "cells": [
  {
   "cell_type": "code",
   "execution_count": 8,
   "id": "08105c63-91c1-424a-93ec-5066747a195a",
   "metadata": {},
   "outputs": [
    {
     "name": "stdout",
     "output_type": "stream",
     "text": [
      "['1', '1', '4', '1', '8', '8', '6']\n"
     ]
    }
   ],
   "source": [
    "import re\n",
    "\n",
    "p = re.compile(r\"\\d\")\n",
    "print(p.findall(\"I went to him at 11 A.M. on 4th July 1886\"))"
   ]
  },
  {
   "cell_type": "code",
   "execution_count": 16,
   "id": "80e818b1-4f4d-40ab-a0c0-1adc5b454352",
   "metadata": {},
   "outputs": [],
   "source": [
    "p=re.compile(r\"\\d+\")\n",
    "x=p.findall(\"111 222 333\")"
   ]
  },
  {
   "cell_type": "code",
   "execution_count": 17,
   "id": "d7e4c087-9206-48e7-90cf-7df4e70f4b52",
   "metadata": {},
   "outputs": [
    {
     "data": {
      "text/plain": [
       "['111', '222', '333']"
      ]
     },
     "execution_count": 17,
     "metadata": {},
     "output_type": "execute_result"
    }
   ],
   "source": [
    "x"
   ]
  },
  {
   "cell_type": "markdown",
   "id": "6c2dab06-3ee0-4d9c-8b21-265acf480409",
   "metadata": {},
   "source": [
    "Python program to find the type of IP Address using Regex"
   ]
  },
  {
   "cell_type": "code",
   "execution_count": 19,
   "id": "a36a6355-4587-4f7b-9053-66b07aad9fdd",
   "metadata": {},
   "outputs": [
    {
     "name": "stdout",
     "output_type": "stream",
     "text": [
      "IPv4\n",
      "IPv6\n",
      "Neither\n"
     ]
    }
   ],
   "source": [
    "import re\n",
    "ipv4 = r'''^(25[0-5]|2[0-4][0-9]|[0-1]?[0-9][0-9]?)\\.( \n",
    "            25[0-5]|2[0-4][0-9]|[0-1]?[0-9][0-9]?)\\.( \n",
    "            25[0-5]|2[0-4][0-9]|[0-1]?[0-9][0-9]?)\\.( \n",
    "            25[0-5]|2[0-4][0-9]|[0-1]?[0-9][0-9]?)$'''\n",
    "\n",
    "ipv6 = r'''(([0-9a-fA-F]{1,4}:){7,7}[0-9a-fA-F]{1,4}|\n",
    "        ([0-9a-fA-F]{1,4}:){1,7}:|([0-9a-fA-F]{1,4}:)\n",
    "        {1,6}:[0-9a-fA-F]{1,4}|([0-9a-fA-F]{1,4}:){1\n",
    "        ,5}(:[0-9a-fA-F]{1,4}){1,2}|([0-9a-fA-F]{1,4}\n",
    "        :){1,4}(:[0-9a-fA-F]{1,4}){1,3}|([0-9a-fA-F]{\n",
    "        1,4}:){1,3}(:[0-9a-fA-F]{1,4}){1,4}|([0-9a-fA\n",
    "        -F]{1,4}:){1,2}(:[0-9a-fA-F]{1,4}){1,5}|[0-9a\n",
    "        -fA-F]{1,4}:((:[0-9a-fA-F]{1,4}){1,6})|:((:[0\n",
    "        -9a-fA-F]{1,4}){1,7}|:)|fe80:(:[0-9a-fA-F]{0,\n",
    "        4}){0,4}%[0-9a-zA-Z]{1,}|::(ffff(:0{1,4}){0,1}\n",
    "        :){0,1}((25[0-5]|(2[0-4]|1{0,1}[0-9]){0,1}[0-9\n",
    "        ])\\.){3,3}(25[0-5]|(2[0-4]|1{0,1}[0-9]){0,1}[0\n",
    "        -9])|([0-9a-fA-F]{1,4}:){1,4}:((25[0-5]|(2[0-4]\n",
    "        |1{0,1}[0-9]){0,1}[0-9])\\.){3,3}(25[0-5]|(2[0-4]\n",
    "        |1{0,1}[0-9]){0,1}[0-9]))'''\n",
    "\n",
    "def find(Ip):  \n",
    "    if re.search(ipv4, Ip):\n",
    "        print(\"IPv4\")\n",
    "    elif re.search(ipv6, Ip):\n",
    "        print(\"IPv6\")\n",
    "    else:\n",
    "        print(\"Neither\")\n",
    " \n",
    "# Driver Code  \n",
    "if __name__ == '__main__' :  \n",
    "       \n",
    "    # Enter the Ip address \n",
    "    Ip = \"192.0.2.126\"\n",
    "       \n",
    "    # calling run function  \n",
    "    find(Ip) \n",
    "   \n",
    "    Ip = \"3001:0da8:75a3:0000:0000:8a2e:0370:7334\"\n",
    "    find(Ip) \n",
    "   \n",
    "    Ip = \"36.12.08.20.52\"\n",
    "    find(Ip)"
   ]
  },
  {
   "cell_type": "markdown",
   "id": "739712d3-f35b-4e48-aa81-bf93db4a349c",
   "metadata": {},
   "source": [
    "Python program to find Indices of Overlapping Substrings"
   ]
  },
  {
   "cell_type": "code",
   "execution_count": 27,
   "id": "b99f66c8-5bef-4657-b141-b294894744dc",
   "metadata": {},
   "outputs": [],
   "source": [
    "string=\"geeksforgeeksforgeeks\" \n",
    "pattern=r\"geeksforgeeks\""
   ]
  },
  {
   "cell_type": "code",
   "execution_count": 28,
   "id": "26a9b921-4d7b-4aa9-ba54-07743d9d05c9",
   "metadata": {},
   "outputs": [
    {
     "name": "stdout",
     "output_type": "stream",
     "text": [
      "0\n"
     ]
    }
   ],
   "source": [
    "matches=re.finditer(pattern,string)\n",
    "for match in matches :\n",
    "    print(match.start())"
   ]
  },
  {
   "cell_type": "code",
   "execution_count": 33,
   "id": "f3b24b9a-26be-4d81-9a2a-7f54ed80a2f7",
   "metadata": {},
   "outputs": [],
   "source": [
    "pattern2=r\"(?=(geeksforgeeks))\""
   ]
  },
  {
   "cell_type": "code",
   "execution_count": 35,
   "id": "74719766-5f5c-4bde-a110-84c961c642ab",
   "metadata": {},
   "outputs": [
    {
     "name": "stdout",
     "output_type": "stream",
     "text": [
      "0\n",
      "8\n"
     ]
    }
   ],
   "source": [
    "matches=re.finditer(pattern2,string)\n",
    "for match in matches :\n",
    "    print(match.start())"
   ]
  },
  {
   "cell_type": "markdown",
   "id": "63f808ed-107b-452e-a366-1ad5431c1caf",
   "metadata": {},
   "source": [
    "Python program to extract Strings between HTML Tags"
   ]
  },
  {
   "cell_type": "code",
   "execution_count": 38,
   "id": "a54844b0-235f-465d-99dd-f8bcc4b4653a",
   "metadata": {},
   "outputs": [
    {
     "name": "stdout",
     "output_type": "stream",
     "text": [
      "The original string is : <b>Gfg</b> is <b>Best</b>. I love <b>Reading CS</b> from it.\n",
      "The Strings extracted : ['Gfg', 'Best', 'Reading CS']\n"
     ]
    }
   ],
   "source": [
    "\n",
    "import re\n",
    "test_str = '<b>Gfg</b> is <b>Best</b>. I love <b>Reading CS</b> from it.'\n",
    "print(\"The original string is : \" + str(test_str))\n",
    "tag = \"b\"\n",
    "reg_str = \"<\" + tag + \">(.*?)</\" + tag + \">\"\n",
    "res = re.findall(reg_str, test_str)\n",
    "print(\"The Strings extracted : \" + str(res))"
   ]
  },
  {
   "cell_type": "code",
   "execution_count": 48,
   "id": "43d0a324-96e1-449b-a431-06667557c95c",
   "metadata": {},
   "outputs": [
    {
     "name": "stdout",
     "output_type": "stream",
     "text": [
      "Valid String\n"
     ]
    }
   ],
   "source": [
    "str1=\"34526\"\n",
    "pattern=re.compile(r\"^[123456]+$\")\n",
    "if re.search(pattern, str1):\n",
    "    print(\"Valid String\")"
   ]
  },
  {
   "cell_type": "markdown",
   "id": "aeebf090-eaa7-40c7-ac6d-89cfb419039e",
   "metadata": {},
   "source": [
    "Python program to find files having a particular extension using RegEx"
   ]
  },
  {
   "cell_type": "code",
   "execution_count": 50,
   "id": "66f8d219-fecd-4748-a1f2-7628f0d85f54",
   "metadata": {},
   "outputs": [
    {
     "name": "stdout",
     "output_type": "stream",
     "text": [
      "The file ending with .xml is: geeks.xml\n"
     ]
    }
   ],
   "source": [
    "import re  \n",
    "filenames = [\"gfg.html\", \"geeks.xml\",  \n",
    "            \"computer.txt\", \"geeksforgeeks.jpg\"] \n",
    "  \n",
    "for file in filenames:   \n",
    "    match = re.search(r\"\\.xml$\", file) \n",
    "    if match: \n",
    "        print(\"The file ending with .xml is:\", \n",
    "             file) "
   ]
  },
  {
   "cell_type": "code",
   "execution_count": null,
   "id": "19fca2d8-ebfa-4bd5-930d-93c12a1bbf02",
   "metadata": {},
   "outputs": [],
   "source": []
  }
 ],
 "metadata": {
  "kernelspec": {
   "display_name": "Python 3 (ipykernel)",
   "language": "python",
   "name": "python3"
  },
  "language_info": {
   "codemirror_mode": {
    "name": "ipython",
    "version": 3
   },
   "file_extension": ".py",
   "mimetype": "text/x-python",
   "name": "python",
   "nbconvert_exporter": "python",
   "pygments_lexer": "ipython3",
   "version": "3.12.7"
  }
 },
 "nbformat": 4,
 "nbformat_minor": 5
}
