{
 "cells": [
  {
   "cell_type": "code",
   "execution_count": null,
   "id": "3ad736d6-ae96-42fa-8592-841719e03a9a",
   "metadata": {},
   "outputs": [],
   "source": []
  }
 ],
 "metadata": {
  "kernelspec": {
   "display_name": "",
   "name": ""
  },
  "language_info": {
   "name": ""
  }
 },
 "nbformat": 4,
 "nbformat_minor": 5
}
