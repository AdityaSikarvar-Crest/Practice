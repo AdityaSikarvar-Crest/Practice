{
 "cells": [
  {
   "cell_type": "markdown",
   "id": "d2c5ad62-fa3a-40d0-804a-508f6c3351fa",
   "metadata": {},
   "source": [
    "###  Find the Requests module version, licence, copyright information, author, author email, document url, title and description"
   ]
  },
  {
   "cell_type": "code",
   "execution_count": 2,
   "id": "0b0eb707-21fc-4b9d-9b89-d0712a325eac",
   "metadata": {},
   "outputs": [
    {
     "name": "stdout",
     "output_type": "stream",
     "text": [
      "Python Requests module - version: 2.32.3\n",
      "Licence: Apache-2.0\n",
      "Copyright: Copyright Kenneth Reitz\n",
      "Author: Kenneth Reitz\n",
      "Author email: me@kennethreitz.org\n",
      "Document url, title, description:\n",
      "https://requests.readthedocs.io\n",
      "requests\n",
      "Python HTTP for Humans.\n"
     ]
    }
   ],
   "source": [
    "import requests\n",
    "print(\"Python Requests module - version:\",requests.__version__)\n",
    "print(\"Licence:\",requests. __license__)\n",
    "print(\"Copyright:\",requests.__copyright__)\n",
    "print(\"Author:\",requests.__author__)\n",
    "print(\"Author email:\",requests.__author_email__)\n",
    "print(\"Document url, title, description:\")\n",
    "print(requests.__url__)\n",
    "print(requests.__title__)\n",
    "print(requests.__description__)"
   ]
  },
  {
   "cell_type": "markdown",
   "id": "fbcb2dc7-2749-4e64-b629-3d085671e01a",
   "metadata": {},
   "source": [
    "### Check the status code issued by a server in response to a client's request"
   ]
  },
  {
   "cell_type": "code",
   "execution_count": 7,
   "id": "118c9c3e-d4b6-4bb2-b42f-c8dade0c3fbd",
   "metadata": {},
   "outputs": [
    {
     "name": "stdout",
     "output_type": "stream",
     "text": [
      "Response of https://google.com/:\n",
      "200\n",
      "Response of https://amazon.com/:\n",
      "503\n",
      "Response of https://w3resource.com/:\n",
      "200\n",
      "\n",
      "Methods and attributes available to objects on successful\n",
      "request of https://w3resource.com:\n",
      "\n",
      "['__attrs__', '__bool__', '__class__', '__delattr__', '__dict__', '__dir__', '__doc__', '__enter__', '__eq__', '__exit__', '__format__', '__ge__', '__getattribute__', '__getstate__', '__gt__', '__hash__', '__init__', '__init_subclass__', '__iter__', '__le__', '__lt__', '__module__', '__ne__', '__new__', '__nonzero__', '__reduce__', '__reduce_ex__', '__repr__', '__setattr__', '__setstate__', '__sizeof__', '__str__', '__subclasshook__', '__weakref__', '_content', '_content_consumed', '_next', 'apparent_encoding', 'close', 'connection', 'content', 'cookies', 'elapsed', 'encoding', 'headers', 'history', 'is_permanent_redirect', 'is_redirect', 'iter_content', 'iter_lines', 'json', 'links', 'next', 'ok', 'raise_for_status', 'raw', 'reason', 'request', 'status_code', 'text', 'url']\n"
     ]
    }
   ],
   "source": [
    "import requests\n",
    "res = requests.get('https://google.com/')\n",
    "print(\"Response of https://google.com/:\")\n",
    "print(res.status_code)\n",
    "res = requests.get('https://amazon.com/')\n",
    "print(\"Response of https://amazon.com/:\")\n",
    "print(res.status_code)\n",
    "res = requests.get('https://w3resource.com/')\n",
    "print(\"Response of https://w3resource.com/:\")\n",
    "print(res.status_code)\n",
    "print(\"\\nMethods and attributes available to objects on successful\\nrequest of https://w3resource.com:\\n\")\n",
    "print(dir(res)) "
   ]
  },
  {
   "cell_type": "code",
   "execution_count": 11,
   "id": "133ba76a-19d0-491e-8a67-ef1133e17bac",
   "metadata": {},
   "outputs": [
    {
     "name": "stdout",
     "output_type": "stream",
     "text": [
      "Parameters:  {'key1': 'value1', 'key2': 'value2'}\n",
      "Print the url to check the URL has been correctly encoded or not!\n",
      "https://httpbin.org/get?key1=value1&key2=value2\n"
     ]
    }
   ],
   "source": [
    "import requests\n",
    "payload = {'key1': 'value1', 'key2': 'value2'}\n",
    "print(\"Parameters: \",payload)\n",
    "r = requests.get('https://httpbin.org/get', params=payload)\n",
    "print(\"Print the url to check the URL has been correctly encoded or not!\")\n",
    "print(r.url)"
   ]
  },
  {
   "cell_type": "code",
   "execution_count": 23,
   "id": "68964705-1ca9-47d1-947b-565065b1cf1a",
   "metadata": {},
   "outputs": [
    {
     "name": "stdout",
     "output_type": "stream",
     "text": [
      "timeout = 0.01\n",
      "HTTPSConnectionPool(host='github.com', port=443): Max retries exceeded with url: / (Caused by ConnectTimeoutError(<urllib3.connection.HTTPSConnection object at 0x000002581262FDA0>, 'Connection to github.com timed out. (connect timeout=0.01)'))\n",
      "\n",
      "timeout = 1.0\n",
      "Connected....!\n"
     ]
    }
   ],
   "source": [
    "import requests\n",
    "print(\"timeout = 0.01\")\n",
    "try:\n",
    "    r = requests.get('https://github.com/', timeout = 0.01)\n",
    "    print(\"Connected.....!\")\n",
    "except requests.exceptions.RequestException as e:\n",
    "    print(e)    \n",
    "\n",
    "print(\"\\ntimeout = 1.0\")    \n",
    "try:\n",
    "    r = requests.get('https://github.com/', timeout = 1.0)\n",
    "    print(\"Connected....!\")\n",
    "except requests.exceptions.RequestException as e:\n",
    "    print(e)"
   ]
  },
  {
   "cell_type": "code",
   "execution_count": null,
   "id": "c6a1abf2-c051-4ed0-a3c6-8458ec08f207",
   "metadata": {},
   "outputs": [],
   "source": []
  }
 ],
 "metadata": {
  "kernelspec": {
   "display_name": "Python 3 (ipykernel)",
   "language": "python",
   "name": "python3"
  },
  "language_info": {
   "codemirror_mode": {
    "name": "ipython",
    "version": 3
   },
   "file_extension": ".py",
   "mimetype": "text/x-python",
   "name": "python",
   "nbconvert_exporter": "python",
   "pygments_lexer": "ipython3",
   "version": "3.12.7"
  }
 },
 "nbformat": 4,
 "nbformat_minor": 5
}
