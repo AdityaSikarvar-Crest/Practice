{
 "cells": [
  {
   "cell_type": "code",
   "execution_count": 1,
   "id": "ffb2ce81-128e-429f-a732-226e50331ca0",
   "metadata": {},
   "outputs": [
    {
     "name": "stdout",
     "output_type": "stream",
     "text": [
      "Collecting geopy\n",
      "  Downloading geopy-2.4.1-py3-none-any.whl.metadata (6.8 kB)\n",
      "Collecting geographiclib<3,>=1.52 (from geopy)\n",
      "  Downloading geographiclib-2.0-py3-none-any.whl.metadata (1.4 kB)\n",
      "Downloading geopy-2.4.1-py3-none-any.whl (125 kB)\n",
      "Downloading geographiclib-2.0-py3-none-any.whl (40 kB)\n",
      "Installing collected packages: geographiclib, geopy\n",
      "Successfully installed geographiclib-2.0 geopy-2.4.1\n",
      "Note: you may need to restart the kernel to use updated packages.\n"
     ]
    }
   ],
   "source": [
    "pip install geopy"
   ]
  },
  {
   "cell_type": "code",
   "execution_count": 2,
   "id": "9281ef7a-c057-4e59-9b3f-355499d17979",
   "metadata": {},
   "outputs": [],
   "source": [
    "## Geo Coding "
   ]
  },
  {
   "cell_type": "code",
   "execution_count": null,
   "id": "7865b153-05db-4897-bf8f-df72a3b2743e",
   "metadata": {},
   "outputs": [],
   "source": []
  },
  {
   "cell_type": "code",
   "execution_count": 8,
   "id": "f2be59e3-9f1f-4a0b-bf9c-f682067a0b55",
   "metadata": {},
   "outputs": [
    {
     "name": "stdout",
     "output_type": "stream",
     "text": [
      "Address: White House, 1600, Pennsylvania Avenue Northwest, Ward 2, Washington, District of Columbia, 20500, United States\n",
      "Latitude: 38.897699700000004, Longitude: -77.03655315\n"
     ]
    }
   ],
   "source": [
    "from geopy.geocoders import Nominatim\n",
    "# Initialize the geolocator\n",
    "geolocator = Nominatim(user_agent=\"Aditya\")\n",
    "# Geocode an address\n",
    "location = geolocator.geocode(\"1600 Pennsylvania Ave NW, Washington, DC 20500\")\n",
    "# Print the result\n",
    "print(f\"Address: {location.address}\")\n",
    "print(f\"Latitude: {location.latitude}, Longitude: {location.longitude}\")"
   ]
  },
  {
   "cell_type": "code",
   "execution_count": 48,
   "id": "8f136106-4229-4817-985d-6de7ff2b16f0",
   "metadata": {},
   "outputs": [],
   "source": [
    "location=geolocator.reverse((21.23456 ,72.98765))"
   ]
  },
  {
   "cell_type": "code",
   "execution_count": 49,
   "id": "ba4cde9a-b94e-4370-b8e1-25903a6955d6",
   "metadata": {},
   "outputs": [
    {
     "data": {
      "text/plain": [
       "'Kamrej Taluka, Surat, Gujarat, 394325, India'"
      ]
     },
     "execution_count": 49,
     "metadata": {},
     "output_type": "execute_result"
    }
   ],
   "source": [
    "location.address"
   ]
  },
  {
   "cell_type": "code",
   "execution_count": 64,
   "id": "40635cc4-b506-4168-86d9-2fe1bd2e993f",
   "metadata": {},
   "outputs": [
    {
     "name": "stdout",
     "output_type": "stream",
     "text": [
      "Distance between London and New York city (in km):\n",
      "11.125114760153611  kms\n"
     ]
    }
   ],
   "source": [
    "from geopy import distance\n",
    "london = (\"51.2° N, 12° W\")\n",
    "newyork = (\"51.1° N, 12° W\")\n",
    "print(\"Distance between London and New York city (in km):\")\n",
    "print(distance.distance(london, newyork).km,\" kms\")"
   ]
  },
  {
   "cell_type": "code",
   "execution_count": 51,
   "id": "517adb39-bc4b-4500-afca-4ab9580f0e0e",
   "metadata": {},
   "outputs": [],
   "source": [
    "address = location.raw['address']\n",
    "city = address.get('city', '')\n",
    "state = address.get('state', '')\n",
    "country = address.get('country', '')"
   ]
  },
  {
   "cell_type": "code",
   "execution_count": 65,
   "id": "82e523f6-63e7-4667-8ac2-6533eddb145c",
   "metadata": {},
   "outputs": [],
   "source": [
    "address[\"county\"]=\"Adajan\""
   ]
  },
  {
   "cell_type": "code",
   "execution_count": null,
   "id": "176206c4-010e-4010-94f1-195c0c53465f",
   "metadata": {},
   "outputs": [],
   "source": []
  },
  {
   "cell_type": "code",
   "execution_count": null,
   "id": "673fbdff-96e4-4d79-9074-e8dff150d54f",
   "metadata": {},
   "outputs": [],
   "source": []
  }
 ],
 "metadata": {
  "kernelspec": {
   "display_name": "Python 3 (ipykernel)",
   "language": "python",
   "name": "python3"
  },
  "language_info": {
   "codemirror_mode": {
    "name": "ipython",
    "version": 3
   },
   "file_extension": ".py",
   "mimetype": "text/x-python",
   "name": "python",
   "nbconvert_exporter": "python",
   "pygments_lexer": "ipython3",
   "version": "3.12.7"
  }
 },
 "nbformat": 4,
 "nbformat_minor": 5
}
