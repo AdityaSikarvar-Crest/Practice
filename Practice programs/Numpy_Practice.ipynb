{
 "cells": [
  {
   "cell_type": "code",
   "execution_count": 1,
   "id": "9c4eb3e1-f93f-4859-ba64-9933b3588a41",
   "metadata": {},
   "outputs": [
    {
     "name": "stdout",
     "output_type": "stream",
     "text": [
      "Requirement already satisfied: numpy in c:\\users\\adityasikarvar\\anaconda3\\lib\\site-packages (1.26.4)\n",
      "Note: you may need to restart the kernel to use updated packages.\n"
     ]
    }
   ],
   "source": [
    "pip install numpy"
   ]
  },
  {
   "cell_type": "code",
   "execution_count": 16,
   "id": "6fb6c2fe-f66f-4bb6-874b-6864775a8a25",
   "metadata": {},
   "outputs": [],
   "source": [
    "import numpy as np"
   ]
  },
  {
   "cell_type": "markdown",
   "id": "de8a1fca-75f3-4929-be9e-608fc0a351e2",
   "metadata": {},
   "source": [
    "###  Core Feature of python numpy is its ability to utilize numpy array with this we can perfom multidimensional takss smoothly"
   ]
  },
  {
   "cell_type": "code",
   "execution_count": 47,
   "id": "c5f9c074-b767-4ef1-a6e8-fe98aff611ae",
   "metadata": {},
   "outputs": [],
   "source": [
    "arr=np.array([[\"a\",2],[\"b\",4]])"
   ]
  },
  {
   "cell_type": "code",
   "execution_count": 15,
   "id": "02fccb01-cd52-4375-9e55-7a554a102444",
   "metadata": {},
   "outputs": [
    {
     "name": "stdout",
     "output_type": "stream",
     "text": [
      "2\n",
      "(2, 2)\n",
      "4\n",
      "<U11\n"
     ]
    }
   ],
   "source": [
    "print(arr.ndim)# Dimensions of your array\n",
    "print(arr.shape)#Shape that is number of rows and columns \n",
    "print(arr.size)# this diplays the total number of elements in your array \n",
    "print(arr.dtype)# Showcases the type of data in your array"
   ]
  },
  {
   "cell_type": "code",
   "execution_count": 19,
   "id": "c77e95dc-d277-4cf5-a417-c46a1db3a02f",
   "metadata": {},
   "outputs": [],
   "source": [
    "# print(np.__version__)\n",
    "# print(np.show_config())"
   ]
  },
  {
   "cell_type": "markdown",
   "id": "04663ec2-33cc-484c-b947-e238d26f9f20",
   "metadata": {},
   "source": [
    "### Basic Numpy array functions are as follows"
   ]
  },
  {
   "cell_type": "code",
   "execution_count": 32,
   "id": "a9e8e756-c9aa-4d73-9246-56d03b64a6e1",
   "metadata": {},
   "outputs": [
    {
     "name": "stdout",
     "output_type": "stream",
     "text": [
      "[[0. 0.]\n",
      " [0. 0.]]\n"
     ]
    }
   ],
   "source": [
    "# Zeroes Array\n",
    "zeroes=np.zeros((2,2))\n",
    "print(zeroes)"
   ]
  },
  {
   "cell_type": "code",
   "execution_count": 64,
   "id": "6bc96d9c-2286-432c-93c3-e0abf26210c3",
   "metadata": {},
   "outputs": [
    {
     "name": "stdout",
     "output_type": "stream",
     "text": [
      "[[1. 1.]\n",
      " [1. 1.]]\n"
     ]
    }
   ],
   "source": [
    "#Ones Array\n",
    "ones=np.ones((2,2))\n",
    "print(ones)"
   ]
  },
  {
   "cell_type": "code",
   "execution_count": 43,
   "id": "d911e0ad-bd51-4d18-9353-71547673514a",
   "metadata": {},
   "outputs": [
    {
     "name": "stdout",
     "output_type": "stream",
     "text": [
      "[[1. 0. 0.]\n",
      " [0. 1. 0.]\n",
      " [0. 0. 1.]]\n"
     ]
    }
   ],
   "source": [
    "# Identity \n",
    "index=np.eye(3,3)\n",
    "print(index)"
   ]
  },
  {
   "cell_type": "code",
   "execution_count": 127,
   "id": "9334256c-0673-4633-bc97-358d0f0abb8b",
   "metadata": {},
   "outputs": [
    {
     "data": {
      "text/plain": [
       "array([[4, 4],\n",
       "       [4, 4]])"
      ]
     },
     "execution_count": 127,
     "metadata": {},
     "output_type": "execute_result"
    }
   ],
   "source": [
    "# Any number array\n",
    "np.full((2,2),4)"
   ]
  },
  {
   "cell_type": "code",
   "execution_count": 123,
   "id": "82b58dc3-bc94-405d-b496-428137237bf9",
   "metadata": {},
   "outputs": [
    {
     "name": "stdout",
     "output_type": "stream",
     "text": [
      "[[0.73414495 0.25771796 0.44902642]\n",
      " [0.96029251 0.03592878 0.46966586]\n",
      " [0.59347712 0.12779795 0.22977843]]\n",
      "5\n"
     ]
    }
   ],
   "source": [
    "#Random Number array and random number generator\n",
    "print(np.random.rand(3,3))\n",
    "print(np.random.randint(1,10))"
   ]
  },
  {
   "cell_type": "code",
   "execution_count": 195,
   "id": "9c59b16f-d6c1-42bf-b7e7-104444761441",
   "metadata": {},
   "outputs": [
    {
     "data": {
      "text/plain": [
       "array([2, 3, 4, 5, 6, 7, 8, 9])"
      ]
     },
     "execution_count": 195,
     "metadata": {},
     "output_type": "execute_result"
    }
   ],
   "source": [
    "# Arrange Function numpy\n",
    "x=np.arange(2,10)\n",
    "x"
   ]
  },
  {
   "cell_type": "code",
   "execution_count": 62,
   "id": "0c3ed40c-39aa-4ce9-a556-01d9ef1df4bf",
   "metadata": {},
   "outputs": [
    {
     "name": "stdout",
     "output_type": "stream",
     "text": [
      "[['a' '2']]\n"
     ]
    }
   ],
   "source": [
    "# Get first two rows and first two columns\n",
    "print(arr[:1,:2])"
   ]
  },
  {
   "cell_type": "code",
   "execution_count": 63,
   "id": "cbfec75a-b66c-4ae0-98ff-b7e0bcde6fa5",
   "metadata": {},
   "outputs": [],
   "source": [
    "# Adition and other operations"
   ]
  },
  {
   "cell_type": "code",
   "execution_count": 77,
   "id": "95bbd67f-9029-4939-9da5-b50c8874556b",
   "metadata": {},
   "outputs": [
    {
     "name": "stdout",
     "output_type": "stream",
     "text": [
      "[[1. 1.]\n",
      " [1. 1.]]\n",
      "[[0. 0.]\n",
      " [0. 0.]]\n"
     ]
    }
   ],
   "source": [
    "arr2=zeroes+ones\n",
    "arr3=zeroes*ones\n",
    "print(arr2)\n",
    "print(arr3)#Element wise multiplication not matrix wise"
   ]
  },
  {
   "cell_type": "code",
   "execution_count": 76,
   "id": "413d8c39-3d57-43ab-af09-20755f046285",
   "metadata": {},
   "outputs": [],
   "source": [
    "#Square root of each element in the array\n",
    "y=np.sqrt(x)"
   ]
  },
  {
   "cell_type": "code",
   "execution_count": 83,
   "id": "5fd125d3-c9f1-49d1-afce-04e11f00033f",
   "metadata": {},
   "outputs": [
    {
     "name": "stdout",
     "output_type": "stream",
     "text": [
      "5.5\n",
      "5.5\n"
     ]
    }
   ],
   "source": [
    "# Staistical Functions\n",
    "print(np.mean(x))\n",
    "print(np.median(x))"
   ]
  },
  {
   "cell_type": "code",
   "execution_count": 102,
   "id": "841df789-c7af-435d-a7a2-c676100255de",
   "metadata": {},
   "outputs": [
    {
     "name": "stdout",
     "output_type": "stream",
     "text": [
      "[[1 2]\n",
      " [3 4]\n",
      " [5 6]]\n"
     ]
    }
   ],
   "source": [
    "# Reshape\n",
    "arr = np.array([[1, 2, 3], [4, 5, 6]])\n",
    "reshaped=arr.reshape(3,2)\n",
    "print(reshaped)"
   ]
  },
  {
   "cell_type": "code",
   "execution_count": 103,
   "id": "1932bbc9-901c-4c2d-b97f-5208b55860b6",
   "metadata": {},
   "outputs": [
    {
     "name": "stdout",
     "output_type": "stream",
     "text": [
      "[[1 4]\n",
      " [2 5]\n",
      " [3 6]]\n"
     ]
    }
   ],
   "source": [
    "# Transpose\n",
    "Transpose=arr.T\n",
    "print(Transpose)"
   ]
  },
  {
   "cell_type": "code",
   "execution_count": 105,
   "id": "feffce97-d2c9-4a27-8504-a9ec56ef3f1d",
   "metadata": {},
   "outputs": [
    {
     "name": "stdout",
     "output_type": "stream",
     "text": [
      "[[11 22 33]\n",
      " [14 25 36]]\n"
     ]
    }
   ],
   "source": [
    "# Broadcasting in python \n",
    "# This allows us to operate on two different sized arrays by expanding the smaller one to match the size of the larger one\n",
    "arr2D = np.array([[1, 2, 3], [4, 5, 6]])  # Shape (2,3)\n",
    "arr1D = np.array([10, 20, 30])  # Shape (3,)\n",
    "result = arr2D + arr1D\n",
    "print(result)"
   ]
  },
  {
   "cell_type": "code",
   "execution_count": 121,
   "id": "b0af4608-f24d-4d8a-aa6a-ba5bfb397c18",
   "metadata": {},
   "outputs": [
    {
     "name": "stdout",
     "output_type": "stream",
     "text": [
      "[30 40 50]\n",
      "[10 20 30 10 10]\n"
     ]
    }
   ],
   "source": [
    "#Filtering data using numpy\n",
    "arr = np.array([10, 20, 30, 40, 50])\n",
    "print(arr[arr>20])\n",
    "arr[arr>30]=10\n",
    "print(arr)"
   ]
  },
  {
   "cell_type": "code",
   "execution_count": 126,
   "id": "d1ee5149-e4c8-4a8e-8e42-85a9bd55e469",
   "metadata": {},
   "outputs": [
    {
     "name": "stdout",
     "output_type": "stream",
     "text": [
      "True\n",
      "True\n"
     ]
    }
   ],
   "source": [
    "# Tests wheter zeroes are there in array or not\n",
    "print(np.all(arr))\n",
    "# Test if any element is non zero\n",
    "print(np.any(arr))"
   ]
  },
  {
   "cell_type": "code",
   "execution_count": 135,
   "id": "d5fb168a-8b37-430d-9058-d5d449a01727",
   "metadata": {},
   "outputs": [
    {
     "data": {
      "text/plain": [
       "array([[10, 20],\n",
       "       [10, 20],\n",
       "       [10, 20]])"
      ]
     },
     "execution_count": 135,
     "metadata": {},
     "output_type": "execute_result"
    }
   ],
   "source": [
    "arr = np.array([[10, 20]])\n",
    "np.repeat(arr,3,axis=0)"
   ]
  },
  {
   "cell_type": "code",
   "execution_count": 145,
   "id": "98e03812-de6a-430e-886a-54bf5d08748b",
   "metadata": {},
   "outputs": [],
   "source": [
    "final=np.zeros((5,5))"
   ]
  },
  {
   "cell_type": "code",
   "execution_count": 164,
   "id": "75b12eb3-cc56-49cf-94c0-c8a9d9071811",
   "metadata": {},
   "outputs": [],
   "source": [
    "# final[0]=1\n",
    "# final[4]=1\n",
    "# final[::,0]=1\n",
    "# final[::,4]=1\n",
    "# final[2,2]=9\n",
    "\n",
    "final=np.ones((5,5))\n",
    "zero=np.zeros((3,3))\n",
    "zero[1,1]=9\n",
    "final[1:4,1:4]=zero"
   ]
  },
  {
   "cell_type": "code",
   "execution_count": 165,
   "id": "59c31303-178d-4b8b-934f-3d6a8702fdfa",
   "metadata": {},
   "outputs": [
    {
     "name": "stdout",
     "output_type": "stream",
     "text": [
      "[[1. 1. 1. 1. 1.]\n",
      " [1. 0. 0. 0. 1.]\n",
      " [1. 0. 9. 0. 1.]\n",
      " [1. 0. 0. 0. 1.]\n",
      " [1. 1. 1. 1. 1.]]\n"
     ]
    }
   ],
   "source": [
    "print(final)"
   ]
  },
  {
   "cell_type": "code",
   "execution_count": 171,
   "id": "7ad290b3-fb69-4b46-a96a-0c97ffec26ea",
   "metadata": {},
   "outputs": [
    {
     "data": {
      "text/plain": [
       "array([[2., 2.],\n",
       "       [1., 1.]])"
      ]
     },
     "execution_count": 171,
     "metadata": {},
     "output_type": "execute_result"
    }
   ],
   "source": [
    "arr=arr2 # creates shallow copies \n",
    "arr[0]=2\n",
    "arr2"
   ]
  },
  {
   "cell_type": "code",
   "execution_count": 172,
   "id": "2a34cf87-93c5-40e4-bd27-0f20299c99ba",
   "metadata": {},
   "outputs": [
    {
     "name": "stdout",
     "output_type": "stream",
     "text": [
      "[[1. 1.]\n",
      " [1. 1.]\n",
      " [1. 1.]]\n",
      "[[2 2 2]\n",
      " [2 2 2]]\n"
     ]
    }
   ],
   "source": [
    "a=np.ones((3,2))\n",
    "b=np.full((2,3),2)\n",
    "print(a)\n",
    "print(b)"
   ]
  },
  {
   "cell_type": "code",
   "execution_count": 174,
   "id": "b29b0fe3-949f-428f-b197-3aedc0a620b2",
   "metadata": {},
   "outputs": [
    {
     "data": {
      "text/plain": [
       "array([[4., 4., 4.],\n",
       "       [4., 4., 4.],\n",
       "       [4., 4., 4.]])"
      ]
     },
     "execution_count": 174,
     "metadata": {},
     "output_type": "execute_result"
    }
   ],
   "source": [
    "np.matmul(a,b)"
   ]
  },
  {
   "cell_type": "code",
   "execution_count": 180,
   "id": "1b6de3c7-c73b-4367-bb43-6221568034ec",
   "metadata": {},
   "outputs": [
    {
     "data": {
      "text/plain": [
       "array([ 6, 15])"
      ]
     },
     "execution_count": 180,
     "metadata": {},
     "output_type": "execute_result"
    }
   ],
   "source": [
    "arr = np.array([[1, 2, 3], [4, 5, 6]])\n",
    "np.sum(arr,axis=1)"
   ]
  },
  {
   "cell_type": "code",
   "execution_count": 182,
   "id": "94c1d3e9-f7be-414c-8696-dfeeb8163aa1",
   "metadata": {},
   "outputs": [
    {
     "data": {
      "text/plain": [
       "array([[1, 2, 3],\n",
       "       [4, 5, 6],\n",
       "       [1, 2, 3],\n",
       "       [4, 5, 6]])"
      ]
     },
     "execution_count": 182,
     "metadata": {},
     "output_type": "execute_result"
    }
   ],
   "source": [
    "vstack=np.vstack([arr,arr])\n",
    "vstack"
   ]
  },
  {
   "cell_type": "code",
   "execution_count": 184,
   "id": "0b7aa342-eaf7-4dc1-ba1a-ab346d56faf5",
   "metadata": {},
   "outputs": [
    {
     "data": {
      "text/plain": [
       "array([[1, 2, 3, 1, 2, 3],\n",
       "       [4, 5, 6, 4, 5, 6]])"
      ]
     },
     "execution_count": 184,
     "metadata": {},
     "output_type": "execute_result"
    }
   ],
   "source": [
    "hstack=np.hstack([arr,arr])\n",
    "hstack"
   ]
  },
  {
   "cell_type": "code",
   "execution_count": 191,
   "id": "4a0040ca-e700-4922-a79a-a18eb9faf768",
   "metadata": {},
   "outputs": [
    {
     "data": {
      "text/plain": [
       "array([4, 5, 6, 4, 5, 6])"
      ]
     },
     "execution_count": 191,
     "metadata": {},
     "output_type": "execute_result"
    }
   ],
   "source": [
    "vstack[vstack>3]"
   ]
  },
  {
   "cell_type": "code",
   "execution_count": 197,
   "id": "efda6ce6-98e8-491f-a0c4-56f2177dfd91",
   "metadata": {},
   "outputs": [
    {
     "data": {
      "text/plain": [
       "array([3, 4, 5])"
      ]
     },
     "execution_count": 197,
     "metadata": {},
     "output_type": "execute_result"
    }
   ],
   "source": [
    "x[[1,2,3]]"
   ]
  },
  {
   "cell_type": "code",
   "execution_count": 215,
   "id": "ec90fb62-2c01-443f-a2dc-c8ebf4e7736d",
   "metadata": {},
   "outputs": [
    {
     "data": {
      "text/plain": [
       "array([[1, 2, 3],\n",
       "       [1, 2, 3]])"
      ]
     },
     "execution_count": 215,
     "metadata": {},
     "output_type": "execute_result"
    }
   ],
   "source": [
    "vstack[[0,2]]"
   ]
  },
  {
   "cell_type": "code",
   "execution_count": 217,
   "id": "d52788fd-3248-4473-b897-33288ab9488a",
   "metadata": {},
   "outputs": [
    {
     "data": {
      "text/plain": [
       "array([[False, False, False],\n",
       "       [False, False, False]])"
      ]
     },
     "execution_count": 217,
     "metadata": {},
     "output_type": "execute_result"
    }
   ],
   "source": [
    "np.isnan(arr)"
   ]
  },
  {
   "cell_type": "code",
   "execution_count": 225,
   "id": "f9691d57-665a-45fb-9252-982f7080113d",
   "metadata": {},
   "outputs": [
    {
     "data": {
      "text/plain": [
       "array([[1, 2, 3],\n",
       "       [4, 5, 6]])"
      ]
     },
     "execution_count": 225,
     "metadata": {},
     "output_type": "execute_result"
    }
   ],
   "source": [
    "arr"
   ]
  },
  {
   "cell_type": "code",
   "execution_count": 239,
   "id": "ca635925-0de7-4e3f-a875-0d6ca77d2c05",
   "metadata": {},
   "outputs": [],
   "source": [
    "vstack2=vstack[::,::-1]"
   ]
  },
  {
   "cell_type": "code",
   "execution_count": 240,
   "id": "3904b48b-6bee-4147-b59b-28bd289828bf",
   "metadata": {},
   "outputs": [
    {
     "name": "stdout",
     "output_type": "stream",
     "text": [
      "[[1 2 3]\n",
      " [4 5 6]\n",
      " [1 2 3]\n",
      " [4 5 6]]\n",
      "[[3 2 1]\n",
      " [6 5 4]\n",
      " [3 2 1]\n",
      " [6 5 4]]\n"
     ]
    }
   ],
   "source": [
    "print(vstack)\n",
    "print(vstack2)"
   ]
  },
  {
   "cell_type": "code",
   "execution_count": 243,
   "id": "80821cdb-7e76-4303-8353-22e61aa5ad1d",
   "metadata": {},
   "outputs": [
    {
     "data": {
      "text/plain": [
       "array([], dtype=int32)"
      ]
     },
     "execution_count": 243,
     "metadata": {},
     "output_type": "execute_result"
    }
   ],
   "source": [
    "np.setdiff1d(vstack,arr)"
   ]
  },
  {
   "cell_type": "markdown",
   "id": "56b66453-65ae-4b4d-be3b-464a00d0cd09",
   "metadata": {},
   "source": [
    "## Numpy Arrays"
   ]
  },
  {
   "cell_type": "code",
   "execution_count": 244,
   "id": "73b3948f-7e16-4260-9e88-2fc646d02732",
   "metadata": {},
   "outputs": [
    {
     "name": "stdout",
     "output_type": "stream",
     "text": [
      "Array1:  [ 0 10 20 40 60 80]\n",
      "Array2:  [10, 30, 40, 50, 70]\n",
      "Unique values in array1 that are not in array2:\n",
      "[ 0 20 60 80]\n"
     ]
    }
   ],
   "source": [
    "# Importing the NumPy library with an alias 'np'\n",
    "import numpy as np\n",
    "\n",
    "# Creating a NumPy array 'array1'\n",
    "array1 = np.array([0, 10, 20, 40, 60, 80])\n",
    "\n",
    "# Printing the contents of 'array1'\n",
    "print(\"Array1: \", array1)\n",
    "\n",
    "# Creating a Python list 'array2'\n",
    "array2 = [10, 30, 40, 50, 70]\n",
    "\n",
    "# Printing the contents of 'array2'\n",
    "print(\"Array2: \", array2)\n",
    "\n",
    "# Finding and printing the unique values in 'array1' that are not present in 'array2'\n",
    "print(\"Unique values in array1 that are not in array2:\")\n",
    "print(np.setdiff1d(array1, array2))"
   ]
  },
  {
   "cell_type": "code",
   "execution_count": 250,
   "id": "b88354c3-1f4f-4898-9b84-71f38547abb5",
   "metadata": {},
   "outputs": [
    {
     "data": {
      "text/plain": [
       "array([1, 2, 3, 4, 5, 6, 7])"
      ]
     },
     "execution_count": 250,
     "metadata": {},
     "output_type": "execute_result"
    }
   ],
   "source": [
    "list1=[1,2,3,4,5,6,7]\n",
    "np.array(list1)"
   ]
  },
  {
   "cell_type": "code",
   "execution_count": 251,
   "id": "ba5b1a06-694b-4054-8e8b-d1013b4c42b7",
   "metadata": {},
   "outputs": [
    {
     "data": {
      "text/plain": [
       "array([1, 2, 3, 4, 5])"
      ]
     },
     "execution_count": 251,
     "metadata": {},
     "output_type": "execute_result"
    }
   ],
   "source": [
    "tup=(1,2,3,4,5)\n",
    "np.array(tup)"
   ]
  },
  {
   "cell_type": "code",
   "execution_count": 261,
   "id": "9d709c8a-24bd-4cbc-b27f-f5a638220677",
   "metadata": {},
   "outputs": [
    {
     "name": "stdout",
     "output_type": "stream",
     "text": [
      "True\n",
      "False\n"
     ]
    }
   ],
   "source": [
    "print(np.all([1,2,3]))\n",
    "print(np.any([0]))"
   ]
  },
  {
   "cell_type": "code",
   "execution_count": 264,
   "id": "59796720-bb12-4318-80bc-79252b2ad82c",
   "metadata": {},
   "outputs": [
    {
     "data": {
      "text/plain": [
       "array([[1, 2, 3, 1, 2, 3, 1, 2, 3],\n",
       "       [4, 5, 6, 4, 5, 6, 4, 5, 6]])"
      ]
     },
     "execution_count": 264,
     "metadata": {},
     "output_type": "execute_result"
    }
   ],
   "source": [
    "# Repeats the array that many times \n",
    "np.tile(arr,3)"
   ]
  },
  {
   "cell_type": "code",
   "execution_count": 266,
   "id": "43278f58-ead0-4d8a-85d7-c5a9f0bc5477",
   "metadata": {},
   "outputs": [
    {
     "data": {
      "text/plain": [
       "2"
      ]
     },
     "execution_count": 266,
     "metadata": {},
     "output_type": "execute_result"
    }
   ],
   "source": [
    "# Indicies of max and min value\n",
    "arr=np.array([1,4,7,2,3])\n",
    "np.argmax(arr)"
   ]
  },
  {
   "cell_type": "code",
   "execution_count": 269,
   "id": "9631f055-47d5-4682-8d24-0e69646dd6d7",
   "metadata": {},
   "outputs": [
    {
     "data": {
      "text/plain": [
       "array([1, 2, 3, 4, 7])"
      ]
     },
     "execution_count": 269,
     "metadata": {},
     "output_type": "execute_result"
    }
   ],
   "source": [
    "# Sorting array\n",
    "np.sort(arr)"
   ]
  },
  {
   "cell_type": "code",
   "execution_count": 274,
   "id": "e1191ce2-65ee-4546-857e-6253d62cf07b",
   "metadata": {},
   "outputs": [
    {
     "data": {
      "text/plain": [
       "array([[1, 2, 3],\n",
       "       [1, 2, 3],\n",
       "       [4, 5, 6],\n",
       "       [4, 5, 6]])"
      ]
     },
     "execution_count": 274,
     "metadata": {},
     "output_type": "execute_result"
    }
   ],
   "source": [
    "np.sort(vstack,axis=0)"
   ]
  },
  {
   "cell_type": "code",
   "execution_count": 279,
   "id": "d6b0066c-fb28-4d2c-87ee-25a3b5e7bfd1",
   "metadata": {},
   "outputs": [
    {
     "data": {
      "text/plain": [
       "array([1, 2, 3, 4, 5, 6, 1, 2, 3, 4, 5, 6])"
      ]
     },
     "execution_count": 279,
     "metadata": {},
     "output_type": "execute_result"
    }
   ],
   "source": [
    "x=np.ravel(vstack)\n",
    "x"
   ]
  },
  {
   "cell_type": "code",
   "execution_count": 281,
   "id": "82322d62-81fb-4388-bb69-be6f66a1dcaa",
   "metadata": {},
   "outputs": [
    {
     "data": {
      "text/plain": [
       "array([[ 0,  1,  2,  3],\n",
       "       [ 4,  5,  6,  7],\n",
       "       [ 8,  9, 10, 11],\n",
       "       [12, 13, 14, 15]])"
      ]
     },
     "execution_count": 281,
     "metadata": {},
     "output_type": "execute_result"
    }
   ],
   "source": [
    "x = np.arange(16).reshape((4, 4))\n",
    "x"
   ]
  },
  {
   "cell_type": "code",
   "execution_count": 293,
   "id": "771998fe-28f2-4333-acf4-1ef60d06dd26",
   "metadata": {},
   "outputs": [
    {
     "data": {
      "text/plain": [
       "[array([[ 0,  1],\n",
       "        [ 4,  5],\n",
       "        [ 8,  9],\n",
       "        [12, 13]]),\n",
       " array([[ 2,  3],\n",
       "        [ 6,  7],\n",
       "        [10, 11],\n",
       "        [14, 15]])]"
      ]
     },
     "execution_count": 293,
     "metadata": {},
     "output_type": "execute_result"
    }
   ],
   "source": [
    "np.hsplit(x,[2])"
   ]
  },
  {
   "cell_type": "markdown",
   "id": "d4ef4a2d-e09f-44da-acb6-e955b17f0698",
   "metadata": {},
   "source": [
    "### Create Record Array from Flat Lists"
   ]
  },
  {
   "cell_type": "code",
   "execution_count": 322,
   "id": "c638b088-d41b-48de-84c9-bf3280cea0bf",
   "metadata": {},
   "outputs": [],
   "source": [
    "a1 = np.array([1, -2, 3, 4])\n",
    "a2 = np.array(['Red', 'Green', 'White', 'Orange'])\n",
    "a3 = np.array([12.20, 15, 20, 40])\n",
    "result = np.core.records.fromarrays([a1, a2, a3], names='a,b,c')"
   ]
  },
  {
   "cell_type": "code",
   "execution_count": 323,
   "id": "ad438fb2-22cd-4ff8-be91-2941d793c191",
   "metadata": {},
   "outputs": [],
   "source": [
    "result=np.array(list(zip(a1,a2,a3)),dtype=[('a', 'i4'), ('b', 'U10'), ('c', 'f4')])"
   ]
  },
  {
   "cell_type": "code",
   "execution_count": 324,
   "id": "632f1e78-38c3-474f-99f5-16045340f388",
   "metadata": {},
   "outputs": [
    {
     "name": "stdout",
     "output_type": "stream",
     "text": [
      "[( 1, 'Red', 12.2) (-2, 'Green', 15. ) ( 3, 'White', 20. )\n",
      " ( 4, 'Orange', 40. )]\n"
     ]
    }
   ],
   "source": [
    "print(result)"
   ]
  },
  {
   "cell_type": "code",
   "execution_count": 321,
   "id": "71940280-3096-4148-915f-7ea6e10b72c8",
   "metadata": {},
   "outputs": [
    {
     "data": {
      "text/plain": [
       "array([1, 1, 1, 1])"
      ]
     },
     "execution_count": 321,
     "metadata": {},
     "output_type": "execute_result"
    }
   ],
   "source": [
    "np.sign(a1)"
   ]
  },
  {
   "cell_type": "markdown",
   "id": "5db36ef7-429d-4974-b155-109cffe73d26",
   "metadata": {},
   "source": [
    "# Mathematics"
   ]
  },
  {
   "cell_type": "code",
   "execution_count": 333,
   "id": "e67d8d9e-d721-493c-bb1d-2c40b942ad01",
   "metadata": {},
   "outputs": [
    {
     "name": "stdout",
     "output_type": "stream",
     "text": [
      "Roots of the first polynomial:\n",
      "[2.+1.73205081j 2.-1.73205081j]\n"
     ]
    }
   ],
   "source": [
    "print(\"Roots of the first polynomial:\")\n",
    "print(np.roots([1, -4, 7]))"
   ]
  },
  {
   "cell_type": "code",
   "execution_count": 339,
   "id": "d4912d46-efb0-4d8e-aa7b-e5c55cc61ae7",
   "metadata": {},
   "outputs": [
    {
     "name": "stdout",
     "output_type": "stream",
     "text": [
      "Mean of elements:\n",
      "1.5\n",
      "[2. 5. 2. 5.]\n"
     ]
    }
   ],
   "source": [
    "print(\"Mean of elements:\")\n",
    "print(np.mean(a1))\n",
    "print(np.mean(vstack,axis=1))"
   ]
  },
  {
   "cell_type": "markdown",
   "id": "09a0fbc1-f156-41e4-9420-0010abb191a4",
   "metadata": {},
   "source": [
    "# Linear Algebra "
   ]
  },
  {
   "cell_type": "code",
   "execution_count": 350,
   "id": "4bbe0929-245e-4b22-9963-28ec038aac11",
   "metadata": {},
   "outputs": [
    {
     "name": "stdout",
     "output_type": "stream",
     "text": [
      "A is : \n",
      " [[1. 0. 0.]\n",
      " [0. 1. 0.]\n",
      " [0. 0. 1.]]\n",
      "B is : \n",
      " [[2 2 2]\n",
      " [2 2 2]\n",
      " [2 2 2]]\n",
      "Dot Product : \n",
      " [[2. 2. 2.]\n",
      " [2. 2. 2.]\n",
      " [2. 2. 2.]]\n",
      "Outer Product : \n",
      " [[2. 2. 2. 2. 2. 2. 2. 2. 2.]\n",
      " [0. 0. 0. 0. 0. 0. 0. 0. 0.]\n",
      " [0. 0. 0. 0. 0. 0. 0. 0. 0.]\n",
      " [0. 0. 0. 0. 0. 0. 0. 0. 0.]\n",
      " [2. 2. 2. 2. 2. 2. 2. 2. 2.]\n",
      " [0. 0. 0. 0. 0. 0. 0. 0. 0.]\n",
      " [0. 0. 0. 0. 0. 0. 0. 0. 0.]\n",
      " [0. 0. 0. 0. 0. 0. 0. 0. 0.]\n",
      " [2. 2. 2. 2. 2. 2. 2. 2. 2.]]\n",
      "Cross Product : \n",
      " [[ 0. -2.  2.]\n",
      " [ 2.  0. -2.]\n",
      " [-2.  2.  0.]]\n",
      "Determinant : \n",
      " 0.0\n"
     ]
    }
   ],
   "source": [
    "a=np.eye(3,3)\n",
    "b=np.full((3,3),2)\n",
    "print(\"A is : \\n\",a)\n",
    "print(\"B is : \\n\",b)\n",
    "print(\"Dot Product : \\n\",np.dot(a,b))\n",
    "print(\"Outer Product : \\n\",np.outer(a,b))\n",
    "print(\"Cross Product : \\n\",np.cross(a,b))\n",
    "print(\"Determinant : \\n\",np.linalg.det(b))"
   ]
  },
  {
   "cell_type": "markdown",
   "id": "3802695a-24f5-4124-ab9d-2e8959535380",
   "metadata": {},
   "source": [
    "##### Einstein Summation Convention – Use np.einsum(), useful for optimized tensor calculations.\n",
    "##### Kronecker Product – Use np.kron(A, B), important in signal processing.\n",
    "##### Matrix/Vector Norms – Use np.linalg.norm(A, ord), useful for measuring size/magnitude.\n",
    "##### Condition Number – Use np.linalg.cond(A), helps check numerical stability.\n",
    "##### Frobenius Norm – Use np.linalg.norm(A, 'fro'), a special case of norms."
   ]
  },
  {
   "cell_type": "markdown",
   "id": "039b8c7b-eca3-4832-b5a6-08f15bab69ce",
   "metadata": {},
   "source": [
    "# Statistics"
   ]
  },
  {
   "cell_type": "code",
   "execution_count": 371,
   "id": "c4e6cf74-fa1d-414e-ab36-846ec87252a8",
   "metadata": {},
   "outputs": [
    {
     "name": "stdout",
     "output_type": "stream",
     "text": [
      "[[ 3 11 48 45]\n",
      " [ 9 23 88 33]\n",
      " [ 2  7 92 62]\n",
      " [82 40 37 21]]\n",
      "Max among all : \n",
      " 92\n",
      "Max along axis 1 that is among rows : \n",
      " [48 88 92 82]\n",
      "Max along axis 0 that is among columns : \n",
      " [82 40 92 62]\n",
      "Min among all : \n",
      " 2\n",
      "Min along axis 1 that is among rows : \n",
      " [ 3  9  2 21]\n",
      "Max along axis 0 that is among columns : \n",
      " [82 40 92 62]\n"
     ]
    }
   ],
   "source": [
    "# functions\n",
    "a=np.random.randint(1,101,16).reshape(4,4)\n",
    "print(a)\n",
    "print(\"Max among all : \\n\",np.max(a))\n",
    "print(\"Max along axis 1 that is among rows : \\n\",np.max(a,axis=1))\n",
    "print(\"Max along axis 0 that is among columns : \\n\",np.max(a,axis=0))\n",
    "print(\"Min among all : \\n\",np.min(a))\n",
    "print(\"Min along axis 1 that is among rows : \\n\",np.min(a,axis=1))\n",
    "print(\"Max along axis 0 that is among columns : \\n\",np.max(a,axis=0))"
   ]
  },
  {
   "cell_type": "code",
   "execution_count": 385,
   "id": "a711328f-8369-4d1b-93a1-f335f15d5ed8",
   "metadata": {},
   "outputs": [
    {
     "data": {
      "text/plain": [
       "5.0"
      ]
     },
     "execution_count": 385,
     "metadata": {},
     "output_type": "execute_result"
    }
   ],
   "source": [
    "np.percentile(np.random.randint(1,11,10),50)"
   ]
  },
  {
   "cell_type": "markdown",
   "id": "8aa98db4-53c4-4349-8bf4-73eacfce3675",
   "metadata": {},
   "source": [
    "# Random "
   ]
  },
  {
   "cell_type": "markdown",
   "id": "21905892-1a84-4866-8f37-5353319dadd5",
   "metadata": {},
   "source": [
    "### Find the most frequent value in an array"
   ]
  },
  {
   "cell_type": "code",
   "execution_count": 397,
   "id": "0d5596b9-3040-4a67-9093-0c2bec8285cd",
   "metadata": {},
   "outputs": [
    {
     "name": "stdout",
     "output_type": "stream",
     "text": [
      "[0 0 0 0 1 1 2 3 3 3 3 4 5 5 5 5 6 6 6 6 6 6 6 7 7 8 8 8 9 9]\n",
      "Most Frequent occuring number : 6\n"
     ]
    }
   ],
   "source": [
    "x = np.random.randint(0, 10, 30)\n",
    "print(np.sort(x))\n",
    "print(\"Most Frequent occuring number :\",np.bincount(x).argmax())"
   ]
  },
  {
   "cell_type": "markdown",
   "id": "63ac8b31-83d5-4a5a-9ff8-0ed550945e71",
   "metadata": {},
   "source": [
    "### Permutation function "
   ]
  },
  {
   "cell_type": "code",
   "execution_count": 400,
   "id": "0ae37e04-bd41-42b4-b6a4-c57ba05da807",
   "metadata": {},
   "outputs": [
    {
     "name": "stdout",
     "output_type": "stream",
     "text": [
      "Array result after using permutation():\n",
      "[7 3 5 0 4 1 9 2 6 8]\n"
     ]
    }
   ],
   "source": [
    "print(\"Array result after using permutation():\")\n",
    "print(np.random.permutation(10))"
   ]
  },
  {
   "cell_type": "code",
   "execution_count": null,
   "id": "1fa984d7-008f-4742-ba37-6e3f918e6613",
   "metadata": {},
   "outputs": [],
   "source": []
  }
 ],
 "metadata": {
  "kernelspec": {
   "display_name": "Python 3 (ipykernel)",
   "language": "python",
   "name": "python3"
  },
  "language_info": {
   "codemirror_mode": {
    "name": "ipython",
    "version": 3
   },
   "file_extension": ".py",
   "mimetype": "text/x-python",
   "name": "python",
   "nbconvert_exporter": "python",
   "pygments_lexer": "ipython3",
   "version": "3.12.7"
  }
 },
 "nbformat": 4,
 "nbformat_minor": 5
}
