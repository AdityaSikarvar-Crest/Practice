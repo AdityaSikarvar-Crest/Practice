{
 "cells": [
  {
   "cell_type": "code",
   "execution_count": 1,
   "id": "9c4eb3e1-f93f-4859-ba64-9933b3588a41",
   "metadata": {},
   "outputs": [
    {
     "name": "stdout",
     "output_type": "stream",
     "text": [
      "Requirement already satisfied: numpy in c:\\users\\adityasikarvar\\anaconda3\\lib\\site-packages (1.26.4)\n",
      "Note: you may need to restart the kernel to use updated packages.\n"
     ]
    }
   ],
   "source": [
    "pip install numpy"
   ]
  },
  {
   "cell_type": "code",
   "execution_count": 16,
   "id": "6fb6c2fe-f66f-4bb6-874b-6864775a8a25",
   "metadata": {},
   "outputs": [],
   "source": [
    "import numpy as np"
   ]
  },
  {
   "cell_type": "markdown",
   "id": "de8a1fca-75f3-4929-be9e-608fc0a351e2",
   "metadata": {},
   "source": [
    "###  Core Feature of python numpy is its ability to utilize numpy array with this we can perfom multidimensional takss smoothly"
   ]
  },
  {
   "cell_type": "code",
   "execution_count": 47,
   "id": "c5f9c074-b767-4ef1-a6e8-fe98aff611ae",
   "metadata": {},
   "outputs": [],
   "source": [
    "arr=np.array([[\"a\",2],[\"b\",4]])"
   ]
  },
  {
   "cell_type": "code",
   "execution_count": 15,
   "id": "02fccb01-cd52-4375-9e55-7a554a102444",
   "metadata": {},
   "outputs": [
    {
     "name": "stdout",
     "output_type": "stream",
     "text": [
      "2\n",
      "(2, 2)\n",
      "4\n",
      "<U11\n"
     ]
    }
   ],
   "source": [
    "print(arr.ndim)# Dimensions of your array\n",
    "print(arr.shape)#Shape that is number of rows and columns \n",
    "print(arr.size)# this diplays the total number of elements in your array \n",
    "print(arr.dtype)# Showcases the type of data in your array"
   ]
  },
  {
   "cell_type": "code",
   "execution_count": 19,
   "id": "c77e95dc-d277-4cf5-a417-c46a1db3a02f",
   "metadata": {},
   "outputs": [],
   "source": [
    "# print(np.__version__)\n",
    "# print(np.show_config())"
   ]
  },
  {
   "cell_type": "markdown",
   "id": "04663ec2-33cc-484c-b947-e238d26f9f20",
   "metadata": {},
   "source": [
    "### Basic Numpy array functions are as follows"
   ]
  },
  {
   "cell_type": "code",
   "execution_count": 32,
   "id": "a9e8e756-c9aa-4d73-9246-56d03b64a6e1",
   "metadata": {},
   "outputs": [
    {
     "name": "stdout",
     "output_type": "stream",
     "text": [
      "[[0. 0.]\n",
      " [0. 0.]]\n"
     ]
    }
   ],
   "source": [
    "# Zeroes Array\n",
    "zeroes=np.zeros((2,2))\n",
    "print(zeroes)"
   ]
  },
  {
   "cell_type": "code",
   "execution_count": 64,
   "id": "6bc96d9c-2286-432c-93c3-e0abf26210c3",
   "metadata": {},
   "outputs": [
    {
     "name": "stdout",
     "output_type": "stream",
     "text": [
      "[[1. 1.]\n",
      " [1. 1.]]\n"
     ]
    }
   ],
   "source": [
    "#Ones Array\n",
    "ones=np.ones((2,2))\n",
    "print(ones)"
   ]
  },
  {
   "cell_type": "code",
   "execution_count": 43,
   "id": "d911e0ad-bd51-4d18-9353-71547673514a",
   "metadata": {},
   "outputs": [
    {
     "name": "stdout",
     "output_type": "stream",
     "text": [
      "[[1. 0. 0.]\n",
      " [0. 1. 0.]\n",
      " [0. 0. 1.]]\n"
     ]
    }
   ],
   "source": [
    "# Identity \n",
    "index=np.eye(3,3)\n",
    "print(index)"
   ]
  },
  {
   "cell_type": "code",
   "execution_count": 127,
   "id": "9334256c-0673-4633-bc97-358d0f0abb8b",
   "metadata": {},
   "outputs": [
    {
     "data": {
      "text/plain": [
       "array([[4, 4],\n",
       "       [4, 4]])"
      ]
     },
     "execution_count": 127,
     "metadata": {},
     "output_type": "execute_result"
    }
   ],
   "source": [
    "# Any number array\n",
    "np.full((2,2),4)"
   ]
  },
  {
   "cell_type": "code",
   "execution_count": 123,
   "id": "82b58dc3-bc94-405d-b496-428137237bf9",
   "metadata": {},
   "outputs": [
    {
     "name": "stdout",
     "output_type": "stream",
     "text": [
      "[[0.73414495 0.25771796 0.44902642]\n",
      " [0.96029251 0.03592878 0.46966586]\n",
      " [0.59347712 0.12779795 0.22977843]]\n",
      "5\n"
     ]
    }
   ],
   "source": [
    "#Random Number array and random number generator\n",
    "print(np.random.rand(3,3))\n",
    "print(np.random.randint(1,10))"
   ]
  },
  {
   "cell_type": "code",
   "execution_count": 195,
   "id": "9c59b16f-d6c1-42bf-b7e7-104444761441",
   "metadata": {},
   "outputs": [
    {
     "data": {
      "text/plain": [
       "array([2, 3, 4, 5, 6, 7, 8, 9])"
      ]
     },
     "execution_count": 195,
     "metadata": {},
     "output_type": "execute_result"
    }
   ],
   "source": [
    "# Arrange Function numpy\n",
    "x=np.arange(2,10)\n",
    "x"
   ]
  },
  {
   "cell_type": "code",
   "execution_count": 62,
   "id": "0c3ed40c-39aa-4ce9-a556-01d9ef1df4bf",
   "metadata": {},
   "outputs": [
    {
     "name": "stdout",
     "output_type": "stream",
     "text": [
      "[['a' '2']]\n"
     ]
    }
   ],
   "source": [
    "# Get first two rows and first two columns\n",
    "print(arr[:1,:2])"
   ]
  },
  {
   "cell_type": "code",
   "execution_count": 63,
   "id": "cbfec75a-b66c-4ae0-98ff-b7e0bcde6fa5",
   "metadata": {},
   "outputs": [],
   "source": [
    "# Adition and other operations"
   ]
  },
  {
   "cell_type": "code",
   "execution_count": 77,
   "id": "95bbd67f-9029-4939-9da5-b50c8874556b",
   "metadata": {},
   "outputs": [
    {
     "name": "stdout",
     "output_type": "stream",
     "text": [
      "[[1. 1.]\n",
      " [1. 1.]]\n",
      "[[0. 0.]\n",
      " [0. 0.]]\n"
     ]
    }
   ],
   "source": [
    "arr2=zeroes+ones\n",
    "arr3=zeroes*ones\n",
    "print(arr2)\n",
    "print(arr3)#Element wise multiplication not matrix wise"
   ]
  },
  {
   "cell_type": "code",
   "execution_count": 76,
   "id": "413d8c39-3d57-43ab-af09-20755f046285",
   "metadata": {},
   "outputs": [],
   "source": [
    "#Square root of each element in the array\n",
    "y=np.sqrt(x)"
   ]
  },
  {
   "cell_type": "code",
   "execution_count": 83,
   "id": "5fd125d3-c9f1-49d1-afce-04e11f00033f",
   "metadata": {},
   "outputs": [
    {
     "name": "stdout",
     "output_type": "stream",
     "text": [
      "5.5\n",
      "5.5\n"
     ]
    }
   ],
   "source": [
    "# Staistical Functions\n",
    "print(np.mean(x))\n",
    "print(np.median(x))"
   ]
  },
  {
   "cell_type": "code",
   "execution_count": 102,
   "id": "841df789-c7af-435d-a7a2-c676100255de",
   "metadata": {},
   "outputs": [
    {
     "name": "stdout",
     "output_type": "stream",
     "text": [
      "[[1 2]\n",
      " [3 4]\n",
      " [5 6]]\n"
     ]
    }
   ],
   "source": [
    "# Reshape\n",
    "arr = np.array([[1, 2, 3], [4, 5, 6]])\n",
    "reshaped=arr.reshape(3,2)\n",
    "print(reshaped)"
   ]
  },
  {
   "cell_type": "code",
   "execution_count": 103,
   "id": "1932bbc9-901c-4c2d-b97f-5208b55860b6",
   "metadata": {},
   "outputs": [
    {
     "name": "stdout",
     "output_type": "stream",
     "text": [
      "[[1 4]\n",
      " [2 5]\n",
      " [3 6]]\n"
     ]
    }
   ],
   "source": [
    "# Transpose\n",
    "Transpose=arr.T\n",
    "print(Transpose)"
   ]
  },
  {
   "cell_type": "code",
   "execution_count": 105,
   "id": "feffce97-d2c9-4a27-8504-a9ec56ef3f1d",
   "metadata": {},
   "outputs": [
    {
     "name": "stdout",
     "output_type": "stream",
     "text": [
      "[[11 22 33]\n",
      " [14 25 36]]\n"
     ]
    }
   ],
   "source": [
    "# Broadcasting in python \n",
    "# This allows us to operate on two different sized arrays by expanding the smaller one to match the size of the larger one\n",
    "arr2D = np.array([[1, 2, 3], [4, 5, 6]])  # Shape (2,3)\n",
    "arr1D = np.array([10, 20, 30])  # Shape (3,)\n",
    "result = arr2D + arr1D\n",
    "print(result)"
   ]
  },
  {
   "cell_type": "code",
   "execution_count": 121,
   "id": "b0af4608-f24d-4d8a-aa6a-ba5bfb397c18",
   "metadata": {},
   "outputs": [
    {
     "name": "stdout",
     "output_type": "stream",
     "text": [
      "[30 40 50]\n",
      "[10 20 30 10 10]\n"
     ]
    }
   ],
   "source": [
    "#Filtering data using numpy\n",
    "arr = np.array([10, 20, 30, 40, 50])\n",
    "print(arr[arr>20])\n",
    "arr[arr>30]=10\n",
    "print(arr)"
   ]
  },
  {
   "cell_type": "code",
   "execution_count": 126,
   "id": "d1ee5149-e4c8-4a8e-8e42-85a9bd55e469",
   "metadata": {},
   "outputs": [
    {
     "name": "stdout",
     "output_type": "stream",
     "text": [
      "True\n",
      "True\n"
     ]
    }
   ],
   "source": [
    "# Tests wheter zeroes are there in array or not\n",
    "print(np.all(arr))\n",
    "# Test if any element is non zero\n",
    "print(np.any(arr))"
   ]
  },
  {
   "cell_type": "code",
   "execution_count": 135,
   "id": "d5fb168a-8b37-430d-9058-d5d449a01727",
   "metadata": {},
   "outputs": [
    {
     "data": {
      "text/plain": [
       "array([[10, 20],\n",
       "       [10, 20],\n",
       "       [10, 20]])"
      ]
     },
     "execution_count": 135,
     "metadata": {},
     "output_type": "execute_result"
    }
   ],
   "source": [
    "arr = np.array([[10, 20]])\n",
    "np.repeat(arr,3,axis=0)"
   ]
  },
  {
   "cell_type": "code",
   "execution_count": 145,
   "id": "98e03812-de6a-430e-886a-54bf5d08748b",
   "metadata": {},
   "outputs": [],
   "source": [
    "final=np.zeros((5,5))"
   ]
  },
  {
   "cell_type": "code",
   "execution_count": 164,
   "id": "75b12eb3-cc56-49cf-94c0-c8a9d9071811",
   "metadata": {},
   "outputs": [],
   "source": [
    "# final[0]=1\n",
    "# final[4]=1\n",
    "# final[::,0]=1\n",
    "# final[::,4]=1\n",
    "# final[2,2]=9\n",
    "\n",
    "final=np.ones((5,5))\n",
    "zero=np.zeros((3,3))\n",
    "zero[1,1]=9\n",
    "final[1:4,1:4]=zero"
   ]
  },
  {
   "cell_type": "code",
   "execution_count": 165,
   "id": "59c31303-178d-4b8b-934f-3d6a8702fdfa",
   "metadata": {},
   "outputs": [
    {
     "name": "stdout",
     "output_type": "stream",
     "text": [
      "[[1. 1. 1. 1. 1.]\n",
      " [1. 0. 0. 0. 1.]\n",
      " [1. 0. 9. 0. 1.]\n",
      " [1. 0. 0. 0. 1.]\n",
      " [1. 1. 1. 1. 1.]]\n"
     ]
    }
   ],
   "source": [
    "print(final)"
   ]
  },
  {
   "cell_type": "code",
   "execution_count": 171,
   "id": "7ad290b3-fb69-4b46-a96a-0c97ffec26ea",
   "metadata": {},
   "outputs": [
    {
     "data": {
      "text/plain": [
       "array([[2., 2.],\n",
       "       [1., 1.]])"
      ]
     },
     "execution_count": 171,
     "metadata": {},
     "output_type": "execute_result"
    }
   ],
   "source": [
    "arr=arr2 # creates shallow copies \n",
    "arr[0]=2\n",
    "arr2"
   ]
  },
  {
   "cell_type": "code",
   "execution_count": 172,
   "id": "2a34cf87-93c5-40e4-bd27-0f20299c99ba",
   "metadata": {},
   "outputs": [
    {
     "name": "stdout",
     "output_type": "stream",
     "text": [
      "[[1. 1.]\n",
      " [1. 1.]\n",
      " [1. 1.]]\n",
      "[[2 2 2]\n",
      " [2 2 2]]\n"
     ]
    }
   ],
   "source": [
    "a=np.ones((3,2))\n",
    "b=np.full((2,3),2)\n",
    "print(a)\n",
    "print(b)"
   ]
  },
  {
   "cell_type": "code",
   "execution_count": 174,
   "id": "b29b0fe3-949f-428f-b197-3aedc0a620b2",
   "metadata": {},
   "outputs": [
    {
     "data": {
      "text/plain": [
       "array([[4., 4., 4.],\n",
       "       [4., 4., 4.],\n",
       "       [4., 4., 4.]])"
      ]
     },
     "execution_count": 174,
     "metadata": {},
     "output_type": "execute_result"
    }
   ],
   "source": [
    "np.matmul(a,b)"
   ]
  },
  {
   "cell_type": "code",
   "execution_count": 180,
   "id": "1b6de3c7-c73b-4367-bb43-6221568034ec",
   "metadata": {},
   "outputs": [
    {
     "data": {
      "text/plain": [
       "array([ 6, 15])"
      ]
     },
     "execution_count": 180,
     "metadata": {},
     "output_type": "execute_result"
    }
   ],
   "source": [
    "arr = np.array([[1, 2, 3], [4, 5, 6]])\n",
    "np.sum(arr,axis=1)"
   ]
  },
  {
   "cell_type": "code",
   "execution_count": 182,
   "id": "94c1d3e9-f7be-414c-8696-dfeeb8163aa1",
   "metadata": {},
   "outputs": [
    {
     "data": {
      "text/plain": [
       "array([[1, 2, 3],\n",
       "       [4, 5, 6],\n",
       "       [1, 2, 3],\n",
       "       [4, 5, 6]])"
      ]
     },
     "execution_count": 182,
     "metadata": {},
     "output_type": "execute_result"
    }
   ],
   "source": [
    "vstack=np.vstack([arr,arr])\n",
    "vstack"
   ]
  },
  {
   "cell_type": "code",
   "execution_count": 184,
   "id": "0b7aa342-eaf7-4dc1-ba1a-ab346d56faf5",
   "metadata": {},
   "outputs": [
    {
     "data": {
      "text/plain": [
       "array([[1, 2, 3, 1, 2, 3],\n",
       "       [4, 5, 6, 4, 5, 6]])"
      ]
     },
     "execution_count": 184,
     "metadata": {},
     "output_type": "execute_result"
    }
   ],
   "source": [
    "hstack=np.hstack([arr,arr])\n",
    "hstack"
   ]
  },
  {
   "cell_type": "code",
   "execution_count": 191,
   "id": "4a0040ca-e700-4922-a79a-a18eb9faf768",
   "metadata": {},
   "outputs": [
    {
     "data": {
      "text/plain": [
       "array([4, 5, 6, 4, 5, 6])"
      ]
     },
     "execution_count": 191,
     "metadata": {},
     "output_type": "execute_result"
    }
   ],
   "source": [
    "vstack[vstack>3]"
   ]
  },
  {
   "cell_type": "code",
   "execution_count": 197,
   "id": "efda6ce6-98e8-491f-a0c4-56f2177dfd91",
   "metadata": {},
   "outputs": [
    {
     "data": {
      "text/plain": [
       "array([3, 4, 5])"
      ]
     },
     "execution_count": 197,
     "metadata": {},
     "output_type": "execute_result"
    }
   ],
   "source": [
    "x[[1,2,3]]"
   ]
  },
  {
   "cell_type": "code",
   "execution_count": 215,
   "id": "ec90fb62-2c01-443f-a2dc-c8ebf4e7736d",
   "metadata": {},
   "outputs": [
    {
     "data": {
      "text/plain": [
       "array([[1, 2, 3],\n",
       "       [1, 2, 3]])"
      ]
     },
     "execution_count": 215,
     "metadata": {},
     "output_type": "execute_result"
    }
   ],
   "source": [
    "vstack[[0,2]]"
   ]
  },
  {
   "cell_type": "code",
   "execution_count": 217,
   "id": "d52788fd-3248-4473-b897-33288ab9488a",
   "metadata": {},
   "outputs": [
    {
     "data": {
      "text/plain": [
       "array([[False, False, False],\n",
       "       [False, False, False]])"
      ]
     },
     "execution_count": 217,
     "metadata": {},
     "output_type": "execute_result"
    }
   ],
   "source": [
    "np.isnan(arr)"
   ]
  },
  {
   "cell_type": "code",
   "execution_count": 225,
   "id": "f9691d57-665a-45fb-9252-982f7080113d",
   "metadata": {},
   "outputs": [
    {
     "data": {
      "text/plain": [
       "array([[1, 2, 3],\n",
       "       [4, 5, 6]])"
      ]
     },
     "execution_count": 225,
     "metadata": {},
     "output_type": "execute_result"
    }
   ],
   "source": [
    "arr"
   ]
  },
  {
   "cell_type": "code",
   "execution_count": 239,
   "id": "ca635925-0de7-4e3f-a875-0d6ca77d2c05",
   "metadata": {},
   "outputs": [],
   "source": [
    "vstack2=vstack[::,::-1]"
   ]
  },
  {
   "cell_type": "code",
   "execution_count": 240,
   "id": "3904b48b-6bee-4147-b59b-28bd289828bf",
   "metadata": {},
   "outputs": [
    {
     "name": "stdout",
     "output_type": "stream",
     "text": [
      "[[1 2 3]\n",
      " [4 5 6]\n",
      " [1 2 3]\n",
      " [4 5 6]]\n",
      "[[3 2 1]\n",
      " [6 5 4]\n",
      " [3 2 1]\n",
      " [6 5 4]]\n"
     ]
    }
   ],
   "source": [
    "print(vstack)\n",
    "print(vstack2)"
   ]
  },
  {
   "cell_type": "code",
   "execution_count": 243,
   "id": "80821cdb-7e76-4303-8353-22e61aa5ad1d",
   "metadata": {},
   "outputs": [
    {
     "data": {
      "text/plain": [
       "array([], dtype=int32)"
      ]
     },
     "execution_count": 243,
     "metadata": {},
     "output_type": "execute_result"
    }
   ],
   "source": [
    "np.setdiff1d(vstack,arr)"
   ]
  },
  {
   "cell_type": "markdown",
   "id": "56b66453-65ae-4b4d-be3b-464a00d0cd09",
   "metadata": {},
   "source": [
    "## Numpy Arrays"
   ]
  },
  {
   "cell_type": "code",
   "execution_count": 244,
   "id": "73b3948f-7e16-4260-9e88-2fc646d02732",
   "metadata": {},
   "outputs": [
    {
     "name": "stdout",
     "output_type": "stream",
     "text": [
      "Array1:  [ 0 10 20 40 60 80]\n",
      "Array2:  [10, 30, 40, 50, 70]\n",
      "Unique values in array1 that are not in array2:\n",
      "[ 0 20 60 80]\n"
     ]
    }
   ],
   "source": [
    "# Importing the NumPy library with an alias 'np'\n",
    "import numpy as np\n",
    "\n",
    "# Creating a NumPy array 'array1'\n",
    "array1 = np.array([0, 10, 20, 40, 60, 80])\n",
    "\n",
    "# Printing the contents of 'array1'\n",
    "print(\"Array1: \", array1)\n",
    "\n",
    "# Creating a Python list 'array2'\n",
    "array2 = [10, 30, 40, 50, 70]\n",
    "\n",
    "# Printing the contents of 'array2'\n",
    "print(\"Array2: \", array2)\n",
    "\n",
    "# Finding and printing the unique values in 'array1' that are not present in 'array2'\n",
    "print(\"Unique values in array1 that are not in array2:\")\n",
    "print(np.setdiff1d(array1, array2))"
   ]
  },
  {
   "cell_type": "code",
   "execution_count": 250,
   "id": "b88354c3-1f4f-4898-9b84-71f38547abb5",
   "metadata": {},
   "outputs": [
    {
     "data": {
      "text/plain": [
       "array([1, 2, 3, 4, 5, 6, 7])"
      ]
     },
     "execution_count": 250,
     "metadata": {},
     "output_type": "execute_result"
    }
   ],
   "source": [
    "list1=[1,2,3,4,5,6,7]\n",
    "np.array(list1)"
   ]
  },
  {
   "cell_type": "code",
   "execution_count": 251,
   "id": "ba5b1a06-694b-4054-8e8b-d1013b4c42b7",
   "metadata": {},
   "outputs": [
    {
     "data": {
      "text/plain": [
       "array([1, 2, 3, 4, 5])"
      ]
     },
     "execution_count": 251,
     "metadata": {},
     "output_type": "execute_result"
    }
   ],
   "source": [
    "tup=(1,2,3,4,5)\n",
    "np.array(tup)"
   ]
  },
  {
   "cell_type": "code",
   "execution_count": 15,
   "id": "9d709c8a-24bd-4cbc-b27f-f5a638220677",
   "metadata": {},
   "outputs": [
    {
     "name": "stdout",
     "output_type": "stream",
     "text": [
      "True\n",
      "False\n",
      "[False False  True False False  True False False  True False]\n"
     ]
    }
   ],
   "source": [
    "print(np.all([1,2,3]))\n",
    "print(np.any([0]))\n",
    "print(arr>5)"
   ]
  },
  {
   "cell_type": "code",
   "execution_count": 264,
   "id": "59796720-bb12-4318-80bc-79252b2ad82c",
   "metadata": {},
   "outputs": [
    {
     "data": {
      "text/plain": [
       "array([[1, 2, 3, 1, 2, 3, 1, 2, 3],\n",
       "       [4, 5, 6, 4, 5, 6, 4, 5, 6]])"
      ]
     },
     "execution_count": 264,
     "metadata": {},
     "output_type": "execute_result"
    }
   ],
   "source": [
    "# Repeats the array that many times \n",
    "np.tile(arr,3)"
   ]
  },
  {
   "cell_type": "code",
   "execution_count": 266,
   "id": "43278f58-ead0-4d8a-85d7-c5a9f0bc5477",
   "metadata": {},
   "outputs": [
    {
     "data": {
      "text/plain": [
       "2"
      ]
     },
     "execution_count": 266,
     "metadata": {},
     "output_type": "execute_result"
    }
   ],
   "source": [
    "# Indicies of max and min value\n",
    "arr=np.array([1,4,7,2,3])\n",
    "np.argmax(arr)"
   ]
  },
  {
   "cell_type": "code",
   "execution_count": 269,
   "id": "9631f055-47d5-4682-8d24-0e69646dd6d7",
   "metadata": {},
   "outputs": [
    {
     "data": {
      "text/plain": [
       "array([1, 2, 3, 4, 7])"
      ]
     },
     "execution_count": 269,
     "metadata": {},
     "output_type": "execute_result"
    }
   ],
   "source": [
    "# Sorting array\n",
    "np.sort(arr)"
   ]
  },
  {
   "cell_type": "code",
   "execution_count": 274,
   "id": "e1191ce2-65ee-4546-857e-6253d62cf07b",
   "metadata": {},
   "outputs": [
    {
     "data": {
      "text/plain": [
       "array([[1, 2, 3],\n",
       "       [1, 2, 3],\n",
       "       [4, 5, 6],\n",
       "       [4, 5, 6]])"
      ]
     },
     "execution_count": 274,
     "metadata": {},
     "output_type": "execute_result"
    }
   ],
   "source": [
    "np.sort(vstack,axis=0)"
   ]
  },
  {
   "cell_type": "code",
   "execution_count": 279,
   "id": "d6b0066c-fb28-4d2c-87ee-25a3b5e7bfd1",
   "metadata": {},
   "outputs": [
    {
     "data": {
      "text/plain": [
       "array([1, 2, 3, 4, 5, 6, 1, 2, 3, 4, 5, 6])"
      ]
     },
     "execution_count": 279,
     "metadata": {},
     "output_type": "execute_result"
    }
   ],
   "source": [
    "x=np.ravel(vstack)\n",
    "x"
   ]
  },
  {
   "cell_type": "code",
   "execution_count": 281,
   "id": "82322d62-81fb-4388-bb69-be6f66a1dcaa",
   "metadata": {},
   "outputs": [
    {
     "data": {
      "text/plain": [
       "array([[ 0,  1,  2,  3],\n",
       "       [ 4,  5,  6,  7],\n",
       "       [ 8,  9, 10, 11],\n",
       "       [12, 13, 14, 15]])"
      ]
     },
     "execution_count": 281,
     "metadata": {},
     "output_type": "execute_result"
    }
   ],
   "source": [
    "x = np.arange(16).reshape((4, 4))\n",
    "x"
   ]
  },
  {
   "cell_type": "code",
   "execution_count": 293,
   "id": "771998fe-28f2-4333-acf4-1ef60d06dd26",
   "metadata": {},
   "outputs": [
    {
     "data": {
      "text/plain": [
       "[array([[ 0,  1],\n",
       "        [ 4,  5],\n",
       "        [ 8,  9],\n",
       "        [12, 13]]),\n",
       " array([[ 2,  3],\n",
       "        [ 6,  7],\n",
       "        [10, 11],\n",
       "        [14, 15]])]"
      ]
     },
     "execution_count": 293,
     "metadata": {},
     "output_type": "execute_result"
    }
   ],
   "source": [
    "np.hsplit(x,[2])"
   ]
  },
  {
   "cell_type": "markdown",
   "id": "d4ef4a2d-e09f-44da-acb6-e955b17f0698",
   "metadata": {},
   "source": [
    "### Create Record Array from Flat Lists"
   ]
  },
  {
   "cell_type": "code",
   "execution_count": 322,
   "id": "c638b088-d41b-48de-84c9-bf3280cea0bf",
   "metadata": {},
   "outputs": [],
   "source": [
    "a1 = np.array([1, -2, 3, 4])\n",
    "a2 = np.array(['Red', 'Green', 'White', 'Orange'])\n",
    "a3 = np.array([12.20, 15, 20, 40])\n",
    "result = np.core.records.fromarrays([a1, a2, a3], names='a,b,c')"
   ]
  },
  {
   "cell_type": "code",
   "execution_count": 323,
   "id": "ad438fb2-22cd-4ff8-be91-2941d793c191",
   "metadata": {},
   "outputs": [],
   "source": [
    "result=np.array(list(zip(a1,a2,a3)),dtype=[('a', 'i4'), ('b', 'U10'), ('c', 'f4')])"
   ]
  },
  {
   "cell_type": "code",
   "execution_count": 324,
   "id": "632f1e78-38c3-474f-99f5-16045340f388",
   "metadata": {},
   "outputs": [
    {
     "name": "stdout",
     "output_type": "stream",
     "text": [
      "[( 1, 'Red', 12.2) (-2, 'Green', 15. ) ( 3, 'White', 20. )\n",
      " ( 4, 'Orange', 40. )]\n"
     ]
    }
   ],
   "source": [
    "print(result)"
   ]
  },
  {
   "cell_type": "code",
   "execution_count": 321,
   "id": "71940280-3096-4148-915f-7ea6e10b72c8",
   "metadata": {},
   "outputs": [
    {
     "data": {
      "text/plain": [
       "array([1, 1, 1, 1])"
      ]
     },
     "execution_count": 321,
     "metadata": {},
     "output_type": "execute_result"
    }
   ],
   "source": [
    "np.sign(a1)"
   ]
  },
  {
   "cell_type": "markdown",
   "id": "5db36ef7-429d-4974-b155-109cffe73d26",
   "metadata": {},
   "source": [
    "# Mathematics"
   ]
  },
  {
   "cell_type": "code",
   "execution_count": 333,
   "id": "e67d8d9e-d721-493c-bb1d-2c40b942ad01",
   "metadata": {},
   "outputs": [
    {
     "name": "stdout",
     "output_type": "stream",
     "text": [
      "Roots of the first polynomial:\n",
      "[2.+1.73205081j 2.-1.73205081j]\n"
     ]
    }
   ],
   "source": [
    "print(\"Roots of the first polynomial:\")\n",
    "print(np.roots([1, -4, 7]))"
   ]
  },
  {
   "cell_type": "code",
   "execution_count": 339,
   "id": "d4912d46-efb0-4d8e-aa7b-e5c55cc61ae7",
   "metadata": {},
   "outputs": [
    {
     "name": "stdout",
     "output_type": "stream",
     "text": [
      "Mean of elements:\n",
      "1.5\n",
      "[2. 5. 2. 5.]\n"
     ]
    }
   ],
   "source": [
    "print(\"Mean of elements:\")\n",
    "print(np.mean(a1))\n",
    "print(np.mean(vstack,axis=1))"
   ]
  },
  {
   "cell_type": "markdown",
   "id": "09a0fbc1-f156-41e4-9420-0010abb191a4",
   "metadata": {},
   "source": [
    "# Linear Algebra "
   ]
  },
  {
   "cell_type": "code",
   "execution_count": 350,
   "id": "4bbe0929-245e-4b22-9963-28ec038aac11",
   "metadata": {},
   "outputs": [
    {
     "name": "stdout",
     "output_type": "stream",
     "text": [
      "A is : \n",
      " [[1. 0. 0.]\n",
      " [0. 1. 0.]\n",
      " [0. 0. 1.]]\n",
      "B is : \n",
      " [[2 2 2]\n",
      " [2 2 2]\n",
      " [2 2 2]]\n",
      "Dot Product : \n",
      " [[2. 2. 2.]\n",
      " [2. 2. 2.]\n",
      " [2. 2. 2.]]\n",
      "Outer Product : \n",
      " [[2. 2. 2. 2. 2. 2. 2. 2. 2.]\n",
      " [0. 0. 0. 0. 0. 0. 0. 0. 0.]\n",
      " [0. 0. 0. 0. 0. 0. 0. 0. 0.]\n",
      " [0. 0. 0. 0. 0. 0. 0. 0. 0.]\n",
      " [2. 2. 2. 2. 2. 2. 2. 2. 2.]\n",
      " [0. 0. 0. 0. 0. 0. 0. 0. 0.]\n",
      " [0. 0. 0. 0. 0. 0. 0. 0. 0.]\n",
      " [0. 0. 0. 0. 0. 0. 0. 0. 0.]\n",
      " [2. 2. 2. 2. 2. 2. 2. 2. 2.]]\n",
      "Cross Product : \n",
      " [[ 0. -2.  2.]\n",
      " [ 2.  0. -2.]\n",
      " [-2.  2.  0.]]\n",
      "Determinant : \n",
      " 0.0\n"
     ]
    }
   ],
   "source": [
    "a=np.eye(3,3)\n",
    "b=np.full((3,3),2)\n",
    "print(\"A is : \\n\",a)\n",
    "print(\"B is : \\n\",b)\n",
    "print(\"Dot Product : \\n\",np.dot(a,b))\n",
    "print(\"Outer Product : \\n\",np.outer(a,b))\n",
    "print(\"Cross Product : \\n\",np.cross(a,b))\n",
    "print(\"Determinant : \\n\",np.linalg.det(b))"
   ]
  },
  {
   "cell_type": "markdown",
   "id": "3802695a-24f5-4124-ab9d-2e8959535380",
   "metadata": {},
   "source": [
    "##### Einstein Summation Convention – Use np.einsum(), useful for optimized tensor calculations.\n",
    "##### Kronecker Product – Use np.kron(A, B), important in signal processing.\n",
    "##### Matrix/Vector Norms – Use np.linalg.norm(A, ord), useful for measuring size/magnitude.\n",
    "##### Condition Number – Use np.linalg.cond(A), helps check numerical stability.\n",
    "##### Frobenius Norm – Use np.linalg.norm(A, 'fro'), a special case of norms."
   ]
  },
  {
   "cell_type": "markdown",
   "id": "039b8c7b-eca3-4832-b5a6-08f15bab69ce",
   "metadata": {},
   "source": [
    "# Statistics"
   ]
  },
  {
   "cell_type": "code",
   "execution_count": 371,
   "id": "c4e6cf74-fa1d-414e-ab36-846ec87252a8",
   "metadata": {},
   "outputs": [
    {
     "name": "stdout",
     "output_type": "stream",
     "text": [
      "[[ 3 11 48 45]\n",
      " [ 9 23 88 33]\n",
      " [ 2  7 92 62]\n",
      " [82 40 37 21]]\n",
      "Max among all : \n",
      " 92\n",
      "Max along axis 1 that is among rows : \n",
      " [48 88 92 82]\n",
      "Max along axis 0 that is among columns : \n",
      " [82 40 92 62]\n",
      "Min among all : \n",
      " 2\n",
      "Min along axis 1 that is among rows : \n",
      " [ 3  9  2 21]\n",
      "Max along axis 0 that is among columns : \n",
      " [82 40 92 62]\n"
     ]
    }
   ],
   "source": [
    "# functions\n",
    "a=np.random.randint(1,101,16).reshape(4,4)\n",
    "print(a)\n",
    "print(\"Max among all : \\n\",np.max(a))\n",
    "print(\"Max along axis 1 that is among rows : \\n\",np.max(a,axis=1))\n",
    "print(\"Max along axis 0 that is among columns : \\n\",np.max(a,axis=0))\n",
    "print(\"Min among all : \\n\",np.min(a))\n",
    "print(\"Min along axis 1 that is among rows : \\n\",np.min(a,axis=1))\n",
    "print(\"Max along axis 0 that is among columns : \\n\",np.max(a,axis=0))"
   ]
  },
  {
   "cell_type": "code",
   "execution_count": 385,
   "id": "a711328f-8369-4d1b-93a1-f335f15d5ed8",
   "metadata": {},
   "outputs": [
    {
     "data": {
      "text/plain": [
       "5.0"
      ]
     },
     "execution_count": 385,
     "metadata": {},
     "output_type": "execute_result"
    }
   ],
   "source": [
    "np.percentile(np.random.randint(1,11,10),50)"
   ]
  },
  {
   "cell_type": "markdown",
   "id": "8aa98db4-53c4-4349-8bf4-73eacfce3675",
   "metadata": {},
   "source": [
    "# Random "
   ]
  },
  {
   "cell_type": "markdown",
   "id": "21905892-1a84-4866-8f37-5353319dadd5",
   "metadata": {},
   "source": [
    "### Find the most frequent value in an array"
   ]
  },
  {
   "cell_type": "code",
   "execution_count": 397,
   "id": "0d5596b9-3040-4a67-9093-0c2bec8285cd",
   "metadata": {},
   "outputs": [
    {
     "name": "stdout",
     "output_type": "stream",
     "text": [
      "[0 0 0 0 1 1 2 3 3 3 3 4 5 5 5 5 6 6 6 6 6 6 6 7 7 8 8 8 9 9]\n",
      "Most Frequent occuring number : 6\n"
     ]
    }
   ],
   "source": [
    "x = np.random.randint(0, 10, 30)\n",
    "print(np.sort(x))\n",
    "print(\"Most Frequent occuring number :\",np.bincount(x).argmax())"
   ]
  },
  {
   "cell_type": "markdown",
   "id": "63ac8b31-83d5-4a5a-9ff8-0ed550945e71",
   "metadata": {},
   "source": [
    "### Permutation function "
   ]
  },
  {
   "cell_type": "code",
   "execution_count": 400,
   "id": "0ae37e04-bd41-42b4-b6a4-c57ba05da807",
   "metadata": {},
   "outputs": [
    {
     "name": "stdout",
     "output_type": "stream",
     "text": [
      "Array result after using permutation():\n",
      "[7 3 5 0 4 1 9 2 6 8]\n"
     ]
    }
   ],
   "source": [
    "print(\"Array result after using permutation():\")\n",
    "print(np.random.permutation(10))"
   ]
  },
  {
   "cell_type": "markdown",
   "id": "883d2cd0-c947-4c33-a2ef-98e506bbdb90",
   "metadata": {},
   "source": [
    "# SORTING AND SEARCHING"
   ]
  },
  {
   "cell_type": "markdown",
   "id": "1f89e0ee-8959-4bb6-8369-8918f6e0f9a1",
   "metadata": {},
   "source": [
    "### Write a NumPy program to sort a given array of shape 2 along the first axis, last axis and on flattened array."
   ]
  },
  {
   "cell_type": "code",
   "execution_count": 5,
   "id": "f079f26f-af36-4116-b780-d747b11fbc1f",
   "metadata": {},
   "outputs": [
    {
     "name": "stdout",
     "output_type": "stream",
     "text": [
      "Sorted along first axis :\n",
      "[[10 20]\n",
      " [30 40]]\n",
      "Sorted along second axis :\n",
      "[[10 40]\n",
      " [20 30]]\n",
      "Flattened and sorted array :\n",
      "[10 20 30 40]\n"
     ]
    }
   ],
   "source": [
    "import numpy as np \n",
    "arr=np.array([[10,40],[30,20]])\n",
    "print(\"Sorted along first axis :\")\n",
    "print(np.sort(arr,axis=0))\n",
    "print(\"Sorted along second axis :\")\n",
    "print(np.sort(arr,axis=1))\n",
    "print(\"Flattened and sorted array :\")\n",
    "print(np.sort(np.ravel(arr)))"
   ]
  },
  {
   "cell_type": "code",
   "execution_count": 28,
   "id": "ba756c73-a758-42eb-8018-db7daf595153",
   "metadata": {},
   "outputs": [
    {
     "name": "stdout",
     "output_type": "stream",
     "text": [
      "[4 8 2 7 6 9 8 1 2 8]\n",
      "[7 2 8 0 4 3 1 6 9 5]\n"
     ]
    }
   ],
   "source": [
    "# Provides the indices for the sorted number\n",
    "arr=np.random.randint(1,10,10)\n",
    "print(arr)\n",
    "print(np.argsort(arr))"
   ]
  },
  {
   "cell_type": "code",
   "execution_count": 33,
   "id": "66aebcb9-6545-4881-a98d-875ed5b83213",
   "metadata": {},
   "outputs": [
    {
     "data": {
      "text/plain": [
       "(array([1, 3, 4, 5, 6, 9], dtype=int64),)"
      ]
     },
     "execution_count": 33,
     "metadata": {},
     "output_type": "execute_result"
    }
   ],
   "source": [
    "# Important searching functions in numpy\n",
    "np.where(arr>5)"
   ]
  },
  {
   "cell_type": "code",
   "execution_count": 34,
   "id": "7dbf7fe8-acaf-4f59-be80-fa851e7a2d68",
   "metadata": {},
   "outputs": [
    {
     "name": "stdout",
     "output_type": "stream",
     "text": [
      "[4 0 2 7 6 0 0 1 2 0]\n"
     ]
    }
   ],
   "source": [
    "# Replace elements where conditions meet\n",
    "print(np.where(arr>7,0,arr))"
   ]
  },
  {
   "cell_type": "code",
   "execution_count": 35,
   "id": "6ea80c1a-157f-49ff-b5ca-f89900f952e2",
   "metadata": {},
   "outputs": [
    {
     "name": "stdout",
     "output_type": "stream",
     "text": [
      "(array([0, 1, 2, 3, 4, 5, 6, 7, 8, 9], dtype=int64),)\n"
     ]
    }
   ],
   "source": [
    "# Give indices of nonzero elements\n",
    "print(np.nonzero(arr))"
   ]
  },
  {
   "cell_type": "code",
   "execution_count": 37,
   "id": "a8882dca-5278-4bc6-b91a-1a6509c8836c",
   "metadata": {},
   "outputs": [
    {
     "name": "stdout",
     "output_type": "stream",
     "text": [
      "The index at which 5 should be inserted to maintain order : 3\n"
     ]
    }
   ],
   "source": [
    "# Find the position at which a number should be added to maintain order\n",
    "print(\"The index at which 5 should be inserted to maintain order :\",np.searchsorted(arr,5))"
   ]
  },
  {
   "cell_type": "code",
   "execution_count": 40,
   "id": "80d22818-017f-43b0-a2aa-9a0979406c69",
   "metadata": {},
   "outputs": [
    {
     "name": "stdout",
     "output_type": "stream",
     "text": [
      "[3 0 2 1]\n",
      "['David' 'Alice' 'Charlie' 'Bob']\n"
     ]
    }
   ],
   "source": [
    "# Lexsorting \n",
    "names = np.array([\"Alice\", \"Bob\", \"Charlie\", \"David\"])\n",
    "ages = np.array([25, 30, 25, 20])\n",
    "scores = np.array([85, 75, 90, 95])\n",
    "sorted_indices = np.lexsort((scores, ages))  # Sort by age, then score\n",
    "print(sorted_indices)\n",
    "print(names[sorted_indices])  "
   ]
  },
  {
   "cell_type": "code",
   "execution_count": 41,
   "id": "dbd35706-2da7-4fb2-931e-a07ea8988f7f",
   "metadata": {},
   "outputs": [
    {
     "name": "stdout",
     "output_type": "stream",
     "text": [
      "[1 2 2 4 6 9 8 8 7 8]\n"
     ]
    }
   ],
   "source": [
    "# Partition based sorting on elements \n",
    "# Finds the k smallest value in a given array that is partial sorting \n",
    "part=np.partition(arr,3)\n",
    "print(part)"
   ]
  },
  {
   "cell_type": "markdown",
   "id": "c625f6c6-acc9-4aee-8029-558380c10d70",
   "metadata": {},
   "source": [
    "# Advanced Indexing"
   ]
  },
  {
   "cell_type": "markdown",
   "id": "a343a260-48af-4999-8fac-22e9428c960c",
   "metadata": {},
   "source": [
    " ### Write a NumPy program that creates a 2D NumPy array of random integers. Use boolean indexing to select all elements greater than a specified value."
   ]
  },
  {
   "cell_type": "code",
   "execution_count": 88,
   "id": "8488f6a0-39a1-433b-aef0-62411535b159",
   "metadata": {},
   "outputs": [
    {
     "name": "stdout",
     "output_type": "stream",
     "text": [
      "Selecting elemnents greater than 3 :  [9]\n",
      "[7 7]\n"
     ]
    }
   ],
   "source": [
    "arr=np.random.randint(1,10,4).reshape(2,2)\n",
    "print(\"Selecting elemnents greater than 3 : \",arr[arr>5])\n",
    "# Diagonal Element access \n",
    "x=np.random.randint(0,10,size=(2,2))\n",
    "print(np.diagonal(x))"
   ]
  },
  {
   "cell_type": "markdown",
   "id": "6c030c07-7050-4160-9163-ecd2d720584a",
   "metadata": {},
   "source": [
    "# DateTime Exercises"
   ]
  },
  {
   "cell_type": "code",
   "execution_count": 64,
   "id": "fca05e1d-c77c-49cd-83c2-17a59bffb114",
   "metadata": {},
   "outputs": [
    {
     "name": "stdout",
     "output_type": "stream",
     "text": [
      "March, 2017\n",
      "['2025-01-01' '2025-01-02' '2025-01-03' '2025-01-04' '2025-01-05'\n",
      " '2025-01-06' '2025-01-07' '2025-01-08' '2025-01-09' '2025-01-10'\n",
      " '2025-01-11' '2025-01-12' '2025-01-13' '2025-01-14' '2025-01-15'\n",
      " '2025-01-16' '2025-01-17' '2025-01-18' '2025-01-19' '2025-01-20'\n",
      " '2025-01-21' '2025-01-22' '2025-01-23' '2025-01-24' '2025-01-25'\n",
      " '2025-01-26' '2025-01-27' '2025-01-28' '2025-01-29' '2025-01-30'\n",
      " '2025-01-31']\n"
     ]
    }
   ],
   "source": [
    "# All dates of Jan 2025\n",
    "print(\"March, 2017\")\n",
    "print(np.arange('2025-01', '2025-02', dtype='datetime64[D]'))"
   ]
  },
  {
   "cell_type": "code",
   "execution_count": 73,
   "id": "85da1532-5441-4220-a239-97f38bb23adc",
   "metadata": {},
   "outputs": [
    {
     "name": "stdout",
     "output_type": "stream",
     "text": [
      "2025-01-30\n",
      "2025-01-31\n"
     ]
    }
   ],
   "source": [
    "import pendulum \n",
    "print(pendulum.now().date())\n",
    "print(np.datetime64('today')+np.timedelta64(\"1\"))"
   ]
  },
  {
   "cell_type": "markdown",
   "id": "e2b3ba85-aab1-4026-8b43-57e986bb7be9",
   "metadata": {},
   "source": [
    "# String "
   ]
  },
  {
   "cell_type": "markdown",
   "id": "a57e3eae-164a-4d0a-8174-b489ece78bb3",
   "metadata": {},
   "source": [
    "### Write a NumPy program to concatenate element-wise two arrays of string."
   ]
  },
  {
   "cell_type": "code",
   "execution_count": 89,
   "id": "78010781-a56f-4266-884d-ec1d0e49088a",
   "metadata": {},
   "outputs": [
    {
     "name": "stdout",
     "output_type": "stream",
     "text": [
      "['Python Java' 'PHP C++']\n"
     ]
    }
   ],
   "source": [
    "x1 = np.array(['Python', 'PHP'])\n",
    "x2 = np.array([' Java', ' C++'])\n",
    "x3=np.char.add(x1,x2)\n",
    "print(x3)"
   ]
  },
  {
   "cell_type": "code",
   "execution_count": 96,
   "id": "b50f7f7f-dbe0-4223-b787-43c095499640",
   "metadata": {},
   "outputs": [
    {
     "name": "stdout",
     "output_type": "stream",
     "text": [
      "Original text:\n",
      "01\tV\tDebby Pramod\n",
      "02\tV\tArtemiy Ellie\n",
      "03\tV\tBaptist Kamal\n",
      "04\tV\tLavanya Davide\n",
      "05\tV\tFulton Antwan\n",
      "06\tV\tEuanthe Sandeep\n",
      "07\tV\tEndzela Sanda\n",
      "08\tV\tVictoire Waman\n",
      "09\tV\tBriar Nur\n",
      "10\tV\tRose Lykos\n",
      "\n",
      "Array from the said text:\n",
      "[['01' 'V' 'Debby Pramod']\n",
      " ['02' 'V' 'Artemiy Ellie']\n",
      " ['03' 'V' 'Baptist Kamal']\n",
      " ['04' 'V' 'Lavanya Davide']\n",
      " ['05' 'V' 'Fulton Antwan']\n",
      " ['06' 'V' 'Euanthe Sandeep']\n",
      " ['07' 'V' 'Endzela Sanda']\n",
      " ['08' 'V' 'Victoire Waman']\n",
      " ['09' 'V' 'Briar Nur']\n",
      " ['10' 'V' 'Rose Lykos']]\n"
     ]
    }
   ],
   "source": [
    "student = \"\"\"01\tV\tDebby Pramod\n",
    "02\tV\tArtemiy Ellie\n",
    "03\tV\tBaptist Kamal\n",
    "04\tV\tLavanya Davide\n",
    "05\tV\tFulton Antwan\n",
    "06\tV\tEuanthe Sandeep\n",
    "07\tV\tEndzela Sanda\n",
    "08\tV\tVictoire Waman\n",
    "09\tV\tBriar Nur\n",
    "10\tV\tRose Lykos\"\"\"\n",
    "print(\"Original text:\") \n",
    "print(student)\n",
    "text_lines = student.splitlines()\n",
    "text_lines = [r.split('\\t') for r in text_lines]\n",
    "result = np.array(text_lines, dtype=str)\n",
    "print(\"\\nArray from the said text:\")\n",
    "print(result) "
   ]
  },
  {
   "cell_type": "code",
   "execution_count": 98,
   "id": "bce0fd46-6c7a-4d60-813c-9e11ad204be6",
   "metadata": {},
   "outputs": [
    {
     "name": "stdout",
     "output_type": "stream",
     "text": [
      "[[1 0 0]\n",
      " [1 0 0]\n",
      " [1 0 1]]\n"
     ]
    }
   ],
   "source": [
    "str1 = np.array([['Python','NumPy','Exercises'],\n",
    "                 ['Python','Pandas','Exercises'],\n",
    "                 ['Python','Machine learning','Python']])\n",
    "print(np.char.count(str1,\"Python\"))"
   ]
  },
  {
   "cell_type": "code",
   "execution_count": 103,
   "id": "b82eac6d-a512-4e24-973e-f43faf03d41a",
   "metadata": {},
   "outputs": [
    {
     "name": "stdout",
     "output_type": "stream",
     "text": [
      "[['Cython' 'NumCy' 'Exercises']\n",
      " ['Cython' 'Candas' 'Exercises']\n",
      " ['Cython' 'Machine learning' 'Cython']]\n"
     ]
    }
   ],
   "source": [
    "str2=np.char.replace(str1,\"P\",\"C\")\n",
    "print(str2)"
   ]
  },
  {
   "cell_type": "code",
   "execution_count": 107,
   "id": "ca185a00-e2c1-4de1-9097-07d45051b2fd",
   "metadata": {},
   "outputs": [
    {
     "name": "stdout",
     "output_type": "stream",
     "text": [
      "[[ True False False]\n",
      " [ True  True False]\n",
      " [ True False  True]]\n"
     ]
    }
   ],
   "source": [
    "r = np.char.startswith(str1, \"P\")\n",
    "print(r)"
   ]
  },
  {
   "cell_type": "markdown",
   "id": "17a43c69-a076-4f65-a7ec-9a4ad7447f11",
   "metadata": {},
   "source": [
    "# NumPy Broadcasting"
   ]
  },
  {
   "cell_type": "markdown",
   "id": "7e998338-8602-469c-ab20-e01fc9d87e7d",
   "metadata": {},
   "source": [
    " ### Write a NumPy program that Multiplies each column of a 2D array x of shape (7, 3) by a 1D array y of shape (7,) using broadcasting."
   ]
  },
  {
   "cell_type": "code",
   "execution_count": 120,
   "id": "b37746fa-96d1-485e-9d37-9bcb5b3f53d5",
   "metadata": {},
   "outputs": [
    {
     "name": "stdout",
     "output_type": "stream",
     "text": [
      "[[72 18 36]\n",
      " [ 9 18 54]\n",
      " [48  6 36]\n",
      " [28  4 28]\n",
      " [48 16 40]\n",
      " [ 6  7  9]\n",
      " [18 24 48]]\n"
     ]
    }
   ],
   "source": [
    "x=np.random.randint(1,10,size=(7,3))\n",
    "y=np.random.randint(1,10,size=(7,))\n",
    "y_new=y[:,np.newaxis]\n",
    "# print(y_new)\n",
    "print(np.multiply(x,y_new))"
   ]
  },
  {
   "cell_type": "code",
   "execution_count": 130,
   "id": "cb20734e-0cfc-4ec9-8758-b7f08e7612c9",
   "metadata": {},
   "outputs": [
    {
     "name": "stdout",
     "output_type": "stream",
     "text": [
      "X is :\n",
      " [[[1 1]\n",
      "  [6 8]]\n",
      "\n",
      " [[4 8]\n",
      "  [5 8]]]\n",
      "Y is :\n",
      " [[7 8]\n",
      " [6 2]]\n",
      "Normal sum : \n",
      " [[[ 8  9]\n",
      "  [12 10]]\n",
      "\n",
      " [[11 16]\n",
      "  [11 10]]]\n",
      "Broadcasted sum :\n",
      " [[[ 8  9]\n",
      "  [13 16]]\n",
      "\n",
      " [[10 10]\n",
      "  [11 10]]]\n"
     ]
    }
   ],
   "source": [
    "# x=np.random.randint(1,10,size=(2,2,2))\n",
    "# y=np.random.randint(1,10,size=(2,2))\n",
    "print(\"X is :\\n\",x)\n",
    "print(\"Y is :\\n\",y)\n",
    "print(\"Normal sum : \\n\",x+y)\n",
    "print(\"Broadcasted sum :\\n\",x+y[:,np.newaxis])"
   ]
  },
  {
   "cell_type": "markdown",
   "id": "03c2136c-36ec-4dbb-8d59-a695351757e4",
   "metadata": {},
   "source": [
    "# Memory Layout"
   ]
  },
  {
   "cell_type": "markdown",
   "id": "21eece05-c6ea-48eb-a62f-2aafe9f66a37",
   "metadata": {},
   "source": [
    "### Creating and reshaping a 2D NumPy array"
   ]
  },
  {
   "cell_type": "code",
   "execution_count": 136,
   "id": "9bdb60b6-45a0-4279-a0aa-a0da70666e8a",
   "metadata": {},
   "outputs": [
    {
     "name": "stdout",
     "output_type": "stream",
     "text": [
      "Original 2D array:\n",
      " [[0.48487003 0.14144686 0.16294655 0.9540415  0.66396062 0.48335138]\n",
      " [0.52574306 0.0496633  0.06874007 0.03914277 0.35524205 0.56524091]\n",
      " [0.88776446 0.00872519 0.03201569 0.26212909 0.29404683 0.41021583]\n",
      " [0.7912286  0.68063864 0.80593652 0.23213213 0.64973257 0.55101583]]\n",
      "\n",
      "Reshaped 3D array:\n",
      " [[[0.48487003 0.14144686 0.16294655 0.9540415  0.66396062 0.48335138]\n",
      "  [0.52574306 0.0496633  0.06874007 0.03914277 0.35524205 0.56524091]]\n",
      "\n",
      " [[0.88776446 0.00872519 0.03201569 0.26212909 0.29404683 0.41021583]\n",
      "  [0.7912286  0.68063864 0.80593652 0.23213213 0.64973257 0.55101583]]]\n"
     ]
    }
   ],
   "source": [
    "original_2d_array = np.random.rand(4, 6)\n",
    "print(\"Original 2D array:\\n\", original_2d_array)\n",
    "reshaped_3d_array = original_2d_array.reshape(2, 2, 6)\n",
    "print(\"\\nReshaped 3D array:\\n\", reshaped_3d_array)\n"
   ]
  },
  {
   "cell_type": "code",
   "execution_count": 141,
   "id": "6e54fac8-5b10-45bf-a032-b06fad819f26",
   "metadata": {},
   "outputs": [
    {
     "data": {
      "text/plain": [
       "(24, 12, 4)"
      ]
     },
     "execution_count": 141,
     "metadata": {},
     "output_type": "execute_result"
    }
   ],
   "source": [
    "x = np.array([[[1,2,3],[4,5,6]]])\n",
    "x.strides"
   ]
  },
  {
   "cell_type": "markdown",
   "id": "5d9411b2-114a-477b-ba71-01836f4d2323",
   "metadata": {},
   "source": [
    "# NumPy Performance Optimization"
   ]
  },
  {
   "cell_type": "markdown",
   "id": "b15cdbc4-e073-4872-8dd1-d38a7c20ff83",
   "metadata": {},
   "source": [
    "### Reverse elements of large array using For loop and Optimization"
   ]
  },
  {
   "cell_type": "code",
   "execution_count": 145,
   "id": "2cc5702b-1b53-4e52-bf8d-5a8fd8c55d70",
   "metadata": {},
   "outputs": [
    {
     "name": "stdout",
     "output_type": "stream",
     "text": [
      "First 10 elements of the array reversed using for loop:\n",
      "[64 27 15 69 32 75 38 11 17 12]\n",
      "First 10 elements of the array reversed using NumPy slicing:\n",
      "[64 27 15 69 32 75 38 11 17 12]\n"
     ]
    }
   ],
   "source": [
    "large_array=np.random.randint(1,100,10)\n",
    "def reverse_with_loop(arr):\n",
    "    reversed_array = np.empty_like(arr)\n",
    "    for i in range(len(arr)):\n",
    "        reversed_array[i] = arr[len(arr) - 1 - i]\n",
    "    return reversed_array\n",
    "reversed_with_loop = reverse_with_loop(large_array)\n",
    "reversed_with_numpy = large_array[::-1]\n",
    "print(\"First 10 elements of the array reversed using for loop:\")\n",
    "print(reversed_with_loop[:10])\n",
    "print(\"First 10 elements of the array reversed using NumPy slicing:\")\n",
    "print(reversed_with_numpy[:10])"
   ]
  },
  {
   "cell_type": "markdown",
   "id": "a6296baa-14c0-4c82-8f41-46514129a881",
   "metadata": {},
   "source": [
    "# Interoperability"
   ]
  },
  {
   "cell_type": "code",
   "execution_count": 148,
   "id": "db9f2c45-981c-4f0e-8f99-471183675a33",
   "metadata": {},
   "outputs": [
    {
     "name": "stdout",
     "output_type": "stream",
     "text": [
      "[1 2 3]\n",
      "[1, 2, 3]\n"
     ]
    }
   ],
   "source": [
    "# Functions between numpy and python \n",
    "x=np.array([1,2,3]) # List to array \n",
    "y=x.tolist() # Array to list \n",
    "print(x)\n",
    "print(y)"
   ]
  },
  {
   "cell_type": "code",
   "execution_count": 154,
   "id": "bf276047-4537-441b-b3de-1a1cd65c8ea0",
   "metadata": {},
   "outputs": [],
   "source": [
    "# Functions between pandas and numpy \n",
    "import pandas as pd\n",
    "\n",
    "x=pd.DataFrame({\"A\":1,\"B\":2},index=[1,2])\n",
    "y=x.values# to create an array from dataframe\n",
    "x=pd.DataFrame(y)"
   ]
  },
  {
   "cell_type": "code",
   "execution_count": null,
   "id": "615ae77b-7d08-4455-a9b0-61aeca16551f",
   "metadata": {},
   "outputs": [],
   "source": [
    "# File operations with numpy\n",
    "np.savetxt(\"Numpy.txt\",y)\n",
    "np.loadtxt(\"Numpy.txt\")"
   ]
  },
  {
   "cell_type": "markdown",
   "id": "4fadc522-0a5f-4340-9e78-dd898a8f6dd4",
   "metadata": {},
   "source": [
    "### How to convert a Pandas DataFrame with mixed data types to a NumPy array?"
   ]
  },
  {
   "cell_type": "code",
   "execution_count": 158,
   "id": "94053fbd-8bef-4919-9a6b-b3aa5faae8cc",
   "metadata": {},
   "outputs": [
    {
     "name": "stdout",
     "output_type": "stream",
     "text": [
      "[[1 'a' 5.0]\n",
      " [2 'b' 6.1]\n",
      " [3 'c' 7.2]\n",
      " [4 'd' 8.3]]\n"
     ]
    }
   ],
   "source": [
    "data = {\n",
    "    'A': [1, 2, 3, 4],\n",
    "    'B': ['a', 'b', 'c', 'd'],\n",
    "    'C': [5.0, 6.1, 7.2, 8.3]\n",
    "}\n",
    "df = pd.DataFrame(data)\n",
    "array = df.to_numpy()\n",
    "print(array)"
   ]
  },
  {
   "cell_type": "code",
   "execution_count": 159,
   "id": "34947ad4-ff3d-4c22-8975-64c044bbbb81",
   "metadata": {},
   "outputs": [
    {
     "name": "stdout",
     "output_type": "stream",
     "text": [
      "[[1, 2, 3], [4, 5, 6], [7, 8, 9]]\n"
     ]
    }
   ],
   "source": [
    "array_2d = np.array([[1, 2, 3], [4, 5, 6], [7, 8, 9]])\n",
    "nested_list = array_2d.tolist()\n",
    "print(nested_list)"
   ]
  },
  {
   "cell_type": "markdown",
   "id": "447492ac-c885-4cd0-8bc8-883d2e4e868c",
   "metadata": {},
   "source": [
    "# NumPy I/O Operations"
   ]
  },
  {
   "cell_type": "markdown",
   "id": "28f3c162-e65e-4f59-b7e5-3c5daec7e0cd",
   "metadata": {},
   "source": [
    "### How to write a NumPy array with numeric data to a JSON file?"
   ]
  },
  {
   "cell_type": "code",
   "execution_count": 161,
   "id": "a71c0c0b-d929-40d7-b716-1dcdc5f08833",
   "metadata": {},
   "outputs": [
    {
     "name": "stdout",
     "output_type": "stream",
     "text": [
      "Data has been written to data.json\n"
     ]
    }
   ],
   "source": [
    "import numpy as np\n",
    "import json\n",
    "data_array = np.array([[1, 2, 3], [4, 5, 6], [7, 8, 9]])\n",
    "data_list = data_array.tolist()\n",
    "json_file_path = 'data.json'\n",
    "with open(json_file_path, 'w') as json_file:\n",
    "    json.dump(data_list, json_file)\n",
    "print(f\"Data has been written to {json_file_path}\")"
   ]
  },
  {
   "cell_type": "markdown",
   "id": "f3f79e0e-0a63-4a5f-9a4c-46e3c9428986",
   "metadata": {},
   "source": [
    "# NumPy Universal Functions"
   ]
  },
  {
   "cell_type": "markdown",
   "id": "44ed4082-192f-4701-8159-c81eb4c852ce",
   "metadata": {},
   "source": [
    "### Create a custom ufunc in NumPy to Add 10 to each element"
   ]
  },
  {
   "cell_type": "code",
   "execution_count": 162,
   "id": "d07e1c5a-6100-4903-90cf-d3b3aecb1070",
   "metadata": {},
   "outputs": [
    {
     "name": "stdout",
     "output_type": "stream",
     "text": [
      "Original 1D array: [1 2 3 4 5]\n",
      "Resulting array after applying add_ten_ufunc: [11 12 13 14 15]\n"
     ]
    }
   ],
   "source": [
    "def add_ten(x):\n",
    "    return x + 10\n",
    "add_ten_ufunc = np.frompyfunc(add_ten, 1, 1)\n",
    "array_1d = np.array([1, 2, 3, 4, 5])\n",
    "result_array = add_ten_ufunc(array_1d)\n",
    "print('Original 1D array:', array_1d)\n",
    "print('Resulting array after applying add_ten_ufunc:', result_array)"
   ]
  },
  {
   "cell_type": "code",
   "execution_count": 168,
   "id": "697d7d22-36ac-4437-9e4c-83839598a8a3",
   "metadata": {},
   "outputs": [
    {
     "name": "stdout",
     "output_type": "stream",
     "text": [
      "[12 15 18]\n"
     ]
    }
   ],
   "source": [
    "data_array = np.array([[1, 2, 3], [4, 5, 6], [7, 8, 9]])\n",
    "print(np.add.reduce(data_array,axis=0))"
   ]
  },
  {
   "cell_type": "code",
   "execution_count": 171,
   "id": "836994c9-65d2-4b93-8fb6-2d0d25757567",
   "metadata": {},
   "outputs": [
    {
     "name": "stdout",
     "output_type": "stream",
     "text": [
      "[[6 8]\n",
      " [10 12]]\n"
     ]
    }
   ],
   "source": [
    "def add_array(x,y):\n",
    "    return x+y\n",
    "custom=np.frompyfunc(add_array,2,1)\n",
    "array_x = np.array([[1, 2], [3, 4]])\n",
    "array_y = np.array([[5, 6], [7, 8]])\n",
    "result=custom(array_x,array_y)\n",
    "print(result)"
   ]
  },
  {
   "cell_type": "markdown",
   "id": "4d6fb387-0fb0-4283-85e6-6254b9a8fdbb",
   "metadata": {},
   "source": [
    "# NumPy Masked Arrays"
   ]
  },
  {
   "cell_type": "markdown",
   "id": "5f2715c2-6dca-443f-b891-affc2816bae9",
   "metadata": {},
   "source": [
    "### Creating a Masked array in NumPy"
   ]
  },
  {
   "cell_type": "code",
   "execution_count": 197,
   "id": "5f3a4c7a-8516-484f-82be-d0364a848c1b",
   "metadata": {},
   "outputs": [
    {
     "name": "stdout",
     "output_type": "stream",
     "text": [
      "Original Array:\n",
      "[ 1  2  3  4  5  6  7  8  9 10]\n",
      "\n",
      "Masked Array:\n",
      "[1 -- 3 -- 5 -- 7 -- 9 --]\n",
      "\n",
      "Masked Greater:\n",
      "[1 2 3 4 5 6 7 8 -- --]\n"
     ]
    }
   ],
   "source": [
    "# Creating masked arrays\n",
    "import numpy as np \n",
    "data = np.array([1, 2, 3, 4, 5, 6, 7, 8, 9, 10])\n",
    "mask = np.array([False, True, False, True, False, True, False, True, False, True])\n",
    "masked_array = np.ma.masked_array(data, mask=mask)\n",
    "maske_greater=np.ma.masked_greater(data,8)\n",
    "print(\"Original Array:\")\n",
    "print(data)\n",
    "print(\"\\nMasked Array:\")\n",
    "print(masked_array)\n",
    "print(\"\\nMasked Greater:\")\n",
    "print(maske_greater)"
   ]
  },
  {
   "cell_type": "code",
   "execution_count": 191,
   "id": "7b5f2613-9d72-4a88-9775-c3aa8d4f2908",
   "metadata": {},
   "outputs": [
    {
     "name": "stdout",
     "output_type": "stream",
     "text": [
      "5.0\n",
      "[1 0 3 0 5 0 7 0 9 0]\n"
     ]
    }
   ],
   "source": [
    "# filling in values in masked places \n",
    "print(masked_array.mean())\n",
    "fill=masked_array.filled(0)\n",
    "print(fill)"
   ]
  },
  {
   "cell_type": "code",
   "execution_count": 205,
   "id": "722feed4-c7b9-432e-8122-0c40d6e33c2e",
   "metadata": {},
   "outputs": [
    {
     "name": "stdout",
     "output_type": "stream",
     "text": [
      "6.0\n"
     ]
    }
   ],
   "source": [
    "# Finding mean \n",
    "mean=masked_array.mean()\n",
    "print(mean)"
   ]
  },
  {
   "cell_type": "code",
   "execution_count": 200,
   "id": "6d78f4fb-0cd6-4a58-9448-61550d696c0b",
   "metadata": {},
   "outputs": [
    {
     "name": "stdout",
     "output_type": "stream",
     "text": [
      "[-- -- 3 -- 5 -- 7 -- 9 --]\n"
     ]
    }
   ],
   "source": [
    "# Adding condition to masked arrays mask \n",
    "cond=data<3\n",
    "masked_array.mask=masked_array.mask|cond\n",
    "print(masked_array)"
   ]
  },
  {
   "cell_type": "code",
   "execution_count": 202,
   "id": "de963256-01a1-4ef1-ac58-37dd18980b24",
   "metadata": {},
   "outputs": [
    {
     "name": "stdout",
     "output_type": "stream",
     "text": [
      "[3 5 7 9]\n"
     ]
    }
   ],
   "source": [
    "# Unmasked data extraction \n",
    "unmasked=masked_array.compressed()\n",
    "print(unmasked)"
   ]
  },
  {
   "cell_type": "code",
   "execution_count": 204,
   "id": "e9460adb-117b-4c5d-b14f-b6df7c3dc679",
   "metadata": {},
   "outputs": [
    {
     "name": "stdout",
     "output_type": "stream",
     "text": [
      "[6 6 3 6 5 6 7 6 9 6]\n"
     ]
    }
   ],
   "source": [
    "new=masked_array.filled(masked_array.mean())\n",
    "print(new)"
   ]
  },
  {
   "cell_type": "code",
   "execution_count": 218,
   "id": "fee4a46f-4663-43a7-b6ec-9c8e714ebb23",
   "metadata": {},
   "outputs": [
    {
     "name": "stdout",
     "output_type": "stream",
     "text": [
      "[1.0 2.0 3.0 4.0 5.0 -- -- -- -- --]\n"
     ]
    }
   ],
   "source": [
    "# Masked Where function\n",
    "data = np.array([1, 2, 3, 4, 5, 6, 7, 8, 9, 10],dtype=float)\n",
    "new =np.ma.masked_where(data>5,data)\n",
    "print(new)"
   ]
  },
  {
   "cell_type": "code",
   "execution_count": 226,
   "id": "872698fc-daa5-43ac-899b-dface35960c1",
   "metadata": {},
   "outputs": [],
   "source": [
    "new=new.filled(np.nan)"
   ]
  },
  {
   "cell_type": "code",
   "execution_count": 224,
   "id": "d5a9d285-73eb-4843-bc11-cceb4ce70f6e",
   "metadata": {},
   "outputs": [
    {
     "name": "stdout",
     "output_type": "stream",
     "text": [
      "[ 1.  2.  3.  4.  5. nan nan nan nan nan]\n"
     ]
    }
   ],
   "source": [
    "print(new)\n",
    "new=np.ma.masked_array(new,new<2)\n"
   ]
  },
  {
   "cell_type": "code",
   "execution_count": 227,
   "id": "5088cde3-adaf-460d-a64f-9daaeb118caf",
   "metadata": {},
   "outputs": [
    {
     "name": "stdout",
     "output_type": "stream",
     "text": [
      "[nan  2.  3.  4.  5. nan nan nan nan nan]\n"
     ]
    }
   ],
   "source": [
    "print(new)"
   ]
  },
  {
   "cell_type": "markdown",
   "id": "d7ebefa6-b353-4cd0-9c56-b8389c26c445",
   "metadata": {},
   "source": [
    "# NumPy Structured Arrays"
   ]
  },
  {
   "cell_type": "markdown",
   "id": "0231697a-cfe8-4d02-ad85-44fcc101e256",
   "metadata": {},
   "source": [
    "### Creating Structured Arrays\n",
    "#### Structured arrays are simple arrays that contain different types of data "
   ]
  },
  {
   "cell_type": "code",
   "execution_count": 247,
   "id": "93572f9b-68ee-40fd-b05c-977368c2f54d",
   "metadata": {},
   "outputs": [
    {
     "name": "stdout",
     "output_type": "stream",
     "text": [
      "[('Alice', 30, 5.5) ('Bob', 25, 6. ) ('Charlie', 35, 5.8)]\n"
     ]
    }
   ],
   "source": [
    "import numpy as np\n",
    "data = np.array([('Alice', 30, 5.5), ('Bob', 25, 6.0), ('Charlie', 35, 5.8)], dtype=[('name', 'U10'), ('age', 'i4'), ('height', 'f4')])\n",
    "print(data)"
   ]
  },
  {
   "cell_type": "code",
   "execution_count": 248,
   "id": "646f15b3-bde8-40dd-98a6-3fca78dacd07",
   "metadata": {},
   "outputs": [
    {
     "name": "stdout",
     "output_type": "stream",
     "text": [
      "['Alice' 'Bob' 'Charlie']\n",
      "[30 25 35]\n",
      "[5.5 6.  5.8]\n"
     ]
    }
   ],
   "source": [
    "# Accessing elements \n",
    "print(data[\"name\"])\n",
    "print(data[\"age\"])\n",
    "print(data[\"height\"])"
   ]
  },
  {
   "cell_type": "code",
   "execution_count": 249,
   "id": "157cc04e-6225-4b71-9b92-dbdbeac39e4f",
   "metadata": {},
   "outputs": [
    {
     "name": "stdout",
     "output_type": "stream",
     "text": [
      "[('Alice', 15, 5.5) ('Bob', 25, 6. ) ('Charlie', 35, 5.8)]\n"
     ]
    }
   ],
   "source": [
    "# Replacing / Updating records \n",
    "data[0][\"age\"]=15\n",
    "print(data)"
   ]
  },
  {
   "cell_type": "code",
   "execution_count": 257,
   "id": "6216144c-3ff9-4d2d-aa20-3d099048b0ab",
   "metadata": {},
   "outputs": [
    {
     "name": "stdout",
     "output_type": "stream",
     "text": [
      "[('Alice', 15, 5.5) ('Bob', 25, 6. ) ('Charlie', 35, 5.8)\n",
      " ('Nela Suna', 25, 5.9) ('Nela Suna', 25, 5.9)]\n"
     ]
    }
   ],
   "source": [
    "# Adding data to structured arrays \n",
    "# new_data = np.array([('Nela Suna', 25, 5.9)], dtype=data.dtype)\n",
    "data = np.concatenate((data, new_data))\n",
    "print(data)"
   ]
  },
  {
   "cell_type": "code",
   "execution_count": 262,
   "id": "70b6f711-58b7-4a19-89de-5b60f9654f2f",
   "metadata": {},
   "outputs": [
    {
     "name": "stdout",
     "output_type": "stream",
     "text": [
      "[('Charlie', 35, 5.8)]\n"
     ]
    }
   ],
   "source": [
    "# Filtering data \n",
    "filtered =data[data[\"age\"]>25]\n",
    "print(filtered)"
   ]
  },
  {
   "cell_type": "code",
   "execution_count": 263,
   "id": "0cbaccb0-2af1-4186-b697-307a022d72dd",
   "metadata": {},
   "outputs": [
    {
     "name": "stdout",
     "output_type": "stream",
     "text": [
      "[('Alice', 15, 5.5) ('Bob', 25, 6. ) ('Nela Suna', 25, 5.9)\n",
      " ('Nela Suna', 25, 5.9)]\n"
     ]
    }
   ],
   "source": [
    "# Removing data from np arrays \n",
    "filtered =data[data[\"age\"]!=35]\n",
    "print(filtered)"
   ]
  },
  {
   "cell_type": "code",
   "execution_count": 273,
   "id": "9fcab7ae-e8c0-447b-8a67-258f15d508e0",
   "metadata": {},
   "outputs": [
    {
     "name": "stdout",
     "output_type": "stream",
     "text": [
      "[('Alice', 15, 5.5) ('Bob', 25, 6. ) ('Charlie', 35, 5.8)\n",
      " ('Nela Suna', 25, 5.9) ('Nela Suna', 25, 5.9)]\n",
      "\n",
      " [('Bob', 25, 6. ) ('Charlie', 35, 5.8)]\n"
     ]
    }
   ],
   "source": [
    "# Data Spliting \n",
    "print(data)\n",
    "split_data = np.split(data, np.where(data['height'] > 5.8)[0])\n",
    "print(\"\\n\",split_data[1])"
   ]
  },
  {
   "cell_type": "code",
   "execution_count": 291,
   "id": "68bc8ceb-3ed3-44c2-b531-32d72984eb92",
   "metadata": {},
   "outputs": [
    {
     "name": "stdout",
     "output_type": "stream",
     "text": [
      "[1 2 3 4 5 6]\n",
      "[array([1, 2]), array([3, 4]), array([5, 6])]\n"
     ]
    }
   ],
   "source": [
    "x=np.array([1,2,3,4,5,6])\n",
    "print(x)\n",
    "y=np.split(x,3)\n",
    "print(y)"
   ]
  },
  {
   "cell_type": "code",
   "execution_count": 297,
   "id": "97989f72-f4ca-4343-8e86-5e2c525d3887",
   "metadata": {},
   "outputs": [
    {
     "name": "stdout",
     "output_type": "stream",
     "text": [
      "Original Structured Arrays:\n",
      "[('Lehi', 25, 5.5) ('Albin', 30, 5.8)]\n",
      "[('Zerach', 35, 6.1) ('Edmund', 40, 5.9) ('Laura', 28, 5.7)]\n",
      "\n",
      "Combined Structured Array:\n",
      "[('Lehi', 25, 5.5) ('Albin', 30, 5.8) ('Zerach', 35, 6.1)\n",
      " ('Edmund', 40, 5.9) ('Laura', 28, 5.7)]\n"
     ]
    }
   ],
   "source": [
    "import numpy as np\n",
    "dtype = [('name', 'U10'), ('age', 'i4'), ('height', 'f4')]\n",
    "structured_array1 = np.array([\n",
    "    ('Lehi', 25, 5.5),\n",
    "    ('Albin', 30, 5.8)\n",
    "], dtype=dtype)\n",
    "structured_array2 = np.array([\n",
    "    ('Zerach', 35, 6.1),\n",
    "    ('Edmund', 40, 5.9),\n",
    "    ('Laura', 28, 5.7)\n",
    "], dtype=dtype)\n",
    "\n",
    "print(\"Original Structured Arrays:\")\n",
    "print(structured_array1)\n",
    "print(structured_array2)\n",
    "combined_array = np.concatenate((structured_array1, structured_array2))\n",
    "print(\"\\nCombined Structured Array:\")\n",
    "print(combined_array)"
   ]
  },
  {
   "cell_type": "markdown",
   "id": "a490eb9e-4c4f-47be-9dd2-f605f95730eb",
   "metadata": {},
   "source": [
    "# NumPy Integration with SciPy"
   ]
  },
  {
   "cell_type": "markdown",
   "id": "d9ec224d-89dd-410c-9173-77d1d895bdf3",
   "metadata": {},
   "source": [
    "### Fit a statistical model using MLE with NumPy and SciPy"
   ]
  },
  {
   "cell_type": "code",
   "execution_count": 298,
   "id": "21a7f4cb-a5bd-4ac5-97f1-5e278296145d",
   "metadata": {},
   "outputs": [
    {
     "name": "stdout",
     "output_type": "stream",
     "text": [
      "Estimated mean (mu): 5.039\n",
      "Estimated standard deviation (sigma): 1.957\n"
     ]
    },
    {
     "data": {
      "image/png": "[encoded data removed]",
      "text/plain": [
       "<Figure size 640x480 with 1 Axes>"
      ]
     },
     "metadata": {},
     "output_type": "display_data"
    },
    {
     "name": "stdout",
     "output_type": "stream",
     "text": [
      "Estimated mean (mu): 5.039\n",
      "Estimated standard deviation (sigma): 1.957\n"
     ]
    },
    {
     "data": {
      "image/png": "[encoded data removed]",
      "text/plain": [
       "<Figure size 640x480 with 1 Axes>"
      ]
     },
     "metadata": {},
     "output_type": "display_data"
    }
   ],
   "source": [
    "import numpy as np\n",
    "from scipy.optimize import minimize\n",
    "import matplotlib.pyplot as plt\n",
    "np.random.seed(42)\n",
    "data = np.random.normal(loc=5.0, scale=2.0, size=1000)\n",
    "def neg_log_likelihood(params):\n",
    "    mu, sigma = params\n",
    "    if sigma <= 0:\n",
    "        return np.inf\n",
    "    nll = -np.sum(np.log(1/(np.sqrt(2 * np.pi) * sigma) * np.exp(-(data - mu)**2 / (2 * sigma**2))))\n",
    "    return nll\n",
    "initial_params = np.array([0.0, 1.0])\n",
    "result = minimize(neg_log_likelihood, initial_params, method='L-BFGS-B', bounds=[(None, None), (1e-5, None)])\n",
    "\n",
    "mu_mle, sigma_mle = result.x\n",
    "import numpy as np\n",
    "from scipy.optimize import minimize\n",
    "import matplotlib.pyplot as plt\n",
    "\n",
    "# Generate synthetic data: sample from a normal distribution\n",
    "np.random.seed(42)\n",
    "data = np.random.normal(loc=5.0, scale=2.0, size=1000)\n",
    "\n",
    "# Define the negative log-likelihood function for a normal distribution\n",
    "def neg_log_likelihood(params):\n",
    "    mu, sigma = params\n",
    "    if sigma <= 0:\n",
    "        return np.inf\n",
    "    nll = -np.sum(np.log(1/(np.sqrt(2 * np.pi) * sigma) * np.exp(-(data - mu)**2 / (2 * sigma**2))))\n",
    "    return nll\n",
    "\n",
    "# Initial guess for the parameters (mean and standard deviation)\n",
    "initial_params = np.array([0.0, 1.0])\n",
    "\n",
    "# Perform MLE using SciPy's minimize function\n",
    "result = minimize(neg_log_likelihood, initial_params, method='L-BFGS-B', bounds=[(None, None), (1e-5, None)])\n",
    "\n",
    "# Extract the estimated parameters\n",
    "mu_mle, sigma_mle = result.x\n",
    "\n",
    "# Print the results\n",
    "print(f\"Estimated mean (mu): {mu_mle:.3f}\")\n",
    "print(f\"Estimated standard deviation (sigma): {sigma_mle:.3f}\")\n",
    "\n",
    "# Plot the data and the fitted normal distribution\n",
    "plt.hist(data, bins=30, density=True, alpha=0.6, color='g')\n",
    "\n",
    "# Plot the fitted normal distribution\n",
    "x = np.linspace(min(data), max(data), 1000)\n",
    "fitted_pdf = (1/(np.sqrt(2 * np.pi) * sigma_mle)) * np.exp(-(x - mu_mle)**2 / (2 * sigma_mle**2))\n",
    "plt.plot(x, fitted_pdf, label='Fitted Normal Distribution', linewidth=2)\n",
    "\n",
    "plt.xlabel('Data values')\n",
    "plt.ylabel('Density')\n",
    "plt.title('Data and Fitted Normal Distribution using MLE')\n",
    "plt.legend()\n",
    "plt.show()\n",
    "print(f\"Estimated mean (mu): {mu_mle:.3f}\")\n",
    "print(f\"Estimated standard deviation (sigma): {sigma_mle:.3f}\")\n",
    "\n",
    "# Plot the data and the fitted normal distribution\n",
    "plt.hist(data, bins=30, density=True, alpha=0.6, color='g')\n",
    "\n",
    "# Plot the fitted normal distribution\n",
    "x = np.linspace(min(data), max(data), 1000)\n",
    "fitted_pdf = (1/(np.sqrt(2 * np.pi) * sigma_mle)) * np.exp(-(x - mu_mle)**2 / (2 * sigma_mle**2))\n",
    "plt.plot(x, fitted_pdf, label='Fitted Normal Distribution', linewidth=2)\n",
    "\n",
    "plt.xlabel('Data values')\n",
    "plt.ylabel('Density')\n",
    "plt.title('Data and Fitted Normal Distribution using MLE')\n",
    "plt.legend()\n",
    "plt.show()"
   ]
  },
  {
   "cell_type": "markdown",
   "id": "5ce1d12e-bfb7-444b-839f-64d61643a021",
   "metadata": {},
   "source": [
    "### Compute Statistical properties of NumPy array with SciPy"
   ]
  },
  {
   "cell_type": "code",
   "execution_count": 299,
   "id": "11bb3814-9b31-4529-99a6-d9ed6dc9f07c",
   "metadata": {},
   "outputs": [
    {
     "name": "stdout",
     "output_type": "stream",
     "text": [
      "Mean: 0.517686486271963\n",
      "Median: 0.5230883047460655\n",
      "Variance: 0.08618949692116096\n"
     ]
    }
   ],
   "source": [
    "import numpy as np\n",
    "from scipy import stats\n",
    "data = np.random.rand(100)\n",
    "mean = stats.tmean(data)\n",
    "median = np.median(data)\n",
    "variance = stats.tvar(data)\n",
    "print(\"Mean:\", mean)\n",
    "print(\"Median:\", median)\n",
    "print(\"Variance:\", variance)"
   ]
  },
  {
   "cell_type": "markdown",
   "id": "a2594b4a-4984-4047-83e6-43071b2669ac",
   "metadata": {},
   "source": [
    "# Advanced Exercises"
   ]
  },
  {
   "cell_type": "markdown",
   "id": "40ff7887-95b0-4169-b279-25c80cdd3dfe",
   "metadata": {},
   "source": [
    "### Write a NumPy program to create a 3x3 identity matrix and stack it vertically and horizontally."
   ]
  },
  {
   "cell_type": "code",
   "execution_count": 304,
   "id": "dd45c131-2ce4-44f6-b483-5d6d3454c402",
   "metadata": {},
   "outputs": [
    {
     "name": "stdout",
     "output_type": "stream",
     "text": [
      "[[1. 0. 0.]\n",
      " [0. 1. 0.]\n",
      " [0. 0. 1.]]\n",
      "Vertically stacked : \n",
      " [[1. 0. 0.]\n",
      " [0. 1. 0.]\n",
      " [0. 0. 1.]\n",
      " [1. 0. 0.]\n",
      " [0. 1. 0.]\n",
      " [0. 0. 1.]]\n",
      "Horizontally stacked : \n",
      " [[1. 0. 0. 1. 0. 0.]\n",
      " [0. 1. 0. 0. 1. 0.]\n",
      " [0. 0. 1. 0. 0. 1.]]\n"
     ]
    }
   ],
   "source": [
    "arr=np.eye(3,3)\n",
    "print(arr)\n",
    "vstack=np.vstack([arr,arr])\n",
    "print(\"Vertically stacked : \\n\",vstack)\n",
    "hstack=np.hstack([arr,arr])\n",
    "print(\"Horizontally stacked : \\n\",hstack)"
   ]
  },
  {
   "cell_type": "code",
   "execution_count": 309,
   "id": "bf66699e-a14e-4f6d-8ac5-1f0a75daf304",
   "metadata": {},
   "outputs": [
    {
     "name": "stdout",
     "output_type": "stream",
     "text": [
      "Original Array:\n",
      " [[2 8 2 9]\n",
      " [2 9 7 8]\n",
      " [2 7 6 4]\n",
      " [7 4 2 7]]\n",
      "Array after shifting all elements one position to the right:\n",
      " [[9 2 8 2]\n",
      " [8 2 9 7]\n",
      " [4 2 7 6]\n",
      " [7 7 4 2]]\n"
     ]
    }
   ],
   "source": [
    "import numpy as np\n",
    "array = np.random.randint(1,10,(4, 4))\n",
    "print(\"Original Array:\\n\", array)\n",
    "shifted_array = np.roll(array, shift=1, axis=1)\n",
    "print(\"Array after shifting all elements one position to the right:\\n\", shifted_array)"
   ]
  },
  {
   "cell_type": "markdown",
   "id": "2447793b-56fa-4ede-a16f-51f17e7478b5",
   "metadata": {},
   "source": [
    "# Mastering NumPy"
   ]
  },
  {
   "cell_type": "markdown",
   "id": "196d238c-ee5b-4e82-ba4f-d88759a9dcc3",
   "metadata": {},
   "source": [
    "### Convert a 1D array to a boolean array where all positive values become True."
   ]
  },
  {
   "cell_type": "code",
   "execution_count": 305,
   "id": "eabb0bc3-ab20-4b6a-9e36-b0d8dbf1373a",
   "metadata": {},
   "outputs": [
    {
     "name": "stdout",
     "output_type": "stream",
     "text": [
      "[False  True False False  True]\n"
     ]
    }
   ],
   "source": [
    "import numpy as np\n",
    "arr = np.array([-1, 2, 0, -4, 5])\n",
    "boolean_arr = arr > 0\n",
    "print(boolean_arr)"
   ]
  },
  {
   "cell_type": "code",
   "execution_count": null,
   "id": "650eb204-1901-4a30-a864-bfd8e40c5a8b",
   "metadata": {},
   "outputs": [],
   "source": []
  }
 ],
 "metadata": {
  "kernelspec": {
   "display_name": "Python 3 (ipykernel)",
   "language": "python",
   "name": "python3"
  },
  "language_info": {
   "codemirror_mode": {
    "name": "ipython",
    "version": 3
   },
   "file_extension": ".py",
   "mimetype": "text/x-python",
   "name": "python",
   "nbconvert_exporter": "python",
   "pygments_lexer": "ipython3",
   "version": "3.12.7"
  }
 },
 "nbformat": 4,
 "nbformat_minor": 5
}
