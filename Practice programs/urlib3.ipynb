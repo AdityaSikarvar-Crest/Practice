{
 "cells": [
  {
   "cell_type": "code",
   "execution_count": 1,
   "id": "93ab8726-bd8d-4304-b8bf-0025e1b8b38e",
   "metadata": {},
   "outputs": [],
   "source": [
    "import urllib3\n",
    "http = urllib3.PoolManager()"
   ]
  },
  {
   "cell_type": "code",
   "execution_count": 19,
   "id": "0f64dba6-c45e-423b-8862-1b454617cf80",
   "metadata": {},
   "outputs": [
    {
     "name": "stdout",
     "output_type": "stream",
     "text": [
      "Connected!\n"
     ]
    }
   ],
   "source": [
    "response=http.urlopen(\"GET\",\"https://www.google.com\")\n",
    "if response.status ==200:\n",
    "    print(\"Connected!\")\n",
    "else:\n",
    "    print(\"Not Connected\")\n",
    "response2=http.request(\"GET\",\"https://www.google.com\",timeout=2.0)"
   ]
  },
  {
   "cell_type": "code",
   "execution_count": 20,
   "id": "2431f71a-87ad-4624-9a99-f4ec2b3da192",
   "metadata": {},
   "outputs": [],
   "source": [
    "response2=http.request(\"GET\",\"https://www.google.com\",timeout=2.0)"
   ]
  },
  {
   "cell_type": "code",
   "execution_count": 23,
   "id": "6417b23a-9eba-48c6-b3dc-02269731edb2",
   "metadata": {},
   "outputs": [
    {
     "name": "stdout",
     "output_type": "stream",
     "text": [
      "Final Response URL:\n",
      "/\n"
     ]
    }
   ],
   "source": [
    "# Import the urllib3 library\n",
    "import urllib3\n",
    "\n",
    "def handle_redirects():\n",
    "    # Create a PoolManager instance\n",
    "    http = urllib3.PoolManager()\n",
    "\n",
    "    # Define the initial URL that may redirect\n",
    "    initial_url = 'http://example.com'\n",
    "\n",
    "    try:\n",
    "        # Make a GET request with allow_redirects set to True\n",
    "        response = http.request('GET', initial_url, redirect=False)\n",
    "\n",
    "        # Check if the request was successful (status code 200)\n",
    "        if response.status == 200:\n",
    "            # Print the final response URL after following redirects\n",
    "            print(\"Final Response URL:\")\n",
    "            print(response.geturl())\n",
    "        else:\n",
    "            # Print an error message if the request was not successful\n",
    "            print(f\"Error: Unable to fetch data. Status Code: {response.status}\")\n",
    "\n",
    "    except urllib3.exceptions.RequestError as e:\n",
    "        print(f\"Error: {e}\")\n",
    "\n",
    "if __name__ == \"__main__\":\n",
    "    handle_redirects()"
   ]
  },
  {
   "cell_type": "code",
   "execution_count": null,
   "id": "4c89192b-e3db-443b-9aff-155acad98407",
   "metadata": {},
   "outputs": [],
   "source": []
  }
 ],
 "metadata": {
  "kernelspec": {
   "display_name": "Python 3 (ipykernel)",
   "language": "python",
   "name": "python3"
  },
  "language_info": {
   "codemirror_mode": {
    "name": "ipython",
    "version": 3
   },
   "file_extension": ".py",
   "mimetype": "text/x-python",
   "name": "python",
   "nbconvert_exporter": "python",
   "pygments_lexer": "ipython3",
   "version": "3.12.7"
  }
 },
 "nbformat": 4,
 "nbformat_minor": 5
}
