{
 "cells": [
  {
   "cell_type": "code",
   "execution_count": 1,
   "id": "0ac3d450-d57e-4e55-b51c-f281bb1bbc93",
   "metadata": {},
   "outputs": [],
   "source": [
    "import os"
   ]
  },
  {
   "cell_type": "code",
   "execution_count": 2,
   "id": "697614b4-d44e-4ee0-a2ad-fda37d601efd",
   "metadata": {},
   "outputs": [
    {
     "data": {
      "text/plain": [
       "'C:\\\\Users\\\\AdityaSikarvar\\\\Desktop\\\\Practice programs'"
      ]
     },
     "execution_count": 2,
     "metadata": {},
     "output_type": "execute_result"
    }
   ],
   "source": [
    "os.getcwd()"
   ]
  },
  {
   "cell_type": "code",
   "execution_count": 6,
   "id": "6dbd0131-e698-4ebc-8ba1-655e606e7cf7",
   "metadata": {},
   "outputs": [],
   "source": [
    "os.chdir(\"C:\\\\Users\\\\AdityaSikarvar\\\\Desktop\\\\Practice programs\")"
   ]
  },
  {
   "cell_type": "code",
   "execution_count": 4,
   "id": "4d6caf32-3548-4c9f-a43b-037a7a1f0b39",
   "metadata": {},
   "outputs": [
    {
     "data": {
      "text/plain": [
       "'C:\\\\Users\\\\AdityaSikarvar\\\\Desktop'"
      ]
     },
     "execution_count": 4,
     "metadata": {},
     "output_type": "execute_result"
    }
   ],
   "source": [
    "os.getcwd()"
   ]
  },
  {
   "cell_type": "code",
   "execution_count": 7,
   "id": "a570f864-202c-4356-9016-5e3976061e81",
   "metadata": {},
   "outputs": [
    {
     "data": {
      "text/plain": [
       "['.ipynb_checkpoints',\n",
       " 'Advanced.ipynb',\n",
       " 'Advanced_Data_Types.ipynb',\n",
       " 'Array.ipynb',\n",
       " 'Built-in-modules.ipynb',\n",
       " 'Collections.ipynb',\n",
       " 'convert.txt',\n",
       " 'DateTime.ipynb',\n",
       " 'DSA.ipynb',\n",
       " 'ENUM.ipynb',\n",
       " 'Exception.ipynb',\n",
       " 'File.ipynb',\n",
       " 'Functional.ipynb',\n",
       " 'JSON.ipynb',\n",
       " 'JSON_Question.ipynb',\n",
       " 'Linked_list.ipynb',\n",
       " 'Mastering.ipynb',\n",
       " 'Matrix.ipynb',\n",
       " 'News.csv',\n",
       " 'News.json',\n",
       " 'OOP.ipynb',\n",
       " 'Operating_System.ipynb',\n",
       " 'output.txt',\n",
       " 'Puzzles.ipynb',\n",
       " 'Recursion.ipynb',\n",
       " 'Regex.ipynb',\n",
       " 'Searching.ipynb',\n",
       " 'Sorting.ipynb',\n",
       " 'synthetic_data.csv',\n",
       " 'temp.csv',\n",
       " 'test.csv',\n",
       " 'text.txt',\n",
       " 'Threading.ipynb',\n",
       " 'UnitTest.py']"
      ]
     },
     "execution_count": 7,
     "metadata": {},
     "output_type": "execute_result"
    }
   ],
   "source": [
    "os.listdir(os.getcwd())"
   ]
  },
  {
   "cell_type": "markdown",
   "id": "732d9070-a4db-4739-8169-98a7a8271975",
   "metadata": {},
   "source": [
    "### List only directories, files and all directories, files in a specified path"
   ]
  },
  {
   "cell_type": "code",
   "execution_count": 10,
   "id": "afb3acc9-df28-4b0a-935d-94c7080be041",
   "metadata": {},
   "outputs": [
    {
     "name": "stdout",
     "output_type": "stream",
     "text": [
      "Only directories:\n",
      "['.ipynb_checkpoints']\n",
      "\n",
      "Only files:\n",
      "['Advanced.ipynb', 'Advanced_Data_Types.ipynb', 'Array.ipynb', 'Built-in-modules.ipynb', 'Collections.ipynb', 'convert.txt', 'DateTime.ipynb', 'DSA.ipynb', 'ENUM.ipynb', 'Exception.ipynb', 'File.ipynb', 'Functional.ipynb', 'JSON.ipynb', 'JSON_Question.ipynb', 'Linked_list.ipynb', 'Mastering.ipynb', 'Matrix.ipynb', 'News.csv', 'News.json', 'OOP.ipynb', 'Operating_System.ipynb', 'output.txt', 'Puzzles.ipynb', 'Recursion.ipynb', 'Regex.ipynb', 'Searching.ipynb', 'Sorting.ipynb', 'synthetic_data.csv', 'temp.csv', 'test.csv', 'text.txt', 'Threading.ipynb', 'UnitTest.py']\n",
      "\n",
      "All directories and files :\n",
      "['.ipynb_checkpoints', 'Advanced.ipynb', 'Advanced_Data_Types.ipynb', 'Array.ipynb', 'Built-in-modules.ipynb', 'Collections.ipynb', 'convert.txt', 'DateTime.ipynb', 'DSA.ipynb', 'ENUM.ipynb', 'Exception.ipynb', 'File.ipynb', 'Functional.ipynb', 'JSON.ipynb', 'JSON_Question.ipynb', 'Linked_list.ipynb', 'Mastering.ipynb', 'Matrix.ipynb', 'News.csv', 'News.json', 'OOP.ipynb', 'Operating_System.ipynb', 'output.txt', 'Puzzles.ipynb', 'Recursion.ipynb', 'Regex.ipynb', 'Searching.ipynb', 'Sorting.ipynb', 'synthetic_data.csv', 'temp.csv', 'test.csv', 'text.txt', 'Threading.ipynb', 'UnitTest.py']\n"
     ]
    }
   ],
   "source": [
    "import os\n",
    "path = 'C:\\\\Users\\\\AdityaSikarvar\\\\Desktop\\\\Practice programs'\n",
    "print(\"Only directories:\")\n",
    "print([ name for name in os.listdir(path) if os.path.isdir(os.path.join(path, name)) ])\n",
    "print(\"\\nOnly files:\")\n",
    "print([ name for name in os.listdir(path) if not os.path.isdir(os.path.join(path, name)) ])\n",
    "print(\"\\nAll directories and files :\")\n",
    "print([ name for name in os.listdir(path)])"
   ]
  },
  {
   "cell_type": "markdown",
   "id": "dea507a0-4199-4455-9fd1-6acd54ec1fec",
   "metadata": {},
   "source": [
    "### Write a string to a buffer and retrieve the value written, at the end discard buffer memory"
   ]
  },
  {
   "cell_type": "code",
   "execution_count": 12,
   "id": "19e47cc5-0583-49f4-9293-24b7eb349e56",
   "metadata": {},
   "outputs": [
    {
     "name": "stdout",
     "output_type": "stream",
     "text": [
      "Python Exercises, Practice, Solution\n"
     ]
    }
   ],
   "source": [
    "import io\n",
    "# Write a string to a buffer\n",
    "output = io.StringIO()\n",
    "output.write('Python Exercises, Practice, Solution')\n",
    "# Retrieve the value written\n",
    "print(output.getvalue())\n",
    "# Discard buffer memory\n",
    "output.close()"
   ]
  },
  {
   "cell_type": "code",
   "execution_count": null,
   "id": "a75dc4b8-24de-42ae-8dbe-b92219b2a7f2",
   "metadata": {},
   "outputs": [],
   "source": []
  }
 ],
 "metadata": {
  "kernelspec": {
   "display_name": "Python 3 (ipykernel)",
   "language": "python",
   "name": "python3"
  },
  "language_info": {
   "codemirror_mode": {
    "name": "ipython",
    "version": 3
   },
   "file_extension": ".py",
   "mimetype": "text/x-python",
   "name": "python",
   "nbconvert_exporter": "python",
   "pygments_lexer": "ipython3",
   "version": "3.12.7"
  }
 },
 "nbformat": 4,
 "nbformat_minor": 5
}
