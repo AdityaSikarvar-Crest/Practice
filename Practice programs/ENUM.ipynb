{
 "cells": [
  {
   "cell_type": "code",
   "execution_count": 2,
   "id": "6d07389b-ef36-4e3c-8bbe-a07a03a305f6",
   "metadata": {},
   "outputs": [
    {
     "name": "stdout",
     "output_type": "stream",
     "text": [
      "\n",
      "Member name: Albania\n",
      "Member value: 355\n"
     ]
    }
   ],
   "source": [
    "from enum import Enum\n",
    "class Country(Enum):\n",
    "    Afghanistan = 93\n",
    "    Albania = 355\n",
    "    Algeria = 213\n",
    "    Andorra = 376\n",
    "    Angola = 244\n",
    "    Antarctica = 672\n",
    "print('\\nMember name: {}'.format(Country.Albania.name))\n",
    "print('Member value: {}'.format(Country.Albania.value))"
   ]
  },
  {
   "cell_type": "code",
   "execution_count": 3,
   "id": "797339e5-d712-4b31-82c3-2804c3ef1f88",
   "metadata": {},
   "outputs": [
    {
     "name": "stdout",
     "output_type": "stream",
     "text": [
      "Country.Afghanistan\n",
      "Country.Albania\n",
      "Country.Algeria\n",
      "Country.Andorra\n",
      "Country.Angola\n",
      "Country.Antarctica\n"
     ]
    }
   ],
   "source": [
    "for data in Country:\n",
    "    print(data)"
   ]
  },
  {
   "cell_type": "code",
   "execution_count": null,
   "id": "634d0e67-22b9-41e6-8456-16b9fd9800b2",
   "metadata": {},
   "outputs": [],
   "source": []
  }
 ],
 "metadata": {
  "kernelspec": {
   "display_name": "Python 3 (ipykernel)",
   "language": "python",
   "name": "python3"
  },
  "language_info": {
   "codemirror_mode": {
    "name": "ipython",
    "version": 3
   },
   "file_extension": ".py",
   "mimetype": "text/x-python",
   "name": "python",
   "nbconvert_exporter": "python",
   "pygments_lexer": "ipython3",
   "version": "3.12.7"
  }
 },
 "nbformat": 4,
 "nbformat_minor": 5
}
