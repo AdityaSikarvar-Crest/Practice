{
 "cells": [
  {
   "cell_type": "markdown",
   "id": "3b6400e0-8bde-4a5c-8e23-493320eb2da9",
   "metadata": {},
   "source": [
    "## Reverse a stack"
   ]
  },
  {
   "cell_type": "code",
   "execution_count": 2,
   "id": "2e2428af-e7ba-44b9-87d3-65dff7be4486",
   "metadata": {},
   "outputs": [
    {
     "name": "stdout",
     "output_type": "stream",
     "text": [
      "[5, 4, 3, 2, 1]\n"
     ]
    }
   ],
   "source": [
    "#Basic Logic\n",
    "a=[1,2,3,4,5]\n",
    "l=[]\n",
    "for i in range(len(a)):\n",
    "    l.append(a.pop())\n",
    "print(l)"
   ]
  },
  {
   "cell_type": "code",
   "execution_count": 3,
   "id": "b0242f8f-a587-42b8-8187-85ec01d24a82",
   "metadata": {},
   "outputs": [
    {
     "name": "stdout",
     "output_type": "stream",
     "text": [
      "Original Stack\n",
      "5\n",
      "4\n",
      "3\n",
      "2\n",
      "1\n",
      "\n",
      "Stack after Reversing\n",
      "1\n",
      "2\n",
      "3\n",
      "4\n",
      "5\n"
     ]
    }
   ],
   "source": [
    "# create class for stack\n",
    "class Stack:\n",
    " \n",
    "    # create empty list\n",
    "    def __init__(self):\n",
    "        self.Elements = []\n",
    "         \n",
    "    # push() for insert an element\n",
    "    def push(self, value):\n",
    "        self.Elements.append(value)\n",
    "       \n",
    "    # pop() for remove an element\n",
    "    def pop(self):\n",
    "        return self.Elements.pop()\n",
    "     \n",
    "    # empty() check the stack is empty of not\n",
    "    def empty(self):\n",
    "        return self.Elements == []\n",
    "     \n",
    "    # show() display stack\n",
    "    def show(self):\n",
    "        for value in reversed(self.Elements):\n",
    "            print(value)\n",
    " \n",
    "# Insert_Bottom() insert value at bottom\n",
    "def BottomInsert(s, value):\n",
    "   \n",
    "    # check the stack is empty or not\n",
    "    if s.empty(): \n",
    "         \n",
    "        # if stack is empty then call\n",
    "        # push() method.\n",
    "        s.push(value)\n",
    "         \n",
    "    # if stack is not empty then execute\n",
    "    # else block\n",
    "    else:\n",
    "        popped = s.pop()\n",
    "        BottomInsert(s, value)\n",
    "        s.push(popped)\n",
    " \n",
    "# Reverse() reverse the stack\n",
    "def Reverse(s):\n",
    "    if s.empty():\n",
    "        pass\n",
    "    else:\n",
    "        popped = s.pop()\n",
    "        Reverse(s)\n",
    "        BottomInsert(s, popped)\n",
    " \n",
    " \n",
    "# create object of stack class\n",
    "stk = Stack()\n",
    " \n",
    "stk.push(1)\n",
    "stk.push(2)\n",
    "stk.push(3)\n",
    "stk.push(4)\n",
    "stk.push(5)\n",
    " \n",
    "print(\"Original Stack\")\n",
    "stk.show()\n",
    " \n",
    "print(\"\\nStack after Reversing\")\n",
    "Reverse(stk)\n",
    "stk.show()"
   ]
  },
  {
   "cell_type": "code",
   "execution_count": 4,
   "id": "5755d7b0-ddb1-4305-9d0c-9113b36d5c46",
   "metadata": {},
   "outputs": [
    {
     "name": "stdout",
     "output_type": "stream",
     "text": [
      "Yes\n"
     ]
    }
   ],
   "source": [
    "stack = []\n",
    "top = -1\n",
    " \n",
    "# push function\n",
    "def push(ele: str):\n",
    "    global top\n",
    "    top += 1\n",
    "    stack[top] = ele\n",
    " \n",
    "# pop function\n",
    "def pop():\n",
    "    global top\n",
    "    ele = stack[top]\n",
    "    top -= 1\n",
    "    return ele\n",
    " \n",
    "# Function that returns 1\n",
    "# if str is a palindrome\n",
    "def isPalindrome(string: str) -> bool:\n",
    "    global stack\n",
    "    length = len(string)\n",
    " \n",
    "    # Allocating the memory for the stack\n",
    "    stack = ['0'] * (length + 1)\n",
    " \n",
    "    # Finding the mid\n",
    "    mid = length // 2\n",
    "    i = 0\n",
    "    while i < mid:\n",
    "        push(string[i])\n",
    "        i += 1\n",
    " \n",
    "    # Checking if the length of the string\n",
    "    # is odd, if odd then neglect the\n",
    "    # middle character\n",
    "    if length % 2 != 0:\n",
    "        i += 1\n",
    " \n",
    "    # While not the end of the string\n",
    "    while i < length:\n",
    "        ele = pop()\n",
    " \n",
    "        # If the characters differ then the\n",
    "        # given string is not a palindrome\n",
    "        if ele != string[i]:\n",
    "            return False\n",
    "        i += 1\n",
    "    return True\n",
    " \n",
    "# Driver Code\n",
    "if __name__ == \"__main__\":\n",
    " \n",
    "    string = \"madam\"\n",
    " \n",
    "    if isPalindrome(string):\n",
    "        print(\"Yes\")\n",
    "    else:\n",
    "        print(\"No\")"
   ]
  },
  {
   "cell_type": "code",
   "execution_count": null,
   "id": "e2085e81-4d22-4546-96b8-ee23147ed3c1",
   "metadata": {},
   "outputs": [],
   "source": []
  }
 ],
 "metadata": {
  "kernelspec": {
   "display_name": "Python 3 (ipykernel)",
   "language": "python",
   "name": "python3"
  },
  "language_info": {
   "codemirror_mode": {
    "name": "ipython",
    "version": 3
   },
   "file_extension": ".py",
   "mimetype": "text/x-python",
   "name": "python",
   "nbconvert_exporter": "python",
   "pygments_lexer": "ipython3",
   "version": "3.12.7"
  }
 },
 "nbformat": 4,
 "nbformat_minor": 5
}
