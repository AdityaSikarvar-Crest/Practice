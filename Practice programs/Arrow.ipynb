{
 "cells": [
  {
   "cell_type": "code",
   "execution_count": 1,
   "id": "92107d67-7800-42fb-ab3f-4430d488849c",
   "metadata": {},
   "outputs": [
    {
     "name": "stdout",
     "output_type": "stream",
     "text": [
      "Requirement already satisfied: arrow in c:\\users\\adityasikarvar\\anaconda3\\lib\\site-packages (1.2.3)\n",
      "Requirement already satisfied: python-dateutil>=2.7.0 in c:\\users\\adityasikarvar\\anaconda3\\lib\\site-packages (from arrow) (2.9.0.post0)\n",
      "Requirement already satisfied: six>=1.5 in c:\\users\\adityasikarvar\\anaconda3\\lib\\site-packages (from python-dateutil>=2.7.0->arrow) (1.16.0)\n",
      "Note: you may need to restart the kernel to use updated packages.\n"
     ]
    }
   ],
   "source": [
    "pip install arrow"
   ]
  },
  {
   "cell_type": "code",
   "execution_count": 2,
   "id": "844a1b85-eb47-43fa-a944-d50f08c35653",
   "metadata": {},
   "outputs": [],
   "source": [
    "import arrow\n",
    "now = arrow.now()"
   ]
  },
  {
   "cell_type": "code",
   "execution_count": 4,
   "id": "124dfcd7-05e8-4a92-89cd-f2a3e57f3d88",
   "metadata": {},
   "outputs": [
    {
     "name": "stdout",
     "output_type": "stream",
     "text": [
      "2025-01-28T15:55:29.022220+05:30\n"
     ]
    }
   ],
   "source": [
    "print(now)"
   ]
  },
  {
   "cell_type": "code",
   "execution_count": 14,
   "id": "3fb13f7d-8a62-4319-b899-849a1757eef1",
   "metadata": {},
   "outputs": [],
   "source": [
    "custom=arrow.get(22,3,4,5,6)"
   ]
  },
  {
   "cell_type": "code",
   "execution_count": 33,
   "id": "1e2253a1-9d31-4f76-84e7-7cc43ea1743f",
   "metadata": {},
   "outputs": [
    {
     "name": "stdout",
     "output_type": "stream",
     "text": [
      "in 13 hours\n"
     ]
    }
   ],
   "source": [
    "parsed_date = arrow.get(\"2025-01-29\", \"YYYY-MM-DD\").humanize()\n",
    "print(parsed_date)  # 2023-05-10T00:00:00+00:00               "
   ]
  },
  {
   "cell_type": "code",
   "execution_count": 38,
   "id": "fd1baa5a-f7fb-4e95-a7ba-8fd76a1a5e6c",
   "metadata": {},
   "outputs": [
    {
     "name": "stdout",
     "output_type": "stream",
     "text": [
      "Search a date from a string:\n",
      "2003-06-11\n"
     ]
    }
   ],
   "source": [
    "import arrow\n",
    "print(\"Search a date from a string:\")\n",
    "d1 = arrow.get('David was born in 11 June 2003', 'DD MMMM YYYY')\n",
    "print(d1.date())"
   ]
  },
  {
   "cell_type": "code",
   "execution_count": 40,
   "id": "a430c624-6854-4341-8f3b-cb73a8706ee6",
   "metadata": {},
   "outputs": [
    {
     "name": "stdout",
     "output_type": "stream",
     "text": [
      "723643 days, 18:54:00\n"
     ]
    }
   ],
   "source": [
    "print(d1-custom)"
   ]
  },
  {
   "cell_type": "code",
   "execution_count": null,
   "id": "5e022409-ad54-43cd-a2ae-fb844964fcae",
   "metadata": {},
   "outputs": [],
   "source": []
  }
 ],
 "metadata": {
  "kernelspec": {
   "display_name": "Python 3 (ipykernel)",
   "language": "python",
   "name": "python3"
  },
  "language_info": {
   "codemirror_mode": {
    "name": "ipython",
    "version": 3
   },
   "file_extension": ".py",
   "mimetype": "text/x-python",
   "name": "python",
   "nbconvert_exporter": "python",
   "pygments_lexer": "ipython3",
   "version": "3.12.7"
  }
 },
 "nbformat": 4,
 "nbformat_minor": 5
}
