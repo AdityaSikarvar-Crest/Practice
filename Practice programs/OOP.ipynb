{
 "cells": [
  {
   "cell_type": "markdown",
   "id": "1b7a46fe-8ee2-42aa-a121-d895517e7946",
   "metadata": {},
   "source": [
    "Python program to build flashcard using class in Python"
   ]
  },
  {
   "cell_type": "code",
   "execution_count": 5,
   "id": "33a2fcb1-b93b-4b9a-b349-e211f1881136",
   "metadata": {},
   "outputs": [
    {
     "name": "stdin",
     "output_type": "stream",
     "text": [
      "Enter word adi\n",
      "Enter meaning aditya\n"
     ]
    }
   ],
   "source": [
    "class flashcard:\n",
    "    def __init__(self,word,meaning):\n",
    "        self.word=word\n",
    "        self.meaning=meaning\n",
    "    def __str__(self):\n",
    "        return self.word +\" ( \"+self.meaning+\" )\"\n",
    "word=input(\"Enter word\")\n",
    "meaning=input(\"Enter meaning\")\n",
    "flash=[]\n",
    "flash.append(flashcard(word,meaning))"
   ]
  },
  {
   "cell_type": "code",
   "execution_count": 8,
   "id": "7278b472-7e19-4714-8551-99e6d8bf81a2",
   "metadata": {},
   "outputs": [
    {
     "name": "stdout",
     "output_type": "stream",
     "text": [
      "adi ( aditya )\n"
     ]
    }
   ],
   "source": [
    "print(flash[0])"
   ]
  },
  {
   "cell_type": "markdown",
   "id": "1e9786a9-13b5-43cd-83c4-e6324a759724",
   "metadata": {},
   "source": [
    "Shuffle a deck of card with OOPS in Python"
   ]
  },
  {
   "cell_type": "code",
   "execution_count": 16,
   "id": "37bc1b2f-b0ab-4f62-9723-b71e67553667",
   "metadata": {},
   "outputs": [],
   "source": [
    "import random\n",
    "\n",
    "suits =(\"Hearts\", \"Diamonds\", \"Spades\", \"Clubs\")\n",
    "ranks = (\"Two\", \"Three\", \"Four\", \"Five\", \"Six\", \"Seven\", \"Eight\", \"Nine\", \"Ten\", \n",
    "    \"Jack\", \"Queen\", \"king\", \"Ace\")\n",
    "values = {\n",
    "    \"Two\":2, \"Three\":3, \"Four\":4, \"Five\":5, \"Six\":6, \"Seven\":7, \"Eight\":8, \"Nine\":9, \"Ten\":10, \n",
    "    \"Jack\":11, \"Queen\":12, \"king\":13, \"Ace\":14\n",
    "}\n",
    "class Card:\n",
    "    def __init__(self,suite,rank):\n",
    "        self.suite = suite\n",
    "        self.rank = rank\n",
    "        self.value = values[rank]\n",
    "        \n",
    "    def __str__(self):\n",
    "        return self.rank + \" of \" + self.suite\n",
    "class Deck:\n",
    "    \n",
    "    def __init__(self):\n",
    "        self.all_cards = []\n",
    "        for suit in suits:\n",
    "            for rank in ranks:\n",
    "                created_card = Card(suit,rank)\n",
    "                self.all_cards.append(created_card)\n",
    "                \n",
    "    def shuffle(self):\n",
    "        random.shuffle(self.all_cards)"
   ]
  },
  {
   "cell_type": "code",
   "execution_count": 17,
   "id": "38de932c-e064-42de-ade1-56ceefaf509d",
   "metadata": {},
   "outputs": [],
   "source": [
    "deck1=Deck()"
   ]
  },
  {
   "cell_type": "code",
   "execution_count": 19,
   "id": "96c6e040-b40c-4a52-a353-e4da9c8d9e75",
   "metadata": {},
   "outputs": [],
   "source": [
    "deck1.shuffle()"
   ]
  },
  {
   "cell_type": "code",
   "execution_count": null,
   "id": "42b84992-8916-4477-81a0-dad2fd251265",
   "metadata": {},
   "outputs": [],
   "source": [
    "for i in deck1.all_cards:\n",
    "    print(i)"
   ]
  },
  {
   "cell_type": "markdown",
   "id": "490f7062-0dbe-4283-9dec-088291ef85dc",
   "metadata": {},
   "source": [
    "Student management system in Python"
   ]
  },
  {
   "cell_type": "code",
   "execution_count": 24,
   "id": "77adebac-69de-40ec-b6dd-bda146cf2d3a",
   "metadata": {},
   "outputs": [
    {
     "name": "stdout",
     "output_type": "stream",
     "text": [
      "Name   :  Alice\n",
      "RollNo :  1\n",
      "Marks1 :  90\n",
      "Marks2 :  85\n",
      "\n",
      "\n",
      "Name   :  Bob\n",
      "RollNo :  2\n",
      "Marks1 :  80\n",
      "Marks2 :  75\n",
      "\n",
      "\n",
      "Name   :  Alice\n",
      "RollNo :  1\n",
      "Marks1 :  90\n",
      "Marks2 :  85\n",
      "\n",
      "\n",
      "Name   :  Bob\n",
      "RollNo :  2\n",
      "Marks1 :  80\n",
      "Marks2 :  75\n",
      "\n",
      "\n"
     ]
    }
   ],
   "source": [
    "class Student:\n",
    "    def __init__(self,Name,Roll,marks1,marks2):\n",
    "        self.Name=Name\n",
    "        self.Roll=Roll\n",
    "        self.marks1=marks1\n",
    "        self.marks2=marks2\n",
    "class StudentManager:\n",
    "    def __init__(self):\n",
    "        self.ls = []\n",
    "    def accept(self, Name, Roll, marks1, marks2):\n",
    "        ob = Student(Name, Roll, marks1, marks2)\n",
    "        self.ls.append(ob)\n",
    "    def display(self, ob):\n",
    "        print(\"Name   : \", ob.Name)\n",
    "        print(\"RollNo : \", ob.Roll)\n",
    "        print(\"Marks1 : \", ob.marks1)\n",
    "        print(\"Marks2 : \", ob.marks2)\n",
    "        print(\"\\n\")\n",
    "    def search(self, rn):\n",
    "        for i in range(len(self.ls)):\n",
    "            if self.ls[i].Roll == rn:\n",
    "                return i\n",
    "        return -1  # Return -1 if not found\n",
    "    def delete(self, rn):\n",
    "        i = self.search(rn)\n",
    "        if i != -1:\n",
    "            del self.ls[i]\n",
    "        else:\n",
    "            print(f\"Student with RollNo {rn} not found.\")\n",
    "\n",
    "    def update(self, rn, No):\n",
    "        i = self.search(rn)\n",
    "        if i != -1:\n",
    "            self.ls[i].Roll = No\n",
    "        else:\n",
    "            print(f\"Student with RollNo {rn} not found.\")\n",
    "\n",
    "# Usage Example:\n",
    "\n",
    "manager = StudentManager()\n",
    "manager.accept(\"Alice\", 1, 90, 85)\n",
    "manager.accept(\"Bob\", 2, 80, 75)\n",
    "\n",
    "# Displaying students\n",
    "for student in manager.ls:\n",
    "    manager.display(student)\n",
    "\n",
    "# Searching for student with RollNo 1\n",
    "index = manager.search(1)\n",
    "if index != -1:\n",
    "    manager.display(manager.ls[index])\n",
    "else:\n",
    "    print(\"Student not found.\")\n",
    "\n",
    "# Updating RollNo of student with RollNo 1\n",
    "manager.update(1, 18)\n",
    "\n",
    "# Deleting student with RollNo 2\n",
    "manager.delete(18)\n",
    "\n",
    "# Displaying updated students\n",
    "for student in manager.ls:\n",
    "    manager.display(student)\n"
   ]
  },
  {
   "cell_type": "code",
   "execution_count": null,
   "id": "e17ba6ff-6709-44b3-9cb3-5723abc81788",
   "metadata": {},
   "outputs": [],
   "source": []
  }
 ],
 "metadata": {
  "kernelspec": {
   "display_name": "Python 3 (ipykernel)",
   "language": "python",
   "name": "python3"
  },
  "language_info": {
   "codemirror_mode": {
    "name": "ipython",
    "version": 3
   },
   "file_extension": ".py",
   "mimetype": "text/x-python",
   "name": "python",
   "nbconvert_exporter": "python",
   "pygments_lexer": "ipython3",
   "version": "3.12.7"
  }
 },
 "nbformat": 4,
 "nbformat_minor": 5
}
