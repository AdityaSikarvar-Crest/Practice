{
 "cells": [
  {
   "cell_type": "markdown",
   "id": "44ec49f3-ff0c-49f2-bdba-5f1e24b8f2fd",
   "metadata": {},
   "source": [
    "## Word tokenization"
   ]
  },
  {
   "cell_type": "markdown",
   "id": "66d11e91-15b4-43ba-bd76-18c3f9a94b63",
   "metadata": {},
   "source": [
    "### Tokenize words, sentence wise"
   ]
  },
  {
   "cell_type": "code",
   "execution_count": 8,
   "id": "a8ab4a2a-08ed-463e-a216-c764c1e623d7",
   "metadata": {},
   "outputs": [
    {
     "name": "stdout",
     "output_type": "stream",
     "text": [
      "[['Joe', 'waited', 'for', 'the', 'train', '.'], ['The', 'train', 'was', 'late', '.'], ['Mary', 'and', 'Samantha', 'took', 'the', 'bus', '.'], ['I', 'looked', 'for', 'Mary', 'and', 'Samantha', 'at', 'the', 'bus', 'station', '.']]\n"
     ]
    }
   ],
   "source": [
    "import nltk\n",
    "# nltk.download('punkt')  # Download required data\n",
    "text = \"Joe waited for the train. The train was late. Mary and Samantha took the bus. I looked for Mary and Samantha at the bus station.\"\n",
    "# Tokenization example\n",
    "l1=[]\n",
    "l2=[]\n",
    "from nltk.tokenize import word_tokenize,sent_tokenize\n",
    "sent=sent_tokenize(text)\n",
    "for sentences in sent:\n",
    "    for word in word_tokenize(sentences):\n",
    "        l1.append(word)\n",
    "    l2.append(l1)\n",
    "    l1=[]\n",
    "print(l2)"
   ]
  },
  {
   "cell_type": "code",
   "execution_count": 9,
   "id": "78a639ae-1ee8-4262-8def-d13440b80416",
   "metadata": {},
   "outputs": [
    {
     "name": "stdout",
     "output_type": "stream",
     "text": [
      "\n",
      "Original Tweet:\n",
      "\n",
      "Mr. Smith waited for the train. The train was late.\n",
      "Mary and Samantha took the bus. I looked for Mary and\n",
      "Samantha at the bus station.\n",
      "\n",
      "Mr. Smith waited for the train.\n",
      "==============\n",
      "The train was late.\n",
      "==============\n",
      "Mary and Samantha took the bus.\n",
      "==============\n",
      "I looked for Mary and\n",
      "Samantha at the bus station.\n"
     ]
    }
   ],
   "source": [
    "import nltk.data\n",
    "text = '''\n",
    "Mr. Smith waited for the train. The train was late.\n",
    "Mary and Samantha took the bus. I looked for Mary and\n",
    "Samantha at the bus station.\n",
    "'''\n",
    "print(\"\\nOriginal Tweet:\")\n",
    "print(text)\n",
    "sent_detector = nltk.data.load('tokenizers/punkt/english.pickle')\n",
    "print('\\n==============\\n'.join(sent_detector.tokenize(text.strip())))\n"
   ]
  },
  {
   "cell_type": "markdown",
   "id": "a1e18549-2a4e-485c-8f93-6a57ce04d176",
   "metadata": {},
   "source": [
    "## Corpus "
   ]
  },
  {
   "cell_type": "markdown",
   "id": "bdecb1bb-de01-4ddc-abf7-f75224367a74",
   "metadata": {},
   "source": [
    "### Remove stop words from a given text"
   ]
  },
  {
   "cell_type": "code",
   "execution_count": 2,
   "id": "d084aa2e-a0cc-4238-9ce1-2b4d78454e6e",
   "metadata": {},
   "outputs": [
    {
     "name": "stdout",
     "output_type": "stream",
     "text": [
      "\n",
      "Original string:\n",
      "\n",
      "In computing, stop words are words which are filtered out before or after \n",
      "processing of natural language data (text). Though \"stop words\" usually \n",
      "refers to the most common words in a language, there is no single universal \n",
      "list of stop words used by all natural language processing tools, and \n",
      "indeed not all tools even use such a list. Some tools specifically avoid \n",
      "removing these stop words to support phrase search.\n",
      "\n",
      "\n",
      "After removing stop words from the said text:\n",
      "['In', 'computing,', 'stop', 'words', 'words', 'filtered', 'processing', 'natural', 'language', 'data', '(text).', 'Though', '\"stop', 'words\"', 'usually', 'refers', 'common', 'words', 'language,', 'single', 'universal', 'list', 'stop', 'words', 'used', 'natural', 'language', 'processing', 'tools,', 'indeed', 'tools', 'even', 'use', 'list.', 'Some', 'tools', 'specifically', 'avoid', 'removing', 'stop', 'words', 'support', 'phrase', 'search.']\n"
     ]
    }
   ],
   "source": [
    "from nltk.corpus import stopwords\n",
    "stoplist = stopwords.words('english')\n",
    "text = '''\n",
    "In computing, stop words are words which are filtered out before or after \n",
    "processing of natural language data (text). Though \"stop words\" usually \n",
    "refers to the most common words in a language, there is no single universal \n",
    "list of stop words used by all natural language processing tools, and \n",
    "indeed not all tools even use such a list. Some tools specifically avoid \n",
    "removing these stop words to support phrase search.\n",
    "'''\n",
    "print(\"\\nOriginal string:\")\n",
    "print(text)\n",
    "clean_word_list = [word for word in text.split() if word not in stoplist]\n",
    "print(\"\\nAfter removing stop words from the said text:\")\n",
    "print(clean_word_list)"
   ]
  },
  {
   "cell_type": "code",
   "execution_count": 4,
   "id": "30bb5539-6d15-42c3-adec-c7734c9d672c",
   "metadata": {},
   "outputs": [
    {
     "name": "stdout",
     "output_type": "stream",
     "text": [
      "\n",
      "Available corpus names:\n",
      "['_LazyModule__lazymodule_globals', '_LazyModule__lazymodule_import', '_LazyModule__lazymodule_init', '_LazyModule__lazymodule_loaded', '_LazyModule__lazymodule_locals', '_LazyModule__lazymodule_name', '__class__', '__delattr__', '__dict__', '__dir__', '__doc__', '__eq__', '__format__', '__ge__', '__getattr__', '__getattribute__', '__getstate__', '__gt__', '__hash__', '__init__', '__init_subclass__', '__le__', '__lt__', '__module__', '__name__', '__ne__', '__new__', '__reduce__', '__reduce_ex__', '__repr__', '__setattr__', '__sizeof__', '__str__', '__subclasshook__', '__weakref__']\n"
     ]
    }
   ],
   "source": [
    "import nltk.corpus\n",
    "dir(nltk.corpus)\n",
    "print(\"\\nAvailable corpus names:\")\n",
    "print(dir(nltk.corpus))"
   ]
  },
  {
   "cell_type": "code",
   "execution_count": 3,
   "id": "554b353d-146b-40a0-9a7e-066ff4719591",
   "metadata": {},
   "outputs": [],
   "source": [
    "from nltk.corpus import names \n",
    "import random \n",
    " \n",
    "male_names = names.words('male.txt')\n",
    "female_names = names.words('female.txt')"
   ]
  },
  {
   "cell_type": "code",
   "execution_count": 5,
   "id": "9938002d-5524-4a50-b970-df3b539f874f",
   "metadata": {},
   "outputs": [
    {
     "name": "stdout",
     "output_type": "stream",
     "text": [
      "First 15 random labeled combined names:\n",
      "[('Jef', 'male'), ('Fidelia', 'female'), ('Fernando', 'male'), ('Charissa', 'female'), ('Sybil', 'female'), ('Prudi', 'female'), ('Tynan', 'male'), ('Perry', 'male'), ('Brook', 'female'), ('Ben', 'male'), ('Elsi', 'female'), ('Barret', 'male'), ('Jameson', 'male'), ('Antonio', 'male'), ('Andie', 'female')]\n"
     ]
    }
   ],
   "source": [
    "labeled_male_names = [(str(name), 'male') for name in male_names]\n",
    "labeled_female_names = [(str(name), 'female') for name in female_names]\n",
    "\n",
    "# combine labeled male and labeled female names\n",
    "labeled_all_names = labeled_male_names + labeled_female_names\n",
    " \n",
    "# shuffle the labeled names array\n",
    "random.shuffle(labeled_all_names)\n",
    " \n",
    "print(\"First 15 random labeled combined names:\")\n",
    "print (labeled_all_names[:15])"
   ]
  },
  {
   "cell_type": "code",
   "execution_count": null,
   "id": "f9eaf292-04db-46dd-b82d-31864baa6945",
   "metadata": {},
   "outputs": [],
   "source": []
  }
 ],
 "metadata": {
  "kernelspec": {
   "display_name": "Python 3 (ipykernel)",
   "language": "python",
   "name": "python3"
  },
  "language_info": {
   "codemirror_mode": {
    "name": "ipython",
    "version": 3
   },
   "file_extension": ".py",
   "mimetype": "text/x-python",
   "name": "python",
   "nbconvert_exporter": "python",
   "pygments_lexer": "ipython3",
   "version": "3.12.7"
  }
 },
 "nbformat": 4,
 "nbformat_minor": 5
}
