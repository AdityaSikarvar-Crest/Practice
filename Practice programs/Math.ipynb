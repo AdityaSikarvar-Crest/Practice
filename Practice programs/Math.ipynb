{
 "cells": [
  {
   "cell_type": "code",
   "execution_count": 1,
   "id": "9ed756e1-2001-468b-899a-ec0c052fbb5f",
   "metadata": {},
   "outputs": [],
   "source": [
    "import math"
   ]
  },
  {
   "cell_type": "code",
   "execution_count": 2,
   "id": "5b6ced09-94f0-4462-b589-ffd30bda9913",
   "metadata": {},
   "outputs": [],
   "source": [
    "x=10"
   ]
  },
  {
   "cell_type": "code",
   "execution_count": 9,
   "id": "bf285865-987f-423f-be5f-aaf326adcc80",
   "metadata": {},
   "outputs": [
    {
     "data": {
      "text/plain": [
       "2.0"
      ]
     },
     "execution_count": 9,
     "metadata": {},
     "output_type": "execute_result"
    }
   ],
   "source": [
    "math.remainder(x,4)"
   ]
  },
  {
   "cell_type": "code",
   "execution_count": 19,
   "id": "8fabc66a-58ec-48f5-a6c5-0520ca25ead7",
   "metadata": {},
   "outputs": [
    {
     "data": {
      "text/plain": [
       "7.99937497558403"
      ]
     },
     "execution_count": 19,
     "metadata": {},
     "output_type": "execute_result"
    }
   ],
   "source": [
    "math.sqrt(63.99)"
   ]
  },
  {
   "cell_type": "markdown",
   "id": "caa97f82-c9c2-4784-ae1b-2047cf7e0043",
   "metadata": {},
   "source": [
    "### Convert a float to ratio"
   ]
  },
  {
   "cell_type": "code",
   "execution_count": 22,
   "id": "e39a31b1-b184-4e3a-9ef9-136b9bd6cb65",
   "metadata": {},
   "outputs": [
    {
     "name": "stdout",
     "output_type": "stream",
     "text": [
      "21/5\n"
     ]
    }
   ],
   "source": [
    "from fractions import Fraction\n",
    "value = 4.2\n",
    "print(Fraction(value).limit_denominator())"
   ]
  },
  {
   "cell_type": "code",
   "execution_count": 44,
   "id": "c504bb1f-8097-48e1-9e1a-b412ad8f8ddf",
   "metadata": {},
   "outputs": [
    {
     "name": "stdout",
     "output_type": "stream",
     "text": [
      "                            #                             \n",
      "                                                 *                                                 \n",
      "                                 #                                 \n",
      "                                               *                                                \n",
      "                                     #                                     \n",
      "                                              *                                              \n",
      "                                        #                                         \n",
      "                                           *                                            \n",
      "                                           #                                            \n",
      "                                        *                                         \n",
      "                                              #                                              \n",
      "                                     *                                     \n",
      "                                               #                                                \n",
      "                                 *                                 \n",
      "                                                 #                                                 \n",
      "                            *                             \n",
      "                                                 #                                                  \n",
      "                        *                         \n",
      "                                                 #                                                 \n",
      "                    *                    \n",
      "                                               #                                                \n",
      "               *                \n",
      "                                              #                                              \n",
      "            *            \n",
      "                                           #                                            \n",
      "        *        \n",
      "                                        #                                         \n",
      "     *     \n",
      "                                     #                                     \n",
      "  *   \n",
      "                                 #                                 \n",
      " * \n",
      "                            #                             \n",
      "*\n",
      "                        #                         \n",
      "*\n",
      "                    #                    \n",
      "*\n",
      "               #                \n",
      " * \n",
      "           #            \n",
      "  *   \n",
      "        #        \n",
      "     *     \n",
      "     #     \n",
      "        *        \n",
      "  #   \n",
      "           *            \n",
      " # \n",
      "               *                \n",
      "#\n",
      "                    *                    \n",
      "#\n",
      "                        *                        \n",
      "#\n",
      "                            *                             \n",
      " # \n",
      "                                 *                                 \n",
      "  #   \n",
      "                                     *                                     \n",
      "     #     \n",
      "                                        *                                         \n",
      "        #        \n",
      "                                           *                                            \n",
      "           #            \n",
      "                                              *                                              \n",
      "               #                \n",
      "                                               *                                                \n",
      "                    #                    \n",
      "                                                 *                                                 \n",
      "                        #                        \n",
      "                                                 *                                                  \n",
      "                            #                             \n",
      "                                                 *                                                 \n",
      "                                 #                                 \n",
      "                                               *                                                \n",
      "                                     #                                     \n",
      "                                              *                                              \n",
      "                                        #                                         \n",
      "                                           *                                            \n"
     ]
    }
   ],
   "source": [
    "from time import sleep\n",
    "from math import sin, cos, radians\n",
    "for n in range(1, 41):\n",
    "\tcircle_1 = 50 * (1 + sin(radians(n*10)))\n",
    "\tcircle_2 = 50 * (1 + cos(radians(n*10)))\n",
    "\tprint(\"#\".center(int(circle_1)))\n",
    "\tprint(\"*\".center(int(circle_2)))\n",
    "\tsleep(0.05)\n",
    "\t"
   ]
  },
  {
   "cell_type": "code",
   "execution_count": 37,
   "id": "f7b9b03d-42e4-48c5-a4ae-867ce6b6a4b4",
   "metadata": {},
   "outputs": [
    {
     "data": {
      "text/plain": [
       "1"
      ]
     },
     "execution_count": 37,
     "metadata": {},
     "output_type": "execute_result"
    }
   ],
   "source": [
    "round(math.cos(math.sin(math.radians(math.pi))))"
   ]
  },
  {
   "cell_type": "code",
   "execution_count": null,
   "id": "49153498-57fc-4f98-a02f-e17d0e3e699d",
   "metadata": {},
   "outputs": [],
   "source": []
  }
 ],
 "metadata": {
  "kernelspec": {
   "display_name": "Python 3 (ipykernel)",
   "language": "python",
   "name": "python3"
  },
  "language_info": {
   "codemirror_mode": {
    "name": "ipython",
    "version": 3
   },
   "file_extension": ".py",
   "mimetype": "text/x-python",
   "name": "python",
   "nbconvert_exporter": "python",
   "pygments_lexer": "ipython3",
   "version": "3.12.7"
  }
 },
 "nbformat": 4,
 "nbformat_minor": 5
}
