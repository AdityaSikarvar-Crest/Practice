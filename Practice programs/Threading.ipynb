{
 "cells": [
  {
   "cell_type": "markdown",
   "id": "34b91d54-b6ad-4535-9d97-36d0f4a21156",
   "metadata": {},
   "source": [
    "# Threading and Asynchronus "
   ]
  },
  {
   "cell_type": "code",
   "execution_count": 34,
   "id": "3c0d750d-ed1b-460a-a907-64d5f5702893",
   "metadata": {},
   "outputs": [],
   "source": [
    "import threading\n",
    "def curr():\n",
    "    print(threading.current_thread().name)"
   ]
  },
  {
   "cell_type": "code",
   "execution_count": 35,
   "id": "639869c1-2fa2-4b0c-9b17-7c612b1dcbed",
   "metadata": {},
   "outputs": [],
   "source": [
    "thread=threading.Thread(target=curr)"
   ]
  },
  {
   "cell_type": "code",
   "execution_count": 36,
   "id": "07efbc04-474e-4992-99c1-12d107215439",
   "metadata": {},
   "outputs": [
    {
     "name": "stdout",
     "output_type": "stream",
     "text": [
      "MainThread\n",
      "Thread-40 (curr)\n",
      "MainThread\n",
      "<Thread(Thread-40 (curr), stopped 10536)>\n"
     ]
    }
   ],
   "source": [
    "print(threading.current_thread().name)\n",
    "thread.start()\n",
    "print(threading.current_thread().name)\n",
    "print(thread)"
   ]
  },
  {
   "cell_type": "code",
   "execution_count": 33,
   "id": "20195f96-3d1c-4e10-9baf-683941848a12",
   "metadata": {},
   "outputs": [],
   "source": [
    "thread.join()"
   ]
  },
  {
   "cell_type": "markdown",
   "id": "0e347762-47b7-4000-abca-e76ebed10999",
   "metadata": {},
   "source": [
    "## Write a Python program to create multiple threads and print their names."
   ]
  },
  {
   "cell_type": "code",
   "execution_count": 12,
   "id": "759cc378-9ee8-4f3d-8219-68bed9dd1be3",
   "metadata": {},
   "outputs": [
    {
     "name": "stdout",
     "output_type": "stream",
     "text": [
      "Current thread name: Thread-14 (print_thread_names)\n",
      "Current thread name: Thread-15 (print_thread_names)\n",
      "Current thread name: Thread-16 (print_thread_names)\n",
      "Current thread name: Thread-17 (print_thread_names)\n",
      "Current thread name: Thread-18 (print_thread_names)\n",
      "Current thread name: Thread-19 (print_thread_names)\n",
      "Current thread name: Thread-20 (print_thread_names)\n"
     ]
    }
   ],
   "source": [
    "import threading\n",
    "def print_thread_names():\n",
    "    print(\"Current thread name:\", threading.current_thread().name)\n",
    "# Create multiple threads\n",
    "threads = []\n",
    "for i in range(7):\n",
    "    thread = threading.Thread(target=print_thread_names)\n",
    "    threads.append(thread)\n",
    "    thread.start()\n",
    "\n",
    "# Wait for all threads to complete\n",
    "for thread in threads:\n",
    "    thread.join()"
   ]
  },
  {
   "cell_type": "markdown",
   "id": "71f0d685-c0fd-431f-b3d8-6ebedd36a418",
   "metadata": {},
   "source": [
    "## Concurrent even and odd number printing"
   ]
  },
  {
   "cell_type": "code",
   "execution_count": 16,
   "id": "3e2b67b1-bc3f-42eb-ab65-a83e3f716e3a",
   "metadata": {},
   "outputs": [
    {
     "name": "stdout",
     "output_type": "stream",
     "text": [
      "\n",
      "Even numbers:\n",
      "30 \n",
      "Odd numbers:\n",
      "31 \n",
      "Even numbers:\n",
      "32 \n",
      "Odd numbers:\n",
      "33 \n",
      "Even numbers:\n",
      "34 \n",
      "Odd numbers:\n",
      "35 \n",
      "Even numbers:\n",
      "36 \n",
      "Odd numbers:\n",
      "37 \n",
      "Even numbers:\n",
      "38 \n",
      "Odd numbers:\n",
      "39 \n",
      "Even numbers:\n",
      "40 \n",
      "Odd numbers:\n",
      "41 \n",
      "Even numbers:\n",
      "42 \n",
      "Odd numbers:\n",
      "43 \n",
      "Even numbers:\n",
      "44 \n",
      "Odd numbers:\n",
      "45 \n",
      "Even numbers:\n",
      "46 \n",
      "Odd numbers:\n",
      "47 \n",
      "Even numbers:\n",
      "48 \n",
      "Odd numbers:\n",
      "49 \n",
      "Even numbers:\n",
      "50 "
     ]
    }
   ],
   "source": [
    "import threading\n",
    "import time\n",
    "def print_even_numbers():\n",
    "    for i in range(30, 51, 2):\n",
    "        print(\"\\nEven numbers:\")\n",
    "        print(i, end = \" \")\n",
    "        time.sleep(1)\n",
    "\n",
    "def print_odd_numbers():\n",
    "    for i in range(31, 51, 2):\n",
    "        print(\"\\nOdd numbers:\")\n",
    "        print(i, end = \" \")\n",
    "        time.sleep(1)\n",
    "# Create threads for printing even and odd numbers\n",
    "even_thread = threading.Thread(target=print_even_numbers)\n",
    "odd_thread = threading.Thread(target=print_odd_numbers)\n",
    "# Start the threads\n",
    "even_thread.start()\n",
    "odd_thread.start()\n",
    "# Wait for the threads to complete\n",
    "even_thread.join()\n",
    "odd_thread.join()"
   ]
  },
  {
   "cell_type": "markdown",
   "id": "81d8e277-f025-447e-8b28-2d012fb350c9",
   "metadata": {},
   "source": [
    "## Concurrent HTTP requests with threads"
   ]
  },
  {
   "cell_type": "code",
   "execution_count": 37,
   "id": "7508a5ae-f173-499c-817c-cdd799846d3b",
   "metadata": {},
   "outputs": [
    {
     "name": "stdout",
     "output_type": "stream",
     "text": [
      "Response from https://www.python.org: 200\n",
      "Response from https://www.wikipedia.org: 200\n",
      "Response from https://www.example.com: 200\n",
      "Response from https://www.google.com: 200\n"
     ]
    }
   ],
   "source": [
    "import requests\n",
    "import threading\n",
    "def make_request(url):\n",
    "    response = requests.get(url)\n",
    "    print(f\"Response from {url}: {response.status_code}\")\n",
    "# List of URLs to make requests to\n",
    "urls = [\n",
    "    \"https://www.example.com\",\n",
    "    \"https://www.google.com\",\n",
    "    \"https://www.wikipedia.org\",\n",
    "    \"https://www.python.org\"\n",
    "]\n",
    "# Create and start threads for each URL\n",
    "threads = []\n",
    "for url in urls:\n",
    "    thread = threading.Thread(target=make_request, args=(url,))\n",
    "    thread.start()\n",
    "    threads.append(thread)\n",
    "# Wait for all threads to finish\n",
    "for thread in threads:\n",
    "    thread.join()"
   ]
  },
  {
   "cell_type": "markdown",
   "id": "948830b1-d85c-4d7f-ae54-d5693761b6da",
   "metadata": {},
   "source": [
    "## Delaying Print Output with asyncio Coroutines in Python"
   ]
  },
  {
   "cell_type": "code",
   "execution_count": 48,
   "id": "8e7847ff-cec5-423d-967b-0a5c60ef43c0",
   "metadata": {},
   "outputs": [
    {
     "name": "stdout",
     "output_type": "stream",
     "text": [
      "Python\n"
     ]
    },
    {
     "data": {
      "text/plain": [
       "[]"
      ]
     },
     "execution_count": 48,
     "metadata": {},
     "output_type": "execute_result"
    }
   ],
   "source": [
    "import asyncio\n",
    "async def print_delayed():\n",
    "    await asyncio.sleep(3)\n",
    "    print(\"Python\")\n",
    "# async def main():\n",
    "await print_delayed()\n",
    "# Run the event loop\n",
    "# asyncio.run(main())"
   ]
  },
  {
   "cell_type": "markdown",
   "id": "60c96a2c-2f15-4432-8d75-4662e14a5f89",
   "metadata": {},
   "source": [
    "## Running asynchronous Python functions with different time delays"
   ]
  },
  {
   "cell_type": "code",
   "execution_count": 10,
   "id": "2cfc5ae2-70cb-48a0-8f1c-e655d697f885",
   "metadata": {},
   "outputs": [
    {
     "name": "stdout",
     "output_type": "stream",
     "text": [
      "Asyn. function-1\n",
      "Asyn. function-2\n",
      "Asyn. function-3\n"
     ]
    }
   ],
   "source": [
    "import asyncio\n",
    "async def display_name_with_delay(name, delay):\n",
    "    await asyncio.sleep(delay)\n",
    "    print(name)\n",
    "async def main():\n",
    "    tasks = [\n",
    "        display_name_with_delay(\"Asyn. function-1\", 1),\n",
    "        display_name_with_delay(\"Asyn. function-2\", 2),\n",
    "        display_name_with_delay(\"Asyn. function-3\", 3)\n",
    "    ]    \n",
    "    await asyncio.gather(*tasks)\n",
    "# Run the event loop\n",
    "await main()\n"
   ]
  },
  {
   "cell_type": "code",
   "execution_count": 14,
   "id": "9161d689-43ca-4fd6-8e64-8f33ee17e52a",
   "metadata": {},
   "outputs": [
    {
     "name": "stdout",
     "output_type": "stream",
     "text": [
      "Producer 0 produced-> Item: 0-0\n",
      "Producer 1 produced-> Item: 1-0\n",
      "Producer 2 produced-> Item: 2-0\n",
      "Consumer consumed Item: 0-0\n",
      "Consumer consumed Item: 1-0\n",
      "Consumer consumed Item: 2-0\n",
      "Producer 0 produced-> Item: 0-1\n",
      "Producer 1 produced-> Item: 1-1\n",
      "Producer 2 produced-> Item: 2-1\n",
      "Consumer consumed Item: 0-1\n",
      "Consumer consumed Item: 1-1\n",
      "Consumer consumed Item: 2-1\n",
      "Producer 0 produced-> Item: 0-2\n",
      "Producer 1 produced-> Item: 1-2\n",
      "Producer 2 produced-> Item: 2-2\n",
      "Consumer consumed Item: 0-2\n",
      "Consumer consumed Item: 1-2\n",
      "Consumer consumed Item: 2-2\n"
     ]
    }
   ],
   "source": [
    "import asyncio\n",
    "import random\n",
    "async def producer(queue, id):\n",
    "    for i in range(3):\n",
    "        item = f\"Item: {id}-{i}\"\n",
    "        await queue.put(item)\n",
    "        print(f\"Producer {id} produced-> {item}\")\n",
    "        await asyncio.sleep(1)\n",
    "async def consumer(queue):\n",
    "    while True:\n",
    "        item = await queue.get()\n",
    "        if item is None:\n",
    "            break\n",
    "        print(f\"Consumer consumed {item}\")\n",
    "        queue.task_done()\n",
    "async def main():\n",
    "    queue = asyncio.Queue()\n",
    "    producers = [asyncio.create_task(producer(queue, i)) for i in range(3)]\n",
    "    consumer_task = asyncio.create_task(consumer(queue))\n",
    "    await asyncio.gather(*producers)\n",
    "    await queue.join()\n",
    "    await queue.put(None)  # Signal the consumer to stop\n",
    "    await consumer_task\n",
    "# Run the event loop\n",
    "await main()\n"
   ]
  },
  {
   "cell_type": "code",
   "execution_count": null,
   "id": "cfae25da-d7cf-499e-8b62-7d21edd0848c",
   "metadata": {},
   "outputs": [],
   "source": []
  }
 ],
 "metadata": {
  "kernelspec": {
   "display_name": "Python 3 (ipykernel)",
   "language": "python",
   "name": "python3"
  },
  "language_info": {
   "codemirror_mode": {
    "name": "ipython",
    "version": 3
   },
   "file_extension": ".py",
   "mimetype": "text/x-python",
   "name": "python",
   "nbconvert_exporter": "python",
   "pygments_lexer": "ipython3",
   "version": "3.12.7"
  }
 },
 "nbformat": 4,
 "nbformat_minor": 5
}
